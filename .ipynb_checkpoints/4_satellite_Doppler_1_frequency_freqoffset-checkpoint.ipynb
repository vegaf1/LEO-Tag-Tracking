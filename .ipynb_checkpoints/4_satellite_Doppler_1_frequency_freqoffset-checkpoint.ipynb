{
 "cells": [
  {
   "cell_type": "code",
   "execution_count": 1,
   "id": "8e7fa96b",
   "metadata": {},
   "outputs": [
    {
     "data": {
      "application/vnd.webio.node+json": {
       "children": [],
       "instanceArgs": {
        "namespace": "html",
        "tag": "div"
       },
       "nodeType": "DOM",
       "props": {},
       "type": "node"
      },
      "text/html": [
       "<div style=\"padding: 1em; background-color: #f8d6da; border: 1px solid #f5c6cb; font-weight: bold;\">\n",
       "<p>The WebIO Jupyter extension was not detected. See the\n",
       "<a href=\"https://juliagizmos.github.io/WebIO.jl/latest/providers/ijulia/\" target=\"_blank\">\n",
       "    WebIO Jupyter integration documentation\n",
       "</a>\n",
       "for more information.\n",
       "</div>\n"
      ],
      "text/plain": [
       "WebIO._IJuliaInit()"
      ]
     },
     "metadata": {
      "application/vnd.webio.node+json": {
       "kernelId": "ef87248c-d4bb-4020-8c94-ec4683d39676"
      }
     },
     "output_type": "display_data"
    }
   ],
   "source": [
    "#4 satellites Doppler 1 frequency\n",
    "\n",
    "#Solving for pose and frequency offset\n",
    "\n",
    "#Rotation of Earth and the effect of the ionosphere are included\n",
    "\n",
    "#Doppler Method for Localizing a receiver\n",
    "#Fausto Vega\n",
    "\n",
    "using SatelliteDynamics\n",
    "using LinearAlgebra\n",
    "using PlotlyJS\n",
    "using DelimitedFiles\n",
    "using Distributions"
   ]
  },
  {
   "cell_type": "code",
   "execution_count": 2,
   "id": "83963c76",
   "metadata": {},
   "outputs": [
    {
     "data": {
      "text/plain": [
       "Epoch(2019-01-01T11:59:23.000Z)"
      ]
     },
     "execution_count": 2,
     "metadata": {},
     "output_type": "execute_result"
    }
   ],
   "source": [
    "# Declare simulation initial Epoch. Start time\n",
    "epc0 = Epoch(2019, 1, 1, 12, 0, 0, 0.0)  #year, month, day, hour, minute, seconds, nanoseconds "
   ]
  },
  {
   "cell_type": "code",
   "execution_count": 3,
   "id": "0e8c112a",
   "metadata": {},
   "outputs": [],
   "source": [
    "# Declare initial state in terms of osculating orbital elements\n",
    "#semi-major axis, eccentricity, inclination, RAAN, Argument of perigee, Mean anomaly\n",
    "\n",
    "#1 and 2 on the same orbit, different initial mean anomaly\n",
    "\n",
    "#iss1 = [7378e3, 0.0004879, 90.6391, 189.0859, 151.2014, 185]; #converges at 189.0859\n",
    "#iss2 = [7378e3, 0.0004879, 90.6391, 189.0859, 151.2014, 205];\n",
    "#iss3 = [7378e3, 0.0004879, 90.6391, 201.0859, 151.2014, 190]; # converges a t 200.0859\n",
    "#iss4 = [7378e3, 0.0004879, 90.6391, 201.0859, 151.2014, 210]; # converges a t 200.0859\n",
    "\n",
    "#approximately 500 km elevation from surface of Earth and around 100 km seperation at equator\n",
    "#working good\n",
    "#iss1 = [6871e3, 0.0004879, 90.6391, 194.0859, 151.2014, 190]; \n",
    "#iss2 = [6871e3, 0.0004879, 90.6391, 194.0859, 151.2014, 200];\n",
    "#iss3 = [6871e3, 0.0004879, 90.6391, 196.0859, 151.2014, 193]; \n",
    "#iss4 = [6871e3, 0.0004879, 90.6391, 196.0859, 151.2014, 203]; \n",
    "\n",
    "#previous config\n",
    "# iss1 = [6871e3, 0.0004879, 90.6391, 190.5859, 151.2014, 190]; \n",
    "# iss2 = [6871e3, 0.0004879, 90.6391, 190.5859, 151.2014, 200];\n",
    "# iss3 = [6871e3, 0.0004879, 90.6391, 196.5859, 151.2014, 193]; \n",
    "# iss4 = [6871e3, 0.0004879, 90.6391, 196.5859, 151.2014, 203]; \n",
    "\n",
    "#same orbit configuration as tag moving\n",
    "iss1 = [6871e3, 0.0004879, 90.6391, 194.5859, 151.2014, 190]; \n",
    "iss2 = [6871e3, 0.0004879, 90.6391, 194.5859, 151.2014, 200];\n",
    "iss3 = [6871e3, 0.0004879, 90.6391, 196.5859, 151.2014, 193]; \n",
    "iss4 = [6871e3, 0.0004879, 90.6391, 196.5859, 151.2014, 203]; \n",
    "\n",
    "\n",
    "\n",
    "#ARGOS Orbit ~850 km altitude\n",
    "\n",
    "# iss1 = [7221e3, 0.0004879, 90.6391, 194.5859, 151.2014, 190]; \n",
    "# iss2 = [7221e3, 0.0004879, 90.6391, 194.5859, 151.2014, 200];\n",
    "# iss3 = [7221e3, 0.0004879, 90.6391, 195.5859, 151.2014, 193]; \n",
    "# iss4 = [7221e3, 0.0004879, 90.6391, 195.5859, 151.2014, 203]; \n",
    "\n",
    "\n",
    "\n",
    "#Function to convert mean anomoaly to eccentric anomaly\n",
    "E1 = anomaly_mean_to_eccentric(iss1[6], iss1[2], use_degrees=true); \n",
    "E2 = anomaly_mean_to_eccentric(iss2[6], iss2[2], use_degrees=true);\n",
    "E3 = anomaly_mean_to_eccentric(iss3[6], iss3[2], use_degrees=true);\n",
    "E4 = anomaly_mean_to_eccentric(iss4[6], iss4[2], use_degrees=true);"
   ]
  },
  {
   "cell_type": "code",
   "execution_count": 4,
   "id": "900db33d",
   "metadata": {},
   "outputs": [
    {
     "data": {
      "text/plain": [
       "6-element Vector{Float64}:\n",
       "      -6.551891283502199e6\n",
       "      -1.959561329014077e6\n",
       " -697065.2121487064\n",
       "    -762.6662561944706\n",
       "    -139.00657375176846\n",
       "    7573.567651354772"
      ]
     },
     "execution_count": 4,
     "metadata": {},
     "output_type": "execute_result"
    }
   ],
   "source": [
    "# Convert osculating elements to Cartesean state\n",
    "# returns position and velocity (m, m/s)\n",
    "\n",
    "eci0_1 = sOSCtoCART(iss1, use_degrees=true)\n",
    "eci0_2 = sOSCtoCART(iss2, use_degrees=true)\n",
    "eci0_3 = sOSCtoCART(iss3, use_degrees=true)\n",
    "eci0_4 = sOSCtoCART(iss4, use_degrees=true)"
   ]
  },
  {
   "cell_type": "code",
   "execution_count": 5,
   "id": "6b4ab0e5",
   "metadata": {},
   "outputs": [
    {
     "data": {
      "text/plain": [
       "Epoch(2019-01-01T13:33:51.144Z)"
      ]
     },
     "execution_count": 5,
     "metadata": {},
     "output_type": "execute_result"
    }
   ],
   "source": [
    "#compute the satellite orbital period given the semi-major axis\n",
    "\n",
    "#same for all 4 satellites since they have the same semi-major axis\n",
    "T = orbit_period(iss1[1])\n",
    "\n",
    "#final time for one orbit. Adds initial time to the orbital period\n",
    "\n",
    "epcf = epc0 + T"
   ]
  },
  {
   "cell_type": "code",
   "execution_count": 6,
   "id": "2dc0ac8e",
   "metadata": {},
   "outputs": [],
   "source": [
    "# Create an EarthInertialState orbit propagagator\n",
    "#needs initial epoch of state and the state vector\n",
    "orb1  = EarthInertialState(epc0, eci0_1, dt=1.0,\n",
    "            mass=1.0, n_grav=0, m_grav=0,\n",
    "            drag=false, srp=false,\n",
    "            moon=false, sun=false,\n",
    "            relativity=false\n",
    ")\n",
    "\n",
    "orb2  = EarthInertialState(epc0, eci0_2, dt=1.0,\n",
    "            mass=1.0, n_grav=0, m_grav=0,\n",
    "            drag=false, srp=false,\n",
    "            moon=false, sun=false,\n",
    "            relativity=false\n",
    ")\n",
    "\n",
    "orb3  = EarthInertialState(epc0, eci0_3, dt=1.0,\n",
    "            mass=1.0, n_grav=0, m_grav=0,\n",
    "            drag=false, srp=false,\n",
    "            moon=false, sun=false,\n",
    "            relativity=false\n",
    ")\n",
    "\n",
    "orb4  = EarthInertialState(epc0, eci0_4, dt=1.0,\n",
    "            mass=1.0, n_grav=0, m_grav=0,\n",
    "            drag=false, srp=false,\n",
    "            moon=false, sun=false,\n",
    "            relativity=false\n",
    ")\n",
    "\n",
    "# Propagate the orbit\n",
    "# orbit until the final time\n",
    "\n",
    "t_1, epc_1, eci_1 = sim!(orb1, epcf);\n",
    "t_2, epc_2, eci_2 = sim!(orb2, epcf);\n",
    "t_3, epc_3, eci_3 = sim!(orb3, epcf);\n",
    "t_4, epc_4, eci_4 = sim!(orb4, epcf);"
   ]
  },
  {
   "cell_type": "code",
   "execution_count": 7,
   "id": "3465652b",
   "metadata": {},
   "outputs": [
    {
     "data": {
      "text/plain": [
       "3-element Vector{Float64}:\n",
       "     -6.128804e6\n",
       "     -1.590206e6\n",
       " 776150.2"
      ]
     },
     "execution_count": 7,
     "metadata": {},
     "output_type": "execute_result"
    }
   ],
   "source": [
    "#equator position in cartesian coordinates\n",
    "tag =[-6.128804e6, -1.590206e6, 776.1502e3]\n",
    "\n",
    "#Examples of putting latitude and longitude and converting to ECEF coordinate frame\n",
    "#Equitorial position\n",
    "#tag_geof = [-165.4545, 16.98849, 0]\n",
    "\n",
    "#North pole position\n",
    "#tag_geof = [-165.4545, 46.98849, 0]\n",
    "\n",
    "#tag = sGEOCtoECEF(tag_geof, use_degrees = true)"
   ]
  },
  {
   "cell_type": "code",
   "execution_count": 8,
   "id": "7695b5a1",
   "metadata": {},
   "outputs": [
    {
     "name": "stdout",
     "output_type": "stream",
     "text": [
      "[-5.99796596057736e6, -1.6894678391131323e6, -1.3604169754625652e6]\n"
     ]
    }
   ],
   "source": [
    "#Equitorial Position\n",
    "#In m\n",
    "x0= tag[1] \n",
    "y0 = tag[2]\n",
    "z0 = tag[3]\n",
    "\n",
    "#λ0 = C_LIGHT/400e6 #nominal wavelength in m\n",
    "\n",
    "f0 = 1e6\n",
    "\n",
    "#r0 = [x0, y0, z0, λ0]\n",
    "r0 = [x0, y0, z0, f0]\n",
    "\n",
    "centroid_guess = [(eci_1[1,1]+eci_2[1,1]+eci_3[1,1]+eci_4[1,1])/4, (eci_1[2,1]+eci_2[2,1]+eci_3[2,1]+eci_4[2,1])/4, (eci_1[3,1]+eci_2[3,1]+eci_3[3,1]+eci_4[3,1])/4] \n",
    "onearth = sECEFtoGEOC(centroid_guess, use_degrees = true)\n",
    "geodetic = [onearth[1], onearth[2], 0]\n",
    "\n",
    "#Guess\n",
    "xyz = sGEOCtoECEF(geodetic, use_degrees = true)\n",
    "\n",
    "println(xyz)"
   ]
  },
  {
   "cell_type": "code",
   "execution_count": 9,
   "id": "0cb96000",
   "metadata": {},
   "outputs": [
    {
     "data": {
      "text/plain": [
       "surface with fields type, x, y, and z\n"
      ]
     },
     "execution_count": 9,
     "metadata": {},
     "output_type": "execute_result"
    }
   ],
   "source": [
    "#Plot Satellite 1 and 2 Orbit\n",
    "sat1 = scatter(x=eci_1[1,:], y=eci_1[2,:], z=eci_1[3,:], type=\"scatter3d\", mode=\"lines\", name=\"orbit 1&2\")\n",
    "\n",
    "#Plot Satellite 3 and 4 Orbit\n",
    "sat3 = scatter(x=eci_3[1,:], y=eci_3[2,:], z=eci_3[3,:], type=\"scatter3d\", mode=\"lines\", name=\"orbit 3&4\")\n",
    "\n",
    "#Plot all 4 satellite initial positions\n",
    "satellites = scatter(x=[eci_1[1,1],eci_2[1,1], eci_3[1,1], eci_4[1,1]], y=[eci_1[2,1],eci_2[2,1], eci_3[2,1], eci_4[2,1]],z=[eci_1[3,1],eci_2[3,1], eci_3[3,1], eci_4[3,1]], mode=\"markers\", marker_size = 4, type=\"scatter3d\", name=\"satellites\")\n",
    "\n",
    "#Plot Tag position\n",
    "tag = scatter(x = [r0[1], r0[1]], y = [r0[2], r0[2]], z = [r0[3], r0[3]], type=\"scatter3d\", name=\"tag\", mode=\"markers\", marker_size=5)\n",
    "\n",
    "#Plot the Guess\n",
    "guess = scatter(x = [xyz[1], xyz[1]], y = [xyz[2], xyz[2]], z = [xyz[3], xyz[3]], type=\"scatter3d\", name=\"guess\", mode=\"markers\", marker_size=5)\n",
    "\n",
    "#Plotting the sphere (Earth)\n",
    "n = 100\n",
    "u = range(-π, π; length = n)\n",
    "v = range(0, π; length = n)\n",
    "x = cos.(u) * sin.(v)'\n",
    "y = sin.(u) * sin.(v)' \n",
    "z = ones(n) * cos.(v)' \n",
    "\n",
    "earth = surface(z=z*6371000, x=x*6371000, y=y*6371000)\n",
    "\n",
    "#plot([sat1,sat3, satellites, tag, earth, guess]) #uncomment to see the plot"
   ]
  },
  {
   "cell_type": "code",
   "execution_count": 10,
   "id": "2fb3dc61",
   "metadata": {},
   "outputs": [
    {
     "data": {
      "text/plain": [
       "zenith_angle (generic function with 1 method)"
      ]
     },
     "execution_count": 10,
     "metadata": {},
     "output_type": "execute_result"
    }
   ],
   "source": [
    "#Finding the Zenith Angle\n",
    "\n",
    "function zenith_angle(satposes, r0)\n",
    "    \n",
    "    zenithangle = zeros(4)\n",
    "\n",
    "    #vector between tag and the satellite\n",
    "    normalvec = r0\n",
    "    \n",
    "    for i in 1:4\n",
    "        \n",
    "        vector = satposes[i,:] - r0[1:3]\n",
    "        \n",
    "        #Find the angle between the normal and the vector going from the tag to the satellte\n",
    "        theta = acos(dot(normalvec,vector)/(norm(normalvec)*norm(vector))) * (180/pi)\n",
    "        \n",
    "        #save zenith angle\n",
    "        zenithangle[i] = theta\n",
    "    end\n",
    "    \n",
    "    return zenithangle\n",
    "end"
   ]
  },
  {
   "cell_type": "code",
   "execution_count": 11,
   "id": "3189b08d",
   "metadata": {},
   "outputs": [
    {
     "name": "stdout",
     "output_type": "stream",
     "text": [
      "[93.63237107183178, 82.84377330309063, 91.00377335928297, 78.31523678325279]\n"
     ]
    },
    {
     "data": {
      "text/plain": [
       "false"
      ]
     },
     "execution_count": 11,
     "metadata": {},
     "output_type": "execute_result"
    }
   ],
   "source": [
    "#Testing zenith angle function\n",
    "satposes = [eci_1[1,1] eci_1[2,1] eci_1[3,1];eci_2[1,1] eci_2[2,1] eci_2[3,1];eci_3[1,1] eci_3[2,1] eci_3[3,1];eci_4[1,1] eci_4[2,1] eci_4[3,1]]\n",
    "\n",
    "zenith_angles = zenith_angle(satposes, r0[1:3])\n",
    "\n",
    "println(zenith_angles)\n",
    "\n",
    "#check all angles to see if it is on the horizon \n",
    "inhorizon = all(x->x<80, zenith_angles)"
   ]
  },
  {
   "cell_type": "code",
   "execution_count": 12,
   "id": "679a3e48",
   "metadata": {},
   "outputs": [],
   "source": [
    "#Obtain the orbital elements after each time step (not used in the sim) \n",
    "dim = size(t_1)[1]\n",
    "\n",
    "all_elements = zeros(6,dim)\n",
    "for i in 1:dim\n",
    "    \n",
    "    orbital_elements = sCARTtoOSC(eci_1[:,1], use_degrees=true)\n",
    "    all_elements[:,i] = orbital_elements\n",
    "end "
   ]
  },
  {
   "cell_type": "code",
   "execution_count": 13,
   "id": "91a535da",
   "metadata": {},
   "outputs": [
    {
     "data": {
      "text/plain": [
       "6-element Vector{Float64}:\n",
       "    -6.291285386249863e6\n",
       "    -1.66264810311861e6\n",
       "    -2.2161566541800327e6\n",
       " -2394.9708335284654\n",
       "  -540.1532693380549\n",
       "  7206.151917789134"
      ]
     },
     "execution_count": 13,
     "metadata": {},
     "output_type": "execute_result"
    }
   ],
   "source": [
    "#velocity is the last 3 elements of each column in eci matrices\n",
    "eci_1[:,1]"
   ]
  },
  {
   "cell_type": "code",
   "execution_count": 14,
   "id": "81be77c6",
   "metadata": {},
   "outputs": [
    {
     "data": {
      "text/plain": [
       "350000.0"
      ]
     },
     "execution_count": 14,
     "metadata": {},
     "output_type": "execute_result"
    }
   ],
   "source": [
    "#Generate TEC Distribution\n",
    "mu = 8e-4\n",
    "sigma = 3e-4\n",
    "lb = 3e-4\n",
    "ub = 13e-4\n",
    "d = Truncated(Normal(mu,sigma), lb, ub)\n",
    "\n",
    "#f = 1575.42e6 # in 1/s L1 frequency\n",
    "f = 400e6 # in 1/s system frequency\n",
    "h = 350e3 #in meters"
   ]
  },
  {
   "cell_type": "code",
   "execution_count": 15,
   "id": "e9d9b6ef",
   "metadata": {},
   "outputs": [
    {
     "data": {
      "text/plain": [
       "10000.0"
      ]
     },
     "execution_count": 15,
     "metadata": {},
     "output_type": "execute_result"
    }
   ],
   "source": [
    "using ForwardDiff\n",
    "using BlockDiagonals\n",
    "\n",
    "#scale used when estimating f0 (transmitting frequency)\n",
    "\n",
    "# distance_scale = R_EARTH*(1e-3)*1e-4 # scales km to custom scale working\n",
    "\n",
    "# time_scale = 1/(C_LIGHT/R_EARTH) #scales seconds to custom scale\n",
    "\n",
    "# velocity_scale = distance_scale/time_scale #scales velocities to custom scale\n",
    "\n",
    "# frequency_scale = 1e5 #working for f0 = 400e6\n",
    "\n",
    "# c = 10000 #km/s\n",
    "\n",
    "# # working to estimate bdot \n",
    "distance_scale = R_EARTH*(1e-3) # scales km to custom scale working\n",
    "\n",
    "time_scale = (1/(C_LIGHT/R_EARTH))*1e4 #scales seconds to custom scale\n",
    "\n",
    "velocity_scale = distance_scale/time_scale #scales velocities to custom scales\n",
    "\n",
    "frequency_scale = 1\n",
    "\n",
    "c = 1*1e4 #km/s\n",
    "\n",
    "#udpated scale to estimate a frequency offset bdot\n"
   ]
  },
  {
   "cell_type": "code",
   "execution_count": 16,
   "id": "b13f2fee",
   "metadata": {},
   "outputs": [
    {
     "data": {
      "text/plain": [
       "0.0001567856114959475"
      ]
     },
     "execution_count": 16,
     "metadata": {},
     "output_type": "execute_result"
    }
   ],
   "source": [
    "1/distance_scale"
   ]
  },
  {
   "cell_type": "code",
   "execution_count": 17,
   "id": "04527159",
   "metadata": {},
   "outputs": [
    {
     "data": {
      "text/plain": [
       "29.9792458"
      ]
     },
     "execution_count": 17,
     "metadata": {},
     "output_type": "execute_result"
    }
   ],
   "source": [
    "velocity_scale"
   ]
  },
  {
   "cell_type": "code",
   "execution_count": 18,
   "id": "6391085f",
   "metadata": {},
   "outputs": [
    {
     "data": {
      "text/plain": [
       "doppler_residual (generic function with 1 method)"
      ]
     },
     "execution_count": 18,
     "metadata": {},
     "output_type": "execute_result"
    }
   ],
   "source": [
    "#satposet is all the satellite known positions and the measured position\n",
    "#x is what we want to solve for\n",
    "#satpose is the satellite position and velocities as well as the measured change in frequency\n",
    "\n",
    "function doppler_residual(x, sat_pose_f, time)\n",
    "    \n",
    "    omega = OMEGA_EARTH*time_scale #transform to custom scale\n",
    "    \n",
    "    #wavelength = 0.7494*1e-3/distance_scale #for a nominal frequency of 400 MHz\n",
    "    \n",
    "    omegahat = [0 -omega 0; omega 0 0; 0 0 0]\n",
    "    \n",
    "    A1 = [cos(omega*time[1]) sin(omega*time[1]) 0;\n",
    "          -sin(omega*time[1]) cos(omega*time[1]) 0;\n",
    "          0 0 1];\n",
    "    A2 = [cos(omega*time[2]) sin(omega*time[2]) 0;\n",
    "          -sin(omega*time[2]) cos(omega*time[2]) 0;\n",
    "          0 0 1];\n",
    "    A3 = [cos(omega*time[3]) sin(omega*time[3]) 0;\n",
    "          -sin(omega*time[3]) cos(omega*time[3]) 0;\n",
    "          0 0 1];\n",
    "    A4 = [cos(omega*time[4]) sin(omega*time[4]) 0;\n",
    "          -sin(omega*time[4]) cos(omega*time[4]) 0;\n",
    "          0 0 1];\n",
    "    \n",
    "    #residuals used to estimate transmitting frequency as an unknown\n",
    "    #res1 = (x[4]/c)*0.5*(1/norm(x[1:3] - A1*sat_pose_f[1,1:3]))*(-2*x[1:3]'*A1*omegahat*sat_pose_f[1,1:3] - 2*x[1:3]'*A1*sat_pose_f[1,4:6]+sat_pose_f[1,1:3]'*sat_pose_f[1,4:6]+sat_pose_f[1,4:6]'*sat_pose_f[1,1:3])- sat_pose_f[1,7]\n",
    "    #res2 = (x[4]/c)*0.5*(1/norm(x[1:3] - A2*sat_pose_f[2,1:3]))*(-2*x[1:3]'*A2*omegahat*sat_pose_f[2,1:3] - 2*x[1:3]'*A2*sat_pose_f[2,4:6]+sat_pose_f[2,1:3]'*sat_pose_f[2,4:6]+sat_pose_f[2,4:6]'*sat_pose_f[2,1:3])- sat_pose_f[2,7]\n",
    "    #res3 = (x[4]/c)*0.5*(1/norm(x[1:3] - A3*sat_pose_f[3,1:3]))*(-2*x[1:3]'*A3*omegahat*sat_pose_f[3,1:3] - 2*x[1:3]'*A3*sat_pose_f[3,4:6]+sat_pose_f[3,1:3]'*sat_pose_f[3,4:6]+sat_pose_f[3,4:6]'*sat_pose_f[3,1:3])- sat_pose_f[3,7]\n",
    "    #res4 = (x[4]/c)*0.5*(1/norm(x[1:3] - A4*sat_pose_f[4,1:3]))*(-2*x[1:3]'*A4*omegahat*sat_pose_f[4,1:3] - 2*x[1:3]'*A4*sat_pose_f[4,4:6]+sat_pose_f[4,1:3]'*sat_pose_f[4,4:6]+sat_pose_f[4,4:6]'*sat_pose_f[4,1:3])- sat_pose_f[4,7]\n",
    "    \n",
    "    #residuals to estimate a frequency offset bdot\n",
    "    res1 = (f*frequency_scale/c)*(0.5*(1/norm(x[1:3] - A1*sat_pose_f[1,1:3]))*(-2*x[1:3]'*A1*omegahat*sat_pose_f[1,1:3] - 2*x[1:3]'*A1*sat_pose_f[1,4:6]+sat_pose_f[1,1:3]'*sat_pose_f[1,4:6]+sat_pose_f[1,4:6]'*sat_pose_f[1,1:3]) + x[4]) - sat_pose_f[1,7]\n",
    "    res2 = (f*frequency_scale/c)*(0.5*(1/norm(x[1:3] - A2*sat_pose_f[2,1:3]))*(-2*x[1:3]'*A2*omegahat*sat_pose_f[2,1:3] - 2*x[1:3]'*A2*sat_pose_f[2,4:6]+sat_pose_f[2,1:3]'*sat_pose_f[2,4:6]+sat_pose_f[2,4:6]'*sat_pose_f[2,1:3]) + x[4]) - sat_pose_f[2,7]\n",
    "    res3 = (f*frequency_scale/c)*(0.5*(1/norm(x[1:3] - A3*sat_pose_f[3,1:3]))*(-2*x[1:3]'*A3*omegahat*sat_pose_f[3,1:3] - 2*x[1:3]'*A3*sat_pose_f[3,4:6]+sat_pose_f[3,1:3]'*sat_pose_f[3,4:6]+sat_pose_f[3,4:6]'*sat_pose_f[3,1:3]) + x[4]) - sat_pose_f[3,7]\n",
    "    res4 = (f*frequency_scale/c)*(0.5*(1/norm(x[1:3] - A4*sat_pose_f[4,1:3]))*(-2*x[1:3]'*A4*omegahat*sat_pose_f[4,1:3] - 2*x[1:3]'*A4*sat_pose_f[4,4:6]+sat_pose_f[4,1:3]'*sat_pose_f[4,4:6]+sat_pose_f[4,4:6]'*sat_pose_f[4,1:3]) + x[4]) - sat_pose_f[4,7]\n",
    "    \n",
    "    return [res1; res2; res3; res4]\n",
    "   \n",
    "end"
   ]
  },
  {
   "cell_type": "code",
   "execution_count": 19,
   "id": "f85d1b82",
   "metadata": {},
   "outputs": [
    {
     "data": {
      "text/plain": [
       "measurment (generic function with 1 method)"
      ]
     },
     "execution_count": 19,
     "metadata": {},
     "output_type": "execute_result"
    }
   ],
   "source": [
    "#pose1-4 are satellite locations and velocities\n",
    "#r0 = [xyz of tag, emmitted frequency]\n",
    "\n",
    "function measurment(r0, pose1, pose2, pose3, pose4, time)\n",
    "    \n",
    "    #Make sure to scale all positions\n",
    "    \n",
    "    omega = OMEGA_EARTH*time_scale #change to custom time scale\n",
    "    \n",
    "    #wavelength = 0.7494*1e-3/distance_scale #for a nominal frequency of 400 MHz\n",
    "    \n",
    "    omegahat = [0 -omega 0; omega 0 0; 0 0 0]\n",
    "    \n",
    "    A1 = [cos(omega*time[1]) sin(omega*time[1]) 0;\n",
    "          -sin(omega*time[1]) cos(omega*time[1]) 0;\n",
    "          0 0 1];\n",
    "    A2 = [cos(omega*time[2]) sin(omega*time[2]) 0;\n",
    "          -sin(omega*time[2]) cos(omega*time[2]) 0;\n",
    "          0 0 1];\n",
    "    A3 = [cos(omega*time[3]) sin(omega*time[3]) 0;\n",
    "          -sin(omega*time[3]) cos(omega*time[3]) 0;\n",
    "          0 0 1];\n",
    "    A4 = [cos(omega*time[4]) sin(omega*time[4]) 0;\n",
    "          -sin(omega*time[4]) cos(omega*time[4]) 0;\n",
    "          0 0 1];\n",
    "    \n",
    "    #measurments for estimating a transmitting frequency\n",
    "    #deltaf1 = (r0[4]/c)*0.5*(1/norm(r0[1:3] - A1*pose1[1:3]))*(-2*r0[1:3]'*A1*omegahat*pose1[1:3] - 2*r0[1:3]'*A1*pose1[4:6]+pose1[1:3]'*pose1[4:6]+pose1[4:6]'*pose1[1:3])\n",
    "    #deltaf2 = (r0[4]/c)*0.5*(1/norm(r0[1:3] - A2*pose2[1:3]))*(-2*r0[1:3]'*A2*omegahat*pose2[1:3] - 2*r0[1:3]'*A2*pose2[4:6]+pose2[1:3]'*pose2[4:6]+pose2[4:6]'*pose2[1:3])\n",
    "    #deltaf3 = (r0[4]/c)*0.5*(1/norm(r0[1:3] - A3*pose3[1:3]))*(-2*r0[1:3]'*A3*omegahat*pose3[1:3] - 2*r0[1:3]'*A3*pose3[4:6]+pose3[1:3]'*pose3[4:6]+pose3[4:6]'*pose3[1:3])\n",
    "    #deltaf4 = (r0[4]/c)*0.5*(1/norm(r0[1:3] - A4*pose4[1:3]))*(-2*r0[1:3]'*A4*omegahat*pose4[1:3] - 2*r0[1:3]'*A4*pose4[4:6]+pose4[1:3]'*pose4[4:6]+pose4[4:6]'*pose4[1:3])\n",
    "\n",
    "    #measurments to estimate out a bdot value (frequency offset)\n",
    "    deltaf1 = (f*frequency_scale/c)*(0.5*(1/norm(r0[1:3] - A1*pose1[1:3]))*(-2*r0[1:3]'*A1*omegahat*pose1[1:3] - 2*r0[1:3]'*A1*pose1[4:6]+pose1[1:3]'*pose1[4:6]+pose1[4:6]'*pose1[1:3]) + r0[4])\n",
    "    deltaf2 = (f*frequency_scale/c)*(0.5*(1/norm(r0[1:3] - A2*pose2[1:3]))*(-2*r0[1:3]'*A2*omegahat*pose2[1:3] - 2*r0[1:3]'*A2*pose2[4:6]+pose2[1:3]'*pose2[4:6]+pose2[4:6]'*pose2[1:3]) + r0[4])\n",
    "    deltaf3 = (f*frequency_scale/c)*(0.5*(1/norm(r0[1:3] - A3*pose3[1:3]))*(-2*r0[1:3]'*A3*omegahat*pose3[1:3] - 2*r0[1:3]'*A3*pose3[4:6]+pose3[1:3]'*pose3[4:6]+pose3[4:6]'*pose3[1:3]) + r0[4])\n",
    "    deltaf4 = (f*frequency_scale/c)*(0.5*(1/norm(r0[1:3] - A4*pose4[1:3]))*(-2*r0[1:3]'*A4*omegahat*pose4[1:3] - 2*r0[1:3]'*A4*pose4[4:6]+pose4[1:3]'*pose4[4:6]+pose4[4:6]'*pose4[1:3]) + r0[4])\n",
    "    \n",
    "    return [deltaf1, deltaf2, deltaf3, deltaf4]\n",
    "end"
   ]
  },
  {
   "cell_type": "code",
   "execution_count": 20,
   "id": "4e8f0464",
   "metadata": {},
   "outputs": [
    {
     "data": {
      "text/plain": [
       "4-element Vector{Float64}:\n",
       " -0.9609082828788089\n",
       " -0.24932142011452468\n",
       "  0.12168918371970193\n",
       "  0.33356409519815206"
      ]
     },
     "execution_count": 20,
     "metadata": {},
     "output_type": "execute_result"
    }
   ],
   "source": [
    "#Equitorial Position\n",
    "\n",
    "#In km\n",
    "x0= x0*1e-3 #x tag position\n",
    "y0 = y0*1e-3 #y tag position\n",
    "z0 = z0*1e-3 #z tag position\n",
    "#f0 = 1e6 #nominal frequency (works)\n",
    "#f0 = 400e6 #working\n",
    "\n",
    "bdot = 1e4*1e-3 # working\n",
    "\n",
    "#r0_scaled = [x0/distance_scale, y0/distance_scale, z0/distance_scale, f0/frequency_scale]\n",
    "\n",
    "r0_scaled = [x0/distance_scale, y0/distance_scale, z0/distance_scale, bdot/velocity_scale]"
   ]
  },
  {
   "cell_type": "code",
   "execution_count": 21,
   "id": "9d49daa8",
   "metadata": {},
   "outputs": [
    {
     "data": {
      "text/plain": [
       "0.003919640287398688"
      ]
     },
     "execution_count": 21,
     "metadata": {},
     "output_type": "execute_result"
    }
   ],
   "source": [
    "diff = 25e3*1e-3/distance_scale "
   ]
  },
  {
   "cell_type": "code",
   "execution_count": 22,
   "id": "2a36c04d",
   "metadata": {},
   "outputs": [
    {
     "data": {
      "text/plain": [
       "receiver_pose (generic function with 1 method)"
      ]
     },
     "execution_count": 22,
     "metadata": {},
     "output_type": "execute_result"
    }
   ],
   "source": [
    "function receiver_pose(all_sats_scaled, guess, zenith_angles, time, zdot) # remember to scale the guess to custom units\n",
    "\n",
    "    n = 1000 # number of iterations\n",
    "    #all_r0 = NaN*[zeros(4) for i = 1:n]\n",
    "    all_r0 = [zeros(3) for i = 1:n] #obtain all the tag positions\n",
    "    \n",
    "    sat1poses = zeros(7,n)\n",
    "    sat2poses = zeros(7,n)\n",
    "    sat3poses = zeros(7,n)\n",
    "    sat4poses = zeros(7,n)\n",
    "\n",
    "    all_sats_noise = zeros(4,4)\n",
    "\n",
    "    iters = 0\n",
    "\n",
    "     #Monte Carlo Simulation\n",
    "    for i in 1:n\n",
    "        #Parameters for line search\n",
    "        #b = 0.01\n",
    "        b = 0.1\n",
    "        c_=0.5\n",
    "        #β = 10\n",
    "        β = 1.0\n",
    "        α = 1\n",
    "        \n",
    "        #create noise from normal distribution\n",
    "        \n",
    "        #scaled to the variable (0.1m error for distance & 1e-11 for time)\n",
    "        gpsnoise = randn(12)*(0.1*1e-3/distance_scale) #0.1 m switch to km then to custom scale\n",
    "        velocitynoise = randn(12)*(0.01*1e-3/velocity_scale)# 0.1 m/s\n",
    "        doppler_noise = randn(12)* 1/frequency_scale #0.001 ~ 500's of error\n",
    "        \n",
    "        #doppler_noise = randn(12)* 0/frequency_scale #0.001 ~ 500's of error\n",
    "        \n",
    "        TEC = rand(d,4) #vTEC for each satellite from custom distribution\n",
    "        \n",
    "\n",
    "        #Calculating random TEC time delay\n",
    "        #for i=1:4\n",
    "        \n",
    "        #    OF[i] = (1-((R_EARTH*sind(zenith_angles[i]))/(R_EARTH+hi))^2)^(-1/2) #normal units (m and s)\n",
    "        #    Ip[i] = ((40.3*TEC[i])/(f^2))*OF[i] * 1e-3 #scale to km to use the custom unit\n",
    "        #    Ip_scaled[i] = Ip[i]/distance_scale #scale to custom units\n",
    "        \n",
    "        #end\n",
    "        \n",
    "        Idot1 = (((40.3*TEC[1])*((R_EARTH*sind(zenith_angles[1]))*(R_EARTH*cosd(zenith_angles[1])*zdot[1])/(R_EARTH + h)^2))/((f^2)*(1-((R_EARTH*sind(zenith_angles[1]))/(R_EARTH+h))^2)^1.5))*1e20*1e-3/velocity_scale\n",
    "        Idot2 = (((40.3*TEC[2])*((R_EARTH*sind(zenith_angles[2]))*(R_EARTH*cosd(zenith_angles[2])*zdot[2])/(R_EARTH + h)^2))/((f^2)*(1-((R_EARTH*sind(zenith_angles[2]))/(R_EARTH+h))^2)^1.5))*1e20*1e-3/velocity_scale\n",
    "        Idot3 = (((40.3*TEC[3])*((R_EARTH*sind(zenith_angles[3]))*(R_EARTH*cosd(zenith_angles[3])*zdot[3])/(R_EARTH + h)^2))/((f^2)*(1-((R_EARTH*sind(zenith_angles[3]))/(R_EARTH+h))^2)^1.5))*1e20*1e-3/velocity_scale\n",
    "        Idot4 = (((40.3*TEC[4])*((R_EARTH*sind(zenith_angles[4]))*(R_EARTH*cosd(zenith_angles[4])*zdot[4])/(R_EARTH + h)^2))/((f^2)*(1-((R_EARTH*sind(zenith_angles[4]))/(R_EARTH+h))^2)^1.5))*1e20*1e-3/velocity_scale\n",
    "        \n",
    "        iono1 = (f/c)*Idot1\n",
    "        iono2 = (f/c)*Idot2\n",
    "        iono3 = (f/c)*Idot3\n",
    "        iono4 = (f/c)*Idot4\n",
    "        \n",
    "        scaled_iono1 = iono1/distance_scale*velocity_scale\n",
    "        \n",
    "        #println(\"this is scaled_iono1: \", scaled_iono1) #in Hz\n",
    "        \n",
    "        sat1_noise = [all_sats_scaled[1,1]+gpsnoise[1],all_sats_scaled[1,2] + gpsnoise[2],all_sats_scaled[1,3]+gpsnoise[3], all_sats_scaled[1,4]+velocitynoise[1], all_sats_scaled[1,5]+velocitynoise[2],all_sats_scaled[1,6]+velocitynoise[3], all_sats_scaled[1,7]+iono1+doppler_noise[1]]\n",
    "        sat2_noise =[all_sats_scaled[2,1]+gpsnoise[4],all_sats_scaled[2,2] + gpsnoise[5],all_sats_scaled[2,3]+gpsnoise[6], all_sats_scaled[2,4]+velocitynoise[4], all_sats_scaled[2,5]+velocitynoise[5],all_sats_scaled[2,6]+velocitynoise[6], all_sats_scaled[2,7]+iono2+doppler_noise[2]]\n",
    "        sat3_noise = [all_sats_scaled[3,1]+gpsnoise[7],all_sats_scaled[3,2] + gpsnoise[8],all_sats_scaled[3,3]+gpsnoise[9], all_sats_scaled[3,4]+velocitynoise[7], all_sats_scaled[3,5]+velocitynoise[8],all_sats_scaled[3,6]+velocitynoise[9], all_sats_scaled[3,7]+iono3+doppler_noise[3]]\n",
    "        sat4_noise = [all_sats_scaled[4,1]+gpsnoise[10],all_sats_scaled[4,2] + gpsnoise[11],all_sats_scaled[4,3]+gpsnoise[12], all_sats_scaled[4,4]+velocitynoise[10], all_sats_scaled[4,5]+velocitynoise[11],all_sats_scaled[4,6]+velocitynoise[12], all_sats_scaled[4,7]+iono4+doppler_noise[4]]\n",
    "\n",
    "        all_sats_noise = vcat(sat1_noise',sat2_noise',sat3_noise',sat4_noise')\n",
    "        \n",
    "        sat1poses[:,i] = sat1_noise\n",
    "        sat2poses[:,i] = sat2_noise\n",
    "        sat3poses[:,i] = sat3_noise\n",
    "        sat4poses[:,i] = sat4_noise\n",
    "        \n",
    "        X = NaN*[zeros(4) for i = 1:n]\n",
    "        R = NaN*[zeros(4) for i = 1:n]\n",
    "        \n",
    "        #Centroid guess. Working for estimating transmit frequency\n",
    "        #X[1] = [guess[1]/distance_scale, guess[2]/distance_scale, guess[3]/distance_scale, 410e6/frequency_scale]\n",
    "        \n",
    "        \n",
    "        #working\n",
    "        X[1] = [r0_scaled[1]+diff, r0_scaled[2]+diff, r0_scaled[3]+diff, 1.002*1e4*1e-3/velocity_scale]\n",
    "\n",
    "        \n",
    "        #New guess to estimate bdot\n",
    "        #X[1] = [guess[1]/distance_scale, guess[2]/distance_scale, guess[3]/distance_scale, 1.002*1e4*1e-3/velocity_scale]\n",
    "\n",
    "        #X[1] = r0_scaled\n",
    "        \n",
    "        #println(\"this is initial guess: \", X[1])\n",
    "        #Initial residual\n",
    "        R[1] = doppler_residual(X[1], all_sats_noise, time)\n",
    "\n",
    "        iters = 0\n",
    "\n",
    "        for k=1:1000\n",
    "            R[k] = doppler_residual(X[k], all_sats_noise, time) #calculate residual\n",
    "\n",
    "            iters += 1\n",
    "\n",
    "            #if(norm(R[k]) < 1e-6)\n",
    "            \n",
    "            if(norm(R[k]) < 1e-8)\n",
    "                \n",
    "                break\n",
    "\n",
    "            end\n",
    "\n",
    "            jacobian = ForwardDiff.jacobian(dx -> doppler_residual(dx, all_sats_noise, time), X[k])\n",
    "            \n",
    "            if(rank(jacobian) != 4) #if not full rank, move on to next iteration\n",
    "                \n",
    "                break\n",
    "\n",
    "            end\n",
    "            \n",
    "            conditionnum = cond(jacobian)\n",
    "            \n",
    "            #println(\"this is residual: \", norm(R[k]))\n",
    "            \n",
    "            #println(\"this is the condition number: \", conditionnum)\n",
    "            \n",
    "            #println(\"this is the jacobian: \", jacobian)\n",
    "            \n",
    "            #println(\"this is X[k]: \", X[k])\n",
    "\n",
    "            deltax = (jacobian)\\-R[k]\n",
    "            \n",
    "            if iters > 50\n",
    "                break\n",
    "            end\n",
    "            \n",
    "            while norm(doppler_residual(X[k] + α*deltax, all_sats_noise, time)) > norm(doppler_residual(X[k], all_sats_noise, time) + b*α*jacobian'*deltax)\n",
    "\n",
    "                α = c_*α\n",
    "                #print(\"this is alpha: \", α)\n",
    "            end\n",
    "\n",
    "            X[k+1] = X[k] + α*deltax\n",
    "             \n",
    "        end  \n",
    "        \n",
    "        R = R[1:iters]\n",
    "        X = X[1:iters]\n",
    "\n",
    "        all_r0[i] = X[end]\n",
    "\n",
    "    end\n",
    "    x_values = zeros(n)\n",
    "    y_values = zeros(n)\n",
    "    z_values = zeros(n)\n",
    "\n",
    "    for j in 1:n\n",
    "\n",
    "        x_values[j] = all_r0[j][1]\n",
    "        y_values[j] = all_r0[j][2]\n",
    "        z_values[j] = all_r0[j][3]\n",
    "\n",
    "    end\n",
    "    \n",
    "    #mean calculation\n",
    "    mean = sum(all_r0, dims = 1)/ n\n",
    "    mean = mean[1]\n",
    "    #for estimating frequency\n",
    "    #mean_rescaled = [mean[1:3]*distance_scale*1e3; mean[4]*frequency_scale] # in meters\n",
    "    \n",
    "    #For estimating bdot\n",
    "    mean_rescaled = [mean[1:3]*distance_scale*1e3; mean[4]*1e3*velocity_scale] # in meters\n",
    "\n",
    "    return mean_rescaled, all_r0, iters\n",
    "end"
   ]
  },
  {
   "cell_type": "code",
   "execution_count": 23,
   "id": "68bdcb20",
   "metadata": {},
   "outputs": [
    {
     "name": "stdout",
     "output_type": "stream",
     "text": [
      "cov position erors: 5663.121553452781\n",
      "Mean (m): [-6.1253649695203295e6, -1.591229927671102e6, 775475.7883141513, 10002.32500905864]\n",
      "Iterations: 5\n",
      "Timestep: 261\n",
      "cov position erors: 5766.730891910349\n",
      "Mean (m): [-6.125157925510043e6, -1.5914675208603865e6, 775331.7332552342, 10001.657840155178]\n",
      "Iterations: 5\n",
      "Timestep: 262\n",
      "cov position erors: 5943.276317435768\n",
      "Mean (m): [-6.125054458384064e6, -1.5916540928150984e6, 775251.4462885486, 10001.43255706632]\n",
      "Iterations: 5\n",
      "Timestep: 263\n",
      "cov position erors: 6105.700349949017\n",
      "Mean (m): [-6.124618854001335e6, -1.5921755947346196e6, 775013.851742559, 10000.545803219511]\n",
      "Iterations: 5\n",
      "Timestep: 264\n",
      "cov position erors: 6171.413549031913\n",
      "Mean (m): [-6.124530015125471e6, -1.592274179067298e6, 774915.4859277357, 10000.186402755935]\n",
      "Iterations: 5\n",
      "Timestep: 265\n",
      "cov position erors: 6482.119519290635\n",
      "Mean (m): [-6.124546352604915e6, -1.5922530155292107e6, 774841.0466223508, 9999.747960478006]\n",
      "Iterations: 5\n",
      "Timestep: 266\n",
      "cov position erors: 6584.484513352201\n",
      "Mean (m): [-6.124009548472887e6, -1.5929805780142553e6, 774550.4689532511, 9998.921800380542]\n",
      "Iterations: 5\n",
      "Timestep: 267\n",
      "cov position erors: 6778.587609356316\n",
      "Mean (m): [-6.123959260414059e6, -1.5930713687860016e6, 774425.1499640376, 9998.224699916227]\n",
      "Iterations: 5\n",
      "Timestep: 268\n",
      "cov position erors: 6834.787231445429\n",
      "Mean (m): [-6.123937858730534e6, -1.5931480186646471e6, 774359.4325759995, 9998.069600995099]\n",
      "Iterations: 5\n",
      "Timestep: 269\n",
      "cov position erors: 7076.212192991149\n",
      "Mean (m): [-6.123608593297592e6, -1.593586727004533e6, 774100.4648740498, 9997.117986084231]\n",
      "Iterations: 5\n",
      "Timestep: 270\n",
      "cov position erors: 7195.264770187474\n",
      "Mean (m): [-6.123099778570272e6, -1.5943098571851123e6, 773762.6938624469, 9996.171315868001]\n",
      "Iterations: 5\n",
      "Timestep: 271\n",
      "cov position erors: 7743.090281757723\n",
      "Mean (m): [-6.123130491492421e6, -1.5943261092292953e6, 773679.4458673922, 9995.656201717531]\n",
      "Iterations: 5\n",
      "Timestep: 272\n",
      "cov position erors: 8085.513290631782\n",
      "Mean (m): [-6.12295593785953e6, -1.5945940972687618e6, 773484.9471286032, 9995.043479521957]\n",
      "Iterations: 5\n",
      "Timestep: 273\n",
      "cov position erors: 8262.556272278764\n",
      "Mean (m): [-6.1229342851235075e6, -1.594657583256946e6, 773375.1078660849, 9994.610477134207]\n",
      "Iterations: 5\n",
      "Timestep: 274\n",
      "cov position erors: 8324.712724965086\n",
      "Mean (m): [-6.122375904956607e6, -1.595503230015895e6, 772921.8858374684, 9992.952953128619]\n",
      "Iterations: 5\n",
      "Timestep: 275\n",
      "cov position erors: 8824.712043667267\n",
      "Mean (m): [-6.122069846529274e6, -1.5960651809744707e6, 772630.3543348477, 9992.120388201358]\n",
      "Iterations: 5\n",
      "Timestep: 276\n",
      "cov position erors: 9438.661385687727\n",
      "Mean (m): [-6.121555866250113e6, -1.596874731608242e6, 772151.2232277434, 9990.395873886344]\n",
      "Iterations: 5\n",
      "Timestep: 277\n",
      "cov position erors: 9814.39220268097\n",
      "Mean (m): [-6.121458772499372e6, -1.5971241234624682e6, 771940.7683961764, 9989.543213605994]\n",
      "Iterations: 5\n",
      "Timestep: 278\n",
      "cov position erors: 10122.002457713714\n",
      "Mean (m): [-6.12106071152613e6, -1.597812493528686e6, 771527.7204536229, 9988.20093189578]\n",
      "Iterations: 5\n",
      "Timestep: 279\n",
      "cov position erors: 11258.091504204562\n",
      "Mean (m): [-6.120584535479812e6, -1.5987152046961738e6, 771027.910503571, 9986.519241005444]\n",
      "Iterations: 5\n",
      "Timestep: 280\n",
      "cov position erors: 11592.636937441157\n",
      "Mean (m): [-6.120236223215737e6, -1.5994523050528879e6, 770612.8380101412, 9985.110241346749]\n",
      "Iterations: 5\n",
      "Timestep: 281\n",
      "cov position erors: 12496.39517439491\n",
      "Mean (m): [-6.119637852848768e6, -1.600582962405379e6, 769914.1033919111, 9982.650730788884]\n",
      "Iterations: 5\n",
      "Timestep: 282\n",
      "cov position erors: 12826.552709997273\n",
      "Mean (m): [-6.118685267612599e6, -1.602330756920517e6, 768967.5757769971, 9979.603204327726]\n",
      "Iterations: 5\n",
      "Timestep: 283\n",
      "cov position erors: 13996.279668895331\n",
      "Mean (m): [-6.118474259444911e6, -1.6029756054599844e6, 768557.9340468426, 9978.18647773679]\n",
      "Iterations: 5\n",
      "Timestep: 284\n",
      "cov position erors: 15056.052175505154\n",
      "Mean (m): [-6.117821740091049e6, -1.604374319543563e6, 767739.5162715116, 9975.279676649894]\n",
      "Iterations: 5\n",
      "Timestep: 285\n",
      "cov position erors: 16559.445779326357\n",
      "Mean (m): [-6.117229184285599e6, -1.6057991263856264e6, 766949.4424592608, 9972.786081970286]\n",
      "Iterations: 5\n",
      "Timestep: 286\n",
      "cov position erors: 18372.743188024462\n",
      "Mean (m): [-6.116187236763509e6, -1.6081795442977166e6, 765689.3944362529, 9968.645033265238]\n",
      "Iterations: 5\n",
      "Timestep: 287\n",
      "cov position erors: 20154.99644565742\n",
      "Mean (m): [-6.114820378726919e6, -1.6111927794379028e6, 764017.9688406875, 9963.076991508622]\n",
      "Iterations: 5\n",
      "Timestep: 288\n",
      "cov position erors: 22373.037394326584\n",
      "Mean (m): [-6.1139667877712585e6, -1.6135110897236783e6, 762733.4653975932, 9958.757502192055]\n",
      "Iterations: 5\n",
      "Timestep: 289\n",
      "cov position erors: 25437.27357222224\n",
      "Mean (m): [-6.111861760542412e6, -1.6186303343097717e6, 760044.4925662341, 9950.005005848801]\n",
      "Iterations: 5\n",
      "Timestep: 290\n",
      "cov position erors: 29955.887872860538\n",
      "Mean (m): [-6.1106532789493855e6, -1.6223954409773112e6, 757963.9190613132, 9942.769650584047]\n",
      "Iterations: 5\n",
      "Timestep: 291\n",
      "cov position erors: 35006.40998875558\n",
      "Mean (m): [-6.107256259249358e6, -1.6315933944441995e6, 753084.6145346534, 9926.417218489025]\n",
      "Iterations: 6\n",
      "Timestep: 292\n",
      "cov position erors: 47215.458168316756\n",
      "Mean (m): [-6.104752919760914e6, -1.6413720005974732e6, 748182.9368742922, 9909.750241513178]\n",
      "Iterations: 5\n",
      "Timestep: 293\n",
      "cov position erors: 65181.600681704374\n",
      "Mean (m): [-6.09966327942666e6, -1.662589111446841e6, 737627.8199429468, 9873.807636527245]\n",
      "Iterations: 6\n",
      "Timestep: 294\n",
      "cov position erors: 114090.39904030251\n",
      "Mean (m): [-6.092847245701118e6, -1.7117886838873893e6, 714636.8889669072, 9793.032461107976]\n",
      "Iterations: 6\n",
      "Timestep: 295\n",
      "cov position erors: 105145.36273787769\n",
      "Mean (m): [-6.071190225986052e6, -1.762056114235154e6, 688623.0000542441, 9704.209091814731]\n",
      "Iterations: 7\n",
      "Timestep: 296\n",
      "cov position erors: 87057.77781190377\n",
      "Mean (m): [-6.0729528024882255e6, -1.7181446367654996e6, 708912.7872107468, 9772.861391393002]\n",
      "Iterations: 51\n",
      "Timestep: 297\n",
      "cov position erors: 61920.86516864329\n",
      "Mean (m): [-6.083414996820895e6, -1.6675456705683179e6, 733409.921820827, 9856.890285262441]\n",
      "Iterations: 51\n",
      "Timestep: 298\n",
      "cov position erors: 69326.16583401308\n",
      "Mean (m): [-6.07556672704673e6, -1.6792230517853673e6, 727613.2423280758, 9834.766188479689]\n",
      "Iterations: 51\n",
      "Timestep: 299\n",
      "cov position erors: 101039.39155462294\n",
      "Mean (m): [-6.099073940203801e6, -1.6246756831256705e6, 760187.7532931112, 9930.546673154457]\n",
      "Iterations: 7\n",
      "Timestep: 300\n",
      "cov position erors: 104824.31781317323\n",
      "Mean (m): [-6.107588591927407e6, -1.5974007462276819e6, 780236.282355309, 9974.999353140094]\n",
      "Iterations: 51\n",
      "Timestep: 301\n",
      "cov position erors: 176981.12330109213\n",
      "Mean (m): [-6.207736059285053e6, -1.4927373275740868e6, 842633.0771926494, 10185.54123318117]\n",
      "Iterations: 51\n",
      "Timestep: 302\n",
      "cov position erors: 79612.79027837585\n",
      "Mean (m): [-6.15613039149099e6, -1.5407651848947112e6, 804299.4531622698, 10089.675072470334]\n",
      "Iterations: 51\n",
      "Timestep: 303\n",
      "cov position erors: 29151.176281609405\n",
      "Mean (m): [-6.142665272373653e6, -1.5567092940202581e6, 794139.5072023682, 10058.908585723217]\n",
      "Iterations: 6\n",
      "Timestep: 304\n",
      "cov position erors: 25494.90947389588\n",
      "Mean (m): [-6.14111318823229e6, -1.5587811469474637e6, 792798.9455756876, 10054.669526180798]\n",
      "Iterations: 6\n",
      "Timestep: 305\n",
      "cov position erors: 21925.784765549048\n",
      "Mean (m): [-6.13828848828154e6, -1.563683083173532e6, 789921.2711329551, 10045.42495731021]\n",
      "Iterations: 5\n",
      "Timestep: 306\n",
      "cov position erors: 19895.711333498726\n",
      "Mean (m): [-6.136995885467603e6, -1.5657397189369777e6, 788626.521628669, 10041.279439165995]\n",
      "Iterations: 5\n",
      "Timestep: 307\n",
      "cov position erors: 17663.056857801854\n",
      "Mean (m): [-6.135399438819712e6, -1.5686363456784438e6, 786897.1892991653, 10035.464396146974]\n",
      "Iterations: 5\n",
      "Timestep: 308\n",
      "cov position erors: 16283.452622810035\n",
      "Mean (m): [-6.1346214907618305e6, -1.5698239261296135e6, 786196.4144662118, 10033.3110579412]\n",
      "Iterations: 5\n",
      "Timestep: 309\n",
      "cov position erors: 15108.620626979933\n",
      "Mean (m): [-6.133967554630771e6, -1.5708447577043977e6, 785524.1255931661, 10031.044491579956]\n",
      "Iterations: 4\n",
      "Timestep: 310\n",
      "cov position erors: 13840.152689889363\n",
      "Mean (m): [-6.13289559615885e6, -1.5730670056282687e6, 784290.8693338134, 10027.080227759923]\n",
      "Iterations: 4\n",
      "Timestep: 311\n"
     ]
    },
    {
     "name": "stdout",
     "output_type": "stream",
     "text": [
      "cov position erors: 13007.247445099629\n",
      "Mean (m): [-6.13251785013813e6, -1.5735757660661926e6, 783890.8640028433, 10025.727992768412]\n",
      "Iterations: 5\n",
      "Timestep: 312\n",
      "cov position erors: 12017.57287820608\n",
      "Mean (m): [-6.1317081449682675e6, -1.575273502331617e6, 782987.978658463, 10022.864027497902]\n",
      "Iterations: 5\n",
      "Timestep: 313\n",
      "cov position erors: 11829.511194131217\n",
      "Mean (m): [-6.131418576035003e6, -1.5757329271843652e6, 782644.0249460448, 10021.592434532546]\n",
      "Iterations: 4\n",
      "Timestep: 314\n",
      "cov position erors: 10708.653529562576\n",
      "Mean (m): [-6.130987598335807e6, -1.576588926898571e6, 782104.7601710835, 10019.760260323972]\n",
      "Iterations: 5\n",
      "Timestep: 315\n",
      "cov position erors: 9980.997238526668\n",
      "Mean (m): [-6.1305275665353015e6, -1.5775812670596843e6, 781535.322811127, 10017.815967356491]\n",
      "Iterations: 5\n",
      "Timestep: 316\n",
      "cov position erors: 9643.588644784413\n",
      "Mean (m): [-6.130394912026541e6, -1.5775866309403654e6, 781468.7162914614, 10017.588450654188]\n",
      "Iterations: 5\n",
      "Timestep: 317\n",
      "cov position erors: 9673.436873614659\n",
      "Mean (m): [-6.129884488641168e6, -1.578975328491029e6, 780752.5197542498, 10015.250149408783]\n",
      "Iterations: 5\n",
      "Timestep: 318\n",
      "cov position erors: 8952.74095848627\n",
      "Mean (m): [-6.129698569545714e6, -1.5792120927985234e6, 780572.8150822711, 10014.584474266629]\n",
      "Iterations: 5\n",
      "Timestep: 319\n",
      "cov position erors: 8362.326595481258\n",
      "Mean (m): [-6.1292389635231e6, -1.5805241403516138e6, 779914.8807905802, 10012.32630002221]\n",
      "Iterations: 5\n",
      "Timestep: 320\n",
      "cov position erors: 8455.864157623484\n",
      "Mean (m): [-6.129251424837289e6, -1.580392356344172e6, 779840.0573742575, 10011.891440448082]\n",
      "Iterations: 5\n",
      "Timestep: 321\n",
      "cov position erors: 7805.756480091251\n",
      "Mean (m): [-6.129090954722774e6, -1.5806644443501476e6, 779643.3362841428, 10011.222356418386]\n",
      "Iterations: 5\n",
      "Timestep: 322\n",
      "cov position erors: 8074.124213626825\n",
      "Mean (m): [-6.128782273146182e6, -1.581539426184924e6, 779221.6670466176, 10009.743949264943]\n",
      "Iterations: 5\n",
      "Timestep: 323\n",
      "cov position erors: 7525.650702197566\n",
      "Mean (m): [-6.128712278108301e6, -1.5817436060824175e6, 779029.3940819405, 10008.90368097009]\n",
      "Iterations: 5\n",
      "Timestep: 324\n",
      "cov position erors: 7089.983297284168\n",
      "Mean (m): [-6.128566986640722e6, -1.5820427512627193e6, 778887.3827051817, 10008.635211302753]\n",
      "Iterations: 5\n",
      "Timestep: 325\n",
      "cov position erors: 7294.5526488554315\n",
      "Mean (m): [-6.128375784350608e6, -1.5825247157390497e6, 778639.720584072, 10007.73199281505]\n",
      "Iterations: 5\n",
      "Timestep: 326\n",
      "cov position erors: 7018.690844436804\n",
      "Mean (m): [-6.128213779769225e6, -1.5831956748822278e6, 778294.9978167599, 10006.416836369337]\n",
      "Iterations: 5\n",
      "Timestep: 327\n",
      "cov position erors: 6760.9995975589945\n",
      "Mean (m): [-6.128222512200738e6, -1.5829758168989217e6, 778298.6365840003, 10006.373307064456]\n",
      "Iterations: 5\n",
      "Timestep: 328\n",
      "cov position erors: 6245.6216727402625\n",
      "Mean (m): [-6.127964029004892e6, -1.5838343964117193e6, 777973.6654706801, 10005.335255835995]\n",
      "Iterations: 5\n",
      "Timestep: 329\n",
      "cov position erors: 6346.187742782994\n",
      "Mean (m): [-6.127994225830588e6, -1.5837633910379251e6, 777900.4198655009, 10004.910254884177]\n",
      "Iterations: 5\n",
      "Timestep: 330\n",
      "cov position erors: 6288.25589565796\n",
      "Mean (m): [-6.12785513833168e6, -1.5842777545721878e6, 777651.1587068319, 10003.96693142717]\n",
      "Iterations: 5\n",
      "Timestep: 331\n",
      "cov position erors: 6086.319314997369\n",
      "Mean (m): [-6.127800356304748e6, -1.5845072151907925e6, 777527.8468557968, 10003.465433377201]\n",
      "Iterations: 5\n",
      "Timestep: 332\n",
      "cov position erors: 5894.117484696912\n",
      "Mean (m): [-6.127723252890828e6, -1.5846421579967162e6, 777430.1866771124, 10003.143793330994]\n",
      "Iterations: 5\n",
      "Timestep: 333\n",
      "cov position erors: 5794.471335513538\n",
      "Mean (m): [-6.127679603772187e6, -1.5848906371085946e6, 777274.254632562, 10002.424059806437]\n",
      "Iterations: 5\n",
      "Timestep: 334\n",
      "cov position erors: 5696.377637336886\n",
      "Mean (m): [-6.127605011942798e6, -1.5852003498265473e6, 777149.1181805026, 10002.001897788485]\n",
      "Iterations: 5\n",
      "Timestep: 335\n",
      "cov position erors: 5549.5341352694595\n",
      "Mean (m): [-6.12755548651459e6, -1.5854733522669578e6, 776996.2994529577, 10001.316413339671]\n",
      "Iterations: 5\n",
      "Timestep: 336\n",
      "cov position erors: 5582.6347450667345\n",
      "Mean (m): [-6.127529471584962e6, -1.5855804512888954e6, 776922.557480514, 10001.017986172044]\n",
      "Iterations: 5\n",
      "Timestep: 337\n",
      "cov position erors: 5444.966831313813\n",
      "Mean (m): [-6.127507605051354e6, -1.5858281207126633e6, 776799.2369241056, 10000.528749266743]\n",
      "Iterations: 5\n",
      "Timestep: 338\n",
      "cov position erors: 5212.3771690608555\n",
      "Mean (m): [-6.127450429450364e6, -1.5859466415016758e6, 776706.5157852174, 9999.992115228506]\n",
      "Iterations: 5\n",
      "Timestep: 339\n",
      "cov position erors: 5105.450653336534\n",
      "Mean (m): [-6.1274152429664135e6, -1.5863335840156595e6, 776576.3035965166, 9999.61724216135]\n",
      "Iterations: 5\n",
      "Timestep: 340\n",
      "cov position erors: 4956.423021610418\n",
      "Mean (m): [-6.127403930759481e6, -1.5865026990749573e6, 776489.8252584416, 9999.160352555778]\n",
      "Iterations: 5\n",
      "Timestep: 341\n",
      "cov position erors: 5157.406797654921\n",
      "Mean (m): [-6.127408646136411e6, -1.586589308972037e6, 776434.6556943567, 9998.92483830624]\n",
      "Iterations: 5\n",
      "Timestep: 342\n",
      "cov position erors: 4892.785176394339\n",
      "Mean (m): [-6.127341182420632e6, -1.5869725588065907e6, 776294.6563394764, 9998.344589469814]\n",
      "Iterations: 5\n",
      "Timestep: 343\n",
      "cov position erors: 4923.769240470813\n",
      "Mean (m): [-6.127308437022777e6, -1.5870821991749548e6, 776246.7840029139, 9998.16008992167]\n",
      "Iterations: 5\n",
      "Timestep: 344\n",
      "cov position erors: 4845.978148078501\n",
      "Mean (m): [-6.127285241309374e6, -1.587201329145162e6, 776179.7160304891, 9997.794297907243]\n",
      "Iterations: 5\n",
      "Timestep: 345\n",
      "cov position erors: 4722.869005746952\n",
      "Mean (m): [-6.127243106267414e6, -1.5876624738877686e6, 776061.5873356407, 9997.340222160183]\n",
      "Iterations: 5\n",
      "Timestep: 346\n"
     ]
    }
   ],
   "source": [
    "#Navigation\n",
    "#count = 0\n",
    "n=1000\n",
    "PDOP_array = zeros(size(eci_1)[2],1)\n",
    "for i=1:size(eci_1)[2] - 1\n",
    "    \n",
    "    satposes = [eci_1[1,i] eci_1[2,i] eci_1[3,i];eci_2[1,i] eci_2[2,i] eci_2[3,i];eci_3[1,i] eci_3[2,i] eci_3[3,i];eci_4[1,i] eci_4[2,i] eci_4[3,i]]\n",
    "    satposes2 = [eci_1[1,i+1] eci_1[2,i+1] eci_1[3,i+1];eci_2[1,i+1] eci_2[2,i+1] eci_2[3,i+1];eci_3[1,i+1] eci_3[2,i+1] eci_3[3,i+1];eci_4[1,i+1] eci_4[2,i+1] eci_4[3,i+1]]\n",
    "    zenith_angles = zenith_angle(satposes, r0[1:3])\n",
    "    zenith_angles2 = zenith_angle(satposes2, r0[1:3])\n",
    "    \n",
    "    zdot = zenith_angles - zenith_angles2\n",
    "\n",
    "    #check all angles to see if it is on the horizon \n",
    "    \n",
    "    inhorizon = all(x->x<70, zenith_angles)\n",
    "    \n",
    "    if inhorizon==false\n",
    "        \n",
    "        continue #skip the current iteration\n",
    "    end\n",
    "\n",
    "    #In km then to custom units\n",
    "    r1 = [eci_1[1,i], eci_1[2,i], eci_1[3,i]]*1e-3/distance_scale\n",
    "    r2 = [eci_2[1,i], eci_2[2,i], eci_2[3,i]]*1e-3/distance_scale\n",
    "    r3 = [eci_3[1,i], eci_3[2,i], eci_3[3,i]]*1e-3/distance_scale\n",
    "    r4 = [eci_4[1,i], eci_4[2,i], eci_4[3,i]]*1e-3/distance_scale\n",
    "    \n",
    "    v1 = [eci_1[4,i], eci_1[5,i], eci_1[6,i]]*1e-3/velocity_scale\n",
    "    v2 = [eci_2[4,i], eci_2[5,i], eci_2[6,i]]*1e-3/velocity_scale\n",
    "    v3 = [eci_3[4,i], eci_3[5,i], eci_3[6,i]]*1e-3/velocity_scale\n",
    "    v4 = [eci_4[4,i], eci_4[5,i], eci_4[6,i]]*1e-3/velocity_scale\n",
    "\n",
    "    pose1 = [r1' v1']\n",
    "    pose2 = [r2' v2']\n",
    "    pose3 = [r3' v3']\n",
    "    pose4 = [r4' v4']\n",
    "    \n",
    "    time = [0.006, 0.006, 0.006, 0.008]/time_scale # assume a fixed time for the rotation matrix\n",
    "    \n",
    "    #calculate the rdots. need to build the pose matrices\n",
    "    deltaf = measurment(r0_scaled, pose1, pose2, pose3, pose4, time)\n",
    "    \n",
    "    pose1_rdot1 = [pose1 deltaf[1]]\n",
    "    pose2_rdot2 = [pose2 deltaf[2]]\n",
    "    pose3_rdot3 = [pose3 deltaf[3]]\n",
    "    pose4_rdot4 = [pose4 deltaf[4]]\n",
    "    \n",
    "    all_sats_scaled = vcat(pose1_rdot1,pose2_rdot2,pose3_rdot3,pose4_rdot4)\n",
    "    \n",
    "    #Generate a guess at the centroid of all 4 sats on the surface of the Earth. Scaled to km\n",
    "    \n",
    "    centroid_guess = [(eci_1[1,i]+eci_2[1,i]+eci_3[1,i]+eci_4[1,i])/4, (eci_1[2,i]+eci_2[2,i]+eci_3[2,i]+eci_4[2,i])/4, (eci_1[3,i]+eci_2[3,i]+eci_3[3,i]+eci_4[3,i])/4] \n",
    "    onearth = sECEFtoGEOC(centroid_guess, use_degrees = true)\n",
    "    geodetic = [onearth[1], onearth[2], 0]\n",
    "\n",
    "    xyz_guess = sGEOCtoECEF(geodetic, use_degrees = true)*1e-3 #change to km\n",
    "\n",
    "    xyz_guess\n",
    "    \n",
    "    #Find all possible positions from montecarlo and send unscaled guess\n",
    "    mean_rescaled, all_r0, iters = receiver_pose(all_sats_scaled, xyz_guess, zenith_angles, time, zdot)\n",
    "    \n",
    "    all_r0_scaled = zeros(n,4)\n",
    "\n",
    "    #Rescale back to units (m and s)\n",
    "    for i in 1:n\n",
    "    \n",
    "        #all_r0_scaled[i,:] = [all_r0[i][1:3]*distance_scale*1e3; all_r0[i][4]*frequency_scale]\n",
    "        all_r0_scaled[i,:] = [all_r0[i][1:3]*distance_scale*1e3; all_r0[i][4]*1e3*velocity_scale]\n",
    "\n",
    "    end\n",
    "    \n",
    "    totalsum = zeros(4,4)\n",
    "\n",
    "    for i in 1:n\n",
    "        value = all_r0_scaled[i,:] - mean_rescaled\n",
    "        matrixvalue = value*transpose(value)\n",
    "        totalsum += matrixvalue\n",
    "    \n",
    "    end\n",
    "    \n",
    "    covariancematrix = totalsum/n\n",
    "    \n",
    "    PDOP = sqrt(covariancematrix[1,1] + covariancematrix[2,2] + covariancematrix[3,3])\n",
    "    PDOP_array[i,1] = PDOP\n",
    "    println(\"cov position erors: \", PDOP)\n",
    "    println(\"Mean (m): \", mean_rescaled)\n",
    "    println(\"Iterations: \", iters)\n",
    "    println(\"Timestep: \", i)\n",
    "\n",
    "end    "
   ]
  },
  {
   "cell_type": "code",
   "execution_count": 24,
   "id": "119580d4",
   "metadata": {
    "scrolled": true
   },
   "outputs": [
    {
     "name": "stdout",
     "output_type": "stream",
     "text": [
      "Maximum PDOP: 176981.12330109213\n",
      "Minimum PDOP: 4722.869005746952\n"
     ]
    }
   ],
   "source": [
    "final_PDOP = PDOP_array[PDOP_array .!=0]\n",
    "\n",
    "PDOP_max = findmax(final_PDOP)[1]\n",
    "PDOP_min = findmin(final_PDOP)[1]\n",
    "\n",
    "println(\"Maximum PDOP: \", PDOP_max)\n",
    "println(\"Minimum PDOP: \", PDOP_min)"
   ]
  },
  {
   "cell_type": "code",
   "execution_count": null,
   "id": "24f11e7e",
   "metadata": {},
   "outputs": [],
   "source": [
    "r0_scaled"
   ]
  },
  {
   "cell_type": "code",
   "execution_count": null,
   "id": "1d570082",
   "metadata": {},
   "outputs": [],
   "source": [
    "initial_guess = [-9625.008623511323, -2580.926606494148, 835.4931473148392, 3.9e6]"
   ]
  },
  {
   "cell_type": "code",
   "execution_count": null,
   "id": "d999f4cf",
   "metadata": {},
   "outputs": [],
   "source": [
    "r0_scaled - initial_guess"
   ]
  },
  {
   "cell_type": "code",
   "execution_count": null,
   "id": "1941a677",
   "metadata": {},
   "outputs": [],
   "source": [
    "actualpose =[-6.128804e6, -1.590206e6, 776.1502e3, 1e6]"
   ]
  },
  {
   "cell_type": "code",
   "execution_count": null,
   "id": "dc6a8a6e",
   "metadata": {},
   "outputs": [],
   "source": [
    "log10(79.34904895113688)"
   ]
  },
  {
   "cell_type": "code",
   "execution_count": null,
   "id": "baa540d9",
   "metadata": {},
   "outputs": [],
   "source": [
    "i=303\n",
    "\n",
    "satposes = [eci_1[1,i] eci_1[2,i] eci_1[3,i];eci_2[1,i] eci_2[2,i] eci_2[3,i];eci_3[1,i] eci_3[2,i] eci_3[3,i];eci_4[1,i] eci_4[2,i] eci_4[3,i]]\n",
    "satposes2 = [eci_1[1,i+1] eci_1[2,i+1] eci_1[3,i+1];eci_2[1,i+1] eci_2[2,i+1] eci_2[3,i+1];eci_3[1,i+1] eci_3[2,i+1] eci_3[3,i+1];eci_4[1,i+1] eci_4[2,i+1] eci_4[3,i+1]]\n",
    "zenith_angles = zenith_angle(satposes, r0[1:3])\n",
    "zenith_angles2 = zenith_angle(satposes2, r0[1:3])\n",
    "\n",
    "println(\"satposes: \", satposes)\n",
    "\n",
    "println(\"satposes2: \", satposes2)\n",
    "    \n",
    "zdot = zenith_angles - zenith_angles2\n",
    "\n",
    "#check all angles to see if it is on the horizon \n",
    "    \n",
    "inhorizon = all(x->x<70, zenith_angles)\n",
    "    \n",
    "#if inhorizon==false\n",
    "#    continue #skip the current iteration\n",
    "#end\n",
    "\n",
    "#In km then to custom units\n",
    "r1 = [eci_1[1,i], eci_1[2,i], eci_1[3,i]]*1e-3/distance_scale\n",
    "r2 = [eci_2[1,i], eci_2[2,i], eci_2[3,i]]*1e-3/distance_scale\n",
    "r3 = [eci_3[1,i], eci_3[2,i], eci_3[3,i]]*1e-3/distance_scale\n",
    "r4 = [eci_4[1,i], eci_4[2,i], eci_4[3,i]]*1e-3/distance_scale\n",
    "    \n",
    "v1 = [eci_1[4,i], eci_1[5,i], eci_1[6,i]]*1e-3/velocity_scale\n",
    "v2 = [eci_2[4,i], eci_2[5,i], eci_2[6,i]]*1e-3/velocity_scale\n",
    "v3 = [eci_3[4,i], eci_3[5,i], eci_3[6,i]]*1e-3/velocity_scale\n",
    "v4 = [eci_4[4,i], eci_4[5,i], eci_4[6,i]]*1e-3/velocity_scale\n",
    "\n",
    "pose1 = [r1' v1']\n",
    "pose2 = [r2' v2']\n",
    "pose3 = [r3' v3']\n",
    "pose4 = [r4' v4']\n",
    "    \n",
    "#at second frequency\n",
    "pose5= [r1' v1']\n",
    "pose6= [r2' v2']\n",
    "pose7= [r3' v3']\n",
    "pose8= [r4' v4']\n",
    "    \n",
    "time = [0.006, 0.006, 0.006, 0.008]/time_scale # assume a fixed time for the rotation matrix\n",
    "    \n",
    "#calculate the rdots. need to build the pose matrices\n",
    "deltaf = measurment(r0_scaled, pose1, pose2, pose3, pose4, time)\n",
    "    \n",
    "pose1_rdot1 = [pose1 deltaf[1]]\n",
    "pose2_rdot2 = [pose2 deltaf[2]]\n",
    "pose3_rdot3 = [pose3 deltaf[3]]\n",
    "pose4_rdot4 = [pose4 deltaf[4]]\n",
    "    \n",
    "all_sats_scaled = vcat(pose1_rdot1, pose2_rdot2, pose3_rdot3, pose4_rdot4)\n",
    "    \n",
    "println(\"this is deltaf: \", deltaf)"
   ]
  },
  {
   "cell_type": "code",
   "execution_count": null,
   "id": "56029ed2",
   "metadata": {},
   "outputs": [],
   "source": [
    "initial_guess = [-0.963179168952113, -0.258771187758936, 0.07296286988883226, 0.3342312233885483]"
   ]
  },
  {
   "cell_type": "code",
   "execution_count": null,
   "id": "b6775e79",
   "metadata": {},
   "outputs": [],
   "source": [
    "R = doppler_residual(initial_guess, all_sats_scaled, time)"
   ]
  },
  {
   "cell_type": "code",
   "execution_count": null,
   "id": "95253d0f",
   "metadata": {},
   "outputs": [],
   "source": [
    "[-0.963179168952113, -0.258771187758936, 0.07296286988883226, 0.3342312233885483]"
   ]
  }
 ],
 "metadata": {
  "@webio": {
   "lastCommId": "0dbb0156ac7c411587be21ef54e2ebaf",
   "lastKernelId": "ef87248c-d4bb-4020-8c94-ec4683d39676"
  },
  "kernelspec": {
   "display_name": "Julia 1.6.5",
   "language": "julia",
   "name": "julia-1.6"
  },
  "language_info": {
   "file_extension": ".jl",
   "mimetype": "application/julia",
   "name": "julia",
   "version": "1.6.5"
  }
 },
 "nbformat": 4,
 "nbformat_minor": 5
}
