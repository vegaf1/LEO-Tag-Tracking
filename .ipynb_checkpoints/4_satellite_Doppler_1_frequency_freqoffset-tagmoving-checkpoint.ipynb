{
 "cells": [
  {
   "cell_type": "code",
   "execution_count": 120,
   "id": "8e7fa96b",
   "metadata": {},
   "outputs": [],
   "source": [
    "#4 satellites Doppler 1 frequency\n",
    "\n",
    "#Solving for pose and frequency offset\n",
    "\n",
    "#Rotation of Earth and the effect of the ionosphere are included\n",
    "\n",
    "#Doppler Method for Localizing a receiver\n",
    "#Fausto Vega\n",
    "\n",
    "using SatelliteDynamics\n",
    "using LinearAlgebra\n",
    "using PlotlyJS\n",
    "using DelimitedFiles\n",
    "using Distributions"
   ]
  },
  {
   "cell_type": "code",
   "execution_count": 121,
   "id": "83963c76",
   "metadata": {},
   "outputs": [
    {
     "data": {
      "text/plain": [
       "Epoch(2019-01-01T11:59:23.000Z)"
      ]
     },
     "execution_count": 121,
     "metadata": {},
     "output_type": "execute_result"
    }
   ],
   "source": [
    "# Declare simulation initial Epoch. Start time\n",
    "epc0 = Epoch(2019, 1, 1, 12, 0, 0, 0.0)  #year, month, day, hour, minute, seconds, nanoseconds "
   ]
  },
  {
   "cell_type": "code",
   "execution_count": 122,
   "id": "0e8c112a",
   "metadata": {},
   "outputs": [],
   "source": [
    "# Declare initial state in terms of osculating orbital elements\n",
    "#semi-major axis, eccentricity, inclination, RAAN, Argument of perigee, Mean anomaly\n",
    "\n",
    "#1 and 2 on the same orbit, different initial mean anomaly\n",
    "\n",
    "#iss1 = [7378e3, 0.0004879, 90.6391, 189.0859, 151.2014, 185]; #converges at 189.0859\n",
    "#iss2 = [7378e3, 0.0004879, 90.6391, 189.0859, 151.2014, 205];\n",
    "#iss3 = [7378e3, 0.0004879, 90.6391, 201.0859, 151.2014, 190]; # converges a t 200.0859\n",
    "#iss4 = [7378e3, 0.0004879, 90.6391, 201.0859, 151.2014, 210]; # converges a t 200.0859\n",
    "\n",
    "#approximately 500 km elevation from surface of Earth and around 100 km seperation at equator\n",
    "#working good\n",
    "#iss1 = [6871e3, 0.0004879, 90.6391, 194.5859, 151.2014, 190]; \n",
    "#iss2 = [6871e3, 0.0004879, 90.6391, 194.5859, 151.2014, 200];\n",
    "#iss3 = [6871e3, 0.0004879, 90.6391, 195.5859, 151.2014, 193]; \n",
    "#iss4 = [6871e3, 0.0004879, 90.6391, 195.5859, 151.2014, 203]; \n",
    "\n",
    "#ARGOS Orbit ~850 km altitude\n",
    "\n",
    "iss1 = [6871e3, 0.0004879, 90.6391, 194.5859, 151.2014, 190]; \n",
    "iss2 = [6871e3, 0.0004879, 90.6391, 194.5859, 151.2014, 200];\n",
    "iss3 = [6871e3, 0.0004879, 90.6391, 196.5859, 151.2014, 193]; \n",
    "iss4 = [6871e3, 0.0004879, 90.6391, 196.5859, 151.2014, 203]; \n",
    "\n",
    "\n",
    "\n",
    "#Function to convert mean anomoaly to eccentric anomaly\n",
    "E1 = anomaly_mean_to_eccentric(iss1[6], iss1[2], use_degrees=true); \n",
    "E2 = anomaly_mean_to_eccentric(iss2[6], iss2[2], use_degrees=true);\n",
    "E3 = anomaly_mean_to_eccentric(iss3[6], iss3[2], use_degrees=true);\n",
    "E4 = anomaly_mean_to_eccentric(iss4[6], iss4[2], use_degrees=true);"
   ]
  },
  {
   "cell_type": "code",
   "execution_count": 123,
   "id": "900db33d",
   "metadata": {},
   "outputs": [
    {
     "data": {
      "text/plain": [
       "6-element Vector{Float64}:\n",
       "      -6.551891283502199e6\n",
       "      -1.959561329014077e6\n",
       " -697065.2121487064\n",
       "    -762.6662561944706\n",
       "    -139.00657375176846\n",
       "    7573.567651354772"
      ]
     },
     "execution_count": 123,
     "metadata": {},
     "output_type": "execute_result"
    }
   ],
   "source": [
    "# Convert osculating elements to Cartesean state\n",
    "# returns position and velocity (m, m/s)\n",
    "\n",
    "eci0_1 = sOSCtoCART(iss1, use_degrees=true)\n",
    "eci0_2 = sOSCtoCART(iss2, use_degrees=true)\n",
    "eci0_3 = sOSCtoCART(iss3, use_degrees=true)\n",
    "eci0_4 = sOSCtoCART(iss4, use_degrees=true)"
   ]
  },
  {
   "cell_type": "code",
   "execution_count": 124,
   "id": "6b4ab0e5",
   "metadata": {},
   "outputs": [
    {
     "data": {
      "text/plain": [
       "Epoch(2019-01-01T13:33:51.144Z)"
      ]
     },
     "execution_count": 124,
     "metadata": {},
     "output_type": "execute_result"
    }
   ],
   "source": [
    "#compute the satellite orbital period given the semi-major axis\n",
    "\n",
    "#same for all 4 satellites since they have the same semi-major axis\n",
    "T = orbit_period(iss1[1])\n",
    "\n",
    "#final time for one orbit. Adds initial time to the orbital period\n",
    "\n",
    "epcf = epc0 + T"
   ]
  },
  {
   "cell_type": "code",
   "execution_count": 125,
   "id": "2dc0ac8e",
   "metadata": {},
   "outputs": [],
   "source": [
    "# Create an EarthInertialState orbit propagagator\n",
    "#needs initial epoch of state and the state vector\n",
    "orb1  = EarthInertialState(epc0, eci0_1, dt=1.0,\n",
    "            mass=1.0, n_grav=0, m_grav=0,\n",
    "            drag=false, srp=false,\n",
    "            moon=false, sun=false,\n",
    "            relativity=false\n",
    ")\n",
    "\n",
    "orb2  = EarthInertialState(epc0, eci0_2, dt=1.0,\n",
    "            mass=1.0, n_grav=0, m_grav=0,\n",
    "            drag=false, srp=false,\n",
    "            moon=false, sun=false,\n",
    "            relativity=false\n",
    ")\n",
    "\n",
    "orb3  = EarthInertialState(epc0, eci0_3, dt=1.0,\n",
    "            mass=1.0, n_grav=0, m_grav=0,\n",
    "            drag=false, srp=false,\n",
    "            moon=false, sun=false,\n",
    "            relativity=false\n",
    ")\n",
    "\n",
    "orb4  = EarthInertialState(epc0, eci0_4, dt=1.0,\n",
    "            mass=1.0, n_grav=0, m_grav=0,\n",
    "            drag=false, srp=false,\n",
    "            moon=false, sun=false,\n",
    "            relativity=false\n",
    ")\n",
    "\n",
    "# Propagate the orbit\n",
    "# orbit until the final time\n",
    "\n",
    "t_1, epc_1, eci_1 = sim!(orb1, epcf);\n",
    "t_2, epc_2, eci_2 = sim!(orb2, epcf);\n",
    "t_3, epc_3, eci_3 = sim!(orb3, epcf);\n",
    "t_4, epc_4, eci_4 = sim!(orb4, epcf);"
   ]
  },
  {
   "cell_type": "code",
   "execution_count": 126,
   "id": "3465652b",
   "metadata": {},
   "outputs": [
    {
     "data": {
      "text/plain": [
       "3-element Vector{Float64}:\n",
       "     -6.128804e6\n",
       "     -1.590206e6\n",
       " 776150.2"
      ]
     },
     "execution_count": 126,
     "metadata": {},
     "output_type": "execute_result"
    }
   ],
   "source": [
    "#equator position in cartesian coordinates\n",
    "tag =[-6.128804e6, -1.590206e6, 776.1502e3]\n",
    "\n",
    "#Examples of putting latitude and longitude and converting to ECEF coordinate frame\n",
    "#Equitorial position\n",
    "#tag_geof = [-165.4545, 16.98849, 0]\n",
    "\n",
    "#North pole position\n",
    "#tag_geof = [-165.4545, 46.98849, 0]\n",
    "\n",
    "#tag = sGEOCtoECEF(tag_geof, use_degrees = true)"
   ]
  },
  {
   "cell_type": "code",
   "execution_count": 127,
   "id": "7695b5a1",
   "metadata": {},
   "outputs": [
    {
     "name": "stdout",
     "output_type": "stream",
     "text": [
      "[-5.99796596057736e6, -1.6894678391131323e6, -1.3604169754625652e6]\n"
     ]
    }
   ],
   "source": [
    "#Equitorial Position\n",
    "#In m\n",
    "x0= tag[1] \n",
    "y0 = tag[2]\n",
    "z0 = tag[3]\n",
    "\n",
    "#λ0 = C_LIGHT/400e6 #nominal wavelength in m\n",
    "\n",
    "f0 = 1e6\n",
    "\n",
    "#r0 = [x0, y0, z0, λ0]\n",
    "r0 = [x0, y0, z0, f0]\n",
    "\n",
    "centroid_guess = [(eci_1[1,1]+eci_2[1,1]+eci_3[1,1]+eci_4[1,1])/4, (eci_1[2,1]+eci_2[2,1]+eci_3[2,1]+eci_4[2,1])/4, (eci_1[3,1]+eci_2[3,1]+eci_3[3,1]+eci_4[3,1])/4] \n",
    "onearth = sECEFtoGEOC(centroid_guess, use_degrees = true)\n",
    "geodetic = [onearth[1], onearth[2], 0]\n",
    "\n",
    "#Guess\n",
    "xyz = sGEOCtoECEF(geodetic, use_degrees = true)\n",
    "\n",
    "println(xyz)"
   ]
  },
  {
   "cell_type": "code",
   "execution_count": 128,
   "id": "0cb96000",
   "metadata": {},
   "outputs": [
    {
     "data": {
      "text/plain": [
       "surface with fields type, x, y, and z\n"
      ]
     },
     "execution_count": 128,
     "metadata": {},
     "output_type": "execute_result"
    }
   ],
   "source": [
    "#Plot Satellite 1 and 2 Orbit\n",
    "sat1 = scatter(x=eci_1[1,:], y=eci_1[2,:], z=eci_1[3,:], type=\"scatter3d\", mode=\"lines\", name=\"orbit 1&2\")\n",
    "\n",
    "#Plot Satellite 3 and 4 Orbit\n",
    "sat3 = scatter(x=eci_3[1,:], y=eci_3[2,:], z=eci_3[3,:], type=\"scatter3d\", mode=\"lines\", name=\"orbit 3&4\")\n",
    "\n",
    "#Plot all 4 satellite initial positions\n",
    "satellites = scatter(x=[eci_1[1,1],eci_2[1,1], eci_3[1,1], eci_4[1,1]], y=[eci_1[2,1],eci_2[2,1], eci_3[2,1], eci_4[2,1]],z=[eci_1[3,1],eci_2[3,1], eci_3[3,1], eci_4[3,1]], mode=\"markers\", marker_size = 4, type=\"scatter3d\", name=\"satellites\")\n",
    "\n",
    "#Plot Tag position\n",
    "tag = scatter(x = [r0[1], r0[1]], y = [r0[2], r0[2]], z = [r0[3], r0[3]], type=\"scatter3d\", name=\"tag\", mode=\"markers\", marker_size=5)\n",
    "\n",
    "#Plot the Guess\n",
    "guess = scatter(x = [xyz[1], xyz[1]], y = [xyz[2], xyz[2]], z = [xyz[3], xyz[3]], type=\"scatter3d\", name=\"guess\", mode=\"markers\", marker_size=5)\n",
    "\n",
    "#Plotting the sphere (Earth)\n",
    "n = 100\n",
    "u = range(-π, π; length = n)\n",
    "v = range(0, π; length = n)\n",
    "x = cos.(u) * sin.(v)'\n",
    "y = sin.(u) * sin.(v)' \n",
    "z = ones(n) * cos.(v)' \n",
    "\n",
    "earth = surface(z=z*6371000, x=x*6371000, y=y*6371000)\n",
    "\n",
    "#plot([sat1,sat3, satellites, tag, earth, guess]) #uncomment to see the plot"
   ]
  },
  {
   "cell_type": "code",
   "execution_count": 129,
   "id": "2fb3dc61",
   "metadata": {},
   "outputs": [
    {
     "data": {
      "text/plain": [
       "zenith_angle (generic function with 1 method)"
      ]
     },
     "execution_count": 129,
     "metadata": {},
     "output_type": "execute_result"
    }
   ],
   "source": [
    "#Finding the Zenith Angle\n",
    "\n",
    "function zenith_angle(satposes, r0)\n",
    "    \n",
    "    zenithangle = zeros(4)\n",
    "\n",
    "    #vector between tag and the satellite\n",
    "    normalvec = r0\n",
    "    \n",
    "    for i in 1:4\n",
    "        \n",
    "        vector = satposes[i,:] - r0[1:3]\n",
    "        \n",
    "        #Find the angle between the normal and the vector going from the tag to the satellte\n",
    "        theta = acos(dot(normalvec,vector)/(norm(normalvec)*norm(vector))) * (180/pi)\n",
    "        \n",
    "        #save zenith angle\n",
    "        zenithangle[i] = theta\n",
    "    end\n",
    "    \n",
    "    return zenithangle\n",
    "end"
   ]
  },
  {
   "cell_type": "code",
   "execution_count": 130,
   "id": "3189b08d",
   "metadata": {},
   "outputs": [
    {
     "name": "stdout",
     "output_type": "stream",
     "text": [
      "[93.63237107183178, 82.84377330309063, 91.00377335928297, 78.31523678325279]\n"
     ]
    },
    {
     "data": {
      "text/plain": [
       "false"
      ]
     },
     "execution_count": 130,
     "metadata": {},
     "output_type": "execute_result"
    }
   ],
   "source": [
    "#Testing zenith angle function\n",
    "satposes = [eci_1[1,1] eci_1[2,1] eci_1[3,1];eci_2[1,1] eci_2[2,1] eci_2[3,1];eci_3[1,1] eci_3[2,1] eci_3[3,1];eci_4[1,1] eci_4[2,1] eci_4[3,1]]\n",
    "\n",
    "zenith_angles = zenith_angle(satposes, r0[1:3])\n",
    "\n",
    "println(zenith_angles)\n",
    "\n",
    "#check all angles to see if it is on the horizon \n",
    "inhorizon = all(x->x<80, zenith_angles)"
   ]
  },
  {
   "cell_type": "code",
   "execution_count": 131,
   "id": "679a3e48",
   "metadata": {},
   "outputs": [],
   "source": [
    "#Obtain the orbital elements after each time step (not used in the sim) \n",
    "dim = size(t_1)[1]\n",
    "\n",
    "all_elements = zeros(6,dim)\n",
    "for i in 1:dim\n",
    "    \n",
    "    orbital_elements = sCARTtoOSC(eci_1[:,1], use_degrees=true)\n",
    "    all_elements[:,i] = orbital_elements\n",
    "end "
   ]
  },
  {
   "cell_type": "code",
   "execution_count": 132,
   "id": "91a535da",
   "metadata": {},
   "outputs": [
    {
     "data": {
      "text/plain": [
       "6-element Vector{Float64}:\n",
       "    -6.291285386249863e6\n",
       "    -1.66264810311861e6\n",
       "    -2.2161566541800327e6\n",
       " -2394.9708335284654\n",
       "  -540.1532693380549\n",
       "  7206.151917789134"
      ]
     },
     "execution_count": 132,
     "metadata": {},
     "output_type": "execute_result"
    }
   ],
   "source": [
    "#velocity is the last 3 elements of each column in eci matrices\n",
    "eci_1[:,1]"
   ]
  },
  {
   "cell_type": "code",
   "execution_count": 133,
   "id": "81be77c6",
   "metadata": {},
   "outputs": [
    {
     "data": {
      "text/plain": [
       "350000.0"
      ]
     },
     "execution_count": 133,
     "metadata": {},
     "output_type": "execute_result"
    }
   ],
   "source": [
    "#Generate TEC Distribution\n",
    "mu = 8e-4\n",
    "sigma = 3e-4\n",
    "lb = 3e-4\n",
    "ub = 13e-4\n",
    "d = Truncated(Normal(mu,sigma), lb, ub)\n",
    "\n",
    "#f = 1575.42e6 # in 1/s L1 frequency\n",
    "f = 400e6 # in 1/s system frequency\n",
    "h = 350e3 #in meters"
   ]
  },
  {
   "cell_type": "code",
   "execution_count": 134,
   "id": "e9d9b6ef",
   "metadata": {},
   "outputs": [
    {
     "data": {
      "text/plain": [
       "10000.0"
      ]
     },
     "execution_count": 134,
     "metadata": {},
     "output_type": "execute_result"
    }
   ],
   "source": [
    "using ForwardDiff\n",
    "using BlockDiagonals\n",
    "\n",
    "#scale used when estimating f0 (transmitting frequency)\n",
    "\n",
    "# distance_scale = R_EARTH*(1e-3)*1e-4 # scales km to custom scale working\n",
    "\n",
    "# time_scale = 1/(C_LIGHT/R_EARTH) #scales seconds to custom scale\n",
    "\n",
    "# velocity_scale = distance_scale/time_scale #scales velocities to custom scale\n",
    "\n",
    "# frequency_scale = 1e5 #working for f0 = 400e6\n",
    "\n",
    "# c = 10000 #km/s\n",
    "\n",
    "# # working to estimate bdot \n",
    "distance_scale = R_EARTH*(1e-3) # scales km to custom scale working\n",
    "\n",
    "time_scale = (1/(C_LIGHT/R_EARTH))*1e4 #scales seconds to custom scale\n",
    "\n",
    "velocity_scale = distance_scale/time_scale #scales velocities to custom scales\n",
    "\n",
    "frequency_scale = 1\n",
    "\n",
    "c = 1*1e4 #km/s\n",
    "\n",
    "#udpated scale to estimate a frequency offset bdot\n"
   ]
  },
  {
   "cell_type": "code",
   "execution_count": 135,
   "id": "b13f2fee",
   "metadata": {},
   "outputs": [
    {
     "data": {
      "text/plain": [
       "0.0001567856114959475"
      ]
     },
     "execution_count": 135,
     "metadata": {},
     "output_type": "execute_result"
    }
   ],
   "source": [
    "1/distance_scale"
   ]
  },
  {
   "cell_type": "code",
   "execution_count": 136,
   "id": "04527159",
   "metadata": {},
   "outputs": [
    {
     "data": {
      "text/plain": [
       "29.9792458"
      ]
     },
     "execution_count": 136,
     "metadata": {},
     "output_type": "execute_result"
    }
   ],
   "source": [
    "velocity_scale"
   ]
  },
  {
   "cell_type": "code",
   "execution_count": 137,
   "id": "6391085f",
   "metadata": {},
   "outputs": [
    {
     "data": {
      "text/plain": [
       "doppler_residual (generic function with 1 method)"
      ]
     },
     "execution_count": 137,
     "metadata": {},
     "output_type": "execute_result"
    }
   ],
   "source": [
    "#satposet is all the satellite known positions and the measured position\n",
    "#x is what we want to solve for\n",
    "#satpose is the satellite position and velocities as well as the measured change in frequency\n",
    "\n",
    "function doppler_residual(x, sat_pose_f, time, tag_vel)\n",
    "    \n",
    "    #true tag velocity\n",
    "    #tag_vel = [10, 12, 7]*1e-3/velocity_scale\n",
    "    \n",
    "    #println(\"this is tag_vel: \", tag_vel)\n",
    "    #the measured tag velocity will have noise\n",
    "    \n",
    "    omega = OMEGA_EARTH*time_scale #transform to custom scale\n",
    "    \n",
    "    #wavelength = 0.7494*1e-3/distance_scale #for a nominal frequency of 400 MHz\n",
    "    \n",
    "    omegahat = [0 -omega 0; omega 0 0; 0 0 0]\n",
    "    \n",
    "    A1 = [cos(omega*time[1]) sin(omega*time[1]) 0;\n",
    "          -sin(omega*time[1]) cos(omega*time[1]) 0;\n",
    "          0 0 1];\n",
    "    A2 = [cos(omega*time[2]) sin(omega*time[2]) 0;\n",
    "          -sin(omega*time[2]) cos(omega*time[2]) 0;\n",
    "          0 0 1];\n",
    "    A3 = [cos(omega*time[3]) sin(omega*time[3]) 0;\n",
    "          -sin(omega*time[3]) cos(omega*time[3]) 0;\n",
    "          0 0 1];\n",
    "    A4 = [cos(omega*time[4]) sin(omega*time[4]) 0;\n",
    "          -sin(omega*time[4]) cos(omega*time[4]) 0;\n",
    "          0 0 1];\n",
    "    \n",
    "    #residuals used to estimate transmitting frequency as an unknown\n",
    "    #res1 = (x[4]/c)*0.5*(1/norm(x[1:3] - A1*sat_pose_f[1,1:3]))*(-2*x[1:3]'*A1*omegahat*sat_pose_f[1,1:3] - 2*x[1:3]'*A1*sat_pose_f[1,4:6]+sat_pose_f[1,1:3]'*sat_pose_f[1,4:6]+sat_pose_f[1,4:6]'*sat_pose_f[1,1:3])- sat_pose_f[1,7]\n",
    "    #res2 = (x[4]/c)*0.5*(1/norm(x[1:3] - A2*sat_pose_f[2,1:3]))*(-2*x[1:3]'*A2*omegahat*sat_pose_f[2,1:3] - 2*x[1:3]'*A2*sat_pose_f[2,4:6]+sat_pose_f[2,1:3]'*sat_pose_f[2,4:6]+sat_pose_f[2,4:6]'*sat_pose_f[2,1:3])- sat_pose_f[2,7]\n",
    "    #res3 = (x[4]/c)*0.5*(1/norm(x[1:3] - A3*sat_pose_f[3,1:3]))*(-2*x[1:3]'*A3*omegahat*sat_pose_f[3,1:3] - 2*x[1:3]'*A3*sat_pose_f[3,4:6]+sat_pose_f[3,1:3]'*sat_pose_f[3,4:6]+sat_pose_f[3,4:6]'*sat_pose_f[3,1:3])- sat_pose_f[3,7]\n",
    "    #res4 = (x[4]/c)*0.5*(1/norm(x[1:3] - A4*sat_pose_f[4,1:3]))*(-2*x[1:3]'*A4*omegahat*sat_pose_f[4,1:3] - 2*x[1:3]'*A4*sat_pose_f[4,4:6]+sat_pose_f[4,1:3]'*sat_pose_f[4,4:6]+sat_pose_f[4,4:6]'*sat_pose_f[4,1:3])- sat_pose_f[4,7]\n",
    "    \n",
    "    #extra_term = tag_vel'*x[1:3] + x[1:3]'*tag_vel - 2*tag_vel'*A1*sat_pose_f[1,1:3]\n",
    "    \n",
    "    #println(\"this is extra term: \", extra_term)\n",
    "    \n",
    "    #velocity of tag included in residual \n",
    "    #residuals to estimate a frequency offset bdot\n",
    "    res1 = (f*frequency_scale/c)*(0.5*(1/norm(x[1:3] - A1*sat_pose_f[1,1:3]))*(tag_vel'*x[1:3] + x[1:3]'*tag_vel - 2*tag_vel'*A1*sat_pose_f[1,1:3]-2*x[1:3]'*A1*omegahat*sat_pose_f[1,1:3] - 2*x[1:3]'*A1*sat_pose_f[1,4:6]+sat_pose_f[1,1:3]'*sat_pose_f[1,4:6]+sat_pose_f[1,4:6]'*sat_pose_f[1,1:3]) + x[4]) - sat_pose_f[1,7]\n",
    "    res2 = (f*frequency_scale/c)*(0.5*(1/norm(x[1:3] - A2*sat_pose_f[2,1:3]))*(tag_vel'*x[1:3] + x[1:3]'*tag_vel - 2*tag_vel'*A2*sat_pose_f[2,1:3]-2*x[1:3]'*A2*omegahat*sat_pose_f[2,1:3] - 2*x[1:3]'*A2*sat_pose_f[2,4:6]+sat_pose_f[2,1:3]'*sat_pose_f[2,4:6]+sat_pose_f[2,4:6]'*sat_pose_f[2,1:3]) + x[4]) - sat_pose_f[2,7]\n",
    "    res3 = (f*frequency_scale/c)*(0.5*(1/norm(x[1:3] - A3*sat_pose_f[3,1:3]))*(tag_vel'*x[1:3] + x[1:3]'*tag_vel - 2*tag_vel'*A3*sat_pose_f[3,1:3]-2*x[1:3]'*A3*omegahat*sat_pose_f[3,1:3] - 2*x[1:3]'*A3*sat_pose_f[3,4:6]+sat_pose_f[3,1:3]'*sat_pose_f[3,4:6]+sat_pose_f[3,4:6]'*sat_pose_f[3,1:3]) + x[4]) - sat_pose_f[3,7]\n",
    "    res4 = (f*frequency_scale/c)*(0.5*(1/norm(x[1:3] - A4*sat_pose_f[4,1:3]))*(tag_vel'*x[1:3] + x[1:3]'*tag_vel - 2*tag_vel'*A4*sat_pose_f[4,1:3]-2*x[1:3]'*A4*omegahat*sat_pose_f[4,1:3] - 2*x[1:3]'*A4*sat_pose_f[4,4:6]+sat_pose_f[4,1:3]'*sat_pose_f[4,4:6]+sat_pose_f[4,4:6]'*sat_pose_f[4,1:3]) + x[4]) - sat_pose_f[4,7]\n",
    "    \n",
    "    return [res1; res2; res3; res4]\n",
    "   \n",
    "end"
   ]
  },
  {
   "cell_type": "code",
   "execution_count": 138,
   "id": "f85d1b82",
   "metadata": {},
   "outputs": [
    {
     "data": {
      "text/plain": [
       "measurment (generic function with 1 method)"
      ]
     },
     "execution_count": 138,
     "metadata": {},
     "output_type": "execute_result"
    }
   ],
   "source": [
    "#pose1-4 are satellite locations and velocities\n",
    "#r0 = [xyz of tag, emmitted frequency]\n",
    "\n",
    "#gets the true measurment\n",
    "function measurment(r0, pose1, pose2, pose3, pose4, time)\n",
    "    \n",
    "    #Make sure to scale all positions\n",
    "    \n",
    "    omega = OMEGA_EARTH*time_scale #change to custom time scale\n",
    "    \n",
    "    #wavelength = 0.7494*1e-3/distance_scale #for a nominal frequency of 400 MHz\n",
    "    \n",
    "    omegahat = [0 -omega 0; omega 0 0; 0 0 0]\n",
    "    \n",
    "    A1 = [cos(omega*time[1]) sin(omega*time[1]) 0;\n",
    "          -sin(omega*time[1]) cos(omega*time[1]) 0;\n",
    "          0 0 1];\n",
    "    A2 = [cos(omega*time[2]) sin(omega*time[2]) 0;\n",
    "          -sin(omega*time[2]) cos(omega*time[2]) 0;\n",
    "          0 0 1];\n",
    "    A3 = [cos(omega*time[3]) sin(omega*time[3]) 0;\n",
    "          -sin(omega*time[3]) cos(omega*time[3]) 0;\n",
    "          0 0 1];\n",
    "    A4 = [cos(omega*time[4]) sin(omega*time[4]) 0;\n",
    "          -sin(omega*time[4]) cos(omega*time[4]) 0;\n",
    "          0 0 1];\n",
    "    \n",
    "    #measurments for estimating a transmitting frequency\n",
    "    #deltaf1 = (r0[4]/c)*0.5*(1/norm(r0[1:3] - A1*pose1[1:3]))*(-2*r0[1:3]'*A1*omegahat*pose1[1:3] - 2*r0[1:3]'*A1*pose1[4:6]+pose1[1:3]'*pose1[4:6]+pose1[4:6]'*pose1[1:3])\n",
    "    #deltaf2 = (r0[4]/c)*0.5*(1/norm(r0[1:3] - A2*pose2[1:3]))*(-2*r0[1:3]'*A2*omegahat*pose2[1:3] - 2*r0[1:3]'*A2*pose2[4:6]+pose2[1:3]'*pose2[4:6]+pose2[4:6]'*pose2[1:3])\n",
    "    #deltaf3 = (r0[4]/c)*0.5*(1/norm(r0[1:3] - A3*pose3[1:3]))*(-2*r0[1:3]'*A3*omegahat*pose3[1:3] - 2*r0[1:3]'*A3*pose3[4:6]+pose3[1:3]'*pose3[4:6]+pose3[4:6]'*pose3[1:3])\n",
    "    #deltaf4 = (r0[4]/c)*0.5*(1/norm(r0[1:3] - A4*pose4[1:3]))*(-2*r0[1:3]'*A4*omegahat*pose4[1:3] - 2*r0[1:3]'*A4*pose4[4:6]+pose4[1:3]'*pose4[4:6]+pose4[4:6]'*pose4[1:3])\n",
    "    \n",
    "    #velocity not in the measurment\n",
    "    #measurments to estimate out a bdot value (frequency offset)\n",
    "    deltaf1 = (f*frequency_scale/c)*(0.5*(1/norm(r0[1:3] - A1*pose1[1:3]))*(-2*r0[1:3]'*A1*omegahat*pose1[1:3] - 2*r0[1:3]'*A1*pose1[4:6]+pose1[1:3]'*pose1[4:6]+pose1[4:6]'*pose1[1:3]) + r0[4])\n",
    "    deltaf2 = (f*frequency_scale/c)*(0.5*(1/norm(r0[1:3] - A2*pose2[1:3]))*(-2*r0[1:3]'*A2*omegahat*pose2[1:3] - 2*r0[1:3]'*A2*pose2[4:6]+pose2[1:3]'*pose2[4:6]+pose2[4:6]'*pose2[1:3]) + r0[4])\n",
    "    deltaf3 = (f*frequency_scale/c)*(0.5*(1/norm(r0[1:3] - A3*pose3[1:3]))*(-2*r0[1:3]'*A3*omegahat*pose3[1:3] - 2*r0[1:3]'*A3*pose3[4:6]+pose3[1:3]'*pose3[4:6]+pose3[4:6]'*pose3[1:3]) + r0[4])\n",
    "    deltaf4 = (f*frequency_scale/c)*(0.5*(1/norm(r0[1:3] - A4*pose4[1:3]))*(-2*r0[1:3]'*A4*omegahat*pose4[1:3] - 2*r0[1:3]'*A4*pose4[4:6]+pose4[1:3]'*pose4[4:6]+pose4[4:6]'*pose4[1:3]) + r0[4])\n",
    "    \n",
    "    return [deltaf1, deltaf2, deltaf3, deltaf4]\n",
    "end"
   ]
  },
  {
   "cell_type": "code",
   "execution_count": 139,
   "id": "4e8f0464",
   "metadata": {},
   "outputs": [
    {
     "data": {
      "text/plain": [
       "4-element Vector{Float64}:\n",
       " -0.9609082828788089\n",
       " -0.24932142011452468\n",
       "  0.12168918371970193\n",
       "  0.33356409519815206"
      ]
     },
     "execution_count": 139,
     "metadata": {},
     "output_type": "execute_result"
    }
   ],
   "source": [
    "#Equitorial Position\n",
    "\n",
    "#In km\n",
    "x0= x0*1e-3 #x tag position\n",
    "y0 = y0*1e-3 #y tag position\n",
    "z0 = z0*1e-3 #z tag position\n",
    "#f0 = 1e6 #nominal frequency (works)\n",
    "#f0 = 400e6 #working\n",
    "\n",
    "bdot = 1e4*1e-3 # working\n",
    "\n",
    "#r0_scaled = [x0/distance_scale, y0/distance_scale, z0/distance_scale, f0/frequency_scale]\n",
    "\n",
    "r0_scaled = [x0/distance_scale, y0/distance_scale, z0/distance_scale, bdot/velocity_scale]"
   ]
  },
  {
   "cell_type": "code",
   "execution_count": 140,
   "id": "9d49daa8",
   "metadata": {},
   "outputs": [
    {
     "data": {
      "text/plain": [
       "0.003919640287398688"
      ]
     },
     "execution_count": 140,
     "metadata": {},
     "output_type": "execute_result"
    }
   ],
   "source": [
    "diff = 25e3*1e-3/distance_scale "
   ]
  },
  {
   "cell_type": "code",
   "execution_count": 141,
   "id": "2a36c04d",
   "metadata": {},
   "outputs": [
    {
     "data": {
      "text/plain": [
       "receiver_pose (generic function with 1 method)"
      ]
     },
     "execution_count": 141,
     "metadata": {},
     "output_type": "execute_result"
    }
   ],
   "source": [
    "function receiver_pose(all_sats_scaled, guess, zenith_angles, time, zdot) # remember to scale the guess to custom units\n",
    "\n",
    "    n = 1000 # number of iterations\n",
    "    #all_r0 = NaN*[zeros(4) for i = 1:n]\n",
    "    all_r0 = [zeros(3) for i = 1:n] #obtain all the tag positions\n",
    "    \n",
    "    sat1poses = zeros(7,n)\n",
    "    sat2poses = zeros(7,n)\n",
    "    sat3poses = zeros(7,n)\n",
    "    sat4poses = zeros(7,n)\n",
    "\n",
    "    all_sats_noise = zeros(4,4)\n",
    "\n",
    "    iters = 0\n",
    "\n",
    "     #Monte Carlo Simulation\n",
    "    for i in 1:n\n",
    "        #Parameters for line search\n",
    "        #b = 0.01\n",
    "        b = 0.1\n",
    "        c_=0.5\n",
    "        #β = 10\n",
    "        β = 1.0\n",
    "        α = 1\n",
    "        \n",
    "        #create noise from normal distribution\n",
    "        \n",
    "        #scaled to the variable (0.1m error for distance & 1e-11 for time)\n",
    "        gpsnoise = randn(12)*(0.1*1e-3/distance_scale) #0.1 m switch to km then to custom scale\n",
    "        velocitynoise = randn(12)*(0.01*1e-3/velocity_scale)# 0.01 m/s\n",
    "        doppler_noise = randn(12)* 1/frequency_scale #0.001 ~ 500's of error\n",
    "        \n",
    "        #doppler_noise = randn(12)* 0/frequency_scale #0.001 ~ 500's of error\n",
    "        \n",
    "        TEC = rand(d,4) #vTEC for each satellite from custom distribution\n",
    "        \n",
    "        #tag_vel_noise = randn(3)*(1*1e-3/velocity_scale)# 1 m/s noise\n",
    "        \n",
    "        tag_vel_noise = zeros(3) #zero noise\n",
    "    \n",
    "        tag_vel = [2, 5, 3]*1e-3/velocity_scale\n",
    "        \n",
    "        tag_vel_w_noise = tag_vel + tag_vel_noise\n",
    "        \n",
    "        #Calculating random TEC time delay\n",
    "        #for i=1:4\n",
    "        \n",
    "        #    OF[i] = (1-((R_EARTH*sind(zenith_angles[i]))/(R_EARTH+hi))^2)^(-1/2) #normal units (m and s)\n",
    "        #    Ip[i] = ((40.3*TEC[i])/(f^2))*OF[i] * 1e-3 #scale to km to use the custom unit\n",
    "        #    Ip_scaled[i] = Ip[i]/distance_scale #scale to custom units\n",
    "        \n",
    "        #end\n",
    "        \n",
    "        Idot1 = (((40.3*TEC[1])*((R_EARTH*sind(zenith_angles[1]))*(R_EARTH*cosd(zenith_angles[1])*zdot[1])/(R_EARTH + h)^2))/((f^2)*(1-((R_EARTH*sind(zenith_angles[1]))/(R_EARTH+h))^2)^1.5))*1e20*1e-3/velocity_scale\n",
    "        Idot2 = (((40.3*TEC[2])*((R_EARTH*sind(zenith_angles[2]))*(R_EARTH*cosd(zenith_angles[2])*zdot[2])/(R_EARTH + h)^2))/((f^2)*(1-((R_EARTH*sind(zenith_angles[2]))/(R_EARTH+h))^2)^1.5))*1e20*1e-3/velocity_scale\n",
    "        Idot3 = (((40.3*TEC[3])*((R_EARTH*sind(zenith_angles[3]))*(R_EARTH*cosd(zenith_angles[3])*zdot[3])/(R_EARTH + h)^2))/((f^2)*(1-((R_EARTH*sind(zenith_angles[3]))/(R_EARTH+h))^2)^1.5))*1e20*1e-3/velocity_scale\n",
    "        Idot4 = (((40.3*TEC[4])*((R_EARTH*sind(zenith_angles[4]))*(R_EARTH*cosd(zenith_angles[4])*zdot[4])/(R_EARTH + h)^2))/((f^2)*(1-((R_EARTH*sind(zenith_angles[4]))/(R_EARTH+h))^2)^1.5))*1e20*1e-3/velocity_scale\n",
    "        \n",
    "        iono1 = (f/c)*Idot1\n",
    "        iono2 = (f/c)*Idot2\n",
    "        iono3 = (f/c)*Idot3\n",
    "        iono4 = (f/c)*Idot4\n",
    "        \n",
    "        scaled_iono1 = iono1/distance_scale*velocity_scale\n",
    "        \n",
    "        #println(\"this is scaled_iono1: \", scaled_iono1) #in Hz\n",
    "        \n",
    "        sat1_noise = [all_sats_scaled[1,1]+gpsnoise[1],all_sats_scaled[1,2] + gpsnoise[2],all_sats_scaled[1,3]+gpsnoise[3], all_sats_scaled[1,4]+velocitynoise[1], all_sats_scaled[1,5]+velocitynoise[2],all_sats_scaled[1,6]+velocitynoise[3], all_sats_scaled[1,7]+iono1+doppler_noise[1]]\n",
    "        sat2_noise =[all_sats_scaled[2,1]+gpsnoise[4],all_sats_scaled[2,2] + gpsnoise[5],all_sats_scaled[2,3]+gpsnoise[6], all_sats_scaled[2,4]+velocitynoise[4], all_sats_scaled[2,5]+velocitynoise[5],all_sats_scaled[2,6]+velocitynoise[6], all_sats_scaled[2,7]+iono2+doppler_noise[2]]\n",
    "        sat3_noise = [all_sats_scaled[3,1]+gpsnoise[7],all_sats_scaled[3,2] + gpsnoise[8],all_sats_scaled[3,3]+gpsnoise[9], all_sats_scaled[3,4]+velocitynoise[7], all_sats_scaled[3,5]+velocitynoise[8],all_sats_scaled[3,6]+velocitynoise[9], all_sats_scaled[3,7]+iono3+doppler_noise[3]]\n",
    "        sat4_noise = [all_sats_scaled[4,1]+gpsnoise[10],all_sats_scaled[4,2] + gpsnoise[11],all_sats_scaled[4,3]+gpsnoise[12], all_sats_scaled[4,4]+velocitynoise[10], all_sats_scaled[4,5]+velocitynoise[11],all_sats_scaled[4,6]+velocitynoise[12], all_sats_scaled[4,7]+iono4+doppler_noise[4]]\n",
    "\n",
    "        all_sats_noise = vcat(sat1_noise',sat2_noise',sat3_noise',sat4_noise')\n",
    "        \n",
    "        sat1poses[:,i] = sat1_noise\n",
    "        sat2poses[:,i] = sat2_noise\n",
    "        sat3poses[:,i] = sat3_noise\n",
    "        sat4poses[:,i] = sat4_noise\n",
    "        \n",
    "        X = NaN*[zeros(4) for i = 1:n]\n",
    "        R = NaN*[zeros(4) for i = 1:n]\n",
    "        \n",
    "        #Centroid guess. Working for estimating transmit frequency\n",
    "        #X[1] = [guess[1]/distance_scale, guess[2]/distance_scale, guess[3]/distance_scale, 410e6/frequency_scale]\n",
    "        \n",
    "        \n",
    "        #working\n",
    "        X[1] = [r0_scaled[1]+diff, r0_scaled[2]+diff, r0_scaled[3]+diff, 1.002*1e4*1e-3/velocity_scale]\n",
    "\n",
    "        \n",
    "        #New guess to estimate bdot\n",
    "        #X[1] = [guess[1]/distance_scale, guess[2]/distance_scale, guess[3]/distance_scale, 1.002*1e4*1e-3/velocity_scale]\n",
    "\n",
    "        #X[1] = r0_scaled\n",
    "        \n",
    "        #println(\"this is initial guess: \", X[1])\n",
    "        #Initial residual\n",
    "        R[1] = doppler_residual(X[1], all_sats_noise, time, tag_vel_w_noise)\n",
    "\n",
    "        iters = 0\n",
    "\n",
    "        for k=1:1000\n",
    "            \n",
    "            R[k] = doppler_residual(X[k], all_sats_noise, time, tag_vel_w_noise) #calculate residual\n",
    "            \n",
    "            iters += 1\n",
    "\n",
    "            #if(norm(R[k]) < 1e-6)\n",
    "            #if(norm(R[k]) < 1e-8)\n",
    "            if(norm(R[k]) < 1e-10)\n",
    "                \n",
    "                break\n",
    "\n",
    "            end\n",
    "\n",
    "            jacobian = ForwardDiff.jacobian(dx -> doppler_residual(dx, all_sats_noise, time, tag_vel_w_noise), X[k])\n",
    "            \n",
    "            if(rank(jacobian) != 4) #if not full rank, move on to next iteration\n",
    "                \n",
    "                break\n",
    "\n",
    "            end\n",
    "            \n",
    "            conditionnum = cond(jacobian)\n",
    "            \n",
    "            #println(\"this is residual: \", norm(R[k]))\n",
    "            \n",
    "            #println(\"this is the condition number: \", conditionnum)\n",
    "            \n",
    "            #println(\"this is the jacobian: \", jacobian)\n",
    "            \n",
    "            #println(\"this is X[k]: \", X[k])\n",
    "\n",
    "            deltax = (jacobian)\\-R[k]\n",
    "            \n",
    "            if iters > 50\n",
    "                break\n",
    "            end\n",
    "            \n",
    "            while norm(doppler_residual(X[k] + α*deltax, all_sats_noise, time, tag_vel_w_noise)) > norm(doppler_residual(X[k], all_sats_noise, time, tag_vel_w_noise) + b*α*jacobian'*deltax)\n",
    "\n",
    "                α = c_*α\n",
    "                #print(\"this is alpha: \", α)\n",
    "            end\n",
    "\n",
    "            X[k+1] = X[k] + α*deltax\n",
    "             \n",
    "        end  \n",
    "        \n",
    "        R = R[1:iters]\n",
    "        X = X[1:iters]\n",
    "\n",
    "        all_r0[i] = X[end]\n",
    "\n",
    "    end\n",
    "    x_values = zeros(n)\n",
    "    y_values = zeros(n)\n",
    "    z_values = zeros(n)\n",
    "\n",
    "    for j in 1:n\n",
    "\n",
    "        x_values[j] = all_r0[j][1]\n",
    "        y_values[j] = all_r0[j][2]\n",
    "        z_values[j] = all_r0[j][3]\n",
    "\n",
    "    end\n",
    "    \n",
    "    #mean calculation\n",
    "    mean = sum(all_r0, dims = 1)/ n\n",
    "    mean = mean[1]\n",
    "    #for estimating frequency\n",
    "    #mean_rescaled = [mean[1:3]*distance_scale*1e3; mean[4]*frequency_scale] # in meters\n",
    "    \n",
    "    #For estimating bdot\n",
    "    mean_rescaled = [mean[1:3]*distance_scale*1e3; mean[4]*1e3*velocity_scale] # in meters\n",
    "\n",
    "    return mean_rescaled, all_r0, iters\n",
    "end"
   ]
  },
  {
   "cell_type": "code",
   "execution_count": 142,
   "id": "68bdcb20",
   "metadata": {},
   "outputs": [
    {
     "name": "stdout",
     "output_type": "stream",
     "text": [
      "cov position erors: 5572.977207136091\n",
      "Mean (m): [-6.125055936321003e6, -1.5923325561583082e6, 775264.1758457215, 9998.284596306381]\n",
      "Iterations: 51\n",
      "Timestep: 261\n",
      "cov position erors: 5738.970067605617\n",
      "Mean (m): [-6.1250108573714495e6, -1.5923361673017018e6, 775192.7555515664, 9998.05003396875]\n",
      "Iterations: 51\n",
      "Timestep: 262\n"
     ]
    },
    {
     "ename": "LoadError",
     "evalue": "InterruptException:",
     "output_type": "error",
     "traceback": [
      "InterruptException:",
      "",
      "Stacktrace:",
      "  [1] Array",
      "    @ ./boot.jl:448 [inlined]",
      "  [2] Array",
      "    @ ./boot.jl:457 [inlined]",
      "  [3] Array",
      "    @ ./boot.jl:465 [inlined]",
      "  [4] similar",
      "    @ ./abstractarray.jl:785 [inlined]",
      "  [5] similar",
      "    @ ./abstractarray.jl:784 [inlined]",
      "  [6] similar",
      "    @ ./broadcast.jl:197 [inlined]",
      "  [7] similar",
      "    @ ./broadcast.jl:196 [inlined]",
      "  [8] copy",
      "    @ ./broadcast.jl:908 [inlined]",
      "  [9] materialize",
      "    @ ./broadcast.jl:883 [inlined]",
      " [10] broadcast(::LinearAlgebra.var\"#9#10\"{typeof(*)}, ::Int64, ::Vector{Float64})",
      "    @ Base.Broadcast ./broadcast.jl:821",
      " [11] broadcast_preserving_zero_d",
      "    @ /buildworker/worker/package_linux64/build/usr/share/julia/stdlib/v1.6/LinearAlgebra/src/adjtrans.jl:272 [inlined]",
      " [12] *",
      "    @ ./arraymath.jl:52 [inlined]",
      " [13] *",
      "    @ ./operators.jl:560 [inlined]",
      " [14] doppler_residual(x::Vector{Float64}, sat_pose_f::Matrix{Float64}, time::Vector{Float64}, tag_vel::Vector{Float64})",
      "    @ Main ./In[137]:44",
      " [15] receiver_pose(all_sats_scaled::Matrix{Float64}, guess::Vector{Float64}, zenith_angles::Vector{Float64}, time::Vector{Float64}, zdot::Vector{Float64})",
      "    @ Main ./In[141]:140",
      " [16] top-level scope",
      "    @ In[142]:62",
      " [17] eval",
      "    @ ./boot.jl:360 [inlined]",
      " [18] include_string(mapexpr::typeof(REPL.softscope), mod::Module, code::String, filename::String)",
      "    @ Base ./loading.jl:1116"
     ]
    }
   ],
   "source": [
    "#Navigation\n",
    "#count = 0\n",
    "n=1000\n",
    "PDOP_array = zeros(size(eci_1)[2],1)\n",
    "for i=1:size(eci_1)[2] - 1\n",
    "    \n",
    "    satposes = [eci_1[1,i] eci_1[2,i] eci_1[3,i];eci_2[1,i] eci_2[2,i] eci_2[3,i];eci_3[1,i] eci_3[2,i] eci_3[3,i];eci_4[1,i] eci_4[2,i] eci_4[3,i]]\n",
    "    satposes2 = [eci_1[1,i+1] eci_1[2,i+1] eci_1[3,i+1];eci_2[1,i+1] eci_2[2,i+1] eci_2[3,i+1];eci_3[1,i+1] eci_3[2,i+1] eci_3[3,i+1];eci_4[1,i+1] eci_4[2,i+1] eci_4[3,i+1]]\n",
    "    zenith_angles = zenith_angle(satposes, r0[1:3])\n",
    "    zenith_angles2 = zenith_angle(satposes2, r0[1:3])\n",
    "    \n",
    "    zdot = zenith_angles - zenith_angles2\n",
    "\n",
    "    #check all angles to see if it is on the horizon \n",
    "    \n",
    "    inhorizon = all(x->x<70, zenith_angles)\n",
    "    \n",
    "    if inhorizon==false\n",
    "        \n",
    "        continue #skip the current iteration\n",
    "    end\n",
    "\n",
    "    #In km then to custom units\n",
    "    r1 = [eci_1[1,i], eci_1[2,i], eci_1[3,i]]*1e-3/distance_scale\n",
    "    r2 = [eci_2[1,i], eci_2[2,i], eci_2[3,i]]*1e-3/distance_scale\n",
    "    r3 = [eci_3[1,i], eci_3[2,i], eci_3[3,i]]*1e-3/distance_scale\n",
    "    r4 = [eci_4[1,i], eci_4[2,i], eci_4[3,i]]*1e-3/distance_scale\n",
    "    \n",
    "    v1 = [eci_1[4,i], eci_1[5,i], eci_1[6,i]]*1e-3/velocity_scale\n",
    "    v2 = [eci_2[4,i], eci_2[5,i], eci_2[6,i]]*1e-3/velocity_scale\n",
    "    v3 = [eci_3[4,i], eci_3[5,i], eci_3[6,i]]*1e-3/velocity_scale\n",
    "    v4 = [eci_4[4,i], eci_4[5,i], eci_4[6,i]]*1e-3/velocity_scale\n",
    "\n",
    "    pose1 = [r1' v1']\n",
    "    pose2 = [r2' v2']\n",
    "    pose3 = [r3' v3']\n",
    "    pose4 = [r4' v4']\n",
    "    \n",
    "    time = [0.006, 0.006, 0.006, 0.008]/time_scale # assume a fixed time for the rotation matrix\n",
    "    \n",
    "    #calculate the rdots. need to build the pose matrices\n",
    "    deltaf = measurment(r0_scaled, pose1, pose2, pose3, pose4, time)\n",
    "    \n",
    "    pose1_rdot1 = [pose1 deltaf[1]]\n",
    "    pose2_rdot2 = [pose2 deltaf[2]]\n",
    "    pose3_rdot3 = [pose3 deltaf[3]]\n",
    "    pose4_rdot4 = [pose4 deltaf[4]]\n",
    "    \n",
    "    all_sats_scaled = vcat(pose1_rdot1,pose2_rdot2,pose3_rdot3,pose4_rdot4)\n",
    "    \n",
    "    #Generate a guess at the centroid of all 4 sats on the surface of the Earth. Scaled to km\n",
    "    \n",
    "    centroid_guess = [(eci_1[1,i]+eci_2[1,i]+eci_3[1,i]+eci_4[1,i])/4, (eci_1[2,i]+eci_2[2,i]+eci_3[2,i]+eci_4[2,i])/4, (eci_1[3,i]+eci_2[3,i]+eci_3[3,i]+eci_4[3,i])/4] \n",
    "    onearth = sECEFtoGEOC(centroid_guess, use_degrees = true)\n",
    "    geodetic = [onearth[1], onearth[2], 0]\n",
    "\n",
    "    xyz_guess = sGEOCtoECEF(geodetic, use_degrees = true)*1e-3 #change to km\n",
    "\n",
    "    xyz_guess\n",
    "    \n",
    "    #Find all possible positions from montecarlo and send unscaled guess\n",
    "    mean_rescaled, all_r0, iters = receiver_pose(all_sats_scaled, xyz_guess, zenith_angles, time, zdot)\n",
    "    \n",
    "    all_r0_scaled = zeros(n,4)\n",
    "\n",
    "    #Rescale back to units (m and s)\n",
    "    for i in 1:n\n",
    "    \n",
    "        #all_r0_scaled[i,:] = [all_r0[i][1:3]*distance_scale*1e3; all_r0[i][4]*frequency_scale]\n",
    "        all_r0_scaled[i,:] = [all_r0[i][1:3]*distance_scale*1e3; all_r0[i][4]*1e3*velocity_scale]\n",
    "\n",
    "    end\n",
    "    \n",
    "    totalsum = zeros(4,4)\n",
    "\n",
    "    for i in 1:n\n",
    "        value = all_r0_scaled[i,:] - mean_rescaled\n",
    "        matrixvalue = value*transpose(value)\n",
    "        totalsum += matrixvalue\n",
    "    \n",
    "    end\n",
    "    \n",
    "    covariancematrix = totalsum/n\n",
    "    \n",
    "    PDOP = sqrt(covariancematrix[1,1] + covariancematrix[2,2] + covariancematrix[3,3])\n",
    "    PDOP_array[i,1] = PDOP\n",
    "    println(\"cov position erors: \", PDOP)\n",
    "    println(\"Mean (m): \", mean_rescaled)\n",
    "    println(\"Iterations: \", iters)\n",
    "    println(\"Timestep: \", i)\n",
    "\n",
    "end    "
   ]
  },
  {
   "cell_type": "code",
   "execution_count": 143,
   "id": "119580d4",
   "metadata": {
    "scrolled": true
   },
   "outputs": [
    {
     "name": "stdout",
     "output_type": "stream",
     "text": [
      "Maximum PDOP: 5738.970067605617\n",
      "Minimum PDOP: 5572.977207136091\n"
     ]
    }
   ],
   "source": [
    "final_PDOP = PDOP_array[PDOP_array .!=0]\n",
    "\n",
    "PDOP_max = findmax(final_PDOP)[1]\n",
    "PDOP_min = findmin(final_PDOP)[1]\n",
    "\n",
    "println(\"Maximum PDOP: \", PDOP_max)\n",
    "println(\"Minimum PDOP: \", PDOP_min)"
   ]
  },
  {
   "cell_type": "code",
   "execution_count": 25,
   "id": "24f11e7e",
   "metadata": {},
   "outputs": [
    {
     "data": {
      "text/plain": [
       "4-element Vector{Float64}:\n",
       " -0.9609082828788089\n",
       " -0.24932142011452468\n",
       "  0.12168918371970193\n",
       "  0.33356409519815206"
      ]
     },
     "execution_count": 25,
     "metadata": {},
     "output_type": "execute_result"
    }
   ],
   "source": [
    "r0_scaled"
   ]
  },
  {
   "cell_type": "code",
   "execution_count": 26,
   "id": "1d570082",
   "metadata": {},
   "outputs": [
    {
     "data": {
      "text/plain": [
       "4-element Vector{Float64}:\n",
       " -9625.008623511323\n",
       " -2580.926606494148\n",
       "   835.4931473148392\n",
       "     3.9e6"
      ]
     },
     "execution_count": 26,
     "metadata": {},
     "output_type": "execute_result"
    }
   ],
   "source": [
    "initial_guess = [-9625.008623511323, -2580.926606494148, 835.4931473148392, 3.9e6]"
   ]
  },
  {
   "cell_type": "code",
   "execution_count": null,
   "id": "d999f4cf",
   "metadata": {},
   "outputs": [],
   "source": [
    "r0_scaled - initial_guess"
   ]
  },
  {
   "cell_type": "code",
   "execution_count": null,
   "id": "1941a677",
   "metadata": {},
   "outputs": [],
   "source": [
    "actualpose =[-6.128804e6, -1.590206e6, 776.1502e3, 1e6]"
   ]
  },
  {
   "cell_type": "code",
   "execution_count": null,
   "id": "dc6a8a6e",
   "metadata": {},
   "outputs": [],
   "source": [
    "log10(79.34904895113688)"
   ]
  },
  {
   "cell_type": "code",
   "execution_count": null,
   "id": "baa540d9",
   "metadata": {},
   "outputs": [],
   "source": [
    "i=303\n",
    "\n",
    "satposes = [eci_1[1,i] eci_1[2,i] eci_1[3,i];eci_2[1,i] eci_2[2,i] eci_2[3,i];eci_3[1,i] eci_3[2,i] eci_3[3,i];eci_4[1,i] eci_4[2,i] eci_4[3,i]]\n",
    "satposes2 = [eci_1[1,i+1] eci_1[2,i+1] eci_1[3,i+1];eci_2[1,i+1] eci_2[2,i+1] eci_2[3,i+1];eci_3[1,i+1] eci_3[2,i+1] eci_3[3,i+1];eci_4[1,i+1] eci_4[2,i+1] eci_4[3,i+1]]\n",
    "zenith_angles = zenith_angle(satposes, r0[1:3])\n",
    "zenith_angles2 = zenith_angle(satposes2, r0[1:3])\n",
    "\n",
    "println(\"satposes: \", satposes)\n",
    "\n",
    "println(\"satposes2: \", satposes2)\n",
    "    \n",
    "zdot = zenith_angles - zenith_angles2\n",
    "\n",
    "#check all angles to see if it is on the horizon \n",
    "    \n",
    "inhorizon = all(x->x<70, zenith_angles)\n",
    "    \n",
    "#if inhorizon==false\n",
    "#    continue #skip the current iteration\n",
    "#end\n",
    "\n",
    "#In km then to custom units\n",
    "r1 = [eci_1[1,i], eci_1[2,i], eci_1[3,i]]*1e-3/distance_scale\n",
    "r2 = [eci_2[1,i], eci_2[2,i], eci_2[3,i]]*1e-3/distance_scale\n",
    "r3 = [eci_3[1,i], eci_3[2,i], eci_3[3,i]]*1e-3/distance_scale\n",
    "r4 = [eci_4[1,i], eci_4[2,i], eci_4[3,i]]*1e-3/distance_scale\n",
    "    \n",
    "v1 = [eci_1[4,i], eci_1[5,i], eci_1[6,i]]*1e-3/velocity_scale\n",
    "v2 = [eci_2[4,i], eci_2[5,i], eci_2[6,i]]*1e-3/velocity_scale\n",
    "v3 = [eci_3[4,i], eci_3[5,i], eci_3[6,i]]*1e-3/velocity_scale\n",
    "v4 = [eci_4[4,i], eci_4[5,i], eci_4[6,i]]*1e-3/velocity_scale\n",
    "\n",
    "pose1 = [r1' v1']\n",
    "pose2 = [r2' v2']\n",
    "pose3 = [r3' v3']\n",
    "pose4 = [r4' v4']\n",
    "    \n",
    "#at second frequency\n",
    "pose5= [r1' v1']\n",
    "pose6= [r2' v2']\n",
    "pose7= [r3' v3']\n",
    "pose8= [r4' v4']\n",
    "    \n",
    "time = [0.006, 0.006, 0.006, 0.008]/time_scale # assume a fixed time for the rotation matrix\n",
    "    \n",
    "#calculate the rdots. need to build the pose matrices\n",
    "deltaf = measurment(r0_scaled, pose1, pose2, pose3, pose4, time)\n",
    "    \n",
    "pose1_rdot1 = [pose1 deltaf[1]]\n",
    "pose2_rdot2 = [pose2 deltaf[2]]\n",
    "pose3_rdot3 = [pose3 deltaf[3]]\n",
    "pose4_rdot4 = [pose4 deltaf[4]]\n",
    "    \n",
    "all_sats_scaled = vcat(pose1_rdot1, pose2_rdot2, pose3_rdot3, pose4_rdot4)\n",
    "    \n",
    "println(\"this is deltaf: \", deltaf)"
   ]
  },
  {
   "cell_type": "code",
   "execution_count": null,
   "id": "56029ed2",
   "metadata": {},
   "outputs": [],
   "source": [
    "initial_guess = [-0.963179168952113, -0.258771187758936, 0.07296286988883226, 0.3342312233885483]"
   ]
  },
  {
   "cell_type": "code",
   "execution_count": null,
   "id": "b6775e79",
   "metadata": {},
   "outputs": [],
   "source": [
    "R = doppler_residual(initial_guess, all_sats_scaled, time)"
   ]
  },
  {
   "cell_type": "code",
   "execution_count": null,
   "id": "95253d0f",
   "metadata": {},
   "outputs": [],
   "source": [
    "[-0.963179168952113, -0.258771187758936, 0.07296286988883226, 0.3342312233885483]"
   ]
  }
 ],
 "metadata": {
  "@webio": {
   "lastCommId": "df9c9853ff80447b954abe3f648f6ce7",
   "lastKernelId": "30c32def-e95e-4f92-9ce1-eecf2cceacc7"
  },
  "kernelspec": {
   "display_name": "Julia 1.6.5",
   "language": "julia",
   "name": "julia-1.6"
  },
  "language_info": {
   "file_extension": ".jl",
   "mimetype": "application/julia",
   "name": "julia",
   "version": "1.6.5"
  }
 },
 "nbformat": 4,
 "nbformat_minor": 5
}
