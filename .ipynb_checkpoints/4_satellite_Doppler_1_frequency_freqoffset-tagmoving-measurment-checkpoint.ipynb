{
 "cells": [
  {
   "cell_type": "code",
   "execution_count": 1,
   "id": "8e7fa96b",
   "metadata": {},
   "outputs": [
    {
     "data": {
      "application/vnd.webio.node+json": {
       "children": [],
       "instanceArgs": {
        "namespace": "html",
        "tag": "div"
       },
       "nodeType": "DOM",
       "props": {},
       "type": "node"
      },
      "text/html": [
       "<div style=\"padding: 1em; background-color: #f8d6da; border: 1px solid #f5c6cb; font-weight: bold;\">\n",
       "<p>The WebIO Jupyter extension was not detected. See the\n",
       "<a href=\"https://juliagizmos.github.io/WebIO.jl/latest/providers/ijulia/\" target=\"_blank\">\n",
       "    WebIO Jupyter integration documentation\n",
       "</a>\n",
       "for more information.\n",
       "</div>\n"
      ],
      "text/plain": [
       "WebIO._IJuliaInit()"
      ]
     },
     "metadata": {
      "application/vnd.webio.node+json": {
       "kernelId": "7ccc098c-9d2e-4bce-a555-0e72d2a332a0"
      }
     },
     "output_type": "display_data"
    }
   ],
   "source": [
    "#4 satellites Doppler 1 frequency\n",
    "\n",
    "#Solving for pose and frequency offset\n",
    "\n",
    "#Rotation of Earth and the effect of the ionosphere are included\n",
    "\n",
    "#Doppler Method for Localizing a receiver\n",
    "#Fausto Vega\n",
    "\n",
    "using SatelliteDynamics\n",
    "using LinearAlgebra\n",
    "using PlotlyJS\n",
    "using DelimitedFiles\n",
    "using Distributions"
   ]
  },
  {
   "cell_type": "code",
   "execution_count": 73,
   "id": "83963c76",
   "metadata": {},
   "outputs": [
    {
     "data": {
      "text/plain": [
       "Epoch(2019-01-01T11:59:23.000Z)"
      ]
     },
     "execution_count": 73,
     "metadata": {},
     "output_type": "execute_result"
    }
   ],
   "source": [
    "# Declare simulation initial Epoch. Start time\n",
    "epc0 = Epoch(2019, 1, 1, 12, 0, 0, 0.0)  #year, month, day, hour, minute, seconds, nanoseconds "
   ]
  },
  {
   "cell_type": "code",
   "execution_count": 74,
   "id": "0e8c112a",
   "metadata": {},
   "outputs": [],
   "source": [
    "# Declare initial state in terms of osculating orbital elements\n",
    "#semi-major axis, eccentricity, inclination, RAAN, Argument of perigee, Mean anomaly\n",
    "\n",
    "#1 and 2 on the same orbit, different initial mean anomaly\n",
    "\n",
    "#iss1 = [7378e3, 0.0004879, 90.6391, 189.0859, 151.2014, 185]; #converges at 189.0859\n",
    "#iss2 = [7378e3, 0.0004879, 90.6391, 189.0859, 151.2014, 205];\n",
    "#iss3 = [7378e3, 0.0004879, 90.6391, 201.0859, 151.2014, 190]; # converges a t 200.0859\n",
    "#iss4 = [7378e3, 0.0004879, 90.6391, 201.0859, 151.2014, 210]; # converges a t 200.0859\n",
    "\n",
    "#approximately 500 km elevation from surface of Earth and around 100 km seperation at equator\n",
    "#working good\n",
    "#iss1 = [6871e3, 0.0004879, 90.6391, 194.5859, 151.2014, 190]; \n",
    "#iss2 = [6871e3, 0.0004879, 90.6391, 194.5859, 151.2014, 200];\n",
    "#iss3 = [6871e3, 0.0004879, 90.6391, 195.5859, 151.2014, 193]; \n",
    "#iss4 = [6871e3, 0.0004879, 90.6391, 195.5859, 151.2014, 203]; \n",
    "\n",
    "#ARGOS Orbit ~850 km altitude\n",
    "\n",
    "iss1 = [6871e3, 0.0004879, 90.6391, 194.5859, 151.2014, 190]; \n",
    "iss2 = [6871e3, 0.0004879, 90.6391, 194.5859, 151.2014, 200];\n",
    "iss3 = [6871e3, 0.0004879, 90.6391, 196.5859, 151.2014, 193]; \n",
    "iss4 = [6871e3, 0.0004879, 90.6391, 196.5859, 151.2014, 203]; \n",
    "\n",
    "\n",
    "\n",
    "#Function to convert mean anomoaly to eccentric anomaly\n",
    "E1 = anomaly_mean_to_eccentric(iss1[6], iss1[2], use_degrees=true); \n",
    "E2 = anomaly_mean_to_eccentric(iss2[6], iss2[2], use_degrees=true);\n",
    "E3 = anomaly_mean_to_eccentric(iss3[6], iss3[2], use_degrees=true);\n",
    "E4 = anomaly_mean_to_eccentric(iss4[6], iss4[2], use_degrees=true);"
   ]
  },
  {
   "cell_type": "code",
   "execution_count": 75,
   "id": "900db33d",
   "metadata": {},
   "outputs": [
    {
     "data": {
      "text/plain": [
       "6-element Vector{Float64}:\n",
       "      -6.551891283502199e6\n",
       "      -1.959561329014077e6\n",
       " -697065.2121487064\n",
       "    -762.6662561944706\n",
       "    -139.00657375176846\n",
       "    7573.567651354772"
      ]
     },
     "execution_count": 75,
     "metadata": {},
     "output_type": "execute_result"
    }
   ],
   "source": [
    "# Convert osculating elements to Cartesean state\n",
    "# returns position and velocity (m, m/s)\n",
    "\n",
    "eci0_1 = sOSCtoCART(iss1, use_degrees=true)\n",
    "eci0_2 = sOSCtoCART(iss2, use_degrees=true)\n",
    "eci0_3 = sOSCtoCART(iss3, use_degrees=true)\n",
    "eci0_4 = sOSCtoCART(iss4, use_degrees=true)"
   ]
  },
  {
   "cell_type": "code",
   "execution_count": 76,
   "id": "6b4ab0e5",
   "metadata": {},
   "outputs": [
    {
     "data": {
      "text/plain": [
       "Epoch(2019-01-01T13:33:51.144Z)"
      ]
     },
     "execution_count": 76,
     "metadata": {},
     "output_type": "execute_result"
    }
   ],
   "source": [
    "#compute the satellite orbital period given the semi-major axis\n",
    "\n",
    "#same for all 4 satellites since they have the same semi-major axis\n",
    "T = orbit_period(iss1[1])\n",
    "\n",
    "#final time for one orbit. Adds initial time to the orbital period\n",
    "\n",
    "epcf = epc0 + T"
   ]
  },
  {
   "cell_type": "code",
   "execution_count": 77,
   "id": "2dc0ac8e",
   "metadata": {},
   "outputs": [],
   "source": [
    "# Create an EarthInertialState orbit propagagator\n",
    "#needs initial epoch of state and the state vector\n",
    "orb1  = EarthInertialState(epc0, eci0_1, dt=1.0,\n",
    "            mass=1.0, n_grav=0, m_grav=0,\n",
    "            drag=false, srp=false,\n",
    "            moon=false, sun=false,\n",
    "            relativity=false\n",
    ")\n",
    "\n",
    "orb2  = EarthInertialState(epc0, eci0_2, dt=1.0,\n",
    "            mass=1.0, n_grav=0, m_grav=0,\n",
    "            drag=false, srp=false,\n",
    "            moon=false, sun=false,\n",
    "            relativity=false\n",
    ")\n",
    "\n",
    "orb3  = EarthInertialState(epc0, eci0_3, dt=1.0,\n",
    "            mass=1.0, n_grav=0, m_grav=0,\n",
    "            drag=false, srp=false,\n",
    "            moon=false, sun=false,\n",
    "            relativity=false\n",
    ")\n",
    "\n",
    "orb4  = EarthInertialState(epc0, eci0_4, dt=1.0,\n",
    "            mass=1.0, n_grav=0, m_grav=0,\n",
    "            drag=false, srp=false,\n",
    "            moon=false, sun=false,\n",
    "            relativity=false\n",
    ")\n",
    "\n",
    "# Propagate the orbit\n",
    "# orbit until the final time\n",
    "\n",
    "t_1, epc_1, eci_1 = sim!(orb1, epcf);\n",
    "t_2, epc_2, eci_2 = sim!(orb2, epcf);\n",
    "t_3, epc_3, eci_3 = sim!(orb3, epcf);\n",
    "t_4, epc_4, eci_4 = sim!(orb4, epcf);"
   ]
  },
  {
   "cell_type": "code",
   "execution_count": 78,
   "id": "3465652b",
   "metadata": {},
   "outputs": [
    {
     "data": {
      "text/plain": [
       "3-element Vector{Float64}:\n",
       "     -6.128804e6\n",
       "     -1.590206e6\n",
       " 776150.2"
      ]
     },
     "execution_count": 78,
     "metadata": {},
     "output_type": "execute_result"
    }
   ],
   "source": [
    "#equator position in cartesian coordinates\n",
    "tag =[-6.128804e6, -1.590206e6, 776.1502e3]\n",
    "\n",
    "#Examples of putting latitude and longitude and converting to ECEF coordinate frame\n",
    "#Equitorial position\n",
    "#tag_geof = [-165.4545, 16.98849, 0]\n",
    "\n",
    "#North pole position\n",
    "#tag_geof = [-165.4545, 46.98849, 0]\n",
    "\n",
    "#tag = sGEOCtoECEF(tag_geof, use_degrees = true)"
   ]
  },
  {
   "cell_type": "code",
   "execution_count": 79,
   "id": "7695b5a1",
   "metadata": {},
   "outputs": [
    {
     "name": "stdout",
     "output_type": "stream",
     "text": [
      "[-5.99796596057736e6, -1.6894678391131323e6, -1.3604169754625652e6]\n"
     ]
    }
   ],
   "source": [
    "#Equitorial Position\n",
    "#In m\n",
    "x0= tag[1] \n",
    "y0 = tag[2]\n",
    "z0 = tag[3]\n",
    "\n",
    "#λ0 = C_LIGHT/400e6 #nominal wavelength in m\n",
    "\n",
    "f0 = 1e6\n",
    "\n",
    "#r0 = [x0, y0, z0, λ0]\n",
    "r0 = [x0, y0, z0, f0]\n",
    "\n",
    "centroid_guess = [(eci_1[1,1]+eci_2[1,1]+eci_3[1,1]+eci_4[1,1])/4, (eci_1[2,1]+eci_2[2,1]+eci_3[2,1]+eci_4[2,1])/4, (eci_1[3,1]+eci_2[3,1]+eci_3[3,1]+eci_4[3,1])/4] \n",
    "onearth = sECEFtoGEOC(centroid_guess, use_degrees = true)\n",
    "geodetic = [onearth[1], onearth[2], 0]\n",
    "\n",
    "#Guess\n",
    "xyz = sGEOCtoECEF(geodetic, use_degrees = true)\n",
    "\n",
    "println(xyz)"
   ]
  },
  {
   "cell_type": "code",
   "execution_count": 80,
   "id": "0cb96000",
   "metadata": {},
   "outputs": [
    {
     "data": {
      "text/plain": [
       "surface with fields type, x, y, and z\n"
      ]
     },
     "execution_count": 80,
     "metadata": {},
     "output_type": "execute_result"
    }
   ],
   "source": [
    "#Plot Satellite 1 and 2 Orbit\n",
    "sat1 = scatter(x=eci_1[1,:], y=eci_1[2,:], z=eci_1[3,:], type=\"scatter3d\", mode=\"lines\", name=\"orbit 1&2\")\n",
    "\n",
    "#Plot Satellite 3 and 4 Orbit\n",
    "sat3 = scatter(x=eci_3[1,:], y=eci_3[2,:], z=eci_3[3,:], type=\"scatter3d\", mode=\"lines\", name=\"orbit 3&4\")\n",
    "\n",
    "#Plot all 4 satellite initial positions\n",
    "satellites = scatter(x=[eci_1[1,1],eci_2[1,1], eci_3[1,1], eci_4[1,1]], y=[eci_1[2,1],eci_2[2,1], eci_3[2,1], eci_4[2,1]],z=[eci_1[3,1],eci_2[3,1], eci_3[3,1], eci_4[3,1]], mode=\"markers\", marker_size = 4, type=\"scatter3d\", name=\"satellites\")\n",
    "\n",
    "#Plot Tag position\n",
    "tag = scatter(x = [r0[1], r0[1]], y = [r0[2], r0[2]], z = [r0[3], r0[3]], type=\"scatter3d\", name=\"tag\", mode=\"markers\", marker_size=5)\n",
    "\n",
    "#Plot the Guess\n",
    "guess = scatter(x = [xyz[1], xyz[1]], y = [xyz[2], xyz[2]], z = [xyz[3], xyz[3]], type=\"scatter3d\", name=\"guess\", mode=\"markers\", marker_size=5)\n",
    "\n",
    "#Plotting the sphere (Earth)\n",
    "n = 100\n",
    "u = range(-π, π; length = n)\n",
    "v = range(0, π; length = n)\n",
    "x = cos.(u) * sin.(v)'\n",
    "y = sin.(u) * sin.(v)' \n",
    "z = ones(n) * cos.(v)' \n",
    "\n",
    "earth = surface(z=z*6371000, x=x*6371000, y=y*6371000)\n",
    "\n",
    "#plot([sat1,sat3, satellites, tag, earth, guess]) #uncomment to see the plot"
   ]
  },
  {
   "cell_type": "code",
   "execution_count": 81,
   "id": "2fb3dc61",
   "metadata": {},
   "outputs": [
    {
     "data": {
      "text/plain": [
       "zenith_angle (generic function with 1 method)"
      ]
     },
     "execution_count": 81,
     "metadata": {},
     "output_type": "execute_result"
    }
   ],
   "source": [
    "#Finding the Zenith Angle\n",
    "\n",
    "function zenith_angle(satposes, r0)\n",
    "    \n",
    "    zenithangle = zeros(4)\n",
    "\n",
    "    #vector between tag and the satellite\n",
    "    normalvec = r0\n",
    "    \n",
    "    for i in 1:4\n",
    "        \n",
    "        vector = satposes[i,:] - r0[1:3]\n",
    "        \n",
    "        #Find the angle between the normal and the vector going from the tag to the satellte\n",
    "        theta = acos(dot(normalvec,vector)/(norm(normalvec)*norm(vector))) * (180/pi)\n",
    "        \n",
    "        #save zenith angle\n",
    "        zenithangle[i] = theta\n",
    "    end\n",
    "    \n",
    "    return zenithangle\n",
    "end"
   ]
  },
  {
   "cell_type": "code",
   "execution_count": 82,
   "id": "3189b08d",
   "metadata": {},
   "outputs": [
    {
     "name": "stdout",
     "output_type": "stream",
     "text": [
      "[93.63237107183178, 82.84377330309063, 91.00377335928297, 78.31523678325279]\n"
     ]
    },
    {
     "data": {
      "text/plain": [
       "false"
      ]
     },
     "execution_count": 82,
     "metadata": {},
     "output_type": "execute_result"
    }
   ],
   "source": [
    "#Testing zenith angle function\n",
    "satposes = [eci_1[1,1] eci_1[2,1] eci_1[3,1];eci_2[1,1] eci_2[2,1] eci_2[3,1];eci_3[1,1] eci_3[2,1] eci_3[3,1];eci_4[1,1] eci_4[2,1] eci_4[3,1]]\n",
    "\n",
    "zenith_angles = zenith_angle(satposes, r0[1:3])\n",
    "\n",
    "println(zenith_angles)\n",
    "\n",
    "#check all angles to see if it is on the horizon \n",
    "inhorizon = all(x->x<80, zenith_angles)"
   ]
  },
  {
   "cell_type": "code",
   "execution_count": 83,
   "id": "679a3e48",
   "metadata": {},
   "outputs": [],
   "source": [
    "#Obtain the orbital elements after each time step (not used in the sim) \n",
    "dim = size(t_1)[1]\n",
    "\n",
    "all_elements = zeros(6,dim)\n",
    "for i in 1:dim\n",
    "    \n",
    "    orbital_elements = sCARTtoOSC(eci_1[:,1], use_degrees=true)\n",
    "    all_elements[:,i] = orbital_elements\n",
    "end "
   ]
  },
  {
   "cell_type": "code",
   "execution_count": 84,
   "id": "91a535da",
   "metadata": {},
   "outputs": [
    {
     "data": {
      "text/plain": [
       "6-element Vector{Float64}:\n",
       "    -6.291285386249863e6\n",
       "    -1.66264810311861e6\n",
       "    -2.2161566541800327e6\n",
       " -2394.9708335284654\n",
       "  -540.1532693380549\n",
       "  7206.151917789134"
      ]
     },
     "execution_count": 84,
     "metadata": {},
     "output_type": "execute_result"
    }
   ],
   "source": [
    "#velocity is the last 3 elements of each column in eci matrices\n",
    "eci_1[:,1]"
   ]
  },
  {
   "cell_type": "code",
   "execution_count": 85,
   "id": "81be77c6",
   "metadata": {},
   "outputs": [
    {
     "data": {
      "text/plain": [
       "350000.0"
      ]
     },
     "execution_count": 85,
     "metadata": {},
     "output_type": "execute_result"
    }
   ],
   "source": [
    "#Generate TEC Distribution\n",
    "mu = 8e-4\n",
    "sigma = 3e-4\n",
    "lb = 3e-4\n",
    "ub = 13e-4\n",
    "d = Truncated(Normal(mu,sigma), lb, ub)\n",
    "\n",
    "#f = 1575.42e6 # in 1/s L1 frequency\n",
    "f = 400e6 # in 1/s system frequency\n",
    "h = 350e3 #in meters"
   ]
  },
  {
   "cell_type": "code",
   "execution_count": 86,
   "id": "e9d9b6ef",
   "metadata": {},
   "outputs": [
    {
     "data": {
      "text/plain": [
       "10000.0"
      ]
     },
     "execution_count": 86,
     "metadata": {},
     "output_type": "execute_result"
    }
   ],
   "source": [
    "using ForwardDiff\n",
    "using BlockDiagonals\n",
    "\n",
    "#scale used when estimating f0 (transmitting frequency)\n",
    "\n",
    "# distance_scale = R_EARTH*(1e-3)*1e-4 # scales km to custom scale working\n",
    "\n",
    "# time_scale = 1/(C_LIGHT/R_EARTH) #scales seconds to custom scale\n",
    "\n",
    "# velocity_scale = distance_scale/time_scale #scales velocities to custom scale\n",
    "\n",
    "# frequency_scale = 1e5 #working for f0 = 400e6\n",
    "\n",
    "# c = 10000 #km/s\n",
    "\n",
    "# # working to estimate bdot \n",
    "distance_scale = R_EARTH*(1e-3) # scales km to custom scale working\n",
    "\n",
    "time_scale = (1/(C_LIGHT/R_EARTH))*1e4 #scales seconds to custom scale\n",
    "\n",
    "velocity_scale = distance_scale/time_scale #scales velocities to custom scales\n",
    "\n",
    "frequency_scale = 1\n",
    "\n",
    "c = 1*1e4 #km/s\n",
    "\n",
    "#udpated scale to estimate a frequency offset bdot\n"
   ]
  },
  {
   "cell_type": "code",
   "execution_count": 87,
   "id": "b13f2fee",
   "metadata": {},
   "outputs": [
    {
     "data": {
      "text/plain": [
       "0.0001567856114959475"
      ]
     },
     "execution_count": 87,
     "metadata": {},
     "output_type": "execute_result"
    }
   ],
   "source": [
    "1/distance_scale"
   ]
  },
  {
   "cell_type": "code",
   "execution_count": 88,
   "id": "04527159",
   "metadata": {},
   "outputs": [
    {
     "data": {
      "text/plain": [
       "29.9792458"
      ]
     },
     "execution_count": 88,
     "metadata": {},
     "output_type": "execute_result"
    }
   ],
   "source": [
    "velocity_scale"
   ]
  },
  {
   "cell_type": "code",
   "execution_count": 90,
   "id": "6391085f",
   "metadata": {},
   "outputs": [
    {
     "data": {
      "text/plain": [
       "doppler_residual (generic function with 1 method)"
      ]
     },
     "execution_count": 90,
     "metadata": {},
     "output_type": "execute_result"
    }
   ],
   "source": [
    "#satposet is all the satellite known positions and the measured position\n",
    "#x is what we want to solve for\n",
    "#satpose is the satellite position and velocities as well as the measured change in frequency\n",
    "\n",
    "function doppler_residual(x, sat_pose_f, time)\n",
    "    \n",
    "    #true tag velocity\n",
    "    #tag_vel = [10, 12, 7]*1e-3/velocity_scale\n",
    "    \n",
    "    #println(\"this is tag_vel: \", tag_vel)\n",
    "    #the measured tag velocity will have noise\n",
    "    \n",
    "    omega = OMEGA_EARTH*time_scale #transform to custom scale\n",
    "    \n",
    "    #wavelength = 0.7494*1e-3/distance_scale #for a nominal frequency of 400 MHz\n",
    "    \n",
    "    omegahat = [0 -omega 0; omega 0 0; 0 0 0]\n",
    "    \n",
    "    A1 = [cos(omega*time[1]) sin(omega*time[1]) 0;\n",
    "          -sin(omega*time[1]) cos(omega*time[1]) 0;\n",
    "          0 0 1];\n",
    "    A2 = [cos(omega*time[2]) sin(omega*time[2]) 0;\n",
    "          -sin(omega*time[2]) cos(omega*time[2]) 0;\n",
    "          0 0 1];\n",
    "    A3 = [cos(omega*time[3]) sin(omega*time[3]) 0;\n",
    "          -sin(omega*time[3]) cos(omega*time[3]) 0;\n",
    "          0 0 1];\n",
    "    A4 = [cos(omega*time[4]) sin(omega*time[4]) 0;\n",
    "          -sin(omega*time[4]) cos(omega*time[4]) 0;\n",
    "          0 0 1];\n",
    "    \n",
    "    #residuals used to estimate transmitting frequency as an unknown\n",
    "    #res1 = (x[4]/c)*0.5*(1/norm(x[1:3] - A1*sat_pose_f[1,1:3]))*(-2*x[1:3]'*A1*omegahat*sat_pose_f[1,1:3] - 2*x[1:3]'*A1*sat_pose_f[1,4:6]+sat_pose_f[1,1:3]'*sat_pose_f[1,4:6]+sat_pose_f[1,4:6]'*sat_pose_f[1,1:3])- sat_pose_f[1,7]\n",
    "    #res2 = (x[4]/c)*0.5*(1/norm(x[1:3] - A2*sat_pose_f[2,1:3]))*(-2*x[1:3]'*A2*omegahat*sat_pose_f[2,1:3] - 2*x[1:3]'*A2*sat_pose_f[2,4:6]+sat_pose_f[2,1:3]'*sat_pose_f[2,4:6]+sat_pose_f[2,4:6]'*sat_pose_f[2,1:3])- sat_pose_f[2,7]\n",
    "    #res3 = (x[4]/c)*0.5*(1/norm(x[1:3] - A3*sat_pose_f[3,1:3]))*(-2*x[1:3]'*A3*omegahat*sat_pose_f[3,1:3] - 2*x[1:3]'*A3*sat_pose_f[3,4:6]+sat_pose_f[3,1:3]'*sat_pose_f[3,4:6]+sat_pose_f[3,4:6]'*sat_pose_f[3,1:3])- sat_pose_f[3,7]\n",
    "    #res4 = (x[4]/c)*0.5*(1/norm(x[1:3] - A4*sat_pose_f[4,1:3]))*(-2*x[1:3]'*A4*omegahat*sat_pose_f[4,1:3] - 2*x[1:3]'*A4*sat_pose_f[4,4:6]+sat_pose_f[4,1:3]'*sat_pose_f[4,4:6]+sat_pose_f[4,4:6]'*sat_pose_f[4,1:3])- sat_pose_f[4,7]\n",
    "    \n",
    "    #extra_term = tag_vel'*x[1:3] + x[1:3]'*tag_vel - 2*tag_vel'*A1*sat_pose_f[1,1:3]\n",
    "    \n",
    "    #println(\"this is extra term: \", extra_term)\n",
    "    \n",
    "    #velocity of tag included in residual \n",
    "    #residuals to estimate a frequency offset bdot\n",
    "    res1 = (f*frequency_scale/c)*(0.5*(1/norm(x[1:3] - A1*sat_pose_f[1,1:3]))*(-2*x[1:3]'*A1*omegahat*sat_pose_f[1,1:3] - 2*x[1:3]'*A1*sat_pose_f[1,4:6]+sat_pose_f[1,1:3]'*sat_pose_f[1,4:6]+sat_pose_f[1,4:6]'*sat_pose_f[1,1:3]) + x[4]) - sat_pose_f[1,7]\n",
    "    res2 = (f*frequency_scale/c)*(0.5*(1/norm(x[1:3] - A2*sat_pose_f[2,1:3]))*(-2*x[1:3]'*A2*omegahat*sat_pose_f[2,1:3] - 2*x[1:3]'*A2*sat_pose_f[2,4:6]+sat_pose_f[2,1:3]'*sat_pose_f[2,4:6]+sat_pose_f[2,4:6]'*sat_pose_f[2,1:3]) + x[4]) - sat_pose_f[2,7]\n",
    "    res3 = (f*frequency_scale/c)*(0.5*(1/norm(x[1:3] - A3*sat_pose_f[3,1:3]))*(-2*x[1:3]'*A3*omegahat*sat_pose_f[3,1:3] - 2*x[1:3]'*A3*sat_pose_f[3,4:6]+sat_pose_f[3,1:3]'*sat_pose_f[3,4:6]+sat_pose_f[3,4:6]'*sat_pose_f[3,1:3]) + x[4]) - sat_pose_f[3,7]\n",
    "    res4 = (f*frequency_scale/c)*(0.5*(1/norm(x[1:3] - A4*sat_pose_f[4,1:3]))*(-2*x[1:3]'*A4*omegahat*sat_pose_f[4,1:3] - 2*x[1:3]'*A4*sat_pose_f[4,4:6]+sat_pose_f[4,1:3]'*sat_pose_f[4,4:6]+sat_pose_f[4,4:6]'*sat_pose_f[4,1:3]) + x[4]) - sat_pose_f[4,7]\n",
    "    \n",
    "    return [res1; res2; res3; res4]\n",
    "   \n",
    "end"
   ]
  },
  {
   "cell_type": "code",
   "execution_count": 91,
   "id": "f85d1b82",
   "metadata": {},
   "outputs": [
    {
     "data": {
      "text/plain": [
       "measurment (generic function with 1 method)"
      ]
     },
     "execution_count": 91,
     "metadata": {},
     "output_type": "execute_result"
    }
   ],
   "source": [
    "#pose1-4 are satellite locations and velocities\n",
    "#r0 = [xyz of tag, emmitted frequency]\n",
    "\n",
    "#gets the true measurment\n",
    "function measurment(r0, pose1, pose2, pose3, pose4, time)\n",
    "    \n",
    "    #tag velocity\n",
    "    tag_vel = [2, 5, 3]*1e-3/velocity_scale\n",
    "    \n",
    "    #Make sure to scale all positions\n",
    "    \n",
    "    omega = OMEGA_EARTH*time_scale #change to custom time scale\n",
    "    \n",
    "    #wavelength = 0.7494*1e-3/distance_scale #for a nominal frequency of 400 MHz\n",
    "    \n",
    "    omegahat = [0 -omega 0; omega 0 0; 0 0 0]\n",
    "    \n",
    "    A1 = [cos(omega*time[1]) sin(omega*time[1]) 0;\n",
    "          -sin(omega*time[1]) cos(omega*time[1]) 0;\n",
    "          0 0 1];\n",
    "    A2 = [cos(omega*time[2]) sin(omega*time[2]) 0;\n",
    "          -sin(omega*time[2]) cos(omega*time[2]) 0;\n",
    "          0 0 1];\n",
    "    A3 = [cos(omega*time[3]) sin(omega*time[3]) 0;\n",
    "          -sin(omega*time[3]) cos(omega*time[3]) 0;\n",
    "          0 0 1];\n",
    "    A4 = [cos(omega*time[4]) sin(omega*time[4]) 0;\n",
    "          -sin(omega*time[4]) cos(omega*time[4]) 0;\n",
    "          0 0 1];\n",
    "    \n",
    "    #measurments for estimating a transmitting frequency\n",
    "    #deltaf1 = (r0[4]/c)*0.5*(1/norm(r0[1:3] - A1*pose1[1:3]))*(-2*r0[1:3]'*A1*omegahat*pose1[1:3] - 2*r0[1:3]'*A1*pose1[4:6]+pose1[1:3]'*pose1[4:6]+pose1[4:6]'*pose1[1:3])\n",
    "    #deltaf2 = (r0[4]/c)*0.5*(1/norm(r0[1:3] - A2*pose2[1:3]))*(-2*r0[1:3]'*A2*omegahat*pose2[1:3] - 2*r0[1:3]'*A2*pose2[4:6]+pose2[1:3]'*pose2[4:6]+pose2[4:6]'*pose2[1:3])\n",
    "    #deltaf3 = (r0[4]/c)*0.5*(1/norm(r0[1:3] - A3*pose3[1:3]))*(-2*r0[1:3]'*A3*omegahat*pose3[1:3] - 2*r0[1:3]'*A3*pose3[4:6]+pose3[1:3]'*pose3[4:6]+pose3[4:6]'*pose3[1:3])\n",
    "    #deltaf4 = (r0[4]/c)*0.5*(1/norm(r0[1:3] - A4*pose4[1:3]))*(-2*r0[1:3]'*A4*omegahat*pose4[1:3] - 2*r0[1:3]'*A4*pose4[4:6]+pose4[1:3]'*pose4[4:6]+pose4[4:6]'*pose4[1:3])\n",
    "    \n",
    "    #velocity not in the measurment\n",
    "    #measurments to estimate out a bdot value (frequency offset)\n",
    "    deltaf1 = (f*frequency_scale/c)*(0.5*(1/norm(r0[1:3] - A1*pose1[1:3]))*(tag_vel'*r0[1:3] + r0[1:3]'*tag_vel - 2*tag_vel'*A1*pose1[1:3]-2*r0[1:3]'*A1*omegahat*pose1[1:3] - 2*r0[1:3]'*A1*pose1[4:6]+pose1[1:3]'*pose1[4:6]+pose1[4:6]'*pose1[1:3]) + r0[4])\n",
    "    deltaf2 = (f*frequency_scale/c)*(0.5*(1/norm(r0[1:3] - A2*pose2[1:3]))*(tag_vel'*r0[1:3] + r0[1:3]'*tag_vel - 2*tag_vel'*A2*pose2[1:3]-2*r0[1:3]'*A2*omegahat*pose2[1:3] - 2*r0[1:3]'*A2*pose2[4:6]+pose2[1:3]'*pose2[4:6]+pose2[4:6]'*pose2[1:3]) + r0[4])\n",
    "    deltaf3 = (f*frequency_scale/c)*(0.5*(1/norm(r0[1:3] - A3*pose3[1:3]))*(tag_vel'*r0[1:3] + r0[1:3]'*tag_vel - 2*tag_vel'*A3*pose3[1:3]-2*r0[1:3]'*A3*omegahat*pose3[1:3] - 2*r0[1:3]'*A3*pose3[4:6]+pose3[1:3]'*pose3[4:6]+pose3[4:6]'*pose3[1:3]) + r0[4])\n",
    "    deltaf4 = (f*frequency_scale/c)*(0.5*(1/norm(r0[1:3] - A4*pose4[1:3]))*(tag_vel'*r0[1:3] + r0[1:3]'*tag_vel - 2*tag_vel'*A4*pose4[1:3]-2*r0[1:3]'*A4*omegahat*pose4[1:3] - 2*r0[1:3]'*A4*pose4[4:6]+pose4[1:3]'*pose4[4:6]+pose4[4:6]'*pose4[1:3]) + r0[4])\n",
    "    \n",
    "    return [deltaf1, deltaf2, deltaf3, deltaf4]\n",
    "end"
   ]
  },
  {
   "cell_type": "code",
   "execution_count": 92,
   "id": "4e8f0464",
   "metadata": {},
   "outputs": [
    {
     "data": {
      "text/plain": [
       "4-element Vector{Float64}:\n",
       " -0.9609082828788089\n",
       " -0.24932142011452468\n",
       "  0.12168918371970193\n",
       "  0.33356409519815206"
      ]
     },
     "execution_count": 92,
     "metadata": {},
     "output_type": "execute_result"
    }
   ],
   "source": [
    "#Equitorial Position\n",
    "\n",
    "#In km\n",
    "x0= x0*1e-3 #x tag position\n",
    "y0 = y0*1e-3 #y tag position\n",
    "z0 = z0*1e-3 #z tag position\n",
    "#f0 = 1e6 #nominal frequency (works)\n",
    "#f0 = 400e6 #working\n",
    "\n",
    "bdot = 1e4*1e-3 # working\n",
    "\n",
    "#r0_scaled = [x0/distance_scale, y0/distance_scale, z0/distance_scale, f0/frequency_scale]\n",
    "\n",
    "r0_scaled = [x0/distance_scale, y0/distance_scale, z0/distance_scale, bdot/velocity_scale]"
   ]
  },
  {
   "cell_type": "code",
   "execution_count": 93,
   "id": "9d49daa8",
   "metadata": {},
   "outputs": [
    {
     "data": {
      "text/plain": [
       "0.003919640287398688"
      ]
     },
     "execution_count": 93,
     "metadata": {},
     "output_type": "execute_result"
    }
   ],
   "source": [
    "diff = 25e3*1e-3/distance_scale "
   ]
  },
  {
   "cell_type": "code",
   "execution_count": 94,
   "id": "2a36c04d",
   "metadata": {},
   "outputs": [
    {
     "data": {
      "text/plain": [
       "receiver_pose (generic function with 1 method)"
      ]
     },
     "execution_count": 94,
     "metadata": {},
     "output_type": "execute_result"
    }
   ],
   "source": [
    "function receiver_pose(all_sats_scaled, guess, zenith_angles, time, zdot) # remember to scale the guess to custom units\n",
    "\n",
    "    n = 1000 # number of iterations\n",
    "    #all_r0 = NaN*[zeros(4) for i = 1:n]\n",
    "    all_r0 = [zeros(3) for i = 1:n] #obtain all the tag positions\n",
    "    \n",
    "    sat1poses = zeros(7,n)\n",
    "    sat2poses = zeros(7,n)\n",
    "    sat3poses = zeros(7,n)\n",
    "    sat4poses = zeros(7,n)\n",
    "\n",
    "    all_sats_noise = zeros(4,4)\n",
    "\n",
    "    iters = 0\n",
    "\n",
    "     #Monte Carlo Simulation\n",
    "    for i in 1:n\n",
    "        #Parameters for line search\n",
    "        #b = 0.01\n",
    "        b = 0.1\n",
    "        c_=0.5\n",
    "        #β = 10\n",
    "        β = 1.0\n",
    "        α = 1\n",
    "        \n",
    "        #create noise from normal distribution\n",
    "        \n",
    "        #scaled to the variable (0.1m error for distance & 1e-11 for time)\n",
    "        gpsnoise = randn(12)*(0.1*1e-3/distance_scale) #0.1 m switch to km then to custom scale\n",
    "        velocitynoise = randn(12)*(0.01*1e-3/velocity_scale)# 0.01 m/s\n",
    "        doppler_noise = randn(12)* 1/frequency_scale #0.001 ~ 500's of error\n",
    "        \n",
    "        #doppler_noise = randn(12)* 0/frequency_scale #0.001 ~ 500's of error\n",
    "        \n",
    "        TEC = rand(d,4) #vTEC for each satellite from custom distribution\n",
    "        \n",
    "        #tag_vel_noise = randn(3)*(1*1e-3/velocity_scale)# 1 m/s noise\n",
    "        \n",
    "        #tag_vel_noise = zeros(3) #zero noise\n",
    "    \n",
    "        #tag_vel = [2, 5, 3]*1e-3/velocity_scale\n",
    "        \n",
    "        #tag_vel_w_noise = tag_vel + tag_vel_noise\n",
    "        \n",
    "        #Calculating random TEC time delay\n",
    "        #for i=1:4\n",
    "        \n",
    "        #    OF[i] = (1-((R_EARTH*sind(zenith_angles[i]))/(R_EARTH+hi))^2)^(-1/2) #normal units (m and s)\n",
    "        #    Ip[i] = ((40.3*TEC[i])/(f^2))*OF[i] * 1e-3 #scale to km to use the custom unit\n",
    "        #    Ip_scaled[i] = Ip[i]/distance_scale #scale to custom units\n",
    "        \n",
    "        #end\n",
    "        \n",
    "        Idot1 = (((40.3*TEC[1])*((R_EARTH*sind(zenith_angles[1]))*(R_EARTH*cosd(zenith_angles[1])*zdot[1])/(R_EARTH + h)^2))/((f^2)*(1-((R_EARTH*sind(zenith_angles[1]))/(R_EARTH+h))^2)^1.5))*1e20*1e-3/velocity_scale\n",
    "        Idot2 = (((40.3*TEC[2])*((R_EARTH*sind(zenith_angles[2]))*(R_EARTH*cosd(zenith_angles[2])*zdot[2])/(R_EARTH + h)^2))/((f^2)*(1-((R_EARTH*sind(zenith_angles[2]))/(R_EARTH+h))^2)^1.5))*1e20*1e-3/velocity_scale\n",
    "        Idot3 = (((40.3*TEC[3])*((R_EARTH*sind(zenith_angles[3]))*(R_EARTH*cosd(zenith_angles[3])*zdot[3])/(R_EARTH + h)^2))/((f^2)*(1-((R_EARTH*sind(zenith_angles[3]))/(R_EARTH+h))^2)^1.5))*1e20*1e-3/velocity_scale\n",
    "        Idot4 = (((40.3*TEC[4])*((R_EARTH*sind(zenith_angles[4]))*(R_EARTH*cosd(zenith_angles[4])*zdot[4])/(R_EARTH + h)^2))/((f^2)*(1-((R_EARTH*sind(zenith_angles[4]))/(R_EARTH+h))^2)^1.5))*1e20*1e-3/velocity_scale\n",
    "        \n",
    "        iono1 = (f/c)*Idot1\n",
    "        iono2 = (f/c)*Idot2\n",
    "        iono3 = (f/c)*Idot3\n",
    "        iono4 = (f/c)*Idot4\n",
    "        \n",
    "        scaled_iono1 = iono1/distance_scale*velocity_scale\n",
    "        \n",
    "        #println(\"this is scaled_iono1: \", scaled_iono1) #in Hz\n",
    "        \n",
    "        sat1_noise = [all_sats_scaled[1,1]+gpsnoise[1],all_sats_scaled[1,2] + gpsnoise[2],all_sats_scaled[1,3]+gpsnoise[3], all_sats_scaled[1,4]+velocitynoise[1], all_sats_scaled[1,5]+velocitynoise[2],all_sats_scaled[1,6]+velocitynoise[3], all_sats_scaled[1,7]+iono1+doppler_noise[1]]\n",
    "        sat2_noise =[all_sats_scaled[2,1]+gpsnoise[4],all_sats_scaled[2,2] + gpsnoise[5],all_sats_scaled[2,3]+gpsnoise[6], all_sats_scaled[2,4]+velocitynoise[4], all_sats_scaled[2,5]+velocitynoise[5],all_sats_scaled[2,6]+velocitynoise[6], all_sats_scaled[2,7]+iono2+doppler_noise[2]]\n",
    "        sat3_noise = [all_sats_scaled[3,1]+gpsnoise[7],all_sats_scaled[3,2] + gpsnoise[8],all_sats_scaled[3,3]+gpsnoise[9], all_sats_scaled[3,4]+velocitynoise[7], all_sats_scaled[3,5]+velocitynoise[8],all_sats_scaled[3,6]+velocitynoise[9], all_sats_scaled[3,7]+iono3+doppler_noise[3]]\n",
    "        sat4_noise = [all_sats_scaled[4,1]+gpsnoise[10],all_sats_scaled[4,2] + gpsnoise[11],all_sats_scaled[4,3]+gpsnoise[12], all_sats_scaled[4,4]+velocitynoise[10], all_sats_scaled[4,5]+velocitynoise[11],all_sats_scaled[4,6]+velocitynoise[12], all_sats_scaled[4,7]+iono4+doppler_noise[4]]\n",
    "\n",
    "        all_sats_noise = vcat(sat1_noise',sat2_noise',sat3_noise',sat4_noise')\n",
    "        \n",
    "        sat1poses[:,i] = sat1_noise\n",
    "        sat2poses[:,i] = sat2_noise\n",
    "        sat3poses[:,i] = sat3_noise\n",
    "        sat4poses[:,i] = sat4_noise\n",
    "        \n",
    "        X = NaN*[zeros(4) for i = 1:n]\n",
    "        R = NaN*[zeros(4) for i = 1:n]\n",
    "        \n",
    "        #Centroid guess. Working for estimating transmit frequency\n",
    "        #X[1] = [guess[1]/distance_scale, guess[2]/distance_scale, guess[3]/distance_scale, 410e6/frequency_scale]\n",
    "        \n",
    "        \n",
    "        #working\n",
    "        X[1] = [r0_scaled[1]+diff, r0_scaled[2]+diff, r0_scaled[3]+diff, 1.002*1e4*1e-3/velocity_scale]\n",
    "\n",
    "        \n",
    "        #New guess to estimate bdot\n",
    "        #X[1] = [guess[1]/distance_scale, guess[2]/distance_scale, guess[3]/distance_scale, 1.002*1e4*1e-3/velocity_scale]\n",
    "\n",
    "        #X[1] = r0_scaled\n",
    "        \n",
    "        #println(\"this is initial guess: \", X[1])\n",
    "        #Initial residual\n",
    "        R[1] = doppler_residual(X[1], all_sats_noise, time)\n",
    "\n",
    "        iters = 0\n",
    "\n",
    "        for k=1:1000\n",
    "            \n",
    "            R[k] = doppler_residual(X[k], all_sats_noise, time) #calculate residual\n",
    "            \n",
    "            iters += 1\n",
    "\n",
    "            #if(norm(R[k]) < 1e-6)\n",
    "            if(norm(R[k]) < 1e-8)\n",
    "                \n",
    "                break\n",
    "\n",
    "            end\n",
    "\n",
    "            jacobian = ForwardDiff.jacobian(dx -> doppler_residual(dx, all_sats_noise, time), X[k])\n",
    "            \n",
    "            if(rank(jacobian) != 4) #if not full rank, move on to next iteration\n",
    "                \n",
    "                break\n",
    "\n",
    "            end\n",
    "            \n",
    "            conditionnum = cond(jacobian)\n",
    "            \n",
    "            #println(\"this is residual: \", norm(R[k]))\n",
    "            \n",
    "            #println(\"this is the condition number: \", conditionnum)\n",
    "            \n",
    "            #println(\"this is the jacobian: \", jacobian)\n",
    "            \n",
    "            #println(\"this is X[k]: \", X[k])\n",
    "\n",
    "            deltax = (jacobian)\\-R[k]\n",
    "            \n",
    "            if iters > 50\n",
    "                break\n",
    "            end\n",
    "            \n",
    "            while norm(doppler_residual(X[k] + α*deltax, all_sats_noise, time)) > norm(doppler_residual(X[k], all_sats_noise, time) + b*α*jacobian'*deltax)\n",
    "\n",
    "                α = c_*α\n",
    "                #print(\"this is alpha: \", α)\n",
    "            end\n",
    "\n",
    "            X[k+1] = X[k] + α*deltax\n",
    "             \n",
    "        end  \n",
    "        \n",
    "        R = R[1:iters]\n",
    "        X = X[1:iters]\n",
    "\n",
    "        all_r0[i] = X[end]\n",
    "\n",
    "    end\n",
    "    x_values = zeros(n)\n",
    "    y_values = zeros(n)\n",
    "    z_values = zeros(n)\n",
    "\n",
    "    for j in 1:n\n",
    "\n",
    "        x_values[j] = all_r0[j][1]\n",
    "        y_values[j] = all_r0[j][2]\n",
    "        z_values[j] = all_r0[j][3]\n",
    "\n",
    "    end\n",
    "    \n",
    "    #mean calculation\n",
    "    mean = sum(all_r0, dims = 1)/ n\n",
    "    mean = mean[1]\n",
    "    #for estimating frequency\n",
    "    #mean_rescaled = [mean[1:3]*distance_scale*1e3; mean[4]*frequency_scale] # in meters\n",
    "    \n",
    "    #For estimating bdot\n",
    "    mean_rescaled = [mean[1:3]*distance_scale*1e3; mean[4]*1e3*velocity_scale] # in meters\n",
    "\n",
    "    return mean_rescaled, all_r0, iters\n",
    "end"
   ]
  },
  {
   "cell_type": "code",
   "execution_count": 95,
   "id": "68bdcb20",
   "metadata": {},
   "outputs": [
    {
     "name": "stdout",
     "output_type": "stream",
     "text": [
      "cov position erors: 5657.485617684441\n",
      "Mean (m): [-6.125173109242117e6, -1.5921174008744275e6, 775302.3803365392, 9998.347978365528]\n",
      "Iterations: 5\n",
      "Timestep: 261\n",
      "cov position erors: 5816.12673160024\n",
      "Mean (m): [-6.125046645938287e6, -1.592292854438668e6, 775192.915972024, 9997.89939365795]\n",
      "Iterations: 5\n",
      "Timestep: 262\n",
      "cov position erors: 6019.682197291276\n",
      "Mean (m): [-6.12467302188243e6, -1.5928054459921878e6, 774995.2360605897, 9997.229017043852]\n",
      "Iterations: 5\n",
      "Timestep: 263\n",
      "cov position erors: 5965.623121814879\n",
      "Mean (m): [-6.1245956860536495e6, -1.5928818541867023e6, 774899.6905894534, 9996.85850574896]\n",
      "Iterations: 5\n",
      "Timestep: 264\n",
      "cov position erors: 6270.659807756153\n",
      "Mean (m): [-6.124613693458621e6, -1.5928414274416363e6, 774849.4218570776, 9996.693064047253]\n",
      "Iterations: 5\n",
      "Timestep: 265\n",
      "cov position erors: 6190.170318382919\n",
      "Mean (m): [-6.124154221410309e6, -1.5935146365413684e6, 774573.9971107191, 9995.68331421692]\n",
      "Iterations: 5\n",
      "Timestep: 266\n",
      "cov position erors: 6643.642782111231\n",
      "Mean (m): [-6.124112867975719e6, -1.5935519805074178e6, 774483.8265242775, 9995.384731599748]\n",
      "Iterations: 5\n",
      "Timestep: 267\n",
      "cov position erors: 6917.286734421608\n",
      "Mean (m): [-6.123920360768366e6, -1.5938020009492221e6, 774317.2136729428, 9994.83886467987]\n",
      "Iterations: 5\n",
      "Timestep: 268\n",
      "cov position erors: 6802.516044923844\n",
      "Mean (m): [-6.123879802793848e6, -1.5939035492184595e6, 774221.6895753454, 9994.514378205771]\n",
      "Iterations: 5\n",
      "Timestep: 269\n",
      "cov position erors: 7275.324086599245\n",
      "Mean (m): [-6.123602008849729e6, -1.5943033177651796e6, 773986.9459779694, 9993.658320200482]\n",
      "Iterations: 5\n",
      "Timestep: 270\n",
      "cov position erors: 7440.65522533179\n",
      "Mean (m): [-6.123174283427871e6, -1.5949436601131673e6, 773661.9834116149, 9992.543226720361]\n",
      "Iterations: 5\n",
      "Timestep: 271\n",
      "cov position erors: 7790.352223322005\n",
      "Mean (m): [-6.12309293372852e6, -1.5951427113693894e6, 773511.7997777439, 9991.922405378054]\n",
      "Iterations: 5\n",
      "Timestep: 272\n",
      "cov position erors: 7878.407980398517\n",
      "Mean (m): [-6.122927585995823e6, -1.5953948230094875e6, 773328.8589279082, 9991.253214730314]\n",
      "Iterations: 5\n",
      "Timestep: 273\n",
      "cov position erors: 8335.071808095478\n",
      "Mean (m): [-6.1225535864550015e6, -1.5959257043775986e6, 772998.2486653917, 9990.278899665504]\n",
      "Iterations: 5\n",
      "Timestep: 274\n",
      "cov position erors: 8729.104728638657\n",
      "Mean (m): [-6.122458979171438e6, -1.5961879958963885e6, 772845.6552911348, 9989.715085811584]\n",
      "Iterations: 5\n",
      "Timestep: 275\n",
      "cov position erors: 8978.608390853226\n",
      "Mean (m): [-6.122076621439712e6, -1.5968079622864937e6, 772483.1275220895, 9988.662060993285]\n",
      "Iterations: 5\n",
      "Timestep: 276\n",
      "cov position erors: 9414.637700314495\n",
      "Mean (m): [-6.122074001918854e6, -1.5969673001656337e6, 772355.4344080122, 9988.036477633705]\n",
      "Iterations: 5\n",
      "Timestep: 277\n",
      "cov position erors: 9606.633158375911\n",
      "Mean (m): [-6.121416962894674e6, -1.5980020460898408e6, 771789.0600941449, 9986.263947928264]\n",
      "Iterations: 5\n",
      "Timestep: 278\n",
      "cov position erors: 10130.90424069607\n",
      "Mean (m): [-6.121360823316482e6, -1.5982808907087906e6, 771595.0392503999, 9985.566079417951]\n",
      "Iterations: 5\n",
      "Timestep: 279\n",
      "cov position erors: 10975.912015032081\n",
      "Mean (m): [-6.121001654241467e6, -1.5989658825997359e6, 771177.499757373, 9984.08197811256]\n",
      "Iterations: 5\n",
      "Timestep: 280\n",
      "cov position erors: 11610.291561359087\n",
      "Mean (m): [-6.120693245634646e6, -1.5996053713793887e6, 770784.0393697991, 9982.795671533675]\n",
      "Iterations: 5\n",
      "Timestep: 281\n",
      "cov position erors: 12335.912797500912\n",
      "Mean (m): [-6.119962506889458e6, -1.6010015892114213e6, 770026.0686309327, 9980.211830908307]\n",
      "Iterations: 5\n",
      "Timestep: 282\n",
      "cov position erors: 13300.761251980939\n",
      "Mean (m): [-6.11986355889932e6, -1.6013847089249599e6, 769744.3672518422, 9979.258162443693]\n",
      "Iterations: 5\n",
      "Timestep: 283\n",
      "cov position erors: 13902.974189499244\n",
      "Mean (m): [-6.118942684975016e6, -1.6031580509780447e6, 768773.9403534802, 9976.17273267485]\n",
      "Iterations: 5\n",
      "Timestep: 284\n",
      "cov position erors: 15326.266563518237\n",
      "Mean (m): [-6.118185169658953e6, -1.6047745770609623e6, 767910.7130066071, 9973.382008668752]\n",
      "Iterations: 5\n",
      "Timestep: 285\n",
      "cov position erors: 16641.332955693357\n",
      "Mean (m): [-6.117632896086641e6, -1.6061134453398758e6, 767086.6145858816, 9970.427025823112]\n",
      "Iterations: 5\n",
      "Timestep: 286\n",
      "cov position erors: 17273.37271207831\n",
      "Mean (m): [-6.116606814437262e6, -1.6083322303793659e6, 765854.730032312, 9966.448258530678]\n",
      "Iterations: 5\n",
      "Timestep: 287\n",
      "cov position erors: 20288.12065035499\n",
      "Mean (m): [-6.115228646914382e6, -1.611507632342214e6, 764155.7637547798, 9960.892624045344]\n",
      "Iterations: 5\n",
      "Timestep: 288\n",
      "cov position erors: 22132.526747830885\n",
      "Mean (m): [-6.114599909608005e6, -1.613325586368201e6, 763120.7795706419, 9957.357954919484]\n",
      "Iterations: 5\n",
      "Timestep: 289\n",
      "cov position erors: 24929.14610633733\n",
      "Mean (m): [-6.113603354569217e6, -1.616138081960558e6, 761595.0630635017, 9952.33289337468]\n",
      "Iterations: 6\n",
      "Timestep: 290\n",
      "cov position erors: 30061.76927560053\n",
      "Mean (m): [-6.110649174592439e6, -1.6236088367716465e6, 757620.7137206119, 9939.153533240333]\n",
      "Iterations: 6\n",
      "Timestep: 291\n",
      "cov position erors: 35264.4569037377\n",
      "Mean (m): [-6.10862939331741e6, -1.6297363213112988e6, 754376.772996594, 9928.303576531343]\n",
      "Iterations: 5\n",
      "Timestep: 292\n",
      "cov position erors: 45555.06403788251\n",
      "Mean (m): [-6.105367606464037e6, -1.6407640647503892e6, 748740.1457278914, 9909.394654632659]\n",
      "Iterations: 6\n",
      "Timestep: 293\n",
      "cov position erors: 65346.65825391869\n",
      "Mean (m): [-6.10054224511208e6, -1.6615397120696278e6, 738454.0039245791, 9874.394608569835]\n",
      "Iterations: 6\n",
      "Timestep: 294\n",
      "cov position erors: 113229.57211412194\n",
      "Mean (m): [-6.090299592209659e6, -1.7221366217707049e6, 709766.5762024452, 9774.66399811967]\n",
      "Iterations: 7\n",
      "Timestep: 295\n",
      "cov position erors: 109256.68723364375\n",
      "Mean (m): [-6.072526115054414e6, -1.7629533188327383e6, 688735.4887611846, 9703.096142331664]\n",
      "Iterations: 8\n",
      "Timestep: 296\n",
      "cov position erors: 83107.17502506603\n",
      "Mean (m): [-6.072165763595782e6, -1.7213264093333266e6, 707540.9240092019, 9766.449589186526]\n",
      "Iterations: 51\n",
      "Timestep: 297\n",
      "cov position erors: 63919.051249464785\n",
      "Mean (m): [-6.085295459299908e6, -1.665126093166261e6, 735092.3358074726, 9860.694898898391]\n",
      "Iterations: 51\n",
      "Timestep: 298\n",
      "cov position erors: 68966.79108434546\n",
      "Mean (m): [-6.076214631575482e6, -1.679678017934708e6, 727561.6395810577, 9833.366220877462]\n",
      "Iterations: 51\n",
      "Timestep: 299\n",
      "cov position erors: 98362.77140487495\n",
      "Mean (m): [-6.104100405040081e6, -1.6171705946521915e6, 764462.5891583753, 9943.963684243563]\n",
      "Iterations: 51\n",
      "Timestep: 300\n",
      "cov position erors: 94250.59836427281\n",
      "Mean (m): [-6.105826041038153e6, -1.5962022119637956e6, 780793.7193956287, 9975.239796123744]\n",
      "Iterations: 51\n",
      "Timestep: 301\n",
      "cov position erors: 157867.2675581488\n",
      "Mean (m): [-6.191128986824837e6, -1.5077970359918473e6, 830972.4325663793, 10153.524606090932]\n",
      "Iterations: 51\n",
      "Timestep: 302\n",
      "cov position erors: 51394.18653269339\n",
      "Mean (m): [-6.148410060269434e6, -1.549217754591785e6, 798911.9353462368, 10071.382331174402]\n",
      "Iterations: 6\n",
      "Timestep: 303\n",
      "cov position erors: 28379.89439600781\n",
      "Mean (m): [-6.142728370988684e6, -1.5577027959740104e6, 793933.8365918314, 10055.79213747216]\n",
      "Iterations: 6\n",
      "Timestep: 304\n",
      "cov position erors: 23707.18494158851\n",
      "Mean (m): [-6.139777038603753e6, -1.5624866993488793e6, 791051.7412518915, 10046.568091789173]\n",
      "Iterations: 5\n",
      "Timestep: 305\n",
      "cov position erors: 22479.05567212669\n",
      "Mean (m): [-6.137931387462257e6, -1.5656729409829692e6, 789199.387347568, 10040.654563508471]\n",
      "Iterations: 6\n",
      "Timestep: 306\n",
      "cov position erors: 20187.891685363113\n",
      "Mean (m): [-6.136461353948136e6, -1.5681538270498468e6, 787705.2740144568, 10035.885695717168]\n",
      "Iterations: 6\n",
      "Timestep: 307\n",
      "cov position erors: 17405.224155081596\n",
      "Mean (m): [-6.135560295953417e6, -1.5694593491436942e6, 786858.2000822946, 10033.167071207454]\n",
      "Iterations: 5\n",
      "Timestep: 308\n",
      "cov position erors: 15850.727829829499\n",
      "Mean (m): [-6.134877952205841e6, -1.5704657232698957e6, 786267.7333513562, 10031.41434683189]\n",
      "Iterations: 5\n",
      "Timestep: 309\n",
      "cov position erors: 14721.966465609168\n",
      "Mean (m): [-6.133974052663679e6, -1.5721214626976217e6, 785237.0714105957, 10028.011476346697]\n",
      "Iterations: 5\n",
      "Timestep: 310\n",
      "cov position erors: 13472.018964595814\n",
      "Mean (m): [-6.133055094385587e6, -1.5739328208192387e6, 784212.62327072, 10024.756877790798]\n",
      "Iterations: 5\n",
      "Timestep: 311\n",
      "cov position erors: 12754.805482146867\n",
      "Mean (m): [-6.132413706085095e6, -1.5751901366112884e6, 783462.793880326, 10022.25578053996]\n",
      "Iterations: 5\n",
      "Timestep: 312\n"
     ]
    },
    {
     "name": "stdout",
     "output_type": "stream",
     "text": [
      "cov position erors: 12235.518554984184\n",
      "Mean (m): [-6.131921095387554e6, -1.576186806567521e6, 782871.2082470281, 10020.244757432694]\n",
      "Iterations: 5\n",
      "Timestep: 313\n",
      "cov position erors: 11397.169899039594\n",
      "Mean (m): [-6.131518505959224e6, -1.5769069805570603e6, 782446.9268235594, 10018.915822634794]\n",
      "Iterations: 5\n",
      "Timestep: 314\n",
      "cov position erors: 10831.276715940712\n",
      "Mean (m): [-6.131195982976894e6, -1.5775806663514823e6, 781992.4345260508, 10017.295061290879]\n",
      "Iterations: 5\n",
      "Timestep: 315\n",
      "cov position erors: 9895.735350616127\n",
      "Mean (m): [-6.130861194134845e6, -1.5781262034962538e6, 781676.5075978845, 10016.270884907392]\n",
      "Iterations: 5\n",
      "Timestep: 316\n",
      "cov position erors: 10033.552767973151\n",
      "Mean (m): [-6.130438181529352e6, -1.579127642074335e6, 781154.9762262988, 10014.666821713285]\n",
      "Iterations: 5\n",
      "Timestep: 317\n",
      "cov position erors: 9524.598673222627\n",
      "Mean (m): [-6.130055529402198e6, -1.580061134636223e6, 780638.1482269117, 10012.924279169796]\n",
      "Iterations: 5\n",
      "Timestep: 318\n",
      "cov position erors: 9115.692734630838\n",
      "Mean (m): [-6.129998350223548e6, -1.579959984552603e6, 780595.3832310643, 10012.647672808105]\n",
      "Iterations: 5\n",
      "Timestep: 319\n",
      "cov position erors: 8619.859863930382\n",
      "Mean (m): [-6.129642144052401e6, -1.5809868029153654e6, 780036.2077054773, 10010.780174862895]\n",
      "Iterations: 5\n",
      "Timestep: 320\n",
      "cov position erors: 8727.799590899771\n",
      "Mean (m): [-6.1294709103638455e6, -1.5813804931545898e6, 779791.4439478865, 10009.893273236281]\n",
      "Iterations: 5\n",
      "Timestep: 321\n",
      "cov position erors: 8103.246624914014\n",
      "Mean (m): [-6.12924531057851e6, -1.5819353268601273e6, 779502.8232250307, 10008.964393249233]\n",
      "Iterations: 5\n",
      "Timestep: 322\n",
      "cov position erors: 7630.709293562624\n",
      "Mean (m): [-6.129171379633059e6, -1.5820092694257956e6, 779407.8246694154, 10008.667960020088]\n",
      "Iterations: 5\n",
      "Timestep: 323\n",
      "cov position erors: 7822.679919110119\n",
      "Mean (m): [-6.128972814453171e6, -1.5825244862286928e6, 779123.4164128791, 10007.692389431077]\n",
      "Iterations: 5\n",
      "Timestep: 324\n",
      "cov position erors: 7233.96208849758\n",
      "Mean (m): [-6.128764002880541e6, -1.583109984614319e6, 778838.6336771887, 10006.73109244249]\n",
      "Iterations: 5\n",
      "Timestep: 325\n",
      "cov position erors: 7334.57885000597\n",
      "Mean (m): [-6.128740570817365e6, -1.583105348135281e6, 778762.482091425, 10006.42956942535]\n",
      "Iterations: 5\n",
      "Timestep: 326\n",
      "cov position erors: 6635.000683251926\n",
      "Mean (m): [-6.128570345261975e6, -1.5836333585437257e6, 778511.670986163, 10005.573386773429]\n",
      "Iterations: 5\n",
      "Timestep: 327\n",
      "cov position erors: 6864.336076889926\n",
      "Mean (m): [-6.1285311955526285e6, -1.5838305696783732e6, 778344.0556009619, 10004.915817393352]\n",
      "Iterations: 5\n",
      "Timestep: 328\n",
      "cov position erors: 6634.26711658547\n",
      "Mean (m): [-6.128358188922562e6, -1.584377884816511e6, 778093.7534479887, 10003.943597033356]\n",
      "Iterations: 5\n",
      "Timestep: 329\n",
      "cov position erors: 6251.524938256085\n",
      "Mean (m): [-6.128275070054647e6, -1.5845068986586716e6, 778052.5676372708, 10004.069116478799]\n",
      "Iterations: 5\n",
      "Timestep: 330\n",
      "cov position erors: 6313.343904851472\n",
      "Mean (m): [-6.128216099601832e6, -1.5848607141430783e6, 777848.1682339835, 10003.126350232893]\n",
      "Iterations: 5\n",
      "Timestep: 331\n",
      "cov position erors: 6158.18404580746\n",
      "Mean (m): [-6.128226814479336e6, -1.5847055037869802e6, 777848.9938413324, 10003.20179370627]\n",
      "Iterations: 5\n",
      "Timestep: 332\n",
      "cov position erors: 5737.473868035908\n",
      "Mean (m): [-6.128078693370754e6, -1.585275799223624e6, 777609.2842958082, 10002.318249821119]\n",
      "Iterations: 5\n",
      "Timestep: 333\n",
      "cov position erors: 5845.785521772461\n",
      "Mean (m): [-6.128055328094817e6, -1.585373013844669e6, 777505.6052610821, 10001.86203945142]\n",
      "Iterations: 5\n",
      "Timestep: 334\n",
      "cov position erors: 5749.60229965066\n",
      "Mean (m): [-6.12797885917279e6, -1.585540617010426e6, 777429.7785715994, 10001.575773265253]\n",
      "Iterations: 5\n",
      "Timestep: 335\n",
      "cov position erors: 5312.764190421273\n",
      "Mean (m): [-6.127907810575435e6, -1.585910821222656e6, 777265.1376804161, 10001.018561250623]\n",
      "Iterations: 5\n",
      "Timestep: 336\n",
      "cov position erors: 5669.9600391180775\n",
      "Mean (m): [-6.127929156796309e6, -1.585845839017583e6, 777238.2932783766, 10000.824732424346]\n",
      "Iterations: 5\n",
      "Timestep: 337\n",
      "cov position erors: 5236.16399102358\n",
      "Mean (m): [-6.127835835598373e6, -1.586295200059633e6, 777073.6062895193, 10000.271206096988]\n",
      "Iterations: 5\n",
      "Timestep: 338\n",
      "cov position erors: 5234.117115574418\n",
      "Mean (m): [-6.127767460741282e6, -1.58660655394608e6, 776959.7512357997, 9999.859860373172]\n",
      "Iterations: 5\n",
      "Timestep: 339\n",
      "cov position erors: 5287.306225044716\n",
      "Mean (m): [-6.127686734126544e6, -1.5869861294645981e6, 776823.8366802239, 9999.308146692341]\n",
      "Iterations: 5\n",
      "Timestep: 340\n",
      "cov position erors: 5130.389536893287\n",
      "Mean (m): [-6.127753864616773e6, -1.5869028922703993e6, 776797.4616864146, 9999.218297743228]\n",
      "Iterations: 5\n",
      "Timestep: 341\n",
      "cov position erors: 5066.003469420695\n",
      "Mean (m): [-6.127706428979348e6, -1.587052119214164e6, 776728.2312979605, 9998.90820379935]\n",
      "Iterations: 5\n",
      "Timestep: 342\n",
      "cov position erors: 4912.486242233692\n",
      "Mean (m): [-6.12772658196631e6, -1.5870169025594404e6, 776692.381210915, 9998.731059004873]\n",
      "Iterations: 5\n",
      "Timestep: 343\n",
      "cov position erors: 5031.098439194577\n",
      "Mean (m): [-6.127635779158241e6, -1.5875506276281911e6, 776545.4728934433, 9998.088948948423]\n",
      "Iterations: 5\n",
      "Timestep: 344\n",
      "cov position erors: 4924.515645272645\n",
      "Mean (m): [-6.127608956029065e6, -1.5875300271457671e6, 776519.7335165053, 9998.058103747337]\n",
      "Iterations: 5\n",
      "Timestep: 345\n",
      "cov position erors: 4747.536900342987\n",
      "Mean (m): [-6.127587407685518e6, -1.5877980176249456e6, 776432.4841330423, 9997.671567415362]\n",
      "Iterations: 5\n",
      "Timestep: 346\n"
     ]
    }
   ],
   "source": [
    "#Navigation\n",
    "#count = 0\n",
    "n=1000\n",
    "PDOP_array = zeros(size(eci_1)[2],1)\n",
    "for i=1:size(eci_1)[2] - 1\n",
    "    \n",
    "    satposes = [eci_1[1,i] eci_1[2,i] eci_1[3,i];eci_2[1,i] eci_2[2,i] eci_2[3,i];eci_3[1,i] eci_3[2,i] eci_3[3,i];eci_4[1,i] eci_4[2,i] eci_4[3,i]]\n",
    "    satposes2 = [eci_1[1,i+1] eci_1[2,i+1] eci_1[3,i+1];eci_2[1,i+1] eci_2[2,i+1] eci_2[3,i+1];eci_3[1,i+1] eci_3[2,i+1] eci_3[3,i+1];eci_4[1,i+1] eci_4[2,i+1] eci_4[3,i+1]]\n",
    "    zenith_angles = zenith_angle(satposes, r0[1:3])\n",
    "    zenith_angles2 = zenith_angle(satposes2, r0[1:3])\n",
    "    \n",
    "    zdot = zenith_angles - zenith_angles2\n",
    "\n",
    "    #check all angles to see if it is on the horizon \n",
    "    \n",
    "    inhorizon = all(x->x<70, zenith_angles)\n",
    "    \n",
    "    if inhorizon==false\n",
    "        \n",
    "        continue #skip the current iteration\n",
    "    end\n",
    "\n",
    "    #In km then to custom units\n",
    "    r1 = [eci_1[1,i], eci_1[2,i], eci_1[3,i]]*1e-3/distance_scale\n",
    "    r2 = [eci_2[1,i], eci_2[2,i], eci_2[3,i]]*1e-3/distance_scale\n",
    "    r3 = [eci_3[1,i], eci_3[2,i], eci_3[3,i]]*1e-3/distance_scale\n",
    "    r4 = [eci_4[1,i], eci_4[2,i], eci_4[3,i]]*1e-3/distance_scale\n",
    "    \n",
    "    v1 = [eci_1[4,i], eci_1[5,i], eci_1[6,i]]*1e-3/velocity_scale\n",
    "    v2 = [eci_2[4,i], eci_2[5,i], eci_2[6,i]]*1e-3/velocity_scale\n",
    "    v3 = [eci_3[4,i], eci_3[5,i], eci_3[6,i]]*1e-3/velocity_scale\n",
    "    v4 = [eci_4[4,i], eci_4[5,i], eci_4[6,i]]*1e-3/velocity_scale\n",
    "\n",
    "    pose1 = [r1' v1']\n",
    "    pose2 = [r2' v2']\n",
    "    pose3 = [r3' v3']\n",
    "    pose4 = [r4' v4']\n",
    "    \n",
    "    time = [0.006, 0.006, 0.006, 0.008]/time_scale # assume a fixed time for the rotation matrix\n",
    "    \n",
    "    #calculate the rdots. need to build the pose matrices\n",
    "    deltaf = measurment(r0_scaled, pose1, pose2, pose3, pose4, time)\n",
    "    \n",
    "    pose1_rdot1 = [pose1 deltaf[1]]\n",
    "    pose2_rdot2 = [pose2 deltaf[2]]\n",
    "    pose3_rdot3 = [pose3 deltaf[3]]\n",
    "    pose4_rdot4 = [pose4 deltaf[4]]\n",
    "    \n",
    "    all_sats_scaled = vcat(pose1_rdot1,pose2_rdot2,pose3_rdot3,pose4_rdot4)\n",
    "    \n",
    "    #Generate a guess at the centroid of all 4 sats on the surface of the Earth. Scaled to km\n",
    "    \n",
    "    centroid_guess = [(eci_1[1,i]+eci_2[1,i]+eci_3[1,i]+eci_4[1,i])/4, (eci_1[2,i]+eci_2[2,i]+eci_3[2,i]+eci_4[2,i])/4, (eci_1[3,i]+eci_2[3,i]+eci_3[3,i]+eci_4[3,i])/4] \n",
    "    onearth = sECEFtoGEOC(centroid_guess, use_degrees = true)\n",
    "    geodetic = [onearth[1], onearth[2], 0]\n",
    "\n",
    "    xyz_guess = sGEOCtoECEF(geodetic, use_degrees = true)*1e-3 #change to km\n",
    "\n",
    "    xyz_guess\n",
    "    \n",
    "    #Find all possible positions from montecarlo and send unscaled guess\n",
    "    mean_rescaled, all_r0, iters = receiver_pose(all_sats_scaled, xyz_guess, zenith_angles, time, zdot)\n",
    "    \n",
    "    all_r0_scaled = zeros(n,4)\n",
    "\n",
    "    #Rescale back to units (m and s)\n",
    "    for i in 1:n\n",
    "    \n",
    "        #all_r0_scaled[i,:] = [all_r0[i][1:3]*distance_scale*1e3; all_r0[i][4]*frequency_scale]\n",
    "        all_r0_scaled[i,:] = [all_r0[i][1:3]*distance_scale*1e3; all_r0[i][4]*1e3*velocity_scale]\n",
    "\n",
    "    end\n",
    "    \n",
    "    totalsum = zeros(4,4)\n",
    "\n",
    "    for i in 1:n\n",
    "        value = all_r0_scaled[i,:] - mean_rescaled\n",
    "        matrixvalue = value*transpose(value)\n",
    "        totalsum += matrixvalue\n",
    "    \n",
    "    end\n",
    "    \n",
    "    covariancematrix = totalsum/n\n",
    "    \n",
    "    PDOP = sqrt(covariancematrix[1,1] + covariancematrix[2,2] + covariancematrix[3,3])\n",
    "    PDOP_array[i,1] = PDOP\n",
    "    println(\"cov position erors: \", PDOP)\n",
    "    println(\"Mean (m): \", mean_rescaled)\n",
    "    println(\"Iterations: \", iters)\n",
    "    println(\"Timestep: \", i)\n",
    "\n",
    "end    "
   ]
  },
  {
   "cell_type": "code",
   "execution_count": 96,
   "id": "119580d4",
   "metadata": {
    "scrolled": true
   },
   "outputs": [
    {
     "name": "stdout",
     "output_type": "stream",
     "text": [
      "Maximum PDOP: 157867.2675581488\n",
      "Minimum PDOP: 4747.536900342987\n"
     ]
    }
   ],
   "source": [
    "final_PDOP = PDOP_array[PDOP_array .!=0]\n",
    "\n",
    "PDOP_max = findmax(final_PDOP)[1]\n",
    "PDOP_min = findmin(final_PDOP)[1]\n",
    "\n",
    "println(\"Maximum PDOP: \", PDOP_max)\n",
    "println(\"Minimum PDOP: \", PDOP_min)"
   ]
  },
  {
   "cell_type": "code",
   "execution_count": 25,
   "id": "24f11e7e",
   "metadata": {},
   "outputs": [
    {
     "data": {
      "text/plain": [
       "4-element Vector{Float64}:\n",
       " -0.9609082828788089\n",
       " -0.24932142011452468\n",
       "  0.12168918371970193\n",
       "  0.33356409519815206"
      ]
     },
     "execution_count": 25,
     "metadata": {},
     "output_type": "execute_result"
    }
   ],
   "source": [
    "r0_scaled"
   ]
  },
  {
   "cell_type": "code",
   "execution_count": 26,
   "id": "1d570082",
   "metadata": {},
   "outputs": [
    {
     "data": {
      "text/plain": [
       "4-element Vector{Float64}:\n",
       " -9625.008623511323\n",
       " -2580.926606494148\n",
       "   835.4931473148392\n",
       "     3.9e6"
      ]
     },
     "execution_count": 26,
     "metadata": {},
     "output_type": "execute_result"
    }
   ],
   "source": [
    "initial_guess = [-9625.008623511323, -2580.926606494148, 835.4931473148392, 3.9e6]"
   ]
  },
  {
   "cell_type": "code",
   "execution_count": null,
   "id": "d999f4cf",
   "metadata": {},
   "outputs": [],
   "source": [
    "r0_scaled - initial_guess"
   ]
  },
  {
   "cell_type": "code",
   "execution_count": null,
   "id": "1941a677",
   "metadata": {},
   "outputs": [],
   "source": [
    "actualpose =[-6.128804e6, -1.590206e6, 776.1502e3, 1e6]"
   ]
  },
  {
   "cell_type": "code",
   "execution_count": null,
   "id": "dc6a8a6e",
   "metadata": {},
   "outputs": [],
   "source": [
    "log10(79.34904895113688)"
   ]
  },
  {
   "cell_type": "code",
   "execution_count": null,
   "id": "baa540d9",
   "metadata": {},
   "outputs": [],
   "source": [
    "i=303\n",
    "\n",
    "satposes = [eci_1[1,i] eci_1[2,i] eci_1[3,i];eci_2[1,i] eci_2[2,i] eci_2[3,i];eci_3[1,i] eci_3[2,i] eci_3[3,i];eci_4[1,i] eci_4[2,i] eci_4[3,i]]\n",
    "satposes2 = [eci_1[1,i+1] eci_1[2,i+1] eci_1[3,i+1];eci_2[1,i+1] eci_2[2,i+1] eci_2[3,i+1];eci_3[1,i+1] eci_3[2,i+1] eci_3[3,i+1];eci_4[1,i+1] eci_4[2,i+1] eci_4[3,i+1]]\n",
    "zenith_angles = zenith_angle(satposes, r0[1:3])\n",
    "zenith_angles2 = zenith_angle(satposes2, r0[1:3])\n",
    "\n",
    "println(\"satposes: \", satposes)\n",
    "\n",
    "println(\"satposes2: \", satposes2)\n",
    "    \n",
    "zdot = zenith_angles - zenith_angles2\n",
    "\n",
    "#check all angles to see if it is on the horizon \n",
    "    \n",
    "inhorizon = all(x->x<70, zenith_angles)\n",
    "    \n",
    "#if inhorizon==false\n",
    "#    continue #skip the current iteration\n",
    "#end\n",
    "\n",
    "#In km then to custom units\n",
    "r1 = [eci_1[1,i], eci_1[2,i], eci_1[3,i]]*1e-3/distance_scale\n",
    "r2 = [eci_2[1,i], eci_2[2,i], eci_2[3,i]]*1e-3/distance_scale\n",
    "r3 = [eci_3[1,i], eci_3[2,i], eci_3[3,i]]*1e-3/distance_scale\n",
    "r4 = [eci_4[1,i], eci_4[2,i], eci_4[3,i]]*1e-3/distance_scale\n",
    "    \n",
    "v1 = [eci_1[4,i], eci_1[5,i], eci_1[6,i]]*1e-3/velocity_scale\n",
    "v2 = [eci_2[4,i], eci_2[5,i], eci_2[6,i]]*1e-3/velocity_scale\n",
    "v3 = [eci_3[4,i], eci_3[5,i], eci_3[6,i]]*1e-3/velocity_scale\n",
    "v4 = [eci_4[4,i], eci_4[5,i], eci_4[6,i]]*1e-3/velocity_scale\n",
    "\n",
    "pose1 = [r1' v1']\n",
    "pose2 = [r2' v2']\n",
    "pose3 = [r3' v3']\n",
    "pose4 = [r4' v4']\n",
    "    \n",
    "#at second frequency\n",
    "pose5= [r1' v1']\n",
    "pose6= [r2' v2']\n",
    "pose7= [r3' v3']\n",
    "pose8= [r4' v4']\n",
    "    \n",
    "time = [0.006, 0.006, 0.006, 0.008]/time_scale # assume a fixed time for the rotation matrix\n",
    "    \n",
    "#calculate the rdots. need to build the pose matrices\n",
    "deltaf = measurment(r0_scaled, pose1, pose2, pose3, pose4, time)\n",
    "    \n",
    "pose1_rdot1 = [pose1 deltaf[1]]\n",
    "pose2_rdot2 = [pose2 deltaf[2]]\n",
    "pose3_rdot3 = [pose3 deltaf[3]]\n",
    "pose4_rdot4 = [pose4 deltaf[4]]\n",
    "    \n",
    "all_sats_scaled = vcat(pose1_rdot1, pose2_rdot2, pose3_rdot3, pose4_rdot4)\n",
    "    \n",
    "println(\"this is deltaf: \", deltaf)"
   ]
  },
  {
   "cell_type": "code",
   "execution_count": null,
   "id": "56029ed2",
   "metadata": {},
   "outputs": [],
   "source": [
    "initial_guess = [-0.963179168952113, -0.258771187758936, 0.07296286988883226, 0.3342312233885483]"
   ]
  },
  {
   "cell_type": "code",
   "execution_count": null,
   "id": "b6775e79",
   "metadata": {},
   "outputs": [],
   "source": [
    "R = doppler_residual(initial_guess, all_sats_scaled, time)"
   ]
  },
  {
   "cell_type": "code",
   "execution_count": null,
   "id": "95253d0f",
   "metadata": {},
   "outputs": [],
   "source": [
    "[-0.963179168952113, -0.258771187758936, 0.07296286988883226, 0.3342312233885483]"
   ]
  }
 ],
 "metadata": {
  "@webio": {
   "lastCommId": "ceb99fc239fd4675918f2751f1dd452a",
   "lastKernelId": "7ccc098c-9d2e-4bce-a555-0e72d2a332a0"
  },
  "kernelspec": {
   "display_name": "Julia 1.6.5",
   "language": "julia",
   "name": "julia-1.6"
  },
  "language_info": {
   "file_extension": ".jl",
   "mimetype": "application/julia",
   "name": "julia",
   "version": "1.6.5"
  }
 },
 "nbformat": 4,
 "nbformat_minor": 5
}
