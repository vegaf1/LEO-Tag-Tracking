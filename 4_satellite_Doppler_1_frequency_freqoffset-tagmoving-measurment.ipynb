{
 "cells": [
  {
   "cell_type": "code",
   "execution_count": 1,
   "id": "8e7fa96b",
   "metadata": {},
   "outputs": [
    {
     "data": {
      "application/vnd.webio.node+json": {
       "children": [],
       "instanceArgs": {
        "namespace": "html",
        "tag": "div"
       },
       "nodeType": "DOM",
       "props": {},
       "type": "node"
      },
      "text/html": [
       "<div style=\"padding: 1em; background-color: #f8d6da; border: 1px solid #f5c6cb; font-weight: bold;\">\n",
       "<p>The WebIO Jupyter extension was not detected. See the\n",
       "<a href=\"https://juliagizmos.github.io/WebIO.jl/latest/providers/ijulia/\" target=\"_blank\">\n",
       "    WebIO Jupyter integration documentation\n",
       "</a>\n",
       "for more information.\n",
       "</div>\n"
      ],
      "text/plain": [
       "WebIO._IJuliaInit()"
      ]
     },
     "metadata": {
      "application/vnd.webio.node+json": {
       "kernelId": "46942a20-e3b8-4af1-a435-88468975bcb2"
      }
     },
     "output_type": "display_data"
    }
   ],
   "source": [
    "#4 satellites Doppler 1 frequency\n",
    "\n",
    "#Solving for pose and frequency offset\n",
    "\n",
    "#Rotation of Earth and the effect of the ionosphere are included\n",
    "\n",
    "#Doppler Method for Localizing a receiver\n",
    "#Fausto Vega\n",
    "\n",
    "using SatelliteDynamics\n",
    "using LinearAlgebra\n",
    "using PlotlyJS\n",
    "using DelimitedFiles\n",
    "using Distributions"
   ]
  },
  {
   "cell_type": "code",
   "execution_count": 2,
   "id": "83963c76",
   "metadata": {},
   "outputs": [
    {
     "data": {
      "text/plain": [
       "Epoch(2019-01-01T11:59:23.000Z)"
      ]
     },
     "execution_count": 2,
     "metadata": {},
     "output_type": "execute_result"
    }
   ],
   "source": [
    "# Declare simulation initial Epoch. Start time\n",
    "epc0 = Epoch(2019, 1, 1, 12, 0, 0, 0.0)  #year, month, day, hour, minute, seconds, nanoseconds "
   ]
  },
  {
   "cell_type": "code",
   "execution_count": 3,
   "id": "0e8c112a",
   "metadata": {},
   "outputs": [],
   "source": [
    "# Declare initial state in terms of osculating orbital elements\n",
    "#semi-major axis, eccentricity, inclination, RAAN, Argument of perigee, Mean anomaly\n",
    "\n",
    "#1 and 2 on the same orbit, different initial mean anomaly\n",
    "\n",
    "#iss1 = [7378e3, 0.0004879, 90.6391, 189.0859, 151.2014, 185]; #converges at 189.0859\n",
    "#iss2 = [7378e3, 0.0004879, 90.6391, 189.0859, 151.2014, 205];\n",
    "#iss3 = [7378e3, 0.0004879, 90.6391, 201.0859, 151.2014, 190]; # converges a t 200.0859\n",
    "#iss4 = [7378e3, 0.0004879, 90.6391, 201.0859, 151.2014, 210]; # converges a t 200.0859\n",
    "\n",
    "#approximately 500 km elevation from surface of Earth and around 100 km seperation at equator\n",
    "#working good\n",
    "#iss1 = [6871e3, 0.0004879, 90.6391, 194.5859, 151.2014, 190]; \n",
    "#iss2 = [6871e3, 0.0004879, 90.6391, 194.5859, 151.2014, 200];\n",
    "#iss3 = [6871e3, 0.0004879, 90.6391, 195.5859, 151.2014, 193]; \n",
    "#iss4 = [6871e3, 0.0004879, 90.6391, 195.5859, 151.2014, 203]; \n",
    "\n",
    "#ARGOS Orbit ~850 km altitude\n",
    "\n",
    "iss1 = [6871e3, 0.0004879, 90.6391, 194.5859, 151.2014, 190]; \n",
    "iss2 = [6871e3, 0.0004879, 90.6391, 194.5859, 151.2014, 200];\n",
    "iss3 = [6871e3, 0.0004879, 90.6391, 196.5859, 151.2014, 193]; \n",
    "iss4 = [6871e3, 0.0004879, 90.6391, 196.5859, 151.2014, 203]; \n",
    "\n",
    "\n",
    "\n",
    "#Function to convert mean anomoaly to eccentric anomaly\n",
    "E1 = anomaly_mean_to_eccentric(iss1[6], iss1[2], use_degrees=true); \n",
    "E2 = anomaly_mean_to_eccentric(iss2[6], iss2[2], use_degrees=true);\n",
    "E3 = anomaly_mean_to_eccentric(iss3[6], iss3[2], use_degrees=true);\n",
    "E4 = anomaly_mean_to_eccentric(iss4[6], iss4[2], use_degrees=true);"
   ]
  },
  {
   "cell_type": "code",
   "execution_count": 4,
   "id": "900db33d",
   "metadata": {},
   "outputs": [
    {
     "data": {
      "text/plain": [
       "6-element Vector{Float64}:\n",
       "      -6.551891283502199e6\n",
       "      -1.959561329014077e6\n",
       " -697065.2121487064\n",
       "    -762.6662561944706\n",
       "    -139.00657375176846\n",
       "    7573.567651354772"
      ]
     },
     "execution_count": 4,
     "metadata": {},
     "output_type": "execute_result"
    }
   ],
   "source": [
    "# Convert osculating elements to Cartesean state\n",
    "# returns position and velocity (m, m/s)\n",
    "\n",
    "eci0_1 = sOSCtoCART(iss1, use_degrees=true)\n",
    "eci0_2 = sOSCtoCART(iss2, use_degrees=true)\n",
    "eci0_3 = sOSCtoCART(iss3, use_degrees=true)\n",
    "eci0_4 = sOSCtoCART(iss4, use_degrees=true)"
   ]
  },
  {
   "cell_type": "code",
   "execution_count": 5,
   "id": "6b4ab0e5",
   "metadata": {},
   "outputs": [
    {
     "data": {
      "text/plain": [
       "Epoch(2019-01-01T13:33:51.144Z)"
      ]
     },
     "execution_count": 5,
     "metadata": {},
     "output_type": "execute_result"
    }
   ],
   "source": [
    "#compute the satellite orbital period given the semi-major axis\n",
    "\n",
    "#same for all 4 satellites since they have the same semi-major axis\n",
    "T = orbit_period(iss1[1])\n",
    "\n",
    "#final time for one orbit. Adds initial time to the orbital period\n",
    "\n",
    "epcf = epc0 + T"
   ]
  },
  {
   "cell_type": "code",
   "execution_count": 6,
   "id": "2dc0ac8e",
   "metadata": {},
   "outputs": [],
   "source": [
    "# Create an EarthInertialState orbit propagagator\n",
    "#needs initial epoch of state and the state vector\n",
    "orb1  = EarthInertialState(epc0, eci0_1, dt=1.0,\n",
    "            mass=1.0, n_grav=0, m_grav=0,\n",
    "            drag=false, srp=false,\n",
    "            moon=false, sun=false,\n",
    "            relativity=false\n",
    ")\n",
    "\n",
    "orb2  = EarthInertialState(epc0, eci0_2, dt=1.0,\n",
    "            mass=1.0, n_grav=0, m_grav=0,\n",
    "            drag=false, srp=false,\n",
    "            moon=false, sun=false,\n",
    "            relativity=false\n",
    ")\n",
    "\n",
    "orb3  = EarthInertialState(epc0, eci0_3, dt=1.0,\n",
    "            mass=1.0, n_grav=0, m_grav=0,\n",
    "            drag=false, srp=false,\n",
    "            moon=false, sun=false,\n",
    "            relativity=false\n",
    ")\n",
    "\n",
    "orb4  = EarthInertialState(epc0, eci0_4, dt=1.0,\n",
    "            mass=1.0, n_grav=0, m_grav=0,\n",
    "            drag=false, srp=false,\n",
    "            moon=false, sun=false,\n",
    "            relativity=false\n",
    ")\n",
    "\n",
    "# Propagate the orbit\n",
    "# orbit until the final time\n",
    "\n",
    "t_1, epc_1, eci_1 = sim!(orb1, epcf);\n",
    "t_2, epc_2, eci_2 = sim!(orb2, epcf);\n",
    "t_3, epc_3, eci_3 = sim!(orb3, epcf);\n",
    "t_4, epc_4, eci_4 = sim!(orb4, epcf);"
   ]
  },
  {
   "cell_type": "code",
   "execution_count": 7,
   "id": "3465652b",
   "metadata": {},
   "outputs": [
    {
     "data": {
      "text/plain": [
       "3-element Vector{Float64}:\n",
       "     -6.128804e6\n",
       "     -1.590206e6\n",
       " 776150.2"
      ]
     },
     "execution_count": 7,
     "metadata": {},
     "output_type": "execute_result"
    }
   ],
   "source": [
    "#equator position in cartesian coordinates\n",
    "tag =[-6.128804e6, -1.590206e6, 776.1502e3]\n",
    "\n",
    "#Examples of putting latitude and longitude and converting to ECEF coordinate frame\n",
    "#Equitorial position\n",
    "#tag_geof = [-165.4545, 16.98849, 0]\n",
    "\n",
    "#North pole position\n",
    "#tag_geof = [-165.4545, 46.98849, 0]\n",
    "\n",
    "#tag = sGEOCtoECEF(tag_geof, use_degrees = true)"
   ]
  },
  {
   "cell_type": "code",
   "execution_count": 8,
   "id": "7695b5a1",
   "metadata": {},
   "outputs": [
    {
     "name": "stdout",
     "output_type": "stream",
     "text": [
      "[-5.99796596057736e6, -1.6894678391131323e6, -1.3604169754625652e6]\n"
     ]
    }
   ],
   "source": [
    "#Equitorial Position\n",
    "#In m\n",
    "x0= tag[1] \n",
    "y0 = tag[2]\n",
    "z0 = tag[3]\n",
    "\n",
    "#λ0 = C_LIGHT/400e6 #nominal wavelength in m\n",
    "\n",
    "f0 = 1e6\n",
    "\n",
    "#r0 = [x0, y0, z0, λ0]\n",
    "r0 = [x0, y0, z0, f0]\n",
    "\n",
    "centroid_guess = [(eci_1[1,1]+eci_2[1,1]+eci_3[1,1]+eci_4[1,1])/4, (eci_1[2,1]+eci_2[2,1]+eci_3[2,1]+eci_4[2,1])/4, (eci_1[3,1]+eci_2[3,1]+eci_3[3,1]+eci_4[3,1])/4] \n",
    "onearth = sECEFtoGEOC(centroid_guess, use_degrees = true)\n",
    "geodetic = [onearth[1], onearth[2], 0]\n",
    "\n",
    "#Guess\n",
    "xyz = sGEOCtoECEF(geodetic, use_degrees = true)\n",
    "\n",
    "println(xyz)"
   ]
  },
  {
   "cell_type": "code",
   "execution_count": 9,
   "id": "0cb96000",
   "metadata": {},
   "outputs": [
    {
     "data": {
      "text/plain": [
       "surface with fields type, x, y, and z\n"
      ]
     },
     "execution_count": 9,
     "metadata": {},
     "output_type": "execute_result"
    }
   ],
   "source": [
    "#Plot Satellite 1 and 2 Orbit\n",
    "sat1 = scatter(x=eci_1[1,:], y=eci_1[2,:], z=eci_1[3,:], type=\"scatter3d\", mode=\"lines\", name=\"orbit 1&2\")\n",
    "\n",
    "#Plot Satellite 3 and 4 Orbit\n",
    "sat3 = scatter(x=eci_3[1,:], y=eci_3[2,:], z=eci_3[3,:], type=\"scatter3d\", mode=\"lines\", name=\"orbit 3&4\")\n",
    "\n",
    "#Plot all 4 satellite initial positions\n",
    "satellites = scatter(x=[eci_1[1,1],eci_2[1,1], eci_3[1,1], eci_4[1,1]], y=[eci_1[2,1],eci_2[2,1], eci_3[2,1], eci_4[2,1]],z=[eci_1[3,1],eci_2[3,1], eci_3[3,1], eci_4[3,1]], mode=\"markers\", marker_size = 4, type=\"scatter3d\", name=\"satellites\")\n",
    "\n",
    "#Plot Tag position\n",
    "tag = scatter(x = [r0[1], r0[1]], y = [r0[2], r0[2]], z = [r0[3], r0[3]], type=\"scatter3d\", name=\"tag\", mode=\"markers\", marker_size=5)\n",
    "\n",
    "#Plot the Guess\n",
    "guess = scatter(x = [xyz[1], xyz[1]], y = [xyz[2], xyz[2]], z = [xyz[3], xyz[3]], type=\"scatter3d\", name=\"guess\", mode=\"markers\", marker_size=5)\n",
    "\n",
    "#Plotting the sphere (Earth)\n",
    "n = 100\n",
    "u = range(-π, π; length = n)\n",
    "v = range(0, π; length = n)\n",
    "x = cos.(u) * sin.(v)'\n",
    "y = sin.(u) * sin.(v)' \n",
    "z = ones(n) * cos.(v)' \n",
    "\n",
    "earth = surface(z=z*6371000, x=x*6371000, y=y*6371000)\n",
    "\n",
    "#plot([sat1,sat3, satellites, tag, earth, guess]) #uncomment to see the plot"
   ]
  },
  {
   "cell_type": "code",
   "execution_count": 10,
   "id": "2fb3dc61",
   "metadata": {},
   "outputs": [
    {
     "data": {
      "text/plain": [
       "zenith_angle (generic function with 1 method)"
      ]
     },
     "execution_count": 10,
     "metadata": {},
     "output_type": "execute_result"
    }
   ],
   "source": [
    "#Finding the Zenith Angle\n",
    "\n",
    "function zenith_angle(satposes, r0)\n",
    "    \n",
    "    zenithangle = zeros(4)\n",
    "\n",
    "    #vector between tag and the satellite\n",
    "    normalvec = r0\n",
    "    \n",
    "    for i in 1:4\n",
    "        \n",
    "        vector = satposes[i,:] - r0[1:3]\n",
    "        \n",
    "        #Find the angle between the normal and the vector going from the tag to the satellte\n",
    "        theta = acos(dot(normalvec,vector)/(norm(normalvec)*norm(vector))) * (180/pi)\n",
    "        \n",
    "        #save zenith angle\n",
    "        zenithangle[i] = theta\n",
    "    end\n",
    "    \n",
    "    return zenithangle\n",
    "end"
   ]
  },
  {
   "cell_type": "code",
   "execution_count": 11,
   "id": "3189b08d",
   "metadata": {},
   "outputs": [
    {
     "name": "stdout",
     "output_type": "stream",
     "text": [
      "[93.63237107183178, 82.84377330309063, 91.00377335928297, 78.31523678325279]\n"
     ]
    },
    {
     "data": {
      "text/plain": [
       "false"
      ]
     },
     "execution_count": 11,
     "metadata": {},
     "output_type": "execute_result"
    }
   ],
   "source": [
    "#Testing zenith angle function\n",
    "satposes = [eci_1[1,1] eci_1[2,1] eci_1[3,1];eci_2[1,1] eci_2[2,1] eci_2[3,1];eci_3[1,1] eci_3[2,1] eci_3[3,1];eci_4[1,1] eci_4[2,1] eci_4[3,1]]\n",
    "\n",
    "zenith_angles = zenith_angle(satposes, r0[1:3])\n",
    "\n",
    "println(zenith_angles)\n",
    "\n",
    "#check all angles to see if it is on the horizon \n",
    "inhorizon = all(x->x<80, zenith_angles)"
   ]
  },
  {
   "cell_type": "code",
   "execution_count": 12,
   "id": "679a3e48",
   "metadata": {},
   "outputs": [],
   "source": [
    "#Obtain the orbital elements after each time step (not used in the sim) \n",
    "dim = size(t_1)[1]\n",
    "\n",
    "all_elements = zeros(6,dim)\n",
    "for i in 1:dim\n",
    "    \n",
    "    orbital_elements = sCARTtoOSC(eci_1[:,1], use_degrees=true)\n",
    "    all_elements[:,i] = orbital_elements\n",
    "end "
   ]
  },
  {
   "cell_type": "code",
   "execution_count": 13,
   "id": "91a535da",
   "metadata": {},
   "outputs": [
    {
     "data": {
      "text/plain": [
       "6-element Vector{Float64}:\n",
       "    -6.291285386249863e6\n",
       "    -1.66264810311861e6\n",
       "    -2.2161566541800327e6\n",
       " -2394.9708335284654\n",
       "  -540.1532693380549\n",
       "  7206.151917789134"
      ]
     },
     "execution_count": 13,
     "metadata": {},
     "output_type": "execute_result"
    }
   ],
   "source": [
    "#velocity is the last 3 elements of each column in eci matrices\n",
    "eci_1[:,1]"
   ]
  },
  {
   "cell_type": "code",
   "execution_count": 14,
   "id": "81be77c6",
   "metadata": {},
   "outputs": [
    {
     "data": {
      "text/plain": [
       "350000.0"
      ]
     },
     "execution_count": 14,
     "metadata": {},
     "output_type": "execute_result"
    }
   ],
   "source": [
    "#Generate TEC Distribution\n",
    "mu = 8e-4\n",
    "sigma = 3e-4\n",
    "lb = 3e-4\n",
    "ub = 13e-4\n",
    "d = Truncated(Normal(mu,sigma), lb, ub)\n",
    "\n",
    "#f = 1575.42e6 # in 1/s L1 frequency\n",
    "f = 400e6 # in 1/s system frequency\n",
    "h = 350e3 #in meters"
   ]
  },
  {
   "cell_type": "code",
   "execution_count": 15,
   "id": "e9d9b6ef",
   "metadata": {},
   "outputs": [
    {
     "data": {
      "text/plain": [
       "10000.0"
      ]
     },
     "execution_count": 15,
     "metadata": {},
     "output_type": "execute_result"
    }
   ],
   "source": [
    "using ForwardDiff\n",
    "using BlockDiagonals\n",
    "\n",
    "#scale used when estimating f0 (transmitting frequency)\n",
    "\n",
    "# distance_scale = R_EARTH*(1e-3)*1e-4 # scales km to custom scale working\n",
    "\n",
    "# time_scale = 1/(C_LIGHT/R_EARTH) #scales seconds to custom scale\n",
    "\n",
    "# velocity_scale = distance_scale/time_scale #scales velocities to custom scale\n",
    "\n",
    "# frequency_scale = 1e5 #working for f0 = 400e6\n",
    "\n",
    "# c = 10000 #km/s\n",
    "\n",
    "# # working to estimate bdot \n",
    "distance_scale = R_EARTH*(1e-3) # scales km to custom scale working\n",
    "\n",
    "time_scale = (1/(C_LIGHT/R_EARTH))*1e4 #scales seconds to custom scale\n",
    "\n",
    "velocity_scale = distance_scale/time_scale #scales velocities to custom scales\n",
    "\n",
    "frequency_scale = 1\n",
    "\n",
    "c = 1*1e4 #km/s\n",
    "\n",
    "#udpated scale to estimate a frequency offset bdot\n"
   ]
  },
  {
   "cell_type": "code",
   "execution_count": 16,
   "id": "b13f2fee",
   "metadata": {},
   "outputs": [
    {
     "data": {
      "text/plain": [
       "0.0001567856114959475"
      ]
     },
     "execution_count": 16,
     "metadata": {},
     "output_type": "execute_result"
    }
   ],
   "source": [
    "1/distance_scale"
   ]
  },
  {
   "cell_type": "code",
   "execution_count": 17,
   "id": "04527159",
   "metadata": {},
   "outputs": [
    {
     "data": {
      "text/plain": [
       "29.9792458"
      ]
     },
     "execution_count": 17,
     "metadata": {},
     "output_type": "execute_result"
    }
   ],
   "source": [
    "velocity_scale"
   ]
  },
  {
   "cell_type": "code",
   "execution_count": 18,
   "id": "6391085f",
   "metadata": {},
   "outputs": [
    {
     "data": {
      "text/plain": [
       "doppler_residual (generic function with 1 method)"
      ]
     },
     "execution_count": 18,
     "metadata": {},
     "output_type": "execute_result"
    }
   ],
   "source": [
    "#satposet is all the satellite known positions and the measured position\n",
    "#x is what we want to solve for\n",
    "#satpose is the satellite position and velocities as well as the measured change in frequency\n",
    "\n",
    "function doppler_residual(x, sat_pose_f, time)\n",
    "    \n",
    "    #true tag velocity\n",
    "    #tag_vel = [10, 12, 7]*1e-3/velocity_scale\n",
    "    \n",
    "    #println(\"this is tag_vel: \", tag_vel)\n",
    "    #the measured tag velocity will have noise\n",
    "    \n",
    "    omega = OMEGA_EARTH*time_scale #transform to custom scale\n",
    "    \n",
    "    #wavelength = 0.7494*1e-3/distance_scale #for a nominal frequency of 400 MHz\n",
    "    \n",
    "    omegahat = [0 -omega 0; omega 0 0; 0 0 0]\n",
    "    \n",
    "    A1 = [cos(omega*time[1]) sin(omega*time[1]) 0;\n",
    "          -sin(omega*time[1]) cos(omega*time[1]) 0;\n",
    "          0 0 1];\n",
    "    A2 = [cos(omega*time[2]) sin(omega*time[2]) 0;\n",
    "          -sin(omega*time[2]) cos(omega*time[2]) 0;\n",
    "          0 0 1];\n",
    "    A3 = [cos(omega*time[3]) sin(omega*time[3]) 0;\n",
    "          -sin(omega*time[3]) cos(omega*time[3]) 0;\n",
    "          0 0 1];\n",
    "    A4 = [cos(omega*time[4]) sin(omega*time[4]) 0;\n",
    "          -sin(omega*time[4]) cos(omega*time[4]) 0;\n",
    "          0 0 1];\n",
    "    \n",
    "    #residuals used to estimate transmitting frequency as an unknown\n",
    "    #res1 = (x[4]/c)*0.5*(1/norm(x[1:3] - A1*sat_pose_f[1,1:3]))*(-2*x[1:3]'*A1*omegahat*sat_pose_f[1,1:3] - 2*x[1:3]'*A1*sat_pose_f[1,4:6]+sat_pose_f[1,1:3]'*sat_pose_f[1,4:6]+sat_pose_f[1,4:6]'*sat_pose_f[1,1:3])- sat_pose_f[1,7]\n",
    "    #res2 = (x[4]/c)*0.5*(1/norm(x[1:3] - A2*sat_pose_f[2,1:3]))*(-2*x[1:3]'*A2*omegahat*sat_pose_f[2,1:3] - 2*x[1:3]'*A2*sat_pose_f[2,4:6]+sat_pose_f[2,1:3]'*sat_pose_f[2,4:6]+sat_pose_f[2,4:6]'*sat_pose_f[2,1:3])- sat_pose_f[2,7]\n",
    "    #res3 = (x[4]/c)*0.5*(1/norm(x[1:3] - A3*sat_pose_f[3,1:3]))*(-2*x[1:3]'*A3*omegahat*sat_pose_f[3,1:3] - 2*x[1:3]'*A3*sat_pose_f[3,4:6]+sat_pose_f[3,1:3]'*sat_pose_f[3,4:6]+sat_pose_f[3,4:6]'*sat_pose_f[3,1:3])- sat_pose_f[3,7]\n",
    "    #res4 = (x[4]/c)*0.5*(1/norm(x[1:3] - A4*sat_pose_f[4,1:3]))*(-2*x[1:3]'*A4*omegahat*sat_pose_f[4,1:3] - 2*x[1:3]'*A4*sat_pose_f[4,4:6]+sat_pose_f[4,1:3]'*sat_pose_f[4,4:6]+sat_pose_f[4,4:6]'*sat_pose_f[4,1:3])- sat_pose_f[4,7]\n",
    "    \n",
    "    #extra_term = tag_vel'*x[1:3] + x[1:3]'*tag_vel - 2*tag_vel'*A1*sat_pose_f[1,1:3]\n",
    "    \n",
    "    #println(\"this is extra term: \", extra_term)\n",
    "    \n",
    "    #velocity of tag included in residual \n",
    "    #residuals to estimate a frequency offset bdot\n",
    "    res1 = (f*frequency_scale/c)*(0.5*(1/norm(x[1:3] - A1*sat_pose_f[1,1:3]))*(-2*x[1:3]'*A1*omegahat*sat_pose_f[1,1:3] - 2*x[1:3]'*A1*sat_pose_f[1,4:6]+sat_pose_f[1,1:3]'*sat_pose_f[1,4:6]+sat_pose_f[1,4:6]'*sat_pose_f[1,1:3]) + x[4]) - sat_pose_f[1,7]\n",
    "    res2 = (f*frequency_scale/c)*(0.5*(1/norm(x[1:3] - A2*sat_pose_f[2,1:3]))*(-2*x[1:3]'*A2*omegahat*sat_pose_f[2,1:3] - 2*x[1:3]'*A2*sat_pose_f[2,4:6]+sat_pose_f[2,1:3]'*sat_pose_f[2,4:6]+sat_pose_f[2,4:6]'*sat_pose_f[2,1:3]) + x[4]) - sat_pose_f[2,7]\n",
    "    res3 = (f*frequency_scale/c)*(0.5*(1/norm(x[1:3] - A3*sat_pose_f[3,1:3]))*(-2*x[1:3]'*A3*omegahat*sat_pose_f[3,1:3] - 2*x[1:3]'*A3*sat_pose_f[3,4:6]+sat_pose_f[3,1:3]'*sat_pose_f[3,4:6]+sat_pose_f[3,4:6]'*sat_pose_f[3,1:3]) + x[4]) - sat_pose_f[3,7]\n",
    "    res4 = (f*frequency_scale/c)*(0.5*(1/norm(x[1:3] - A4*sat_pose_f[4,1:3]))*(-2*x[1:3]'*A4*omegahat*sat_pose_f[4,1:3] - 2*x[1:3]'*A4*sat_pose_f[4,4:6]+sat_pose_f[4,1:3]'*sat_pose_f[4,4:6]+sat_pose_f[4,4:6]'*sat_pose_f[4,1:3]) + x[4]) - sat_pose_f[4,7]\n",
    "    \n",
    "    return [res1; res2; res3; res4]\n",
    "   \n",
    "end"
   ]
  },
  {
   "cell_type": "code",
   "execution_count": 19,
   "id": "f85d1b82",
   "metadata": {},
   "outputs": [
    {
     "data": {
      "text/plain": [
       "measurment (generic function with 1 method)"
      ]
     },
     "execution_count": 19,
     "metadata": {},
     "output_type": "execute_result"
    }
   ],
   "source": [
    "#pose1-4 are satellite locations and velocities\n",
    "#r0 = [xyz of tag, emmitted frequency]\n",
    "\n",
    "#gets the true measurment\n",
    "function measurment(r0, pose1, pose2, pose3, pose4, time)\n",
    "    \n",
    "    #tag velocity\n",
    "    tag_vel = [2, 5, 3]*1e-3/velocity_scale\n",
    "    \n",
    "    #Make sure to scale all positions\n",
    "    \n",
    "    omega = OMEGA_EARTH*time_scale #change to custom time scale\n",
    "    \n",
    "    #wavelength = 0.7494*1e-3/distance_scale #for a nominal frequency of 400 MHz\n",
    "    \n",
    "    omegahat = [0 -omega 0; omega 0 0; 0 0 0]\n",
    "    \n",
    "    A1 = [cos(omega*time[1]) sin(omega*time[1]) 0;\n",
    "          -sin(omega*time[1]) cos(omega*time[1]) 0;\n",
    "          0 0 1];\n",
    "    A2 = [cos(omega*time[2]) sin(omega*time[2]) 0;\n",
    "          -sin(omega*time[2]) cos(omega*time[2]) 0;\n",
    "          0 0 1];\n",
    "    A3 = [cos(omega*time[3]) sin(omega*time[3]) 0;\n",
    "          -sin(omega*time[3]) cos(omega*time[3]) 0;\n",
    "          0 0 1];\n",
    "    A4 = [cos(omega*time[4]) sin(omega*time[4]) 0;\n",
    "          -sin(omega*time[4]) cos(omega*time[4]) 0;\n",
    "          0 0 1];\n",
    "    \n",
    "    #measurments for estimating a transmitting frequency\n",
    "    #deltaf1 = (r0[4]/c)*0.5*(1/norm(r0[1:3] - A1*pose1[1:3]))*(-2*r0[1:3]'*A1*omegahat*pose1[1:3] - 2*r0[1:3]'*A1*pose1[4:6]+pose1[1:3]'*pose1[4:6]+pose1[4:6]'*pose1[1:3])\n",
    "    #deltaf2 = (r0[4]/c)*0.5*(1/norm(r0[1:3] - A2*pose2[1:3]))*(-2*r0[1:3]'*A2*omegahat*pose2[1:3] - 2*r0[1:3]'*A2*pose2[4:6]+pose2[1:3]'*pose2[4:6]+pose2[4:6]'*pose2[1:3])\n",
    "    #deltaf3 = (r0[4]/c)*0.5*(1/norm(r0[1:3] - A3*pose3[1:3]))*(-2*r0[1:3]'*A3*omegahat*pose3[1:3] - 2*r0[1:3]'*A3*pose3[4:6]+pose3[1:3]'*pose3[4:6]+pose3[4:6]'*pose3[1:3])\n",
    "    #deltaf4 = (r0[4]/c)*0.5*(1/norm(r0[1:3] - A4*pose4[1:3]))*(-2*r0[1:3]'*A4*omegahat*pose4[1:3] - 2*r0[1:3]'*A4*pose4[4:6]+pose4[1:3]'*pose4[4:6]+pose4[4:6]'*pose4[1:3])\n",
    "    \n",
    "    #velocity not in the measurment\n",
    "    #measurments to estimate out a bdot value (frequency offset)\n",
    "    deltaf1 = (f*frequency_scale/c)*(0.5*(1/norm(r0[1:3] - A1*pose1[1:3]))*(tag_vel'*r0[1:3] + r0[1:3]'*tag_vel - 2*tag_vel'*A1*pose1[1:3]-2*r0[1:3]'*A1*omegahat*pose1[1:3] - 2*r0[1:3]'*A1*pose1[4:6]+pose1[1:3]'*pose1[4:6]+pose1[4:6]'*pose1[1:3]) + r0[4])\n",
    "    deltaf2 = (f*frequency_scale/c)*(0.5*(1/norm(r0[1:3] - A2*pose2[1:3]))*(tag_vel'*r0[1:3] + r0[1:3]'*tag_vel - 2*tag_vel'*A2*pose2[1:3]-2*r0[1:3]'*A2*omegahat*pose2[1:3] - 2*r0[1:3]'*A2*pose2[4:6]+pose2[1:3]'*pose2[4:6]+pose2[4:6]'*pose2[1:3]) + r0[4])\n",
    "    deltaf3 = (f*frequency_scale/c)*(0.5*(1/norm(r0[1:3] - A3*pose3[1:3]))*(tag_vel'*r0[1:3] + r0[1:3]'*tag_vel - 2*tag_vel'*A3*pose3[1:3]-2*r0[1:3]'*A3*omegahat*pose3[1:3] - 2*r0[1:3]'*A3*pose3[4:6]+pose3[1:3]'*pose3[4:6]+pose3[4:6]'*pose3[1:3]) + r0[4])\n",
    "    deltaf4 = (f*frequency_scale/c)*(0.5*(1/norm(r0[1:3] - A4*pose4[1:3]))*(tag_vel'*r0[1:3] + r0[1:3]'*tag_vel - 2*tag_vel'*A4*pose4[1:3]-2*r0[1:3]'*A4*omegahat*pose4[1:3] - 2*r0[1:3]'*A4*pose4[4:6]+pose4[1:3]'*pose4[4:6]+pose4[4:6]'*pose4[1:3]) + r0[4])\n",
    "    \n",
    "    return [deltaf1, deltaf2, deltaf3, deltaf4]\n",
    "end"
   ]
  },
  {
   "cell_type": "code",
   "execution_count": 20,
   "id": "4e8f0464",
   "metadata": {},
   "outputs": [
    {
     "data": {
      "text/plain": [
       "4-element Vector{Float64}:\n",
       " -0.9609082828788089\n",
       " -0.24932142011452468\n",
       "  0.12168918371970193\n",
       "  0.33356409519815206"
      ]
     },
     "execution_count": 20,
     "metadata": {},
     "output_type": "execute_result"
    }
   ],
   "source": [
    "#Equitorial Position\n",
    "\n",
    "#In km\n",
    "x0= x0*1e-3 #x tag position\n",
    "y0 = y0*1e-3 #y tag position\n",
    "z0 = z0*1e-3 #z tag position\n",
    "#f0 = 1e6 #nominal frequency (works)\n",
    "#f0 = 400e6 #working\n",
    "\n",
    "bdot = 1e4*1e-3 # working\n",
    "\n",
    "#r0_scaled = [x0/distance_scale, y0/distance_scale, z0/distance_scale, f0/frequency_scale]\n",
    "\n",
    "r0_scaled = [x0/distance_scale, y0/distance_scale, z0/distance_scale, bdot/velocity_scale]"
   ]
  },
  {
   "cell_type": "code",
   "execution_count": 21,
   "id": "9d49daa8",
   "metadata": {},
   "outputs": [
    {
     "data": {
      "text/plain": [
       "0.003919640287398688"
      ]
     },
     "execution_count": 21,
     "metadata": {},
     "output_type": "execute_result"
    }
   ],
   "source": [
    "diff = 25e3*1e-3/distance_scale "
   ]
  },
  {
   "cell_type": "code",
   "execution_count": 22,
   "id": "2a36c04d",
   "metadata": {},
   "outputs": [
    {
     "data": {
      "text/plain": [
       "receiver_pose (generic function with 1 method)"
      ]
     },
     "execution_count": 22,
     "metadata": {},
     "output_type": "execute_result"
    }
   ],
   "source": [
    "function receiver_pose(all_sats_scaled, guess, zenith_angles, time, zdot) # remember to scale the guess to custom units\n",
    "\n",
    "    n = 1000 # number of iterations\n",
    "    #all_r0 = NaN*[zeros(4) for i = 1:n]\n",
    "    all_r0 = [zeros(3) for i = 1:n] #obtain all the tag positions\n",
    "    \n",
    "    sat1poses = zeros(7,n)\n",
    "    sat2poses = zeros(7,n)\n",
    "    sat3poses = zeros(7,n)\n",
    "    sat4poses = zeros(7,n)\n",
    "\n",
    "    all_sats_noise = zeros(4,4)\n",
    "\n",
    "    iters = 0\n",
    "\n",
    "     #Monte Carlo Simulation\n",
    "    for i in 1:n\n",
    "        #Parameters for line search\n",
    "        #b = 0.01\n",
    "        b = 0.1\n",
    "        c_=0.5\n",
    "        #β = 10\n",
    "        β = 1.0\n",
    "        α = 1\n",
    "        \n",
    "        #create noise from normal distribution\n",
    "        \n",
    "        #scaled to the variable (0.1m error for distance & 1e-11 for time)\n",
    "        gpsnoise = randn(12)*(0.1*1e-3/distance_scale) #0.1 m switch to km then to custom scale\n",
    "        velocitynoise = randn(12)*(0.01*1e-3/velocity_scale)# 0.01 m/s\n",
    "        doppler_noise = randn(12)* 1/frequency_scale #0.001 ~ 500's of error\n",
    "        \n",
    "        #doppler_noise = randn(12)* 0/frequency_scale #0.001 ~ 500's of error\n",
    "        \n",
    "        TEC = rand(d,4) #vTEC for each satellite from custom distribution\n",
    "        \n",
    "        #tag_vel_noise = randn(3)*(1*1e-3/velocity_scale)# 1 m/s noise\n",
    "        \n",
    "        #tag_vel_noise = zeros(3) #zero noise\n",
    "    \n",
    "        #tag_vel = [2, 5, 3]*1e-3/velocity_scale\n",
    "        \n",
    "        #tag_vel_w_noise = tag_vel + tag_vel_noise\n",
    "        \n",
    "        #Calculating random TEC time delay\n",
    "        #for i=1:4\n",
    "        \n",
    "        #    OF[i] = (1-((R_EARTH*sind(zenith_angles[i]))/(R_EARTH+hi))^2)^(-1/2) #normal units (m and s)\n",
    "        #    Ip[i] = ((40.3*TEC[i])/(f^2))*OF[i] * 1e-3 #scale to km to use the custom unit\n",
    "        #    Ip_scaled[i] = Ip[i]/distance_scale #scale to custom units\n",
    "        \n",
    "        #end\n",
    "        \n",
    "        Idot1 = (((40.3*TEC[1])*((R_EARTH*sind(zenith_angles[1]))*(R_EARTH*cosd(zenith_angles[1])*zdot[1])/(R_EARTH + h)^2))/((f^2)*(1-((R_EARTH*sind(zenith_angles[1]))/(R_EARTH+h))^2)^1.5))*1e20*1e-3/velocity_scale\n",
    "        Idot2 = (((40.3*TEC[2])*((R_EARTH*sind(zenith_angles[2]))*(R_EARTH*cosd(zenith_angles[2])*zdot[2])/(R_EARTH + h)^2))/((f^2)*(1-((R_EARTH*sind(zenith_angles[2]))/(R_EARTH+h))^2)^1.5))*1e20*1e-3/velocity_scale\n",
    "        Idot3 = (((40.3*TEC[3])*((R_EARTH*sind(zenith_angles[3]))*(R_EARTH*cosd(zenith_angles[3])*zdot[3])/(R_EARTH + h)^2))/((f^2)*(1-((R_EARTH*sind(zenith_angles[3]))/(R_EARTH+h))^2)^1.5))*1e20*1e-3/velocity_scale\n",
    "        Idot4 = (((40.3*TEC[4])*((R_EARTH*sind(zenith_angles[4]))*(R_EARTH*cosd(zenith_angles[4])*zdot[4])/(R_EARTH + h)^2))/((f^2)*(1-((R_EARTH*sind(zenith_angles[4]))/(R_EARTH+h))^2)^1.5))*1e20*1e-3/velocity_scale\n",
    "        \n",
    "        iono1 = (f/c)*Idot1\n",
    "        iono2 = (f/c)*Idot2\n",
    "        iono3 = (f/c)*Idot3\n",
    "        iono4 = (f/c)*Idot4\n",
    "        \n",
    "        scaled_iono1 = iono1/distance_scale*velocity_scale\n",
    "        \n",
    "        #println(\"this is scaled_iono1: \", scaled_iono1) #in Hz\n",
    "        \n",
    "        sat1_noise = [all_sats_scaled[1,1]+gpsnoise[1],all_sats_scaled[1,2] + gpsnoise[2],all_sats_scaled[1,3]+gpsnoise[3], all_sats_scaled[1,4]+velocitynoise[1], all_sats_scaled[1,5]+velocitynoise[2],all_sats_scaled[1,6]+velocitynoise[3], all_sats_scaled[1,7]+iono1+doppler_noise[1]]\n",
    "        sat2_noise =[all_sats_scaled[2,1]+gpsnoise[4],all_sats_scaled[2,2] + gpsnoise[5],all_sats_scaled[2,3]+gpsnoise[6], all_sats_scaled[2,4]+velocitynoise[4], all_sats_scaled[2,5]+velocitynoise[5],all_sats_scaled[2,6]+velocitynoise[6], all_sats_scaled[2,7]+iono2+doppler_noise[2]]\n",
    "        sat3_noise = [all_sats_scaled[3,1]+gpsnoise[7],all_sats_scaled[3,2] + gpsnoise[8],all_sats_scaled[3,3]+gpsnoise[9], all_sats_scaled[3,4]+velocitynoise[7], all_sats_scaled[3,5]+velocitynoise[8],all_sats_scaled[3,6]+velocitynoise[9], all_sats_scaled[3,7]+iono3+doppler_noise[3]]\n",
    "        sat4_noise = [all_sats_scaled[4,1]+gpsnoise[10],all_sats_scaled[4,2] + gpsnoise[11],all_sats_scaled[4,3]+gpsnoise[12], all_sats_scaled[4,4]+velocitynoise[10], all_sats_scaled[4,5]+velocitynoise[11],all_sats_scaled[4,6]+velocitynoise[12], all_sats_scaled[4,7]+iono4+doppler_noise[4]]\n",
    "\n",
    "        all_sats_noise = vcat(sat1_noise',sat2_noise',sat3_noise',sat4_noise')\n",
    "        \n",
    "        sat1poses[:,i] = sat1_noise\n",
    "        sat2poses[:,i] = sat2_noise\n",
    "        sat3poses[:,i] = sat3_noise\n",
    "        sat4poses[:,i] = sat4_noise\n",
    "        \n",
    "        X = NaN*[zeros(4) for i = 1:n]\n",
    "        R = NaN*[zeros(4) for i = 1:n]\n",
    "        \n",
    "        #Centroid guess. Working for estimating transmit frequency\n",
    "        #X[1] = [guess[1]/distance_scale, guess[2]/distance_scale, guess[3]/distance_scale, 410e6/frequency_scale]\n",
    "        \n",
    "        \n",
    "        #working\n",
    "        X[1] = [r0_scaled[1]+diff, r0_scaled[2]+diff, r0_scaled[3]+diff, 1.002*1e4*1e-3/velocity_scale]\n",
    "\n",
    "        \n",
    "        #New guess to estimate bdot\n",
    "        #X[1] = [guess[1]/distance_scale, guess[2]/distance_scale, guess[3]/distance_scale, 1.002*1e4*1e-3/velocity_scale]\n",
    "\n",
    "        #X[1] = r0_scaled\n",
    "        \n",
    "        #println(\"this is initial guess: \", X[1])\n",
    "        #Initial residual\n",
    "        R[1] = doppler_residual(X[1], all_sats_noise, time)\n",
    "\n",
    "        iters = 0\n",
    "\n",
    "        for k=1:1000\n",
    "            \n",
    "            R[k] = doppler_residual(X[k], all_sats_noise, time) #calculate residual\n",
    "            \n",
    "            iters += 1\n",
    "\n",
    "            #if(norm(R[k]) < 1e-6)\n",
    "            if(norm(R[k]) < 1e-8)\n",
    "                \n",
    "                break\n",
    "\n",
    "            end\n",
    "\n",
    "            jacobian = ForwardDiff.jacobian(dx -> doppler_residual(dx, all_sats_noise, time), X[k])\n",
    "            \n",
    "            if(rank(jacobian) != 4) #if not full rank, move on to next iteration\n",
    "                \n",
    "                break\n",
    "\n",
    "            end\n",
    "            \n",
    "            conditionnum = cond(jacobian)\n",
    "            \n",
    "            #println(\"this is residual: \", norm(R[k]))\n",
    "            \n",
    "            #println(\"this is the condition number: \", conditionnum)\n",
    "            \n",
    "            #println(\"this is the jacobian: \", jacobian)\n",
    "            \n",
    "            #println(\"this is X[k]: \", X[k])\n",
    "\n",
    "            deltax = (jacobian)\\-R[k]\n",
    "            \n",
    "            if iters > 50\n",
    "                break\n",
    "            end\n",
    "            \n",
    "            while norm(doppler_residual(X[k] + α*deltax, all_sats_noise, time)) > norm(doppler_residual(X[k], all_sats_noise, time) + b*α*jacobian'*deltax)\n",
    "\n",
    "                α = c_*α\n",
    "                #print(\"this is alpha: \", α)\n",
    "            end\n",
    "\n",
    "            X[k+1] = X[k] + α*deltax\n",
    "             \n",
    "        end  \n",
    "        \n",
    "        R = R[1:iters]\n",
    "        X = X[1:iters]\n",
    "\n",
    "        all_r0[i] = X[end]\n",
    "\n",
    "    end\n",
    "    x_values = zeros(n)\n",
    "    y_values = zeros(n)\n",
    "    z_values = zeros(n)\n",
    "\n",
    "    for j in 1:n\n",
    "\n",
    "        x_values[j] = all_r0[j][1]\n",
    "        y_values[j] = all_r0[j][2]\n",
    "        z_values[j] = all_r0[j][3]\n",
    "\n",
    "    end\n",
    "    \n",
    "    #mean calculation\n",
    "    mean = sum(all_r0, dims = 1)/ n\n",
    "    mean = mean[1]\n",
    "    #for estimating frequency\n",
    "    #mean_rescaled = [mean[1:3]*distance_scale*1e3; mean[4]*frequency_scale] # in meters\n",
    "    \n",
    "    #For estimating bdot\n",
    "    mean_rescaled = [mean[1:3]*distance_scale*1e3; mean[4]*1e3*velocity_scale] # in meters\n",
    "\n",
    "    return mean_rescaled, all_r0, iters\n",
    "end"
   ]
  },
  {
   "cell_type": "code",
   "execution_count": 23,
   "id": "68bdcb20",
   "metadata": {},
   "outputs": [
    {
     "name": "stdout",
     "output_type": "stream",
     "text": [
      "cov position erors: 5680.293874688999\n",
      "Mean (m): [-6.125319125031333e6, -1.5906914022056558e6, 775547.0729768168, 10005.880311502022]\n",
      "Iterations: 5\n",
      "Timestep: 261\n",
      "cov position erors: 5533.886008623046\n",
      "Mean (m): [-6.125340393182108e6, -1.5906606482469323e6, 775504.6699925746, 10005.66523363926]\n",
      "Iterations: 5\n",
      "Timestep: 262\n",
      "cov position erors: 5982.0904732170575\n",
      "Mean (m): [-6.124837044632441e6, -1.5912662495361671e6, 775265.8736238457, 10004.83584222421]\n",
      "Iterations: 5\n",
      "Timestep: 263\n",
      "cov position erors: 6063.446607159385\n",
      "Mean (m): [-6.124699837529097e6, -1.591458648238983e6, 775157.8225597435, 10004.44841306804]\n",
      "Iterations: 5\n",
      "Timestep: 264\n",
      "cov position erors: 6191.250736049995\n",
      "Mean (m): [-6.124629244945934e6, -1.5914904331507361e6, 775059.2143697039, 10003.861304236209]\n",
      "Iterations: 5\n",
      "Timestep: 265\n",
      "cov position erors: 6506.584180415812\n",
      "Mean (m): [-6.124409098278642e6, -1.5917780531411665e6, 774904.1822471005, 10003.372163386543]\n",
      "Iterations: 5\n",
      "Timestep: 266\n",
      "cov position erors: 6383.947317671801\n",
      "Mean (m): [-6.124323960578931e6, -1.5918886769969126e6, 774795.1399210639, 10002.796331174706]\n",
      "Iterations: 5\n",
      "Timestep: 267\n",
      "cov position erors: 6575.288310369845\n",
      "Mean (m): [-6.124202849356005e6, -1.5920019338884982e6, 774678.43603988, 10002.466000751338]\n",
      "Iterations: 5\n",
      "Timestep: 268\n",
      "cov position erors: 6726.543988914597\n",
      "Mean (m): [-6.1239677400602335e6, -1.592309728752363e6, 774476.9476426219, 10001.604465784016]\n",
      "Iterations: 5\n",
      "Timestep: 269\n",
      "cov position erors: 7192.298096100912\n",
      "Mean (m): [-6.123560938814606e6, -1.5929547306863004e6, 774204.7592955373, 10000.72302571076]\n",
      "Iterations: 5\n",
      "Timestep: 270\n",
      "cov position erors: 7168.272293837855\n",
      "Mean (m): [-6.123330794787706e6, -1.5932284360277473e6, 773995.2366533509, 9999.954947288408]\n",
      "Iterations: 5\n",
      "Timestep: 271\n",
      "cov position erors: 7534.642728968786\n",
      "Mean (m): [-6.123039354826468e6, -1.5936237099645624e6, 773735.5751731598, 9998.99914688324]\n",
      "Iterations: 5\n",
      "Timestep: 272\n",
      "cov position erors: 7829.873057136635\n",
      "Mean (m): [-6.122734820674259e6, -1.5940620530605488e6, 773475.979481296, 9998.034953191704]\n",
      "Iterations: 5\n",
      "Timestep: 273\n",
      "cov position erors: 8052.216504328699\n",
      "Mean (m): [-6.122335385160208e6, -1.5946919269064772e6, 773131.887259145, 9996.8528824933]\n",
      "Iterations: 5\n",
      "Timestep: 274\n",
      "cov position erors: 8562.1771105667\n",
      "Mean (m): [-6.1220983273667e6, -1.5950672101752462e6, 772887.3947065528, 9995.9850899672]\n",
      "Iterations: 5\n",
      "Timestep: 275\n",
      "cov position erors: 9113.31602149478\n",
      "Mean (m): [-6.12202425263085e6, -1.5952741244580827e6, 772713.1347337896, 9995.345678117286]\n",
      "Iterations: 5\n",
      "Timestep: 276\n",
      "cov position erors: 9334.22097956851\n",
      "Mean (m): [-6.121612001485475e6, -1.5959693610222642e6, 772315.1191082749, 9993.855542800875]\n",
      "Iterations: 5\n",
      "Timestep: 277\n",
      "cov position erors: 9885.242788609678\n",
      "Mean (m): [-6.121198941774098e6, -1.5966425351856337e6, 771900.6280966449, 9992.376188025335]\n",
      "Iterations: 5\n",
      "Timestep: 278\n",
      "cov position erors: 10312.336809117887\n",
      "Mean (m): [-6.120745171382262e6, -1.5974412865999797e6, 771462.9563470926, 9991.028939177611]\n",
      "Iterations: 5\n",
      "Timestep: 279\n",
      "cov position erors: 11029.574194295583\n",
      "Mean (m): [-6.1205687830784675e6, -1.5978293738094587e6, 771172.5222057985, 9989.932201503452]\n",
      "Iterations: 5\n",
      "Timestep: 280\n",
      "cov position erors: 11489.0851148049\n",
      "Mean (m): [-6.119710987150686e6, -1.5993405543671313e6, 770369.7130634198, 9987.31902238652]\n",
      "Iterations: 5\n",
      "Timestep: 281\n",
      "cov position erors: 12225.671195953499\n",
      "Mean (m): [-6.119576509050184e6, -1.5997694151417916e6, 770080.1525145791, 9986.250174330893]\n",
      "Iterations: 5\n",
      "Timestep: 282\n",
      "cov position erors: 12979.989209784819\n",
      "Mean (m): [-6.118847586490841e6, -1.60117476647979e6, 769285.1834829892, 9983.452580123918]\n",
      "Iterations: 5\n",
      "Timestep: 283\n",
      "cov position erors: 14142.855578622999\n",
      "Mean (m): [-6.118407305538593e6, -1.6021494302563726e6, 768711.9635157147, 9981.511627639686]\n",
      "Iterations: 5\n",
      "Timestep: 284\n",
      "cov position erors: 15299.812761632465\n",
      "Mean (m): [-6.117466029984863e6, -1.6040436032093447e6, 767661.8586710407, 9978.030981088146]\n",
      "Iterations: 5\n",
      "Timestep: 285\n",
      "cov position erors: 16056.658429565237\n",
      "Mean (m): [-6.116558889077045e6, -1.6059679742574606e6, 766541.0661338465, 9974.156092078589]\n",
      "Iterations: 5\n",
      "Timestep: 286\n",
      "cov position erors: 18146.22714523865\n",
      "Mean (m): [-6.116247380791149e6, -1.6070305132839007e6, 765939.1765259658, 9972.075449158614]\n",
      "Iterations: 5\n",
      "Timestep: 287\n",
      "cov position erors: 20136.245233547408\n",
      "Mean (m): [-6.114864343347191e6, -1.6100919312469007e6, 764279.0674193613, 9966.470811832383]\n",
      "Iterations: 5\n",
      "Timestep: 288\n",
      "cov position erors: 22380.00897399263\n",
      "Mean (m): [-6.113853899003448e6, -1.6126906836084502e6, 762845.9641835722, 9961.818039629956]\n",
      "Iterations: 6\n",
      "Timestep: 289\n",
      "cov position erors: 25953.90891586991\n",
      "Mean (m): [-6.111603916197375e6, -1.6180925892706334e6, 759953.3742021355, 9952.111763093699]\n",
      "Iterations: 5\n",
      "Timestep: 290\n",
      "cov position erors: 29145.326812772375\n",
      "Mean (m): [-6.10926136167581e6, -1.6241018883388317e6, 756699.3793647008, 9941.348179840727]\n",
      "Iterations: 6\n",
      "Timestep: 291\n",
      "cov position erors: 36395.74642033696\n",
      "Mean (m): [-6.107180150964563e6, -1.6308291623221524e6, 753245.314261135, 9929.566385620692]\n",
      "Iterations: 6\n",
      "Timestep: 292\n",
      "cov position erors: 44187.64264617341\n",
      "Mean (m): [-6.103270441491421e6, -1.643093912200257e6, 746901.253195035, 9908.259741038313]\n",
      "Iterations: 5\n",
      "Timestep: 293\n",
      "cov position erors: 64274.93311046514\n",
      "Mean (m): [-6.097555507821375e6, -1.6671712894905978e6, 735026.8280088683, 9867.723583879519]\n",
      "Iterations: 6\n",
      "Timestep: 294\n",
      "cov position erors: 112575.67721457449\n",
      "Mean (m): [-6.088128577127855e6, -1.727132821880145e6, 706781.4964613537, 9768.632366174848]\n",
      "Iterations: 7\n",
      "Timestep: 295\n",
      "cov position erors: 102141.20528341156\n",
      "Mean (m): [-6.069575917587961e6, -1.763517397731813e6, 687527.6879894456, 9703.018241989621]\n",
      "Iterations: 51\n",
      "Timestep: 296\n",
      "cov position erors: 76038.23458273482\n",
      "Mean (m): [-6.070793140981708e6, -1.7205880804902883e6, 707069.0998561414, 9769.198077733516]\n",
      "Iterations: 51\n",
      "Timestep: 297\n",
      "cov position erors: 62704.57835165335\n",
      "Mean (m): [-6.0842031739915805e6, -1.6644967361621407e6, 734600.721946024, 9863.260038173834]\n",
      "Iterations: 38\n",
      "Timestep: 298\n",
      "cov position erors: 69358.88548383936\n",
      "Mean (m): [-6.075654688066814e6, -1.67911509086804e6, 727306.02894883, 9836.785830475668]\n",
      "Iterations: 51\n",
      "Timestep: 299\n",
      "cov position erors: 98850.733831865\n",
      "Mean (m): [-6.098408016559073e6, -1.625126086375374e6, 759752.0845157224, 9930.632063273948]\n",
      "Iterations: 51\n",
      "Timestep: 300\n",
      "cov position erors: 90281.4592187484\n",
      "Mean (m): [-6.102809833764255e6, -1.6003592030100028e6, 777977.4893280677, 9968.439593959167]\n",
      "Iterations: 6\n",
      "Timestep: 301\n",
      "cov position erors: 167731.48247241165\n",
      "Mean (m): [-6.200654299543655e6, -1.4946412296705607e6, 840341.3272606148, 10179.939557715017]\n",
      "Iterations: 51\n",
      "Timestep: 302\n",
      "cov position erors: 75254.93407869694\n",
      "Mean (m): [-6.155103262132106e6, -1.540159798630812e6, 804048.6286393299, 10091.523367932214]\n",
      "Iterations: 38\n",
      "Timestep: 303\n",
      "cov position erors: 28407.564627372652\n",
      "Mean (m): [-6.144200470955381e6, -1.5526165441215215e6, 795946.9038315478, 10066.779593565238]\n",
      "Iterations: 38\n",
      "Timestep: 304\n",
      "cov position erors: 24464.350274846816\n",
      "Mean (m): [-6.141124159516767e6, -1.557528396008312e6, 793053.8822501492, 10057.613301213498]\n",
      "Iterations: 6\n",
      "Timestep: 305\n",
      "cov position erors: 22021.429390518766\n",
      "Mean (m): [-6.138723817037584e6, -1.5615312355759162e6, 790645.0757538367, 10049.909547672674]\n",
      "Iterations: 6\n",
      "Timestep: 306\n",
      "cov position erors: 19416.96478896237\n",
      "Mean (m): [-6.1368157319001425e6, -1.564835838940014e6, 788717.4462278303, 10043.597264270233]\n",
      "Iterations: 5\n",
      "Timestep: 307\n",
      "cov position erors: 17401.424660088127\n",
      "Mean (m): [-6.13580245530365e6, -1.566358535555303e6, 787769.2017020525, 10040.649744464816]\n",
      "Iterations: 5\n",
      "Timestep: 308\n",
      "cov position erors: 16297.652943103565\n",
      "Mean (m): [-6.134390772221917e6, -1.5690621391302994e6, 786197.8681890096, 10035.531237695588]\n",
      "Iterations: 5\n",
      "Timestep: 309\n",
      "cov position erors: 15271.78200861907\n",
      "Mean (m): [-6.133796923205786e6, -1.5699280738958241e6, 785620.2664289016, 10033.536075324704]\n",
      "Iterations: 5\n",
      "Timestep: 310\n",
      "cov position erors: 13677.917400753404\n",
      "Mean (m): [-6.132796909534516e6, -1.5718936057186911e6, 784493.9778645352, 10029.833747901894]\n",
      "Iterations: 5\n",
      "Timestep: 311\n",
      "cov position erors: 12941.121290003512\n",
      "Mean (m): [-6.1322573278667815e6, -1.5728212343520322e6, 783951.1017944133, 10028.075339483808]\n",
      "Iterations: 5\n",
      "Timestep: 312\n"
     ]
    },
    {
     "name": "stdout",
     "output_type": "stream",
     "text": [
      "cov position erors: 11944.766434960247\n",
      "Mean (m): [-6.13178310596638e6, -1.5736451197837803e6, 783398.4803128095, 10026.018690355297]\n",
      "Iterations: 5\n",
      "Timestep: 313\n",
      "cov position erors: 11338.492945000984\n",
      "Mean (m): [-6.131223133498232e6, -1.5747844906220534e6, 782712.542854186, 10023.799097565672]\n",
      "Iterations: 5\n",
      "Timestep: 314\n",
      "cov position erors: 10776.507134531124\n",
      "Mean (m): [-6.130698239343754e6, -1.57589678375732e6, 782085.2551431562, 10021.74253163166]\n",
      "Iterations: 5\n",
      "Timestep: 315\n",
      "cov position erors: 10197.15167311\n",
      "Mean (m): [-6.130512035568169e6, -1.576002664726669e6, 781939.4473712402, 10021.08200252357]\n",
      "Iterations: 5\n",
      "Timestep: 316\n",
      "cov position erors: 10120.166469213616\n",
      "Mean (m): [-6.130060015142976e6, -1.5771986188948012e6, 781263.7594391652, 10018.772579152752]\n",
      "Iterations: 5\n",
      "Timestep: 317\n",
      "cov position erors: 9457.799250457998\n",
      "Mean (m): [-6.129724174974576e6, -1.5778998623832648e6, 780857.9916108758, 10017.348014305833]\n",
      "Iterations: 5\n",
      "Timestep: 318\n",
      "cov position erors: 8700.784925785094\n",
      "Mean (m): [-6.129513979286264e6, -1.578221651406595e6, 780587.938007347, 10016.267956968675]\n",
      "Iterations: 5\n",
      "Timestep: 319\n",
      "cov position erors: 8969.421458367384\n",
      "Mean (m): [-6.129160461268857e6, -1.5792664673444037e6, 780047.6107904209, 10014.506601283574]\n",
      "Iterations: 5\n",
      "Timestep: 320\n",
      "cov position erors: 8578.029308446963\n",
      "Mean (m): [-6.128965345817578e6, -1.5796029810195605e6, 779829.8659610249, 10013.725242827744]\n",
      "Iterations: 5\n",
      "Timestep: 321\n",
      "cov position erors: 8093.756311705171\n",
      "Mean (m): [-6.128804600952071e6, -1.5799522675849064e6, 779560.8456225861, 10012.600747329507]\n",
      "Iterations: 5\n",
      "Timestep: 322\n",
      "cov position erors: 7704.29742647616\n",
      "Mean (m): [-6.128453367348474e6, -1.5809784811591024e6, 779081.2724333614, 10011.125009731844]\n",
      "Iterations: 5\n",
      "Timestep: 323\n",
      "cov position erors: 7333.237886569433\n",
      "Mean (m): [-6.128434667823803e6, -1.5807575712556061e6, 779092.256097125, 10010.990146445321]\n",
      "Iterations: 5\n",
      "Timestep: 324\n",
      "cov position erors: 7289.850805376551\n",
      "Mean (m): [-6.128223676855222e6, -1.5813770996168097e6, 778758.594371555, 10009.742035051666]\n",
      "Iterations: 5\n",
      "Timestep: 325\n",
      "cov position erors: 7164.106002433507\n",
      "Mean (m): [-6.1281032165506e6, -1.581771481813841e6, 778519.0834905057, 10008.811998361945]\n",
      "Iterations: 5\n",
      "Timestep: 326\n",
      "cov position erors: 7016.757729624247\n",
      "Mean (m): [-6.127920546870855e6, -1.5822562327667738e6, 778285.5681995723, 10008.069514675375]\n",
      "Iterations: 5\n",
      "Timestep: 327\n",
      "cov position erors: 6839.805170211436\n",
      "Mean (m): [-6.1278633443827275e6, -1.5824585598843063e6, 778121.4930009287, 10007.316380559016]\n",
      "Iterations: 5\n",
      "Timestep: 328\n",
      "cov position erors: 6500.096170310677\n",
      "Mean (m): [-6.1277517677151505e6, -1.5829202159083935e6, 777852.7564528898, 10006.183197532528]\n",
      "Iterations: 5\n",
      "Timestep: 329\n",
      "cov position erors: 6436.035928992341\n",
      "Mean (m): [-6.127608906542785e6, -1.583268721491816e6, 777685.1573277022, 10005.642279448793]\n",
      "Iterations: 5\n",
      "Timestep: 330\n",
      "cov position erors: 6257.453121406407\n",
      "Mean (m): [-6.127547705342021e6, -1.5834539999736657e6, 777554.5812554908, 10005.0455696142]\n",
      "Iterations: 5\n",
      "Timestep: 331\n",
      "cov position erors: 6071.18708354393\n",
      "Mean (m): [-6.127443615372911e6, -1.5838561443577756e6, 777361.0334514808, 10004.361910692542]\n",
      "Iterations: 5\n",
      "Timestep: 332\n",
      "cov position erors: 5982.533838978731\n",
      "Mean (m): [-6.127403531079651e6, -1.584177724227241e6, 777146.6273910495, 10003.352171408305]\n",
      "Iterations: 5\n",
      "Timestep: 333\n",
      "cov position erors: 5701.057094845768\n",
      "Mean (m): [-6.127306074396324e6, -1.5845222500516041e6, 777014.019175625, 10002.92028169432]\n",
      "Iterations: 5\n",
      "Timestep: 334\n",
      "cov position erors: 5504.365203314991\n",
      "Mean (m): [-6.127248061210443e6, -1.5847436655798203e6, 776899.474372481, 10002.51816700832]\n",
      "Iterations: 5\n",
      "Timestep: 335\n",
      "cov position erors: 5636.673445054349\n",
      "Mean (m): [-6.127153757828601e6, -1.5851305309448116e6, 776713.5998381833, 10001.63248867165]\n",
      "Iterations: 5\n",
      "Timestep: 336\n",
      "cov position erors: 5435.504005103027\n",
      "Mean (m): [-6.12714769253972e6, -1.5852068263147597e6, 776622.8044267712, 10001.134182899767]\n",
      "Iterations: 5\n",
      "Timestep: 337\n",
      "cov position erors: 5185.806979287084\n",
      "Mean (m): [-6.127095998457498e6, -1.5854578493980512e6, 776513.0751409411, 10000.747302257309]\n",
      "Iterations: 5\n",
      "Timestep: 338\n",
      "cov position erors: 5184.701176587866\n",
      "Mean (m): [-6.127112213634191e6, -1.585601860770267e6, 776410.1779126895, 10000.29721306417]\n",
      "Iterations: 5\n",
      "Timestep: 339\n",
      "cov position erors: 5366.263599394467\n",
      "Mean (m): [-6.126942345811419e6, -1.5863239301885571e6, 776196.0493796219, 9999.430336388772]\n",
      "Iterations: 5\n",
      "Timestep: 340\n",
      "cov position erors: 5231.860939350075\n",
      "Mean (m): [-6.126980783092989e6, -1.5862310891460737e6, 776166.1852528458, 9999.15102747394]\n",
      "Iterations: 5\n",
      "Timestep: 341\n",
      "cov position erors: 5180.8988006978425\n",
      "Mean (m): [-6.126925458900274e6, -1.5866184404651735e6, 776035.5780696548, 9998.686498815283]\n",
      "Iterations: 5\n",
      "Timestep: 342\n",
      "cov position erors: 5073.513975103367\n",
      "Mean (m): [-6.126936412357393e6, -1.5866950229867361e6, 775948.7410389687, 9998.074748305224]\n",
      "Iterations: 5\n",
      "Timestep: 343\n",
      "cov position erors: 5015.66631011611\n",
      "Mean (m): [-6.126881317301484e6, -1.5870723118397743e6, 775834.5827237695, 9997.64450976109]\n",
      "Iterations: 5\n",
      "Timestep: 344\n",
      "cov position erors: 4805.3683149238395\n",
      "Mean (m): [-6.126885507721551e6, -1.5872873579442427e6, 775741.0078459652, 9997.131301055511]\n",
      "Iterations: 5\n",
      "Timestep: 345\n",
      "cov position erors: 4809.685597188563\n",
      "Mean (m): [-6.126945667817829e6, -1.5871064279054017e6, 775748.3138558544, 9997.206416058583]\n",
      "Iterations: 5\n",
      "Timestep: 346\n"
     ]
    }
   ],
   "source": [
    "#Navigation\n",
    "#count = 0\n",
    "n=1000\n",
    "PDOP_array = zeros(size(eci_1)[2],1)\n",
    "for i=1:size(eci_1)[2] - 1\n",
    "    \n",
    "    satposes = [eci_1[1,i] eci_1[2,i] eci_1[3,i];eci_2[1,i] eci_2[2,i] eci_2[3,i];eci_3[1,i] eci_3[2,i] eci_3[3,i];eci_4[1,i] eci_4[2,i] eci_4[3,i]]\n",
    "    satposes2 = [eci_1[1,i+1] eci_1[2,i+1] eci_1[3,i+1];eci_2[1,i+1] eci_2[2,i+1] eci_2[3,i+1];eci_3[1,i+1] eci_3[2,i+1] eci_3[3,i+1];eci_4[1,i+1] eci_4[2,i+1] eci_4[3,i+1]]\n",
    "    zenith_angles = zenith_angle(satposes, r0[1:3])\n",
    "    zenith_angles2 = zenith_angle(satposes2, r0[1:3])\n",
    "    \n",
    "    zdot = zenith_angles - zenith_angles2\n",
    "\n",
    "    #check all angles to see if it is on the horizon \n",
    "    \n",
    "    inhorizon = all(x->x<70, zenith_angles)\n",
    "    \n",
    "    if inhorizon==false\n",
    "        \n",
    "        continue #skip the current iteration\n",
    "    end\n",
    "\n",
    "    #In km then to custom units\n",
    "    r1 = [eci_1[1,i], eci_1[2,i], eci_1[3,i]]*1e-3/distance_scale\n",
    "    r2 = [eci_2[1,i], eci_2[2,i], eci_2[3,i]]*1e-3/distance_scale\n",
    "    r3 = [eci_3[1,i], eci_3[2,i], eci_3[3,i]]*1e-3/distance_scale\n",
    "    r4 = [eci_4[1,i], eci_4[2,i], eci_4[3,i]]*1e-3/distance_scale\n",
    "    \n",
    "    v1 = [eci_1[4,i], eci_1[5,i], eci_1[6,i]]*1e-3/velocity_scale\n",
    "    v2 = [eci_2[4,i], eci_2[5,i], eci_2[6,i]]*1e-3/velocity_scale\n",
    "    v3 = [eci_3[4,i], eci_3[5,i], eci_3[6,i]]*1e-3/velocity_scale\n",
    "    v4 = [eci_4[4,i], eci_4[5,i], eci_4[6,i]]*1e-3/velocity_scale\n",
    "\n",
    "    pose1 = [r1' v1']\n",
    "    pose2 = [r2' v2']\n",
    "    pose3 = [r3' v3']\n",
    "    pose4 = [r4' v4']\n",
    "    \n",
    "    time = [0.006, 0.006, 0.006, 0.008]/time_scale # assume a fixed time for the rotation matrix\n",
    "    \n",
    "    #calculate the rdots. need to build the pose matrices\n",
    "    deltaf = measurment(r0_scaled, pose1, pose2, pose3, pose4, time)\n",
    "    \n",
    "    pose1_rdot1 = [pose1 deltaf[1]]\n",
    "    pose2_rdot2 = [pose2 deltaf[2]]\n",
    "    pose3_rdot3 = [pose3 deltaf[3]]\n",
    "    pose4_rdot4 = [pose4 deltaf[4]]\n",
    "    \n",
    "    all_sats_scaled = vcat(pose1_rdot1,pose2_rdot2,pose3_rdot3,pose4_rdot4)\n",
    "    \n",
    "    #Generate a guess at the centroid of all 4 sats on the surface of the Earth. Scaled to km\n",
    "    \n",
    "    centroid_guess = [(eci_1[1,i]+eci_2[1,i]+eci_3[1,i]+eci_4[1,i])/4, (eci_1[2,i]+eci_2[2,i]+eci_3[2,i]+eci_4[2,i])/4, (eci_1[3,i]+eci_2[3,i]+eci_3[3,i]+eci_4[3,i])/4] \n",
    "    onearth = sECEFtoGEOC(centroid_guess, use_degrees = true)\n",
    "    geodetic = [onearth[1], onearth[2], 0]\n",
    "\n",
    "    xyz_guess = sGEOCtoECEF(geodetic, use_degrees = true)*1e-3 #change to km\n",
    "\n",
    "    xyz_guess\n",
    "    \n",
    "    #Find all possible positions from montecarlo and send unscaled guess\n",
    "    mean_rescaled, all_r0, iters = receiver_pose(all_sats_scaled, xyz_guess, zenith_angles, time, zdot)\n",
    "    \n",
    "    all_r0_scaled = zeros(n,4)\n",
    "\n",
    "    #Rescale back to units (m and s)\n",
    "    for i in 1:n\n",
    "    \n",
    "        #all_r0_scaled[i,:] = [all_r0[i][1:3]*distance_scale*1e3; all_r0[i][4]*frequency_scale]\n",
    "        all_r0_scaled[i,:] = [all_r0[i][1:3]*distance_scale*1e3; all_r0[i][4]*1e3*velocity_scale]\n",
    "\n",
    "    end\n",
    "    \n",
    "    totalsum = zeros(4,4)\n",
    "\n",
    "    for i in 1:n\n",
    "        value = all_r0_scaled[i,:] - mean_rescaled\n",
    "        matrixvalue = value*transpose(value)\n",
    "        totalsum += matrixvalue\n",
    "    \n",
    "    end\n",
    "    \n",
    "    covariancematrix = totalsum/n\n",
    "    \n",
    "    PDOP = sqrt(covariancematrix[1,1] + covariancematrix[2,2] + covariancematrix[3,3])\n",
    "    PDOP_array[i,1] = PDOP\n",
    "    println(\"cov position erors: \", PDOP)\n",
    "    println(\"Mean (m): \", mean_rescaled)\n",
    "    println(\"Iterations: \", iters)\n",
    "    println(\"Timestep: \", i)\n",
    "\n",
    "end    "
   ]
  },
  {
   "cell_type": "code",
   "execution_count": 25,
   "id": "119580d4",
   "metadata": {
    "scrolled": true
   },
   "outputs": [
    {
     "name": "stdout",
     "output_type": "stream",
     "text": [
      "Maximum PDOP: 170548.10652177394\n",
      "Minimum PDOP: 4726.372404855297\n"
     ]
    }
   ],
   "source": [
    "final_PDOP = PDOP_array[PDOP_array .!=0]\n",
    "\n",
    "PDOP_max = findmax(final_PDOP)[1]\n",
    "PDOP_min = findmin(final_PDOP)[1]\n",
    "\n",
    "println(\"Maximum PDOP: \", PDOP_max)\n",
    "println(\"Minimum PDOP: \", PDOP_min)"
   ]
  },
  {
   "cell_type": "code",
   "execution_count": 25,
   "id": "24f11e7e",
   "metadata": {},
   "outputs": [
    {
     "data": {
      "text/plain": [
       "4-element Vector{Float64}:\n",
       " -0.9609082828788089\n",
       " -0.24932142011452468\n",
       "  0.12168918371970193\n",
       "  0.33356409519815206"
      ]
     },
     "execution_count": 25,
     "metadata": {},
     "output_type": "execute_result"
    }
   ],
   "source": [
    "r0_scaled"
   ]
  },
  {
   "cell_type": "code",
   "execution_count": 26,
   "id": "1d570082",
   "metadata": {},
   "outputs": [
    {
     "data": {
      "text/plain": [
       "4-element Vector{Float64}:\n",
       " -9625.008623511323\n",
       " -2580.926606494148\n",
       "   835.4931473148392\n",
       "     3.9e6"
      ]
     },
     "execution_count": 26,
     "metadata": {},
     "output_type": "execute_result"
    }
   ],
   "source": [
    "initial_guess = [-9625.008623511323, -2580.926606494148, 835.4931473148392, 3.9e6]"
   ]
  },
  {
   "cell_type": "code",
   "execution_count": null,
   "id": "d999f4cf",
   "metadata": {},
   "outputs": [],
   "source": [
    "r0_scaled - initial_guess"
   ]
  },
  {
   "cell_type": "code",
   "execution_count": null,
   "id": "1941a677",
   "metadata": {},
   "outputs": [],
   "source": [
    "actualpose =[-6.128804e6, -1.590206e6, 776.1502e3, 1e6]"
   ]
  },
  {
   "cell_type": "code",
   "execution_count": null,
   "id": "dc6a8a6e",
   "metadata": {},
   "outputs": [],
   "source": [
    "log10(79.34904895113688)"
   ]
  },
  {
   "cell_type": "code",
   "execution_count": null,
   "id": "baa540d9",
   "metadata": {},
   "outputs": [],
   "source": [
    "i=303\n",
    "\n",
    "satposes = [eci_1[1,i] eci_1[2,i] eci_1[3,i];eci_2[1,i] eci_2[2,i] eci_2[3,i];eci_3[1,i] eci_3[2,i] eci_3[3,i];eci_4[1,i] eci_4[2,i] eci_4[3,i]]\n",
    "satposes2 = [eci_1[1,i+1] eci_1[2,i+1] eci_1[3,i+1];eci_2[1,i+1] eci_2[2,i+1] eci_2[3,i+1];eci_3[1,i+1] eci_3[2,i+1] eci_3[3,i+1];eci_4[1,i+1] eci_4[2,i+1] eci_4[3,i+1]]\n",
    "zenith_angles = zenith_angle(satposes, r0[1:3])\n",
    "zenith_angles2 = zenith_angle(satposes2, r0[1:3])\n",
    "\n",
    "println(\"satposes: \", satposes)\n",
    "\n",
    "println(\"satposes2: \", satposes2)\n",
    "    \n",
    "zdot = zenith_angles - zenith_angles2\n",
    "\n",
    "#check all angles to see if it is on the horizon \n",
    "    \n",
    "inhorizon = all(x->x<70, zenith_angles)\n",
    "    \n",
    "#if inhorizon==false\n",
    "#    continue #skip the current iteration\n",
    "#end\n",
    "\n",
    "#In km then to custom units\n",
    "r1 = [eci_1[1,i], eci_1[2,i], eci_1[3,i]]*1e-3/distance_scale\n",
    "r2 = [eci_2[1,i], eci_2[2,i], eci_2[3,i]]*1e-3/distance_scale\n",
    "r3 = [eci_3[1,i], eci_3[2,i], eci_3[3,i]]*1e-3/distance_scale\n",
    "r4 = [eci_4[1,i], eci_4[2,i], eci_4[3,i]]*1e-3/distance_scale\n",
    "    \n",
    "v1 = [eci_1[4,i], eci_1[5,i], eci_1[6,i]]*1e-3/velocity_scale\n",
    "v2 = [eci_2[4,i], eci_2[5,i], eci_2[6,i]]*1e-3/velocity_scale\n",
    "v3 = [eci_3[4,i], eci_3[5,i], eci_3[6,i]]*1e-3/velocity_scale\n",
    "v4 = [eci_4[4,i], eci_4[5,i], eci_4[6,i]]*1e-3/velocity_scale\n",
    "\n",
    "pose1 = [r1' v1']\n",
    "pose2 = [r2' v2']\n",
    "pose3 = [r3' v3']\n",
    "pose4 = [r4' v4']\n",
    "    \n",
    "#at second frequency\n",
    "pose5= [r1' v1']\n",
    "pose6= [r2' v2']\n",
    "pose7= [r3' v3']\n",
    "pose8= [r4' v4']\n",
    "    \n",
    "time = [0.006, 0.006, 0.006, 0.008]/time_scale # assume a fixed time for the rotation matrix\n",
    "    \n",
    "#calculate the rdots. need to build the pose matrices\n",
    "deltaf = measurment(r0_scaled, pose1, pose2, pose3, pose4, time)\n",
    "    \n",
    "pose1_rdot1 = [pose1 deltaf[1]]\n",
    "pose2_rdot2 = [pose2 deltaf[2]]\n",
    "pose3_rdot3 = [pose3 deltaf[3]]\n",
    "pose4_rdot4 = [pose4 deltaf[4]]\n",
    "    \n",
    "all_sats_scaled = vcat(pose1_rdot1, pose2_rdot2, pose3_rdot3, pose4_rdot4)\n",
    "    \n",
    "println(\"this is deltaf: \", deltaf)"
   ]
  },
  {
   "cell_type": "code",
   "execution_count": null,
   "id": "56029ed2",
   "metadata": {},
   "outputs": [],
   "source": [
    "initial_guess = [-0.963179168952113, -0.258771187758936, 0.07296286988883226, 0.3342312233885483]"
   ]
  },
  {
   "cell_type": "code",
   "execution_count": null,
   "id": "b6775e79",
   "metadata": {},
   "outputs": [],
   "source": [
    "R = doppler_residual(initial_guess, all_sats_scaled, time)"
   ]
  },
  {
   "cell_type": "code",
   "execution_count": null,
   "id": "95253d0f",
   "metadata": {},
   "outputs": [],
   "source": [
    "[-0.963179168952113, -0.258771187758936, 0.07296286988883226, 0.3342312233885483]"
   ]
  }
 ],
 "metadata": {
  "@webio": {
   "lastCommId": "60392c012e8f470c877ee3946ad9097f",
   "lastKernelId": "46942a20-e3b8-4af1-a435-88468975bcb2"
  },
  "kernelspec": {
   "display_name": "Julia 1.6.5",
   "language": "julia",
   "name": "julia-1.6"
  },
  "language_info": {
   "file_extension": ".jl",
   "mimetype": "application/julia",
   "name": "julia",
   "version": "1.6.5"
  }
 },
 "nbformat": 4,
 "nbformat_minor": 5
}
