{
 "cells": [
  {
   "cell_type": "code",
   "execution_count": 59,
   "id": "77aa6363",
   "metadata": {},
   "outputs": [],
   "source": [
    "using LinearAlgebra\n",
    "using Plots\n",
    "using Rotations"
   ]
  },
  {
   "cell_type": "code",
   "execution_count": 60,
   "id": "dea59bb9",
   "metadata": {},
   "outputs": [
    {
     "data": {
      "text/plain": [
       "1"
      ]
     },
     "execution_count": 60,
     "metadata": {},
     "output_type": "execute_result"
    }
   ],
   "source": [
    "axis = randn(3)\n",
    "axis_unit = axis/norm(axis)\n",
    "#θ = randn(1)[1]*(pi/180) # in radians\n",
    "\n",
    "θ = 1"
   ]
  },
  {
   "cell_type": "code",
   "execution_count": 61,
   "id": "bed3bbff",
   "metadata": {},
   "outputs": [],
   "source": [
    "#axis = [0 1 0]\n",
    "#axis_unit = axis/norm(axis)\n",
    "#θ = pi/2 # in degrees"
   ]
  },
  {
   "cell_type": "code",
   "execution_count": 62,
   "id": "76f53dbf",
   "metadata": {},
   "outputs": [
    {
     "data": {
      "image/svg+xml": [
       "<?xml version=\"1.0\" encoding=\"utf-8\"?>\n",
       "<svg xmlns=\"http://www.w3.org/2000/svg\" xmlns:xlink=\"http://www.w3.org/1999/xlink\" width=\"600\" height=\"400\" viewBox=\"0 0 2400 1600\">\n",
       "<defs>\n",
       "  <clipPath id=\"clip090\">\n",
       "    <rect x=\"0\" y=\"0\" width=\"2400\" height=\"1600\"/>\n",
       "  </clipPath>\n",
       "</defs>\n",
       "<path clip-path=\"url(#clip090)\" d=\"\n",
       "M0 1600 L2400 1600 L2400 0 L0 0  Z\n",
       "  \" fill=\"#ffffff\" fill-rule=\"evenodd\" fill-opacity=\"1\"/>\n",
       "<defs>\n",
       "  <clipPath id=\"clip091\">\n",
       "    <rect x=\"480\" y=\"0\" width=\"1681\" height=\"1600\"/>\n",
       "  </clipPath>\n",
       "</defs>\n",
       "<defs>\n",
       "  <clipPath id=\"clip092\">\n",
       "    <rect x=\"193\" y=\"47\" width=\"2160\" height=\"1440\"/>\n",
       "  </clipPath>\n",
       "</defs>\n",
       "<path clip-path=\"url(#clip092)\" d=\"\n",
       "M739.745 1176.62 L648.921 454.634 L1140.06 202.778 L1836.95 334.024 L1761.9 1011.12 L1436.93 1459.14 L739.745 1176.62  Z\n",
       "  \" fill=\"#ffffff\" fill-rule=\"evenodd\" fill-opacity=\"1\"/>\n",
       "<polyline clip-path=\"url(#clip092)\" style=\"stroke:#000000; stroke-linecap:butt; stroke-linejoin:round; stroke-width:2; stroke-opacity:0.1; fill:none\" points=\"\n",
       "  739.745,1176.62 1155.98,825.531 \n",
       "  \"/>\n",
       "<polyline clip-path=\"url(#clip092)\" style=\"stroke:#000000; stroke-linecap:butt; stroke-linejoin:round; stroke-width:2; stroke-opacity:0.1; fill:none\" points=\"\n",
       "  1155.98,825.531 1140.06,202.778 \n",
       "  \"/>\n",
       "<polyline clip-path=\"url(#clip092)\" style=\"stroke:#000000; stroke-linecap:butt; stroke-linejoin:round; stroke-width:2; stroke-opacity:0.1; fill:none\" points=\"\n",
       "  897.039,1240.36 1295.4,868.235 \n",
       "  \"/>\n",
       "<polyline clip-path=\"url(#clip092)\" style=\"stroke:#000000; stroke-linecap:butt; stroke-linejoin:round; stroke-width:2; stroke-opacity:0.1; fill:none\" points=\"\n",
       "  1295.4,868.235 1298.48,232.612 \n",
       "  \"/>\n",
       "<polyline clip-path=\"url(#clip092)\" style=\"stroke:#000000; stroke-linecap:butt; stroke-linejoin:round; stroke-width:2; stroke-opacity:0.1; fill:none\" points=\"\n",
       "  1064.91,1308.39 1442.42,913.267 \n",
       "  \"/>\n",
       "<polyline clip-path=\"url(#clip092)\" style=\"stroke:#000000; stroke-linecap:butt; stroke-linejoin:round; stroke-width:2; stroke-opacity:0.1; fill:none\" points=\"\n",
       "  1442.42,913.267 1466.77,264.308 \n",
       "  \"/>\n",
       "<polyline clip-path=\"url(#clip092)\" style=\"stroke:#000000; stroke-linecap:butt; stroke-linejoin:round; stroke-width:2; stroke-opacity:0.1; fill:none\" points=\"\n",
       "  1244.45,1381.14 1597.68,960.823 \n",
       "  \"/>\n",
       "<polyline clip-path=\"url(#clip092)\" style=\"stroke:#000000; stroke-linecap:butt; stroke-linejoin:round; stroke-width:2; stroke-opacity:0.1; fill:none\" points=\"\n",
       "  1597.68,960.823 1645.9,298.044 \n",
       "  \"/>\n",
       "<polyline clip-path=\"url(#clip092)\" style=\"stroke:#000000; stroke-linecap:butt; stroke-linejoin:round; stroke-width:2; stroke-opacity:0.1; fill:none\" points=\"\n",
       "  1436.93,1459.14 1761.9,1011.12 \n",
       "  \"/>\n",
       "<polyline clip-path=\"url(#clip092)\" style=\"stroke:#000000; stroke-linecap:butt; stroke-linejoin:round; stroke-width:2; stroke-opacity:0.1; fill:none\" points=\"\n",
       "  1761.9,1011.12 1836.95,334.024 \n",
       "  \"/>\n",
       "<polyline clip-path=\"url(#clip090)\" style=\"stroke:#000000; stroke-linecap:butt; stroke-linejoin:round; stroke-width:4; stroke-opacity:1; fill:none\" points=\"\n",
       "  739.745,1176.62 1436.93,1459.14 \n",
       "  \"/>\n",
       "<polyline clip-path=\"url(#clip090)\" style=\"stroke:#000000; stroke-linecap:butt; stroke-linejoin:round; stroke-width:4; stroke-opacity:1; fill:none\" points=\"\n",
       "  739.745,1176.62 745.813,1171.51 \n",
       "  \"/>\n",
       "<polyline clip-path=\"url(#clip090)\" style=\"stroke:#000000; stroke-linecap:butt; stroke-linejoin:round; stroke-width:4; stroke-opacity:1; fill:none\" points=\"\n",
       "  897.039,1240.36 902.881,1234.91 \n",
       "  \"/>\n",
       "<polyline clip-path=\"url(#clip090)\" style=\"stroke:#000000; stroke-linecap:butt; stroke-linejoin:round; stroke-width:4; stroke-opacity:1; fill:none\" points=\"\n",
       "  1064.91,1308.39 1070.48,1302.56 \n",
       "  \"/>\n",
       "<polyline clip-path=\"url(#clip090)\" style=\"stroke:#000000; stroke-linecap:butt; stroke-linejoin:round; stroke-width:4; stroke-opacity:1; fill:none\" points=\"\n",
       "  1244.45,1381.14 1249.69,1374.9 \n",
       "  \"/>\n",
       "<polyline clip-path=\"url(#clip090)\" style=\"stroke:#000000; stroke-linecap:butt; stroke-linejoin:round; stroke-width:4; stroke-opacity:1; fill:none\" points=\"\n",
       "  1436.93,1459.14 1441.79,1452.44 \n",
       "  \"/>\n",
       "<path clip-path=\"url(#clip090)\" d=\"M621.985 1203.77 L651.66 1203.77 L651.66 1207.7 L621.985 1207.7 L621.985 1203.77 Z\" fill=\"#000000\" fill-rule=\"evenodd\" fill-opacity=\"1\" /><path clip-path=\"url(#clip090)\" d=\"M662.563 1216.66 L670.202 1216.66 L670.202 1190.3 L661.892 1191.96 L661.892 1187.7 L670.156 1186.04 L674.832 1186.04 L674.832 1216.66 L682.47 1216.66 L682.47 1220.6 L662.563 1220.6 L662.563 1216.66 Z\" fill=\"#000000\" fill-rule=\"evenodd\" fill-opacity=\"1\" /><path clip-path=\"url(#clip090)\" d=\"M691.915 1214.72 L696.799 1214.72 L696.799 1220.6 L691.915 1220.6 L691.915 1214.72 Z\" fill=\"#000000\" fill-rule=\"evenodd\" fill-opacity=\"1\" /><path clip-path=\"url(#clip090)\" d=\"M716.984 1189.12 Q713.373 1189.12 711.544 1192.68 Q709.739 1196.22 709.739 1203.35 Q709.739 1210.46 711.544 1214.02 Q713.373 1217.56 716.984 1217.56 Q720.618 1217.56 722.424 1214.02 Q724.253 1210.46 724.253 1203.35 Q724.253 1196.22 722.424 1192.68 Q720.618 1189.12 716.984 1189.12 M716.984 1185.41 Q722.794 1185.41 725.85 1190.02 Q728.929 1194.6 728.929 1203.35 Q728.929 1212.08 725.85 1216.68 Q722.794 1221.27 716.984 1221.27 Q711.174 1221.27 708.095 1216.68 Q705.04 1212.08 705.04 1203.35 Q705.04 1194.6 708.095 1190.02 Q711.174 1185.41 716.984 1185.41 Z\" fill=\"#000000\" fill-rule=\"evenodd\" fill-opacity=\"1\" /><path clip-path=\"url(#clip090)\" d=\"M780.274 1267.51 L809.95 1267.51 L809.95 1271.44 L780.274 1271.44 L780.274 1267.51 Z\" fill=\"#000000\" fill-rule=\"evenodd\" fill-opacity=\"1\" /><path clip-path=\"url(#clip090)\" d=\"M830.043 1252.85 Q826.432 1252.85 824.603 1256.42 Q822.797 1259.96 822.797 1267.09 Q822.797 1274.2 824.603 1277.76 Q826.432 1281.3 830.043 1281.3 Q833.677 1281.3 835.483 1277.76 Q837.311 1274.2 837.311 1267.09 Q837.311 1259.96 835.483 1256.42 Q833.677 1252.85 830.043 1252.85 M830.043 1249.15 Q835.853 1249.15 838.908 1253.76 Q841.987 1258.34 841.987 1267.09 Q841.987 1275.82 838.908 1280.42 Q835.853 1285.01 830.043 1285.01 Q824.233 1285.01 821.154 1280.42 Q818.098 1275.82 818.098 1267.09 Q818.098 1258.34 821.154 1253.76 Q824.233 1249.15 830.043 1249.15 Z\" fill=\"#000000\" fill-rule=\"evenodd\" fill-opacity=\"1\" /><path clip-path=\"url(#clip090)\" d=\"M850.205 1278.46 L855.089 1278.46 L855.089 1284.34 L850.205 1284.34 L850.205 1278.46 Z\" fill=\"#000000\" fill-rule=\"evenodd\" fill-opacity=\"1\" /><path clip-path=\"url(#clip090)\" d=\"M865.32 1249.78 L883.677 1249.78 L883.677 1253.71 L869.603 1253.71 L869.603 1262.18 Q870.621 1261.84 871.64 1261.67 Q872.658 1261.49 873.677 1261.49 Q879.464 1261.49 882.843 1264.66 Q886.223 1267.83 886.223 1273.25 Q886.223 1278.83 882.751 1281.93 Q879.279 1285.01 872.959 1285.01 Q870.783 1285.01 868.515 1284.64 Q866.269 1284.27 863.862 1283.53 L863.862 1278.83 Q865.945 1279.96 868.168 1280.52 Q870.39 1281.07 872.867 1281.07 Q876.871 1281.07 879.209 1278.97 Q881.547 1276.86 881.547 1273.25 Q881.547 1269.64 879.209 1267.53 Q876.871 1265.42 872.867 1265.42 Q870.992 1265.42 869.117 1265.84 Q867.265 1266.26 865.32 1267.14 L865.32 1249.78 Z\" fill=\"#000000\" fill-rule=\"evenodd\" fill-opacity=\"1\" /><path clip-path=\"url(#clip090)\" d=\"M996.915 1320.88 Q993.303 1320.88 991.475 1324.44 Q989.669 1327.98 989.669 1335.11 Q989.669 1342.22 991.475 1345.79 Q993.303 1349.33 996.915 1349.33 Q1000.55 1349.33 1002.35 1345.79 Q1004.18 1342.22 1004.18 1335.11 Q1004.18 1327.98 1002.35 1324.44 Q1000.55 1320.88 996.915 1320.88 M996.915 1317.17 Q1002.72 1317.17 1005.78 1321.78 Q1008.86 1326.36 1008.86 1335.11 Q1008.86 1343.84 1005.78 1348.45 Q1002.72 1353.03 996.915 1353.03 Q991.104 1353.03 988.026 1348.45 Q984.97 1343.84 984.97 1335.11 Q984.97 1326.36 988.026 1321.78 Q991.104 1317.17 996.915 1317.17 Z\" fill=\"#000000\" fill-rule=\"evenodd\" fill-opacity=\"1\" /><path clip-path=\"url(#clip090)\" d=\"M1017.08 1346.48 L1021.96 1346.48 L1021.96 1352.36 L1017.08 1352.36 L1017.08 1346.48 Z\" fill=\"#000000\" fill-rule=\"evenodd\" fill-opacity=\"1\" /><path clip-path=\"url(#clip090)\" d=\"M1042.15 1320.88 Q1038.53 1320.88 1036.71 1324.44 Q1034.9 1327.98 1034.9 1335.11 Q1034.9 1342.22 1036.71 1345.79 Q1038.53 1349.33 1042.15 1349.33 Q1045.78 1349.33 1047.59 1345.79 Q1049.41 1342.22 1049.41 1335.11 Q1049.41 1327.98 1047.59 1324.44 Q1045.78 1320.88 1042.15 1320.88 M1042.15 1317.17 Q1047.96 1317.17 1051.01 1321.78 Q1054.09 1326.36 1054.09 1335.11 Q1054.09 1343.84 1051.01 1348.45 Q1047.96 1353.03 1042.15 1353.03 Q1036.34 1353.03 1033.26 1348.45 Q1030.2 1343.84 1030.2 1335.11 Q1030.2 1326.36 1033.26 1321.78 Q1036.34 1317.17 1042.15 1317.17 Z\" fill=\"#000000\" fill-rule=\"evenodd\" fill-opacity=\"1\" /><path clip-path=\"url(#clip090)\" d=\"M1177.45 1393.63 Q1173.84 1393.63 1172.01 1397.2 Q1170.21 1400.74 1170.21 1407.87 Q1170.21 1414.98 1172.01 1418.54 Q1173.84 1422.08 1177.45 1422.08 Q1181.09 1422.08 1182.89 1418.54 Q1184.72 1414.98 1184.72 1407.87 Q1184.72 1400.74 1182.89 1397.2 Q1181.09 1393.63 1177.45 1393.63 M1177.45 1389.93 Q1183.26 1389.93 1186.32 1394.54 Q1189.4 1399.12 1189.4 1407.87 Q1189.4 1416.6 1186.32 1421.2 Q1183.26 1425.79 1177.45 1425.79 Q1171.64 1425.79 1168.56 1421.2 Q1165.51 1416.6 1165.51 1407.87 Q1165.51 1399.12 1168.56 1394.54 Q1171.64 1389.93 1177.45 1389.93 Z\" fill=\"#000000\" fill-rule=\"evenodd\" fill-opacity=\"1\" /><path clip-path=\"url(#clip090)\" d=\"M1197.61 1419.24 L1202.5 1419.24 L1202.5 1425.11 L1197.61 1425.11 L1197.61 1419.24 Z\" fill=\"#000000\" fill-rule=\"evenodd\" fill-opacity=\"1\" /><path clip-path=\"url(#clip090)\" d=\"M1212.73 1390.55 L1231.09 1390.55 L1231.09 1394.49 L1217.01 1394.49 L1217.01 1402.96 Q1218.03 1402.62 1219.05 1402.45 Q1220.07 1402.27 1221.09 1402.27 Q1226.87 1402.27 1230.25 1405.44 Q1233.63 1408.61 1233.63 1414.03 Q1233.63 1419.61 1230.16 1422.71 Q1226.69 1425.79 1220.37 1425.79 Q1218.19 1425.79 1215.92 1425.42 Q1213.68 1425.05 1211.27 1424.3 L1211.27 1419.61 Q1213.36 1420.74 1215.58 1421.3 Q1217.8 1421.85 1220.28 1421.85 Q1224.28 1421.85 1226.62 1419.74 Q1228.96 1417.64 1228.96 1414.03 Q1228.96 1410.42 1226.62 1408.31 Q1224.28 1406.2 1220.28 1406.2 Q1218.4 1406.2 1216.53 1406.62 Q1214.67 1407.04 1212.73 1407.92 L1212.73 1390.55 Z\" fill=\"#000000\" fill-rule=\"evenodd\" fill-opacity=\"1\" /><path clip-path=\"url(#clip090)\" d=\"M1359.75 1499.18 L1367.39 1499.18 L1367.39 1472.81 L1359.08 1474.48 L1359.08 1470.22 L1367.34 1468.55 L1372.02 1468.55 L1372.02 1499.18 L1379.66 1499.18 L1379.66 1503.11 L1359.75 1503.11 L1359.75 1499.18 Z\" fill=\"#000000\" fill-rule=\"evenodd\" fill-opacity=\"1\" /><path clip-path=\"url(#clip090)\" d=\"M1389.1 1497.23 L1393.98 1497.23 L1393.98 1503.11 L1389.1 1503.11 L1389.1 1497.23 Z\" fill=\"#000000\" fill-rule=\"evenodd\" fill-opacity=\"1\" /><path clip-path=\"url(#clip090)\" d=\"M1414.17 1471.63 Q1410.56 1471.63 1408.73 1475.2 Q1406.92 1478.74 1406.92 1485.87 Q1406.92 1492.97 1408.73 1496.54 Q1410.56 1500.08 1414.17 1500.08 Q1417.8 1500.08 1419.61 1496.54 Q1421.44 1492.97 1421.44 1485.87 Q1421.44 1478.74 1419.61 1475.2 Q1417.8 1471.63 1414.17 1471.63 M1414.17 1467.93 Q1419.98 1467.93 1423.03 1472.53 Q1426.11 1477.12 1426.11 1485.87 Q1426.11 1494.59 1423.03 1499.2 Q1419.98 1503.78 1414.17 1503.78 Q1408.36 1503.78 1405.28 1499.2 Q1402.22 1494.59 1402.22 1485.87 Q1402.22 1477.12 1405.28 1472.53 Q1408.36 1467.93 1414.17 1467.93 Z\" fill=\"#000000\" fill-rule=\"evenodd\" fill-opacity=\"1\" /><polyline clip-path=\"url(#clip092)\" style=\"stroke:#000000; stroke-linecap:butt; stroke-linejoin:round; stroke-width:2; stroke-opacity:0.1; fill:none\" points=\"\n",
       "  1436.93,1459.14 739.745,1176.62 \n",
       "  \"/>\n",
       "<polyline clip-path=\"url(#clip092)\" style=\"stroke:#000000; stroke-linecap:butt; stroke-linejoin:round; stroke-width:2; stroke-opacity:0.1; fill:none\" points=\"\n",
       "  739.745,1176.62 648.921,454.634 \n",
       "  \"/>\n",
       "<polyline clip-path=\"url(#clip092)\" style=\"stroke:#000000; stroke-linecap:butt; stroke-linejoin:round; stroke-width:2; stroke-opacity:0.1; fill:none\" points=\"\n",
       "  1532.49,1327.4 859.949,1075.23 \n",
       "  \"/>\n",
       "<polyline clip-path=\"url(#clip092)\" style=\"stroke:#000000; stroke-linecap:butt; stroke-linejoin:round; stroke-width:2; stroke-opacity:0.1; fill:none\" points=\"\n",
       "  859.949,1075.23 793.807,380.336 \n",
       "  \"/>\n",
       "<polyline clip-path=\"url(#clip092)\" style=\"stroke:#000000; stroke-linecap:butt; stroke-linejoin:round; stroke-width:2; stroke-opacity:0.1; fill:none\" points=\"\n",
       "  1617.44,1210.27 968.33,983.811 \n",
       "  \"/>\n",
       "<polyline clip-path=\"url(#clip092)\" style=\"stroke:#000000; stroke-linecap:butt; stroke-linejoin:round; stroke-width:2; stroke-opacity:0.1; fill:none\" points=\"\n",
       "  968.33,983.811 922.291,314.45 \n",
       "  \"/>\n",
       "<polyline clip-path=\"url(#clip092)\" style=\"stroke:#000000; stroke-linecap:butt; stroke-linejoin:round; stroke-width:2; stroke-opacity:0.1; fill:none\" points=\"\n",
       "  1693.47,1105.46 1066.55,900.962 \n",
       "  \"/>\n",
       "<polyline clip-path=\"url(#clip092)\" style=\"stroke:#000000; stroke-linecap:butt; stroke-linejoin:round; stroke-width:2; stroke-opacity:0.1; fill:none\" points=\"\n",
       "  1066.55,900.962 1037.01,255.623 \n",
       "  \"/>\n",
       "<polyline clip-path=\"url(#clip092)\" style=\"stroke:#000000; stroke-linecap:butt; stroke-linejoin:round; stroke-width:2; stroke-opacity:0.1; fill:none\" points=\"\n",
       "  1761.9,1011.12 1155.98,825.531 \n",
       "  \"/>\n",
       "<polyline clip-path=\"url(#clip092)\" style=\"stroke:#000000; stroke-linecap:butt; stroke-linejoin:round; stroke-width:2; stroke-opacity:0.1; fill:none\" points=\"\n",
       "  1155.98,825.531 1140.06,202.778 \n",
       "  \"/>\n",
       "<polyline clip-path=\"url(#clip090)\" style=\"stroke:#000000; stroke-linecap:butt; stroke-linejoin:round; stroke-width:4; stroke-opacity:1; fill:none\" points=\"\n",
       "  1436.93,1459.14 1761.9,1011.12 \n",
       "  \"/>\n",
       "<polyline clip-path=\"url(#clip090)\" style=\"stroke:#000000; stroke-linecap:butt; stroke-linejoin:round; stroke-width:4; stroke-opacity:1; fill:none\" points=\"\n",
       "  1436.93,1459.14 1427.37,1455.27 \n",
       "  \"/>\n",
       "<polyline clip-path=\"url(#clip090)\" style=\"stroke:#000000; stroke-linecap:butt; stroke-linejoin:round; stroke-width:4; stroke-opacity:1; fill:none\" points=\"\n",
       "  1532.49,1327.4 1523.34,1323.97 \n",
       "  \"/>\n",
       "<polyline clip-path=\"url(#clip090)\" style=\"stroke:#000000; stroke-linecap:butt; stroke-linejoin:round; stroke-width:4; stroke-opacity:1; fill:none\" points=\"\n",
       "  1617.44,1210.27 1608.67,1207.21 \n",
       "  \"/>\n",
       "<polyline clip-path=\"url(#clip090)\" style=\"stroke:#000000; stroke-linecap:butt; stroke-linejoin:round; stroke-width:4; stroke-opacity:1; fill:none\" points=\"\n",
       "  1693.47,1105.46 1685.04,1102.72 \n",
       "  \"/>\n",
       "<polyline clip-path=\"url(#clip090)\" style=\"stroke:#000000; stroke-linecap:butt; stroke-linejoin:round; stroke-width:4; stroke-opacity:1; fill:none\" points=\"\n",
       "  1761.9,1011.12 1753.8,1008.64 \n",
       "  \"/>\n",
       "<path clip-path=\"url(#clip090)\" d=\"M1460.24 1476.5 L1489.92 1476.5 L1489.92 1480.44 L1460.24 1480.44 L1460.24 1476.5 Z\" fill=\"#000000\" fill-rule=\"evenodd\" fill-opacity=\"1\" /><path clip-path=\"url(#clip090)\" d=\"M1500.82 1489.4 L1508.46 1489.4 L1508.46 1463.03 L1500.15 1464.7 L1500.15 1460.44 L1508.41 1458.77 L1513.09 1458.77 L1513.09 1489.4 L1520.73 1489.4 L1520.73 1493.33 L1500.82 1493.33 L1500.82 1489.4 Z\" fill=\"#000000\" fill-rule=\"evenodd\" fill-opacity=\"1\" /><path clip-path=\"url(#clip090)\" d=\"M1530.17 1487.45 L1535.06 1487.45 L1535.06 1493.33 L1530.17 1493.33 L1530.17 1487.45 Z\" fill=\"#000000\" fill-rule=\"evenodd\" fill-opacity=\"1\" /><path clip-path=\"url(#clip090)\" d=\"M1555.24 1461.85 Q1551.63 1461.85 1549.8 1465.41 Q1548 1468.96 1548 1476.09 Q1548 1483.19 1549.8 1486.76 Q1551.63 1490.3 1555.24 1490.3 Q1558.88 1490.3 1560.68 1486.76 Q1562.51 1483.19 1562.51 1476.09 Q1562.51 1468.96 1560.68 1465.41 Q1558.88 1461.85 1555.24 1461.85 M1555.24 1458.15 Q1561.05 1458.15 1564.11 1462.75 Q1567.19 1467.34 1567.19 1476.09 Q1567.19 1484.81 1564.11 1489.42 Q1561.05 1494 1555.24 1494 Q1549.43 1494 1546.35 1489.42 Q1543.3 1484.81 1543.3 1476.09 Q1543.3 1467.34 1546.35 1462.75 Q1549.43 1458.15 1555.24 1458.15 Z\" fill=\"#000000\" fill-rule=\"evenodd\" fill-opacity=\"1\" /><path clip-path=\"url(#clip090)\" d=\"M1555.8 1344.76 L1585.48 1344.76 L1585.48 1348.7 L1555.8 1348.7 L1555.8 1344.76 Z\" fill=\"#000000\" fill-rule=\"evenodd\" fill-opacity=\"1\" /><path clip-path=\"url(#clip090)\" d=\"M1605.57 1330.11 Q1601.96 1330.11 1600.13 1333.67 Q1598.32 1337.21 1598.32 1344.34 Q1598.32 1351.45 1600.13 1355.01 Q1601.96 1358.56 1605.57 1358.56 Q1609.2 1358.56 1611.01 1355.01 Q1612.84 1351.45 1612.84 1344.34 Q1612.84 1337.21 1611.01 1333.67 Q1609.2 1330.11 1605.57 1330.11 M1605.57 1326.4 Q1611.38 1326.4 1614.43 1331.01 Q1617.51 1335.59 1617.51 1344.34 Q1617.51 1353.07 1614.43 1357.68 Q1611.38 1362.26 1605.57 1362.26 Q1599.76 1362.26 1596.68 1357.68 Q1593.62 1353.07 1593.62 1344.34 Q1593.62 1335.59 1596.68 1331.01 Q1599.76 1326.4 1605.57 1326.4 Z\" fill=\"#000000\" fill-rule=\"evenodd\" fill-opacity=\"1\" /><path clip-path=\"url(#clip090)\" d=\"M1625.73 1355.71 L1630.62 1355.71 L1630.62 1361.59 L1625.73 1361.59 L1625.73 1355.71 Z\" fill=\"#000000\" fill-rule=\"evenodd\" fill-opacity=\"1\" /><path clip-path=\"url(#clip090)\" d=\"M1640.85 1327.03 L1659.2 1327.03 L1659.2 1330.96 L1645.13 1330.96 L1645.13 1339.44 Q1646.15 1339.09 1647.17 1338.93 Q1648.18 1338.74 1649.2 1338.74 Q1654.99 1338.74 1658.37 1341.91 Q1661.75 1345.08 1661.75 1350.5 Q1661.75 1356.08 1658.28 1359.18 Q1654.8 1362.26 1648.49 1362.26 Q1646.31 1362.26 1644.04 1361.89 Q1641.8 1361.52 1639.39 1360.78 L1639.39 1356.08 Q1641.47 1357.21 1643.69 1357.77 Q1645.92 1358.32 1648.39 1358.32 Q1652.4 1358.32 1654.74 1356.22 Q1657.07 1354.11 1657.07 1350.5 Q1657.07 1346.89 1654.74 1344.78 Q1652.4 1342.68 1648.39 1342.68 Q1646.52 1342.68 1644.64 1343.09 Q1642.79 1343.51 1640.85 1344.39 L1640.85 1327.03 Z\" fill=\"#000000\" fill-rule=\"evenodd\" fill-opacity=\"1\" /><path clip-path=\"url(#clip090)\" d=\"M1652.7 1212.98 Q1649.09 1212.98 1647.26 1216.55 Q1645.45 1220.09 1645.45 1227.22 Q1645.45 1234.33 1647.26 1237.89 Q1649.09 1241.43 1652.7 1241.43 Q1656.33 1241.43 1658.14 1237.89 Q1659.97 1234.33 1659.97 1227.22 Q1659.97 1220.09 1658.14 1216.55 Q1656.33 1212.98 1652.7 1212.98 M1652.7 1209.28 Q1658.51 1209.28 1661.57 1213.89 Q1664.64 1218.47 1664.64 1227.22 Q1664.64 1235.95 1661.57 1240.55 Q1658.51 1245.14 1652.7 1245.14 Q1646.89 1245.14 1643.81 1240.55 Q1640.76 1235.95 1640.76 1227.22 Q1640.76 1218.47 1643.81 1213.89 Q1646.89 1209.28 1652.7 1209.28 Z\" fill=\"#000000\" fill-rule=\"evenodd\" fill-opacity=\"1\" /><path clip-path=\"url(#clip090)\" d=\"M1672.86 1238.59 L1677.75 1238.59 L1677.75 1244.46 L1672.86 1244.46 L1672.86 1238.59 Z\" fill=\"#000000\" fill-rule=\"evenodd\" fill-opacity=\"1\" /><path clip-path=\"url(#clip090)\" d=\"M1697.93 1212.98 Q1694.32 1212.98 1692.49 1216.55 Q1690.69 1220.09 1690.69 1227.22 Q1690.69 1234.33 1692.49 1237.89 Q1694.32 1241.43 1697.93 1241.43 Q1701.57 1241.43 1703.37 1237.89 Q1705.2 1234.33 1705.2 1227.22 Q1705.2 1220.09 1703.37 1216.55 Q1701.57 1212.98 1697.93 1212.98 M1697.93 1209.28 Q1703.74 1209.28 1706.8 1213.89 Q1709.88 1218.47 1709.88 1227.22 Q1709.88 1235.95 1706.8 1240.55 Q1703.74 1245.14 1697.93 1245.14 Q1692.12 1245.14 1689.04 1240.55 Q1685.99 1235.95 1685.99 1227.22 Q1685.99 1218.47 1689.04 1213.89 Q1692.12 1209.28 1697.93 1209.28 Z\" fill=\"#000000\" fill-rule=\"evenodd\" fill-opacity=\"1\" /><path clip-path=\"url(#clip090)\" d=\"M1728.72 1108.17 Q1725.11 1108.17 1723.28 1111.74 Q1721.48 1115.28 1721.48 1122.41 Q1721.48 1129.51 1723.28 1133.08 Q1725.11 1136.62 1728.72 1136.62 Q1732.36 1136.62 1734.16 1133.08 Q1735.99 1129.51 1735.99 1122.41 Q1735.99 1115.28 1734.16 1111.74 Q1732.36 1108.17 1728.72 1108.17 M1728.72 1104.47 Q1734.53 1104.47 1737.59 1109.08 Q1740.67 1113.66 1740.67 1122.41 Q1740.67 1131.14 1737.59 1135.74 Q1734.53 1140.33 1728.72 1140.33 Q1722.91 1140.33 1719.83 1135.74 Q1716.78 1131.14 1716.78 1122.41 Q1716.78 1113.66 1719.83 1109.08 Q1722.91 1104.47 1728.72 1104.47 Z\" fill=\"#000000\" fill-rule=\"evenodd\" fill-opacity=\"1\" /><path clip-path=\"url(#clip090)\" d=\"M1748.89 1133.77 L1753.77 1133.77 L1753.77 1139.65 L1748.89 1139.65 L1748.89 1133.77 Z\" fill=\"#000000\" fill-rule=\"evenodd\" fill-opacity=\"1\" /><path clip-path=\"url(#clip090)\" d=\"M1764 1105.09 L1782.36 1105.09 L1782.36 1109.03 L1768.28 1109.03 L1768.28 1117.5 Q1769.3 1117.15 1770.32 1116.99 Q1771.34 1116.81 1772.36 1116.81 Q1778.14 1116.81 1781.52 1119.98 Q1784.9 1123.15 1784.9 1128.57 Q1784.9 1134.14 1781.43 1137.25 Q1777.96 1140.33 1771.64 1140.33 Q1769.46 1140.33 1767.2 1139.95 Q1764.95 1139.58 1762.54 1138.84 L1762.54 1134.14 Q1764.63 1135.28 1766.85 1135.83 Q1769.07 1136.39 1771.55 1136.39 Q1775.55 1136.39 1777.89 1134.28 Q1780.23 1132.18 1780.23 1128.57 Q1780.23 1124.95 1777.89 1122.85 Q1775.55 1120.74 1771.55 1120.74 Q1769.67 1120.74 1767.8 1121.16 Q1765.95 1121.58 1764 1122.45 L1764 1105.09 Z\" fill=\"#000000\" fill-rule=\"evenodd\" fill-opacity=\"1\" /><path clip-path=\"url(#clip090)\" d=\"M1785.88 1041.38 L1793.52 1041.38 L1793.52 1015.01 L1785.21 1016.68 L1785.21 1012.42 L1793.47 1010.75 L1798.15 1010.75 L1798.15 1041.38 L1805.79 1041.38 L1805.79 1045.31 L1785.88 1045.31 L1785.88 1041.38 Z\" fill=\"#000000\" fill-rule=\"evenodd\" fill-opacity=\"1\" /><path clip-path=\"url(#clip090)\" d=\"M1815.23 1039.43 L1820.12 1039.43 L1820.12 1045.31 L1815.23 1045.31 L1815.23 1039.43 Z\" fill=\"#000000\" fill-rule=\"evenodd\" fill-opacity=\"1\" /><path clip-path=\"url(#clip090)\" d=\"M1840.3 1013.83 Q1836.69 1013.83 1834.86 1017.39 Q1833.06 1020.94 1833.06 1028.07 Q1833.06 1035.17 1834.86 1038.74 Q1836.69 1042.28 1840.3 1042.28 Q1843.94 1042.28 1845.74 1038.74 Q1847.57 1035.17 1847.57 1028.07 Q1847.57 1020.94 1845.74 1017.39 Q1843.94 1013.83 1840.3 1013.83 M1840.3 1010.13 Q1846.11 1010.13 1849.17 1014.73 Q1852.25 1019.32 1852.25 1028.07 Q1852.25 1036.79 1849.17 1041.4 Q1846.11 1045.98 1840.3 1045.98 Q1834.49 1045.98 1831.41 1041.4 Q1828.36 1036.79 1828.36 1028.07 Q1828.36 1019.32 1831.41 1014.73 Q1834.49 1010.13 1840.3 1010.13 Z\" fill=\"#000000\" fill-rule=\"evenodd\" fill-opacity=\"1\" /><polyline clip-path=\"url(#clip092)\" style=\"stroke:#000000; stroke-linecap:butt; stroke-linejoin:round; stroke-width:2; stroke-opacity:0.1; fill:none\" points=\"\n",
       "  739.745,1176.62 1155.98,825.531 \n",
       "  \"/>\n",
       "<polyline clip-path=\"url(#clip092)\" style=\"stroke:#000000; stroke-linecap:butt; stroke-linejoin:round; stroke-width:2; stroke-opacity:0.1; fill:none\" points=\"\n",
       "  1155.98,825.531 1761.9,1011.12 \n",
       "  \"/>\n",
       "<polyline clip-path=\"url(#clip092)\" style=\"stroke:#000000; stroke-linecap:butt; stroke-linejoin:round; stroke-width:2; stroke-opacity:0.1; fill:none\" points=\"\n",
       "  719.609,1016.56 1152.36,684.214 \n",
       "  \"/>\n",
       "<polyline clip-path=\"url(#clip092)\" style=\"stroke:#000000; stroke-linecap:butt; stroke-linejoin:round; stroke-width:2; stroke-opacity:0.1; fill:none\" points=\"\n",
       "  1152.36,684.214 1778.72,859.336 \n",
       "  \"/>\n",
       "<polyline clip-path=\"url(#clip092)\" style=\"stroke:#000000; stroke-linecap:butt; stroke-linejoin:round; stroke-width:2; stroke-opacity:0.1; fill:none\" points=\"\n",
       "  697.895,843.942 1148.52,533.924 \n",
       "  \"/>\n",
       "<polyline clip-path=\"url(#clip092)\" style=\"stroke:#000000; stroke-linecap:butt; stroke-linejoin:round; stroke-width:2; stroke-opacity:0.1; fill:none\" points=\"\n",
       "  1148.52,533.924 1796.75,696.723 \n",
       "  \"/>\n",
       "<polyline clip-path=\"url(#clip092)\" style=\"stroke:#000000; stroke-linecap:butt; stroke-linejoin:round; stroke-width:2; stroke-opacity:0.1; fill:none\" points=\"\n",
       "  674.407,657.233 1144.43,373.78 \n",
       "  \"/>\n",
       "<polyline clip-path=\"url(#clip092)\" style=\"stroke:#000000; stroke-linecap:butt; stroke-linejoin:round; stroke-width:2; stroke-opacity:0.1; fill:none\" points=\"\n",
       "  1144.43,373.78 1816.11,522.081 \n",
       "  \"/>\n",
       "<polyline clip-path=\"url(#clip092)\" style=\"stroke:#000000; stroke-linecap:butt; stroke-linejoin:round; stroke-width:2; stroke-opacity:0.1; fill:none\" points=\"\n",
       "  648.921,454.634 1140.06,202.778 \n",
       "  \"/>\n",
       "<polyline clip-path=\"url(#clip092)\" style=\"stroke:#000000; stroke-linecap:butt; stroke-linejoin:round; stroke-width:2; stroke-opacity:0.1; fill:none\" points=\"\n",
       "  1140.06,202.778 1836.95,334.024 \n",
       "  \"/>\n",
       "<polyline clip-path=\"url(#clip090)\" style=\"stroke:#000000; stroke-linecap:butt; stroke-linejoin:round; stroke-width:4; stroke-opacity:1; fill:none\" points=\"\n",
       "  739.745,1176.62 648.921,454.634 \n",
       "  \"/>\n",
       "<polyline clip-path=\"url(#clip090)\" style=\"stroke:#000000; stroke-linecap:butt; stroke-linejoin:round; stroke-width:4; stroke-opacity:1; fill:none\" points=\"\n",
       "  739.745,1176.62 745.813,1171.51 \n",
       "  \"/>\n",
       "<polyline clip-path=\"url(#clip090)\" style=\"stroke:#000000; stroke-linecap:butt; stroke-linejoin:round; stroke-width:4; stroke-opacity:1; fill:none\" points=\"\n",
       "  719.609,1016.56 725.961,1011.68 \n",
       "  \"/>\n",
       "<polyline clip-path=\"url(#clip090)\" style=\"stroke:#000000; stroke-linecap:butt; stroke-linejoin:round; stroke-width:4; stroke-opacity:1; fill:none\" points=\"\n",
       "  697.895,843.942 704.556,839.359 \n",
       "  \"/>\n",
       "<polyline clip-path=\"url(#clip090)\" style=\"stroke:#000000; stroke-linecap:butt; stroke-linejoin:round; stroke-width:4; stroke-opacity:1; fill:none\" points=\"\n",
       "  674.407,657.233 681.408,653.011 \n",
       "  \"/>\n",
       "<polyline clip-path=\"url(#clip090)\" style=\"stroke:#000000; stroke-linecap:butt; stroke-linejoin:round; stroke-width:4; stroke-opacity:1; fill:none\" points=\"\n",
       "  648.921,454.634 656.297,450.851 \n",
       "  \"/>\n",
       "<path clip-path=\"url(#clip090)\" d=\"M604.001 1177.08 L633.677 1177.08 L633.677 1181.01 L604.001 1181.01 L604.001 1177.08 Z\" fill=\"#000000\" fill-rule=\"evenodd\" fill-opacity=\"1\" /><path clip-path=\"url(#clip090)\" d=\"M644.579 1189.97 L652.218 1189.97 L652.218 1163.6 L643.908 1165.27 L643.908 1161.01 L652.172 1159.34 L656.848 1159.34 L656.848 1189.97 L664.487 1189.97 L664.487 1193.9 L644.579 1193.9 L644.579 1189.97 Z\" fill=\"#000000\" fill-rule=\"evenodd\" fill-opacity=\"1\" /><path clip-path=\"url(#clip090)\" d=\"M673.931 1188.03 L678.815 1188.03 L678.815 1193.9 L673.931 1193.9 L673.931 1188.03 Z\" fill=\"#000000\" fill-rule=\"evenodd\" fill-opacity=\"1\" /><path clip-path=\"url(#clip090)\" d=\"M699 1162.42 Q695.389 1162.42 693.56 1165.99 Q691.755 1169.53 691.755 1176.66 Q691.755 1183.77 693.56 1187.33 Q695.389 1190.87 699 1190.87 Q702.635 1190.87 704.44 1187.33 Q706.269 1183.77 706.269 1176.66 Q706.269 1169.53 704.44 1165.99 Q702.635 1162.42 699 1162.42 M699 1158.72 Q704.81 1158.72 707.866 1163.33 Q710.945 1167.91 710.945 1176.66 Q710.945 1185.39 707.866 1189.99 Q704.81 1194.58 699 1194.58 Q693.19 1194.58 690.111 1189.99 Q687.056 1185.39 687.056 1176.66 Q687.056 1167.91 690.111 1163.33 Q693.19 1158.72 699 1158.72 Z\" fill=\"#000000\" fill-rule=\"evenodd\" fill-opacity=\"1\" /><path clip-path=\"url(#clip090)\" d=\"M584.861 1017.01 L614.536 1017.01 L614.536 1020.95 L584.861 1020.95 L584.861 1017.01 Z\" fill=\"#000000\" fill-rule=\"evenodd\" fill-opacity=\"1\" /><path clip-path=\"url(#clip090)\" d=\"M634.629 1002.36 Q631.018 1002.36 629.189 1005.92 Q627.384 1009.47 627.384 1016.59 Q627.384 1023.7 629.189 1027.27 Q631.018 1030.81 634.629 1030.81 Q638.263 1030.81 640.069 1027.27 Q641.897 1023.7 641.897 1016.59 Q641.897 1009.47 640.069 1005.92 Q638.263 1002.36 634.629 1002.36 M634.629 998.655 Q640.439 998.655 643.495 1003.26 Q646.573 1007.84 646.573 1016.59 Q646.573 1025.32 643.495 1029.93 Q640.439 1034.51 634.629 1034.51 Q628.819 1034.51 625.74 1029.93 Q622.685 1025.32 622.685 1016.59 Q622.685 1007.84 625.74 1003.26 Q628.819 998.655 634.629 998.655 Z\" fill=\"#000000\" fill-rule=\"evenodd\" fill-opacity=\"1\" /><path clip-path=\"url(#clip090)\" d=\"M654.791 1027.96 L659.675 1027.96 L659.675 1033.84 L654.791 1033.84 L654.791 1027.96 Z\" fill=\"#000000\" fill-rule=\"evenodd\" fill-opacity=\"1\" /><path clip-path=\"url(#clip090)\" d=\"M669.907 999.28 L688.263 999.28 L688.263 1003.22 L674.189 1003.22 L674.189 1011.69 Q675.207 1011.34 676.226 1011.18 Q677.244 1010.99 678.263 1010.99 Q684.05 1010.99 687.43 1014.16 Q690.809 1017.34 690.809 1022.75 Q690.809 1028.33 687.337 1031.43 Q683.865 1034.51 677.545 1034.51 Q675.369 1034.51 673.101 1034.14 Q670.856 1033.77 668.448 1033.03 L668.448 1028.33 Q670.532 1029.47 672.754 1030.02 Q674.976 1030.58 677.453 1030.58 Q681.457 1030.58 683.795 1028.47 Q686.133 1026.36 686.133 1022.75 Q686.133 1019.14 683.795 1017.03 Q681.457 1014.93 677.453 1014.93 Q675.578 1014.93 673.703 1015.34 Q671.851 1015.76 669.907 1016.64 L669.907 999.28 Z\" fill=\"#000000\" fill-rule=\"evenodd\" fill-opacity=\"1\" /><path clip-path=\"url(#clip090)\" d=\"M611.919 829.741 Q608.308 829.741 606.479 833.305 Q604.674 836.847 604.674 843.977 Q604.674 851.083 606.479 854.648 Q608.308 858.189 611.919 858.189 Q615.553 858.189 617.359 854.648 Q619.187 851.083 619.187 843.977 Q619.187 836.847 617.359 833.305 Q615.553 829.741 611.919 829.741 M611.919 826.037 Q617.729 826.037 620.785 830.643 Q623.863 835.227 623.863 843.977 Q623.863 852.703 620.785 857.31 Q617.729 861.893 611.919 861.893 Q606.109 861.893 603.03 857.31 Q599.975 852.703 599.975 843.977 Q599.975 835.227 603.03 830.643 Q606.109 826.037 611.919 826.037 Z\" fill=\"#000000\" fill-rule=\"evenodd\" fill-opacity=\"1\" /><path clip-path=\"url(#clip090)\" d=\"M632.081 855.342 L636.965 855.342 L636.965 861.222 L632.081 861.222 L632.081 855.342 Z\" fill=\"#000000\" fill-rule=\"evenodd\" fill-opacity=\"1\" /><path clip-path=\"url(#clip090)\" d=\"M657.15 829.741 Q653.539 829.741 651.71 833.305 Q649.905 836.847 649.905 843.977 Q649.905 851.083 651.71 854.648 Q653.539 858.189 657.15 858.189 Q660.784 858.189 662.59 854.648 Q664.419 851.083 664.419 843.977 Q664.419 836.847 662.59 833.305 Q660.784 829.741 657.15 829.741 M657.15 826.037 Q662.96 826.037 666.016 830.643 Q669.095 835.227 669.095 843.977 Q669.095 852.703 666.016 857.31 Q662.96 861.893 657.15 861.893 Q651.34 861.893 648.261 857.31 Q645.206 852.703 645.206 843.977 Q645.206 835.227 648.261 830.643 Q651.34 826.037 657.15 826.037 Z\" fill=\"#000000\" fill-rule=\"evenodd\" fill-opacity=\"1\" /><path clip-path=\"url(#clip090)\" d=\"M589.427 643.031 Q585.816 643.031 583.987 646.596 Q582.182 650.138 582.182 657.267 Q582.182 664.374 583.987 667.939 Q585.816 671.48 589.427 671.48 Q593.061 671.48 594.867 667.939 Q596.695 664.374 596.695 657.267 Q596.695 650.138 594.867 646.596 Q593.061 643.031 589.427 643.031 M589.427 639.328 Q595.237 639.328 598.293 643.934 Q601.371 648.517 601.371 657.267 Q601.371 665.994 598.293 670.601 Q595.237 675.184 589.427 675.184 Q583.617 675.184 580.538 670.601 Q577.483 665.994 577.483 657.267 Q577.483 648.517 580.538 643.934 Q583.617 639.328 589.427 639.328 Z\" fill=\"#000000\" fill-rule=\"evenodd\" fill-opacity=\"1\" /><path clip-path=\"url(#clip090)\" d=\"M609.589 668.633 L614.473 668.633 L614.473 674.513 L609.589 674.513 L609.589 668.633 Z\" fill=\"#000000\" fill-rule=\"evenodd\" fill-opacity=\"1\" /><path clip-path=\"url(#clip090)\" d=\"M624.705 639.953 L643.061 639.953 L643.061 643.888 L628.987 643.888 L628.987 652.36 Q630.005 652.013 631.024 651.851 Q632.043 651.665 633.061 651.665 Q638.848 651.665 642.228 654.837 Q645.607 658.008 645.607 663.425 Q645.607 669.003 642.135 672.105 Q638.663 675.184 632.343 675.184 Q630.168 675.184 627.899 674.814 Q625.654 674.443 623.246 673.702 L623.246 669.003 Q625.33 670.138 627.552 670.693 Q629.774 671.249 632.251 671.249 Q636.255 671.249 638.593 669.142 Q640.931 667.036 640.931 663.425 Q640.931 659.814 638.593 657.707 Q636.255 655.601 632.251 655.601 Q630.376 655.601 628.501 656.017 Q626.649 656.434 624.705 657.314 L624.705 639.953 Z\" fill=\"#000000\" fill-rule=\"evenodd\" fill-opacity=\"1\" /><path clip-path=\"url(#clip090)\" d=\"M553.756 467.978 L561.395 467.978 L561.395 441.613 L553.084 443.279 L553.084 439.02 L561.348 437.354 L566.024 437.354 L566.024 467.978 L573.663 467.978 L573.663 471.914 L553.756 471.914 L553.756 467.978 Z\" fill=\"#000000\" fill-rule=\"evenodd\" fill-opacity=\"1\" /><path clip-path=\"url(#clip090)\" d=\"M583.107 466.034 L587.992 466.034 L587.992 471.914 L583.107 471.914 L583.107 466.034 Z\" fill=\"#000000\" fill-rule=\"evenodd\" fill-opacity=\"1\" /><path clip-path=\"url(#clip090)\" d=\"M608.177 440.432 Q604.566 440.432 602.737 443.997 Q600.931 447.539 600.931 454.668 Q600.931 461.775 602.737 465.34 Q604.566 468.881 608.177 468.881 Q611.811 468.881 613.617 465.34 Q615.445 461.775 615.445 454.668 Q615.445 447.539 613.617 443.997 Q611.811 440.432 608.177 440.432 M608.177 436.729 Q613.987 436.729 617.042 441.335 Q620.121 445.918 620.121 454.668 Q620.121 463.395 617.042 468.002 Q613.987 472.585 608.177 472.585 Q602.367 472.585 599.288 468.002 Q596.232 463.395 596.232 454.668 Q596.232 445.918 599.288 441.335 Q602.367 436.729 608.177 436.729 Z\" fill=\"#000000\" fill-rule=\"evenodd\" fill-opacity=\"1\" /><circle clip-path=\"url(#clip092)\" cx=\"1542.68\" cy=\"1138\" r=\"14\" fill=\"#009af9\" fill-rule=\"evenodd\" fill-opacity=\"1\" stroke=\"#000000\" stroke-opacity=\"1\" stroke-width=\"3.2\"/>\n",
       "<path clip-path=\"url(#clip090)\" d=\"\n",
       "M1988.5 198.898 L2280.8 198.898 L2280.8 95.2176 L1988.5 95.2176  Z\n",
       "  \" fill=\"#ffffff\" fill-rule=\"evenodd\" fill-opacity=\"1\"/>\n",
       "<polyline clip-path=\"url(#clip090)\" style=\"stroke:#000000; stroke-linecap:butt; stroke-linejoin:round; stroke-width:4; stroke-opacity:1; fill:none\" points=\"\n",
       "  1988.5,198.898 2280.8,198.898 2280.8,95.2176 1988.5,95.2176 1988.5,198.898 \n",
       "  \"/>\n",
       "<circle clip-path=\"url(#clip090)\" cx=\"2084.44\" cy=\"147.058\" r=\"23\" fill=\"#009af9\" fill-rule=\"evenodd\" fill-opacity=\"1\" stroke=\"#000000\" stroke-opacity=\"1\" stroke-width=\"5.12\"/>\n",
       "<path clip-path=\"url(#clip090)\" d=\"M2194.23 166.745 Q2192.43 171.375 2190.72 172.787 Q2189 174.199 2186.13 174.199 L2182.73 174.199 L2182.73 170.634 L2185.23 170.634 Q2186.99 170.634 2187.96 169.8 Q2188.93 168.967 2190.11 165.865 L2190.88 163.921 L2180.39 138.412 L2184.91 138.412 L2193.01 158.689 L2201.11 138.412 L2205.62 138.412 L2194.23 166.745 Z\" fill=\"#000000\" fill-rule=\"evenodd\" fill-opacity=\"1\" /><path clip-path=\"url(#clip090)\" d=\"M2212.91 160.402 L2220.55 160.402 L2220.55 134.037 L2212.24 135.703 L2212.24 131.444 L2220.51 129.778 L2225.18 129.778 L2225.18 160.402 L2232.82 160.402 L2232.82 164.338 L2212.91 164.338 L2212.91 160.402 Z\" fill=\"#000000\" fill-rule=\"evenodd\" fill-opacity=\"1\" /></svg>\n"
      ]
     },
     "execution_count": 62,
     "metadata": {},
     "output_type": "execute_result"
    }
   ],
   "source": [
    "scatter([axis[1]], [axis[2]], [axis[3]],xlims = (-1,1), ylims =(-1,1), zlims=(-1,1)) "
   ]
  },
  {
   "cell_type": "code",
   "execution_count": 63,
   "id": "6d79b205",
   "metadata": {},
   "outputs": [
    {
     "data": {
      "text/plain": [
       "3-element Vector{Float64}:\n",
       "  0.6386684600032712\n",
       "  0.05537722587769236\n",
       " -0.7674867823299245"
      ]
     },
     "execution_count": 63,
     "metadata": {},
     "output_type": "execute_result"
    }
   ],
   "source": [
    "axis_unit"
   ]
  },
  {
   "cell_type": "code",
   "execution_count": 64,
   "id": "b4598bae",
   "metadata": {},
   "outputs": [
    {
     "data": {
      "text/plain": [
       "3×3 Matrix{Float64}:\n",
       "  0.0        0.767487   0.0553772\n",
       " -0.767487   0.0       -0.638668\n",
       " -0.0553772  0.638668   0.0"
      ]
     },
     "execution_count": 64,
     "metadata": {},
     "output_type": "execute_result"
    }
   ],
   "source": [
    "ω = [0 -axis_unit[3] axis_unit[2]; axis_unit[3] 0 -axis_unit[1]; -axis_unit[2] axis_unit[1] 0]"
   ]
  },
  {
   "cell_type": "code",
   "execution_count": 65,
   "id": "412c3ced",
   "metadata": {},
   "outputs": [
    {
     "data": {
      "text/plain": [
       "3×3 Matrix{Float64}:\n",
       "  0.727812  0.662076  -0.178732\n",
       " -0.629559  0.541712  -0.556959\n",
       " -0.271928  0.517883   0.811081"
      ]
     },
     "execution_count": 65,
     "metadata": {},
     "output_type": "execute_result"
    }
   ],
   "source": [
    "R = exp(θ*ω)"
   ]
  },
  {
   "cell_type": "code",
   "execution_count": 66,
   "id": "11572d02",
   "metadata": {},
   "outputs": [
    {
     "data": {
      "text/plain": [
       "3×3 Matrix{Float64}:\n",
       "  0.727812  0.662076  -0.178732\n",
       " -0.629559  0.541712  -0.556959\n",
       " -0.271928  0.517883   0.811081"
      ]
     },
     "execution_count": 66,
     "metadata": {},
     "output_type": "execute_result"
    }
   ],
   "source": [
    "R_alg = I + sin(θ)*ω + (1-cos(θ))*(ω)^2"
   ]
  },
  {
   "cell_type": "code",
   "execution_count": 67,
   "id": "9e5877a8",
   "metadata": {},
   "outputs": [
    {
     "data": {
      "text/plain": [
       "3-element Vector{Int64}:\n",
       " 0\n",
       " 0\n",
       " 1"
      ]
     },
     "execution_count": 67,
     "metadata": {},
     "output_type": "execute_result"
    }
   ],
   "source": [
    "test_vector = [0, 0, 1]"
   ]
  },
  {
   "cell_type": "code",
   "execution_count": 68,
   "id": "f1274d96",
   "metadata": {},
   "outputs": [
    {
     "data": {
      "text/plain": [
       "3-element Vector{Float64}:\n",
       " -0.17873150667591767\n",
       " -0.5569587225111411\n",
       "  0.8110807789240935"
      ]
     },
     "execution_count": 68,
     "metadata": {},
     "output_type": "execute_result"
    }
   ],
   "source": [
    "rotated = R*test_vector"
   ]
  },
  {
   "cell_type": "code",
   "execution_count": 69,
   "id": "22ff4b8f",
   "metadata": {},
   "outputs": [
    {
     "data": {
      "text/plain": [
       "3-element Vector{Float64}:\n",
       " -0.17873150667591758\n",
       " -0.556958722511141\n",
       "  0.8110807789240936"
      ]
     },
     "execution_count": 69,
     "metadata": {},
     "output_type": "execute_result"
    }
   ],
   "source": [
    "rotated2 = R_alg*test_vector"
   ]
  },
  {
   "cell_type": "code",
   "execution_count": 73,
   "id": "8991b3df",
   "metadata": {},
   "outputs": [
    {
     "data": {
      "text/plain": [
       "0.6146856449859659"
      ]
     },
     "execution_count": 73,
     "metadata": {},
     "output_type": "execute_result"
    }
   ],
   "source": [
    "norm(rotated2 - test_vector)"
   ]
  },
  {
   "cell_type": "code",
   "execution_count": 70,
   "id": "0f296712",
   "metadata": {},
   "outputs": [
    {
     "data": {
      "text/plain": [
       "0.6146856449859661"
      ]
     },
     "execution_count": 70,
     "metadata": {},
     "output_type": "execute_result"
    }
   ],
   "source": [
    "norm(rotated - test_vector)"
   ]
  },
  {
   "cell_type": "code",
   "execution_count": 71,
   "id": "dc3b2543",
   "metadata": {},
   "outputs": [
    {
     "data": {
      "text/plain": [
       "0.6247988781919985"
      ]
     },
     "execution_count": 71,
     "metadata": {},
     "output_type": "execute_result"
    }
   ],
   "source": [
    "#acos(dot(rotated, test_vector)/(norm(rotated)*norm(test_vector)))\n",
    "acos(normalize(rotated)'*normalize(test_vector))"
   ]
  },
  {
   "cell_type": "code",
   "execution_count": 72,
   "id": "d63a87f2",
   "metadata": {},
   "outputs": [
    {
     "data": {
      "text/plain": [
       "35.79833876490992"
      ]
     },
     "execution_count": 72,
     "metadata": {},
     "output_type": "execute_result"
    }
   ],
   "source": [
    "acos(dot(rotated2, test_vector)/(norm(rotated2)*norm(test_vector)))*180/pi"
   ]
  },
  {
   "cell_type": "code",
   "execution_count": 170,
   "id": "17e48296",
   "metadata": {},
   "outputs": [
    {
     "data": {
      "text/plain": [
       "1.5707963267948966"
      ]
     },
     "execution_count": 170,
     "metadata": {},
     "output_type": "execute_result"
    }
   ],
   "source": [
    "pi/2"
   ]
  },
  {
   "cell_type": "code",
   "execution_count": 171,
   "id": "3cdd133d",
   "metadata": {},
   "outputs": [
    {
     "data": {
      "text/plain": [
       "3×3 RotMatrix3{Float64} with indices SOneTo(3)×SOneTo(3):\n",
       " -0.716973  -0.496454   0.489371\n",
       " -0.627863   0.764906  -0.1439\n",
       " -0.302883  -0.410431  -0.860121"
      ]
     },
     "execution_count": 171,
     "metadata": {},
     "output_type": "execute_result"
    }
   ],
   "source": [
    "r = rand(RotMatrix{3}) "
   ]
  },
  {
   "cell_type": "code",
   "execution_count": 172,
   "id": "3c2053f3",
   "metadata": {},
   "outputs": [
    {
     "data": {
      "text/plain": [
       "3×3 AngleAxis{Float64} with indices SOneTo(3)×SOneTo(3)(2.70476, -0.314991, 0.936302, -0.155303):\n",
       " -0.716973  -0.496454   0.489371\n",
       " -0.627863   0.764906  -0.1439\n",
       " -0.302883  -0.410431  -0.860121"
      ]
     },
     "execution_count": 172,
     "metadata": {},
     "output_type": "execute_result"
    }
   ],
   "source": [
    "aa = AngleAxis(r)"
   ]
  },
  {
   "cell_type": "code",
   "execution_count": 76,
   "id": "32ab87b2",
   "metadata": {},
   "outputs": [
    {
     "data": {
      "text/plain": [
       "4×4 SparseArrays.SparseMatrixCSC{Float64, Int64} with 5 stored entries:\n",
       " 1.0   ⋅    ⋅       ⋅ \n",
       "  ⋅   1.0   ⋅       ⋅ \n",
       "  ⋅    ⋅   1.0  6000.0\n",
       "  ⋅    ⋅    ⋅      1.0"
      ]
     },
     "execution_count": 76,
     "metadata": {},
     "output_type": "execute_result"
    }
   ],
   "source": [
    "#change the axes of rotation\n",
    "p = [0,0,6000]\n",
    "\n",
    "G = [I(3) p; zeros(3)' 1]"
   ]
  },
  {
   "cell_type": "code",
   "execution_count": 77,
   "id": "0760b703",
   "metadata": {},
   "outputs": [
    {
     "data": {
      "text/plain": [
       "4-element Vector{Float64}:\n",
       "    0.0\n",
       "    0.0\n",
       " 6000.0\n",
       "    1.0"
      ]
     },
     "execution_count": 77,
     "metadata": {},
     "output_type": "execute_result"
    }
   ],
   "source": [
    "axes =[0,0,0,1] #origin in the body frame\n",
    "axes_inertial = G*axes"
   ]
  },
  {
   "cell_type": "code",
   "execution_count": null,
   "id": "78b1a210",
   "metadata": {},
   "outputs": [],
   "source": []
  }
 ],
 "metadata": {
  "@webio": {
   "lastCommId": null,
   "lastKernelId": null
  },
  "kernelspec": {
   "display_name": "Julia 1.6.5",
   "language": "julia",
   "name": "julia-1.6"
  },
  "language_info": {
   "file_extension": ".jl",
   "mimetype": "application/julia",
   "name": "julia",
   "version": "1.6.5"
  }
 },
 "nbformat": 4,
 "nbformat_minor": 5
}
