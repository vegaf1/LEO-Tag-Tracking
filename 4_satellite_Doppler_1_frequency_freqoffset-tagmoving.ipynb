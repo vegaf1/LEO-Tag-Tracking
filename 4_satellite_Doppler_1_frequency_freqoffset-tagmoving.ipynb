{
 "cells": [
  {
   "cell_type": "code",
   "execution_count": 144,
   "id": "8e7fa96b",
   "metadata": {},
   "outputs": [],
   "source": [
    "#4 satellites Doppler 1 frequency\n",
    "\n",
    "#Solving for pose and frequency offset\n",
    "\n",
    "#Rotation of Earth and the effect of the ionosphere are included\n",
    "\n",
    "#Doppler Method for Localizing a receiver\n",
    "#Fausto Vega\n",
    "\n",
    "using SatelliteDynamics\n",
    "using LinearAlgebra\n",
    "using PlotlyJS\n",
    "using DelimitedFiles\n",
    "using Distributions"
   ]
  },
  {
   "cell_type": "code",
   "execution_count": 145,
   "id": "83963c76",
   "metadata": {},
   "outputs": [
    {
     "data": {
      "text/plain": [
       "Epoch(2019-01-01T11:59:23.000Z)"
      ]
     },
     "execution_count": 145,
     "metadata": {},
     "output_type": "execute_result"
    }
   ],
   "source": [
    "# Declare simulation initial Epoch. Start time\n",
    "epc0 = Epoch(2019, 1, 1, 12, 0, 0, 0.0)  #year, month, day, hour, minute, seconds, nanoseconds "
   ]
  },
  {
   "cell_type": "code",
   "execution_count": 146,
   "id": "0e8c112a",
   "metadata": {},
   "outputs": [],
   "source": [
    "# Declare initial state in terms of osculating orbital elements\n",
    "#semi-major axis, eccentricity, inclination, RAAN, Argument of perigee, Mean anomaly\n",
    "\n",
    "#1 and 2 on the same orbit, different initial mean anomaly\n",
    "\n",
    "#iss1 = [7378e3, 0.0004879, 90.6391, 189.0859, 151.2014, 185]; #converges at 189.0859\n",
    "#iss2 = [7378e3, 0.0004879, 90.6391, 189.0859, 151.2014, 205];\n",
    "#iss3 = [7378e3, 0.0004879, 90.6391, 201.0859, 151.2014, 190]; # converges a t 200.0859\n",
    "#iss4 = [7378e3, 0.0004879, 90.6391, 201.0859, 151.2014, 210]; # converges a t 200.0859\n",
    "\n",
    "#approximately 500 km elevation from surface of Earth and around 100 km seperation at equator\n",
    "#working good\n",
    "#iss1 = [6871e3, 0.0004879, 90.6391, 194.5859, 151.2014, 190]; \n",
    "#iss2 = [6871e3, 0.0004879, 90.6391, 194.5859, 151.2014, 200];\n",
    "#iss3 = [6871e3, 0.0004879, 90.6391, 195.5859, 151.2014, 193]; \n",
    "#iss4 = [6871e3, 0.0004879, 90.6391, 195.5859, 151.2014, 203]; \n",
    "\n",
    "#ARGOS Orbit ~850 km altitude\n",
    "\n",
    "iss1 = [6871e3, 0.0004879, 90.6391, 194.5859, 151.2014, 190]; \n",
    "iss2 = [6871e3, 0.0004879, 90.6391, 194.5859, 151.2014, 200];\n",
    "iss3 = [6871e3, 0.0004879, 90.6391, 196.5859, 151.2014, 193]; \n",
    "iss4 = [6871e3, 0.0004879, 90.6391, 196.5859, 151.2014, 203]; \n",
    "\n",
    "\n",
    "\n",
    "#Function to convert mean anomoaly to eccentric anomaly\n",
    "E1 = anomaly_mean_to_eccentric(iss1[6], iss1[2], use_degrees=true); \n",
    "E2 = anomaly_mean_to_eccentric(iss2[6], iss2[2], use_degrees=true);\n",
    "E3 = anomaly_mean_to_eccentric(iss3[6], iss3[2], use_degrees=true);\n",
    "E4 = anomaly_mean_to_eccentric(iss4[6], iss4[2], use_degrees=true);"
   ]
  },
  {
   "cell_type": "code",
   "execution_count": 147,
   "id": "900db33d",
   "metadata": {},
   "outputs": [
    {
     "data": {
      "text/plain": [
       "6-element Vector{Float64}:\n",
       "      -6.551891283502199e6\n",
       "      -1.959561329014077e6\n",
       " -697065.2121487064\n",
       "    -762.6662561944706\n",
       "    -139.00657375176846\n",
       "    7573.567651354772"
      ]
     },
     "execution_count": 147,
     "metadata": {},
     "output_type": "execute_result"
    }
   ],
   "source": [
    "# Convert osculating elements to Cartesean state\n",
    "# returns position and velocity (m, m/s)\n",
    "\n",
    "eci0_1 = sOSCtoCART(iss1, use_degrees=true)\n",
    "eci0_2 = sOSCtoCART(iss2, use_degrees=true)\n",
    "eci0_3 = sOSCtoCART(iss3, use_degrees=true)\n",
    "eci0_4 = sOSCtoCART(iss4, use_degrees=true)"
   ]
  },
  {
   "cell_type": "code",
   "execution_count": 148,
   "id": "6b4ab0e5",
   "metadata": {},
   "outputs": [
    {
     "data": {
      "text/plain": [
       "Epoch(2019-01-01T13:33:51.144Z)"
      ]
     },
     "execution_count": 148,
     "metadata": {},
     "output_type": "execute_result"
    }
   ],
   "source": [
    "#compute the satellite orbital period given the semi-major axis\n",
    "\n",
    "#same for all 4 satellites since they have the same semi-major axis\n",
    "T = orbit_period(iss1[1])\n",
    "\n",
    "#final time for one orbit. Adds initial time to the orbital period\n",
    "\n",
    "epcf = epc0 + T"
   ]
  },
  {
   "cell_type": "code",
   "execution_count": 149,
   "id": "2dc0ac8e",
   "metadata": {},
   "outputs": [],
   "source": [
    "# Create an EarthInertialState orbit propagagator\n",
    "#needs initial epoch of state and the state vector\n",
    "orb1  = EarthInertialState(epc0, eci0_1, dt=1.0,\n",
    "            mass=1.0, n_grav=0, m_grav=0,\n",
    "            drag=false, srp=false,\n",
    "            moon=false, sun=false,\n",
    "            relativity=false\n",
    ")\n",
    "\n",
    "orb2  = EarthInertialState(epc0, eci0_2, dt=1.0,\n",
    "            mass=1.0, n_grav=0, m_grav=0,\n",
    "            drag=false, srp=false,\n",
    "            moon=false, sun=false,\n",
    "            relativity=false\n",
    ")\n",
    "\n",
    "orb3  = EarthInertialState(epc0, eci0_3, dt=1.0,\n",
    "            mass=1.0, n_grav=0, m_grav=0,\n",
    "            drag=false, srp=false,\n",
    "            moon=false, sun=false,\n",
    "            relativity=false\n",
    ")\n",
    "\n",
    "orb4  = EarthInertialState(epc0, eci0_4, dt=1.0,\n",
    "            mass=1.0, n_grav=0, m_grav=0,\n",
    "            drag=false, srp=false,\n",
    "            moon=false, sun=false,\n",
    "            relativity=false\n",
    ")\n",
    "\n",
    "# Propagate the orbit\n",
    "# orbit until the final time\n",
    "\n",
    "t_1, epc_1, eci_1 = sim!(orb1, epcf);\n",
    "t_2, epc_2, eci_2 = sim!(orb2, epcf);\n",
    "t_3, epc_3, eci_3 = sim!(orb3, epcf);\n",
    "t_4, epc_4, eci_4 = sim!(orb4, epcf);"
   ]
  },
  {
   "cell_type": "code",
   "execution_count": 150,
   "id": "3465652b",
   "metadata": {},
   "outputs": [
    {
     "data": {
      "text/plain": [
       "3-element Vector{Float64}:\n",
       "     -6.128804e6\n",
       "     -1.590206e6\n",
       " 776150.2"
      ]
     },
     "execution_count": 150,
     "metadata": {},
     "output_type": "execute_result"
    }
   ],
   "source": [
    "#equator position in cartesian coordinates\n",
    "tag =[-6.128804e6, -1.590206e6, 776.1502e3]\n",
    "\n",
    "#Examples of putting latitude and longitude and converting to ECEF coordinate frame\n",
    "#Equitorial position\n",
    "#tag_geof = [-165.4545, 16.98849, 0]\n",
    "\n",
    "#North pole position\n",
    "#tag_geof = [-165.4545, 46.98849, 0]\n",
    "\n",
    "#tag = sGEOCtoECEF(tag_geof, use_degrees = true)"
   ]
  },
  {
   "cell_type": "code",
   "execution_count": 151,
   "id": "7695b5a1",
   "metadata": {},
   "outputs": [
    {
     "name": "stdout",
     "output_type": "stream",
     "text": [
      "[-5.99796596057736e6, -1.6894678391131323e6, -1.3604169754625652e6]\n"
     ]
    }
   ],
   "source": [
    "#Equitorial Position\n",
    "#In m\n",
    "x0= tag[1] \n",
    "y0 = tag[2]\n",
    "z0 = tag[3]\n",
    "\n",
    "#λ0 = C_LIGHT/400e6 #nominal wavelength in m\n",
    "\n",
    "f0 = 1e6\n",
    "\n",
    "#r0 = [x0, y0, z0, λ0]\n",
    "r0 = [x0, y0, z0, f0]\n",
    "\n",
    "centroid_guess = [(eci_1[1,1]+eci_2[1,1]+eci_3[1,1]+eci_4[1,1])/4, (eci_1[2,1]+eci_2[2,1]+eci_3[2,1]+eci_4[2,1])/4, (eci_1[3,1]+eci_2[3,1]+eci_3[3,1]+eci_4[3,1])/4] \n",
    "onearth = sECEFtoGEOC(centroid_guess, use_degrees = true)\n",
    "geodetic = [onearth[1], onearth[2], 0]\n",
    "\n",
    "#Guess\n",
    "xyz = sGEOCtoECEF(geodetic, use_degrees = true)\n",
    "\n",
    "println(xyz)"
   ]
  },
  {
   "cell_type": "code",
   "execution_count": 152,
   "id": "0cb96000",
   "metadata": {},
   "outputs": [
    {
     "data": {
      "text/plain": [
       "surface with fields type, x, y, and z\n"
      ]
     },
     "execution_count": 152,
     "metadata": {},
     "output_type": "execute_result"
    }
   ],
   "source": [
    "#Plot Satellite 1 and 2 Orbit\n",
    "sat1 = scatter(x=eci_1[1,:], y=eci_1[2,:], z=eci_1[3,:], type=\"scatter3d\", mode=\"lines\", name=\"orbit 1&2\")\n",
    "\n",
    "#Plot Satellite 3 and 4 Orbit\n",
    "sat3 = scatter(x=eci_3[1,:], y=eci_3[2,:], z=eci_3[3,:], type=\"scatter3d\", mode=\"lines\", name=\"orbit 3&4\")\n",
    "\n",
    "#Plot all 4 satellite initial positions\n",
    "satellites = scatter(x=[eci_1[1,1],eci_2[1,1], eci_3[1,1], eci_4[1,1]], y=[eci_1[2,1],eci_2[2,1], eci_3[2,1], eci_4[2,1]],z=[eci_1[3,1],eci_2[3,1], eci_3[3,1], eci_4[3,1]], mode=\"markers\", marker_size = 4, type=\"scatter3d\", name=\"satellites\")\n",
    "\n",
    "#Plot Tag position\n",
    "tag = scatter(x = [r0[1], r0[1]], y = [r0[2], r0[2]], z = [r0[3], r0[3]], type=\"scatter3d\", name=\"tag\", mode=\"markers\", marker_size=5)\n",
    "\n",
    "#Plot the Guess\n",
    "guess = scatter(x = [xyz[1], xyz[1]], y = [xyz[2], xyz[2]], z = [xyz[3], xyz[3]], type=\"scatter3d\", name=\"guess\", mode=\"markers\", marker_size=5)\n",
    "\n",
    "#Plotting the sphere (Earth)\n",
    "n = 100\n",
    "u = range(-π, π; length = n)\n",
    "v = range(0, π; length = n)\n",
    "x = cos.(u) * sin.(v)'\n",
    "y = sin.(u) * sin.(v)' \n",
    "z = ones(n) * cos.(v)' \n",
    "\n",
    "earth = surface(z=z*6371000, x=x*6371000, y=y*6371000)\n",
    "\n",
    "#plot([sat1,sat3, satellites, tag, earth, guess]) #uncomment to see the plot"
   ]
  },
  {
   "cell_type": "code",
   "execution_count": 153,
   "id": "2fb3dc61",
   "metadata": {},
   "outputs": [
    {
     "data": {
      "text/plain": [
       "zenith_angle (generic function with 1 method)"
      ]
     },
     "execution_count": 153,
     "metadata": {},
     "output_type": "execute_result"
    }
   ],
   "source": [
    "#Finding the Zenith Angle\n",
    "\n",
    "function zenith_angle(satposes, r0)\n",
    "    \n",
    "    zenithangle = zeros(4)\n",
    "\n",
    "    #vector between tag and the satellite\n",
    "    normalvec = r0\n",
    "    \n",
    "    for i in 1:4\n",
    "        \n",
    "        vector = satposes[i,:] - r0[1:3]\n",
    "        \n",
    "        #Find the angle between the normal and the vector going from the tag to the satellte\n",
    "        theta = acos(dot(normalvec,vector)/(norm(normalvec)*norm(vector))) * (180/pi)\n",
    "        \n",
    "        #save zenith angle\n",
    "        zenithangle[i] = theta\n",
    "    end\n",
    "    \n",
    "    return zenithangle\n",
    "end"
   ]
  },
  {
   "cell_type": "code",
   "execution_count": 154,
   "id": "3189b08d",
   "metadata": {},
   "outputs": [
    {
     "name": "stdout",
     "output_type": "stream",
     "text": [
      "[93.63237107183178, 82.84377330309063, 91.00377335928297, 78.31523678325279]\n"
     ]
    },
    {
     "data": {
      "text/plain": [
       "false"
      ]
     },
     "execution_count": 154,
     "metadata": {},
     "output_type": "execute_result"
    }
   ],
   "source": [
    "#Testing zenith angle function\n",
    "satposes = [eci_1[1,1] eci_1[2,1] eci_1[3,1];eci_2[1,1] eci_2[2,1] eci_2[3,1];eci_3[1,1] eci_3[2,1] eci_3[3,1];eci_4[1,1] eci_4[2,1] eci_4[3,1]]\n",
    "\n",
    "zenith_angles = zenith_angle(satposes, r0[1:3])\n",
    "\n",
    "println(zenith_angles)\n",
    "\n",
    "#check all angles to see if it is on the horizon \n",
    "inhorizon = all(x->x<80, zenith_angles)"
   ]
  },
  {
   "cell_type": "code",
   "execution_count": 155,
   "id": "679a3e48",
   "metadata": {},
   "outputs": [],
   "source": [
    "#Obtain the orbital elements after each time step (not used in the sim) \n",
    "dim = size(t_1)[1]\n",
    "\n",
    "all_elements = zeros(6,dim)\n",
    "for i in 1:dim\n",
    "    \n",
    "    orbital_elements = sCARTtoOSC(eci_1[:,1], use_degrees=true)\n",
    "    all_elements[:,i] = orbital_elements\n",
    "end "
   ]
  },
  {
   "cell_type": "code",
   "execution_count": 156,
   "id": "91a535da",
   "metadata": {},
   "outputs": [
    {
     "data": {
      "text/plain": [
       "6-element Vector{Float64}:\n",
       "    -6.291285386249863e6\n",
       "    -1.66264810311861e6\n",
       "    -2.2161566541800327e6\n",
       " -2394.9708335284654\n",
       "  -540.1532693380549\n",
       "  7206.151917789134"
      ]
     },
     "execution_count": 156,
     "metadata": {},
     "output_type": "execute_result"
    }
   ],
   "source": [
    "#velocity is the last 3 elements of each column in eci matrices\n",
    "eci_1[:,1]"
   ]
  },
  {
   "cell_type": "code",
   "execution_count": 157,
   "id": "81be77c6",
   "metadata": {},
   "outputs": [
    {
     "data": {
      "text/plain": [
       "350000.0"
      ]
     },
     "execution_count": 157,
     "metadata": {},
     "output_type": "execute_result"
    }
   ],
   "source": [
    "#Generate TEC Distribution\n",
    "mu = 8e-4\n",
    "sigma = 3e-4\n",
    "lb = 3e-4\n",
    "ub = 13e-4\n",
    "d = Truncated(Normal(mu,sigma), lb, ub)\n",
    "\n",
    "#f = 1575.42e6 # in 1/s L1 frequency\n",
    "f = 400e6 # in 1/s system frequency\n",
    "h = 350e3 #in meters"
   ]
  },
  {
   "cell_type": "code",
   "execution_count": 158,
   "id": "e9d9b6ef",
   "metadata": {},
   "outputs": [
    {
     "data": {
      "text/plain": [
       "10000.0"
      ]
     },
     "execution_count": 158,
     "metadata": {},
     "output_type": "execute_result"
    }
   ],
   "source": [
    "using ForwardDiff\n",
    "using BlockDiagonals\n",
    "\n",
    "#scale used when estimating f0 (transmitting frequency)\n",
    "\n",
    "# distance_scale = R_EARTH*(1e-3)*1e-4 # scales km to custom scale working\n",
    "\n",
    "# time_scale = 1/(C_LIGHT/R_EARTH) #scales seconds to custom scale\n",
    "\n",
    "# velocity_scale = distance_scale/time_scale #scales velocities to custom scale\n",
    "\n",
    "# frequency_scale = 1e5 #working for f0 = 400e6\n",
    "\n",
    "# c = 10000 #km/s\n",
    "\n",
    "# # working to estimate bdot \n",
    "distance_scale = R_EARTH*(1e-3) # scales km to custom scale working\n",
    "\n",
    "time_scale = (1/(C_LIGHT/R_EARTH))*1e4 #scales seconds to custom scale\n",
    "\n",
    "velocity_scale = distance_scale/time_scale #scales velocities to custom scales\n",
    "\n",
    "frequency_scale = 1\n",
    "\n",
    "c = 1*1e4 #km/s\n",
    "\n",
    "#udpated scale to estimate a frequency offset bdot\n"
   ]
  },
  {
   "cell_type": "code",
   "execution_count": 159,
   "id": "b13f2fee",
   "metadata": {},
   "outputs": [
    {
     "data": {
      "text/plain": [
       "0.0001567856114959475"
      ]
     },
     "execution_count": 159,
     "metadata": {},
     "output_type": "execute_result"
    }
   ],
   "source": [
    "1/distance_scale"
   ]
  },
  {
   "cell_type": "code",
   "execution_count": 160,
   "id": "04527159",
   "metadata": {},
   "outputs": [
    {
     "data": {
      "text/plain": [
       "29.9792458"
      ]
     },
     "execution_count": 160,
     "metadata": {},
     "output_type": "execute_result"
    }
   ],
   "source": [
    "velocity_scale"
   ]
  },
  {
   "cell_type": "code",
   "execution_count": 161,
   "id": "6391085f",
   "metadata": {},
   "outputs": [
    {
     "data": {
      "text/plain": [
       "doppler_residual (generic function with 1 method)"
      ]
     },
     "execution_count": 161,
     "metadata": {},
     "output_type": "execute_result"
    }
   ],
   "source": [
    "#satposet is all the satellite known positions and the measured position\n",
    "#x is what we want to solve for\n",
    "#satpose is the satellite position and velocities as well as the measured change in frequency\n",
    "\n",
    "function doppler_residual(x, sat_pose_f, time, tag_vel)\n",
    "    \n",
    "    #true tag velocity\n",
    "    #tag_vel = [10, 12, 7]*1e-3/velocity_scale\n",
    "    \n",
    "    #println(\"this is tag_vel: \", tag_vel)\n",
    "    #the measured tag velocity will have noise\n",
    "    \n",
    "    omega = OMEGA_EARTH*time_scale #transform to custom scale\n",
    "    \n",
    "    #wavelength = 0.7494*1e-3/distance_scale #for a nominal frequency of 400 MHz\n",
    "    \n",
    "    omegahat = [0 -omega 0; omega 0 0; 0 0 0]\n",
    "    \n",
    "    A1 = [cos(omega*time[1]) sin(omega*time[1]) 0;\n",
    "          -sin(omega*time[1]) cos(omega*time[1]) 0;\n",
    "          0 0 1];\n",
    "    A2 = [cos(omega*time[2]) sin(omega*time[2]) 0;\n",
    "          -sin(omega*time[2]) cos(omega*time[2]) 0;\n",
    "          0 0 1];\n",
    "    A3 = [cos(omega*time[3]) sin(omega*time[3]) 0;\n",
    "          -sin(omega*time[3]) cos(omega*time[3]) 0;\n",
    "          0 0 1];\n",
    "    A4 = [cos(omega*time[4]) sin(omega*time[4]) 0;\n",
    "          -sin(omega*time[4]) cos(omega*time[4]) 0;\n",
    "          0 0 1];\n",
    "    \n",
    "    #residuals used to estimate transmitting frequency as an unknown\n",
    "    #res1 = (x[4]/c)*0.5*(1/norm(x[1:3] - A1*sat_pose_f[1,1:3]))*(-2*x[1:3]'*A1*omegahat*sat_pose_f[1,1:3] - 2*x[1:3]'*A1*sat_pose_f[1,4:6]+sat_pose_f[1,1:3]'*sat_pose_f[1,4:6]+sat_pose_f[1,4:6]'*sat_pose_f[1,1:3])- sat_pose_f[1,7]\n",
    "    #res2 = (x[4]/c)*0.5*(1/norm(x[1:3] - A2*sat_pose_f[2,1:3]))*(-2*x[1:3]'*A2*omegahat*sat_pose_f[2,1:3] - 2*x[1:3]'*A2*sat_pose_f[2,4:6]+sat_pose_f[2,1:3]'*sat_pose_f[2,4:6]+sat_pose_f[2,4:6]'*sat_pose_f[2,1:3])- sat_pose_f[2,7]\n",
    "    #res3 = (x[4]/c)*0.5*(1/norm(x[1:3] - A3*sat_pose_f[3,1:3]))*(-2*x[1:3]'*A3*omegahat*sat_pose_f[3,1:3] - 2*x[1:3]'*A3*sat_pose_f[3,4:6]+sat_pose_f[3,1:3]'*sat_pose_f[3,4:6]+sat_pose_f[3,4:6]'*sat_pose_f[3,1:3])- sat_pose_f[3,7]\n",
    "    #res4 = (x[4]/c)*0.5*(1/norm(x[1:3] - A4*sat_pose_f[4,1:3]))*(-2*x[1:3]'*A4*omegahat*sat_pose_f[4,1:3] - 2*x[1:3]'*A4*sat_pose_f[4,4:6]+sat_pose_f[4,1:3]'*sat_pose_f[4,4:6]+sat_pose_f[4,4:6]'*sat_pose_f[4,1:3])- sat_pose_f[4,7]\n",
    "    \n",
    "    #extra_term = tag_vel'*x[1:3] + x[1:3]'*tag_vel - 2*tag_vel'*A1*sat_pose_f[1,1:3]\n",
    "    \n",
    "    #println(\"this is extra term: \", extra_term)\n",
    "    \n",
    "    #velocity of tag included in residual \n",
    "    #residuals to estimate a frequency offset bdot\n",
    "    res1 = (f*frequency_scale/c)*(0.5*(1/norm(x[1:3] - A1*sat_pose_f[1,1:3]))*(tag_vel'*x[1:3] + x[1:3]'*tag_vel - 2*tag_vel'*A1*sat_pose_f[1,1:3]-2*x[1:3]'*A1*omegahat*sat_pose_f[1,1:3] - 2*x[1:3]'*A1*sat_pose_f[1,4:6]+sat_pose_f[1,1:3]'*sat_pose_f[1,4:6]+sat_pose_f[1,4:6]'*sat_pose_f[1,1:3]) + x[4]) - sat_pose_f[1,7]\n",
    "    res2 = (f*frequency_scale/c)*(0.5*(1/norm(x[1:3] - A2*sat_pose_f[2,1:3]))*(tag_vel'*x[1:3] + x[1:3]'*tag_vel - 2*tag_vel'*A2*sat_pose_f[2,1:3]-2*x[1:3]'*A2*omegahat*sat_pose_f[2,1:3] - 2*x[1:3]'*A2*sat_pose_f[2,4:6]+sat_pose_f[2,1:3]'*sat_pose_f[2,4:6]+sat_pose_f[2,4:6]'*sat_pose_f[2,1:3]) + x[4]) - sat_pose_f[2,7]\n",
    "    res3 = (f*frequency_scale/c)*(0.5*(1/norm(x[1:3] - A3*sat_pose_f[3,1:3]))*(tag_vel'*x[1:3] + x[1:3]'*tag_vel - 2*tag_vel'*A3*sat_pose_f[3,1:3]-2*x[1:3]'*A3*omegahat*sat_pose_f[3,1:3] - 2*x[1:3]'*A3*sat_pose_f[3,4:6]+sat_pose_f[3,1:3]'*sat_pose_f[3,4:6]+sat_pose_f[3,4:6]'*sat_pose_f[3,1:3]) + x[4]) - sat_pose_f[3,7]\n",
    "    res4 = (f*frequency_scale/c)*(0.5*(1/norm(x[1:3] - A4*sat_pose_f[4,1:3]))*(tag_vel'*x[1:3] + x[1:3]'*tag_vel - 2*tag_vel'*A4*sat_pose_f[4,1:3]-2*x[1:3]'*A4*omegahat*sat_pose_f[4,1:3] - 2*x[1:3]'*A4*sat_pose_f[4,4:6]+sat_pose_f[4,1:3]'*sat_pose_f[4,4:6]+sat_pose_f[4,4:6]'*sat_pose_f[4,1:3]) + x[4]) - sat_pose_f[4,7]\n",
    "    \n",
    "    return [res1; res2; res3; res4]\n",
    "   \n",
    "end"
   ]
  },
  {
   "cell_type": "code",
   "execution_count": 162,
   "id": "f85d1b82",
   "metadata": {},
   "outputs": [
    {
     "data": {
      "text/plain": [
       "measurment (generic function with 1 method)"
      ]
     },
     "execution_count": 162,
     "metadata": {},
     "output_type": "execute_result"
    }
   ],
   "source": [
    "#pose1-4 are satellite locations and velocities\n",
    "#r0 = [xyz of tag, emmitted frequency]\n",
    "\n",
    "#gets the true measurment\n",
    "function measurment(r0, pose1, pose2, pose3, pose4, time)\n",
    "    \n",
    "    #Make sure to scale all positions\n",
    "    \n",
    "    omega = OMEGA_EARTH*time_scale #change to custom time scale\n",
    "    \n",
    "    #wavelength = 0.7494*1e-3/distance_scale #for a nominal frequency of 400 MHz\n",
    "    \n",
    "    omegahat = [0 -omega 0; omega 0 0; 0 0 0]\n",
    "    \n",
    "    A1 = [cos(omega*time[1]) sin(omega*time[1]) 0;\n",
    "          -sin(omega*time[1]) cos(omega*time[1]) 0;\n",
    "          0 0 1];\n",
    "    A2 = [cos(omega*time[2]) sin(omega*time[2]) 0;\n",
    "          -sin(omega*time[2]) cos(omega*time[2]) 0;\n",
    "          0 0 1];\n",
    "    A3 = [cos(omega*time[3]) sin(omega*time[3]) 0;\n",
    "          -sin(omega*time[3]) cos(omega*time[3]) 0;\n",
    "          0 0 1];\n",
    "    A4 = [cos(omega*time[4]) sin(omega*time[4]) 0;\n",
    "          -sin(omega*time[4]) cos(omega*time[4]) 0;\n",
    "          0 0 1];\n",
    "    \n",
    "    #measurments for estimating a transmitting frequency\n",
    "    #deltaf1 = (r0[4]/c)*0.5*(1/norm(r0[1:3] - A1*pose1[1:3]))*(-2*r0[1:3]'*A1*omegahat*pose1[1:3] - 2*r0[1:3]'*A1*pose1[4:6]+pose1[1:3]'*pose1[4:6]+pose1[4:6]'*pose1[1:3])\n",
    "    #deltaf2 = (r0[4]/c)*0.5*(1/norm(r0[1:3] - A2*pose2[1:3]))*(-2*r0[1:3]'*A2*omegahat*pose2[1:3] - 2*r0[1:3]'*A2*pose2[4:6]+pose2[1:3]'*pose2[4:6]+pose2[4:6]'*pose2[1:3])\n",
    "    #deltaf3 = (r0[4]/c)*0.5*(1/norm(r0[1:3] - A3*pose3[1:3]))*(-2*r0[1:3]'*A3*omegahat*pose3[1:3] - 2*r0[1:3]'*A3*pose3[4:6]+pose3[1:3]'*pose3[4:6]+pose3[4:6]'*pose3[1:3])\n",
    "    #deltaf4 = (r0[4]/c)*0.5*(1/norm(r0[1:3] - A4*pose4[1:3]))*(-2*r0[1:3]'*A4*omegahat*pose4[1:3] - 2*r0[1:3]'*A4*pose4[4:6]+pose4[1:3]'*pose4[4:6]+pose4[4:6]'*pose4[1:3])\n",
    "    \n",
    "    #velocity not in the measurment\n",
    "    #measurments to estimate out a bdot value (frequency offset)\n",
    "    deltaf1 = (f*frequency_scale/c)*(0.5*(1/norm(r0[1:3] - A1*pose1[1:3]))*(-2*r0[1:3]'*A1*omegahat*pose1[1:3] - 2*r0[1:3]'*A1*pose1[4:6]+pose1[1:3]'*pose1[4:6]+pose1[4:6]'*pose1[1:3]) + r0[4])\n",
    "    deltaf2 = (f*frequency_scale/c)*(0.5*(1/norm(r0[1:3] - A2*pose2[1:3]))*(-2*r0[1:3]'*A2*omegahat*pose2[1:3] - 2*r0[1:3]'*A2*pose2[4:6]+pose2[1:3]'*pose2[4:6]+pose2[4:6]'*pose2[1:3]) + r0[4])\n",
    "    deltaf3 = (f*frequency_scale/c)*(0.5*(1/norm(r0[1:3] - A3*pose3[1:3]))*(-2*r0[1:3]'*A3*omegahat*pose3[1:3] - 2*r0[1:3]'*A3*pose3[4:6]+pose3[1:3]'*pose3[4:6]+pose3[4:6]'*pose3[1:3]) + r0[4])\n",
    "    deltaf4 = (f*frequency_scale/c)*(0.5*(1/norm(r0[1:3] - A4*pose4[1:3]))*(-2*r0[1:3]'*A4*omegahat*pose4[1:3] - 2*r0[1:3]'*A4*pose4[4:6]+pose4[1:3]'*pose4[4:6]+pose4[4:6]'*pose4[1:3]) + r0[4])\n",
    "    \n",
    "    return [deltaf1, deltaf2, deltaf3, deltaf4]\n",
    "end"
   ]
  },
  {
   "cell_type": "code",
   "execution_count": 163,
   "id": "4e8f0464",
   "metadata": {},
   "outputs": [
    {
     "data": {
      "text/plain": [
       "4-element Vector{Float64}:\n",
       " -0.9609082828788089\n",
       " -0.24932142011452468\n",
       "  0.12168918371970193\n",
       "  0.33356409519815206"
      ]
     },
     "execution_count": 163,
     "metadata": {},
     "output_type": "execute_result"
    }
   ],
   "source": [
    "#Equitorial Position\n",
    "\n",
    "#In km\n",
    "x0= x0*1e-3 #x tag position\n",
    "y0 = y0*1e-3 #y tag position\n",
    "z0 = z0*1e-3 #z tag position\n",
    "#f0 = 1e6 #nominal frequency (works)\n",
    "#f0 = 400e6 #working\n",
    "\n",
    "bdot = 1e4*1e-3 # working\n",
    "\n",
    "#r0_scaled = [x0/distance_scale, y0/distance_scale, z0/distance_scale, f0/frequency_scale]\n",
    "\n",
    "r0_scaled = [x0/distance_scale, y0/distance_scale, z0/distance_scale, bdot/velocity_scale]"
   ]
  },
  {
   "cell_type": "code",
   "execution_count": 164,
   "id": "9d49daa8",
   "metadata": {},
   "outputs": [
    {
     "data": {
      "text/plain": [
       "0.003919640287398688"
      ]
     },
     "execution_count": 164,
     "metadata": {},
     "output_type": "execute_result"
    }
   ],
   "source": [
    "diff = 25e3*1e-3/distance_scale "
   ]
  },
  {
   "cell_type": "code",
   "execution_count": 165,
   "id": "2a36c04d",
   "metadata": {},
   "outputs": [
    {
     "data": {
      "text/plain": [
       "receiver_pose (generic function with 1 method)"
      ]
     },
     "execution_count": 165,
     "metadata": {},
     "output_type": "execute_result"
    }
   ],
   "source": [
    "function receiver_pose(all_sats_scaled, guess, zenith_angles, time, zdot) # remember to scale the guess to custom units\n",
    "\n",
    "    n = 1000 # number of iterations\n",
    "    #all_r0 = NaN*[zeros(4) for i = 1:n]\n",
    "    all_r0 = [zeros(3) for i = 1:n] #obtain all the tag positions\n",
    "    \n",
    "    sat1poses = zeros(7,n)\n",
    "    sat2poses = zeros(7,n)\n",
    "    sat3poses = zeros(7,n)\n",
    "    sat4poses = zeros(7,n)\n",
    "\n",
    "    all_sats_noise = zeros(4,4)\n",
    "\n",
    "    iters = 0\n",
    "\n",
    "     #Monte Carlo Simulation\n",
    "    for i in 1:n\n",
    "        #Parameters for line search\n",
    "        #b = 0.01\n",
    "        b = 0.1\n",
    "        c_=0.5\n",
    "        #β = 10\n",
    "        β = 1.0\n",
    "        α = 1\n",
    "        \n",
    "        #create noise from normal distribution\n",
    "        \n",
    "        #scaled to the variable (0.1m error for distance & 1e-11 for time)\n",
    "        gpsnoise = randn(12)*(0.1*1e-3/distance_scale) #0.1 m switch to km then to custom scale\n",
    "        velocitynoise = randn(12)*(0.01*1e-3/velocity_scale)# 0.01 m/s\n",
    "        doppler_noise = randn(12)* 1/frequency_scale #0.001 ~ 500's of error\n",
    "        \n",
    "        #doppler_noise = randn(12)* 0/frequency_scale #0.001 ~ 500's of error\n",
    "        \n",
    "        TEC = rand(d,4) #vTEC for each satellite from custom distribution\n",
    "        \n",
    "        #tag_vel_noise = randn(3)*(1*1e-3/velocity_scale)# 1 m/s noise\n",
    "        \n",
    "        tag_vel_noise = zeros(3) #zero noise\n",
    "    \n",
    "        tag_vel = [2, 5, 3]*1e-3/velocity_scale\n",
    "        \n",
    "        tag_vel_w_noise = tag_vel + tag_vel_noise\n",
    "        \n",
    "        #Calculating random TEC time delay\n",
    "        #for i=1:4\n",
    "        \n",
    "        #    OF[i] = (1-((R_EARTH*sind(zenith_angles[i]))/(R_EARTH+hi))^2)^(-1/2) #normal units (m and s)\n",
    "        #    Ip[i] = ((40.3*TEC[i])/(f^2))*OF[i] * 1e-3 #scale to km to use the custom unit\n",
    "        #    Ip_scaled[i] = Ip[i]/distance_scale #scale to custom units\n",
    "        \n",
    "        #end\n",
    "        \n",
    "        Idot1 = (((40.3*TEC[1])*((R_EARTH*sind(zenith_angles[1]))*(R_EARTH*cosd(zenith_angles[1])*zdot[1])/(R_EARTH + h)^2))/((f^2)*(1-((R_EARTH*sind(zenith_angles[1]))/(R_EARTH+h))^2)^1.5))*1e20*1e-3/velocity_scale\n",
    "        Idot2 = (((40.3*TEC[2])*((R_EARTH*sind(zenith_angles[2]))*(R_EARTH*cosd(zenith_angles[2])*zdot[2])/(R_EARTH + h)^2))/((f^2)*(1-((R_EARTH*sind(zenith_angles[2]))/(R_EARTH+h))^2)^1.5))*1e20*1e-3/velocity_scale\n",
    "        Idot3 = (((40.3*TEC[3])*((R_EARTH*sind(zenith_angles[3]))*(R_EARTH*cosd(zenith_angles[3])*zdot[3])/(R_EARTH + h)^2))/((f^2)*(1-((R_EARTH*sind(zenith_angles[3]))/(R_EARTH+h))^2)^1.5))*1e20*1e-3/velocity_scale\n",
    "        Idot4 = (((40.3*TEC[4])*((R_EARTH*sind(zenith_angles[4]))*(R_EARTH*cosd(zenith_angles[4])*zdot[4])/(R_EARTH + h)^2))/((f^2)*(1-((R_EARTH*sind(zenith_angles[4]))/(R_EARTH+h))^2)^1.5))*1e20*1e-3/velocity_scale\n",
    "        \n",
    "        iono1 = (f/c)*Idot1\n",
    "        iono2 = (f/c)*Idot2\n",
    "        iono3 = (f/c)*Idot3\n",
    "        iono4 = (f/c)*Idot4\n",
    "        \n",
    "        scaled_iono1 = iono1/distance_scale*velocity_scale\n",
    "        \n",
    "        #println(\"this is scaled_iono1: \", scaled_iono1) #in Hz\n",
    "        \n",
    "        sat1_noise = [all_sats_scaled[1,1]+gpsnoise[1],all_sats_scaled[1,2] + gpsnoise[2],all_sats_scaled[1,3]+gpsnoise[3], all_sats_scaled[1,4]+velocitynoise[1], all_sats_scaled[1,5]+velocitynoise[2],all_sats_scaled[1,6]+velocitynoise[3], all_sats_scaled[1,7]+iono1+doppler_noise[1]]\n",
    "        sat2_noise =[all_sats_scaled[2,1]+gpsnoise[4],all_sats_scaled[2,2] + gpsnoise[5],all_sats_scaled[2,3]+gpsnoise[6], all_sats_scaled[2,4]+velocitynoise[4], all_sats_scaled[2,5]+velocitynoise[5],all_sats_scaled[2,6]+velocitynoise[6], all_sats_scaled[2,7]+iono2+doppler_noise[2]]\n",
    "        sat3_noise = [all_sats_scaled[3,1]+gpsnoise[7],all_sats_scaled[3,2] + gpsnoise[8],all_sats_scaled[3,3]+gpsnoise[9], all_sats_scaled[3,4]+velocitynoise[7], all_sats_scaled[3,5]+velocitynoise[8],all_sats_scaled[3,6]+velocitynoise[9], all_sats_scaled[3,7]+iono3+doppler_noise[3]]\n",
    "        sat4_noise = [all_sats_scaled[4,1]+gpsnoise[10],all_sats_scaled[4,2] + gpsnoise[11],all_sats_scaled[4,3]+gpsnoise[12], all_sats_scaled[4,4]+velocitynoise[10], all_sats_scaled[4,5]+velocitynoise[11],all_sats_scaled[4,6]+velocitynoise[12], all_sats_scaled[4,7]+iono4+doppler_noise[4]]\n",
    "\n",
    "        all_sats_noise = vcat(sat1_noise',sat2_noise',sat3_noise',sat4_noise')\n",
    "        \n",
    "        sat1poses[:,i] = sat1_noise\n",
    "        sat2poses[:,i] = sat2_noise\n",
    "        sat3poses[:,i] = sat3_noise\n",
    "        sat4poses[:,i] = sat4_noise\n",
    "        \n",
    "        X = NaN*[zeros(4) for i = 1:n]\n",
    "        R = NaN*[zeros(4) for i = 1:n]\n",
    "        \n",
    "        #Centroid guess. Working for estimating transmit frequency\n",
    "        #X[1] = [guess[1]/distance_scale, guess[2]/distance_scale, guess[3]/distance_scale, 410e6/frequency_scale]\n",
    "        \n",
    "        \n",
    "        #working\n",
    "        X[1] = [r0_scaled[1]+diff, r0_scaled[2]+diff, r0_scaled[3]+diff, 1.002*1e4*1e-3/velocity_scale]\n",
    "\n",
    "        \n",
    "        #New guess to estimate bdot\n",
    "        #X[1] = [guess[1]/distance_scale, guess[2]/distance_scale, guess[3]/distance_scale, 1.002*1e4*1e-3/velocity_scale]\n",
    "\n",
    "        #X[1] = r0_scaled\n",
    "        \n",
    "        #println(\"this is initial guess: \", X[1])\n",
    "        #Initial residual\n",
    "        R[1] = doppler_residual(X[1], all_sats_noise, time, tag_vel_w_noise)\n",
    "\n",
    "        iters = 0\n",
    "\n",
    "        for k=1:1000\n",
    "            \n",
    "            R[k] = doppler_residual(X[k], all_sats_noise, time, tag_vel_w_noise) #calculate residual\n",
    "            \n",
    "            iters += 1\n",
    "\n",
    "            #if(norm(R[k]) < 1e-6)\n",
    "            #if(norm(R[k]) < 1e-8)\n",
    "            if(norm(R[k]) < 1e-10)\n",
    "                \n",
    "                break\n",
    "\n",
    "            end\n",
    "\n",
    "            jacobian = ForwardDiff.jacobian(dx -> doppler_residual(dx, all_sats_noise, time, tag_vel_w_noise), X[k])\n",
    "            \n",
    "            if(rank(jacobian) != 4) #if not full rank, move on to next iteration\n",
    "                \n",
    "                break\n",
    "\n",
    "            end\n",
    "            \n",
    "            conditionnum = cond(jacobian)\n",
    "            \n",
    "            #println(\"this is residual: \", norm(R[k]))\n",
    "            \n",
    "            #println(\"this is the condition number: \", conditionnum)\n",
    "            \n",
    "            #println(\"this is the jacobian: \", jacobian)\n",
    "            \n",
    "            #println(\"this is X[k]: \", X[k])\n",
    "\n",
    "            deltax = (jacobian)\\-R[k]\n",
    "            \n",
    "            if iters > 50\n",
    "                break\n",
    "            end\n",
    "            \n",
    "            while norm(doppler_residual(X[k] + α*deltax, all_sats_noise, time, tag_vel_w_noise)) > norm(doppler_residual(X[k], all_sats_noise, time, tag_vel_w_noise) + b*α*jacobian'*deltax)\n",
    "\n",
    "                α = c_*α\n",
    "                #print(\"this is alpha: \", α)\n",
    "            end\n",
    "\n",
    "            X[k+1] = X[k] + α*deltax\n",
    "             \n",
    "        end  \n",
    "        \n",
    "        R = R[1:iters]\n",
    "        X = X[1:iters]\n",
    "\n",
    "        all_r0[i] = X[end]\n",
    "\n",
    "    end\n",
    "    x_values = zeros(n)\n",
    "    y_values = zeros(n)\n",
    "    z_values = zeros(n)\n",
    "\n",
    "    for j in 1:n\n",
    "\n",
    "        x_values[j] = all_r0[j][1]\n",
    "        y_values[j] = all_r0[j][2]\n",
    "        z_values[j] = all_r0[j][3]\n",
    "\n",
    "    end\n",
    "    \n",
    "    #mean calculation\n",
    "    mean = sum(all_r0, dims = 1)/ n\n",
    "    mean = mean[1]\n",
    "    #for estimating frequency\n",
    "    #mean_rescaled = [mean[1:3]*distance_scale*1e3; mean[4]*frequency_scale] # in meters\n",
    "    \n",
    "    #For estimating bdot\n",
    "    mean_rescaled = [mean[1:3]*distance_scale*1e3; mean[4]*1e3*velocity_scale] # in meters\n",
    "\n",
    "    return mean_rescaled, all_r0, iters\n",
    "end"
   ]
  },
  {
   "cell_type": "code",
   "execution_count": 166,
   "id": "68bdcb20",
   "metadata": {},
   "outputs": [
    {
     "name": "stdout",
     "output_type": "stream",
     "text": [
      "cov position erors: 5571.278476357755\n",
      "Mean (m): [-6.125045101305739e6, -1.592341579823245e6, 775257.3448537396, 9998.217116387803]\n",
      "Iterations: 5\n",
      "Timestep: 261\n",
      "cov position erors: 5666.491044774419\n",
      "Mean (m): [-6.125041457048515e6, -1.5923428972501573e6, 775185.9434861091, 9997.759055755521]\n",
      "Iterations: 5\n",
      "Timestep: 262\n",
      "cov position erors: 5942.2193486326505\n",
      "Mean (m): [-6.124735217385257e6, -1.5926800858262433e6, 775025.881371748, 9997.390034035465]\n",
      "Iterations: 5\n",
      "Timestep: 263\n",
      "cov position erors: 6147.033940233979\n",
      "Mean (m): [-6.12454782968786e6, -1.5929054028735412e6, 774870.486165494, 9996.682083986283]\n",
      "Iterations: 5\n",
      "Timestep: 264\n",
      "cov position erors: 6073.814496500452\n",
      "Mean (m): [-6.124355444804049e6, -1.593218147619465e6, 774744.385778736, 9996.39787249449]\n",
      "Iterations: 5\n",
      "Timestep: 265\n",
      "cov position erors: 6362.082845993952\n",
      "Mean (m): [-6.124204183704314e6, -1.5933678654534083e6, 774593.2179231215, 9995.782769858833]\n",
      "Iterations: 5\n",
      "Timestep: 266\n",
      "cov position erors: 6558.7393814145025\n",
      "Mean (m): [-6.123994851759989e6, -1.593724386379091e6, 774441.1460536039, 9995.375153092082]\n",
      "Iterations: 5\n",
      "Timestep: 267\n",
      "cov position erors: 6738.260025037576\n",
      "Mean (m): [-6.123922640435075e6, -1.5938335259216446e6, 774316.4101361905, 9994.776344414204]\n",
      "Iterations: 5\n",
      "Timestep: 268\n",
      "cov position erors: 6724.126993934867\n",
      "Mean (m): [-6.123691222973025e6, -1.5942034172445722e6, 774143.7876597652, 9994.388211136466]\n",
      "Iterations: 5\n",
      "Timestep: 269\n",
      "cov position erors: 7307.756296388072\n",
      "Mean (m): [-6.123606512493926e6, -1.5943236911330908e6, 773995.2993569764, 9993.759375146683]\n",
      "Iterations: 5\n",
      "Timestep: 270\n",
      "cov position erors: 7622.56937076993\n",
      "Mean (m): [-6.123323024935372e6, -1.5947235880797987e6, 773762.9162931682, 9992.949610007698]\n",
      "Iterations: 5\n",
      "Timestep: 271\n",
      "cov position erors: 7717.03810905444\n",
      "Mean (m): [-6.123214264594983e6, -1.5949305879019387e6, 773609.4288485707, 9992.443720621546]\n",
      "Iterations: 5\n",
      "Timestep: 272\n",
      "cov position erors: 7606.962162572252\n",
      "Mean (m): [-6.122936970489423e6, -1.5953839132253996e6, 773341.0876943109, 9991.435184402042]\n",
      "Iterations: 5\n",
      "Timestep: 273\n",
      "cov position erors: 7858.490919176643\n",
      "Mean (m): [-6.122659064419801e6, -1.5957834812711875e6, 773082.1209399357, 9990.649383266988]\n",
      "Iterations: 5\n",
      "Timestep: 274\n",
      "cov position erors: 8348.229976339584\n",
      "Mean (m): [-6.122548736205873e6, -1.5960691745944368e6, 772889.0507844966, 9989.75849080625]\n",
      "Iterations: 5\n",
      "Timestep: 275\n",
      "cov position erors: 9237.406703747238\n",
      "Mean (m): [-6.122207953800346e6, -1.5966792563573797e6, 772581.1194291309, 9988.921518191293]\n",
      "Iterations: 5\n",
      "Timestep: 276\n",
      "cov position erors: 9418.08749186331\n",
      "Mean (m): [-6.122141160390626e6, -1.5968281602334713e6, 772404.1079133315, 9988.273478798605]\n",
      "Iterations: 5\n",
      "Timestep: 277\n",
      "cov position erors: 9491.939107341042\n",
      "Mean (m): [-6.121783755242694e6, -1.5974532740999667e6, 772017.4560613608, 9986.849767134518]\n",
      "Iterations: 6\n",
      "Timestep: 278\n",
      "cov position erors: 10167.65435098043\n",
      "Mean (m): [-6.120773463623152e6, -1.5991426226697273e6, 771169.1827759128, 9984.208091095006]\n",
      "Iterations: 6\n",
      "Timestep: 279\n",
      "cov position erors: 10424.934261319378\n",
      "Mean (m): [-6.120708495750184e6, -1.5994120169407e6, 770976.0390625178, 9983.50127202679]\n",
      "Iterations: 5\n",
      "Timestep: 280\n",
      "cov position erors: 11467.625984682229\n",
      "Mean (m): [-6.119872364848729e6, -1.6009206421152167e6, 770185.5098526583, 9980.966765011932]\n",
      "Iterations: 5\n",
      "Timestep: 281\n",
      "cov position erors: 12237.730993748864\n",
      "Mean (m): [-6.119788129566989e6, -1.601252799667093e6, 769897.5385743763, 9979.896295249819]\n",
      "Iterations: 5\n",
      "Timestep: 282\n",
      "cov position erors: 13079.130657138361\n",
      "Mean (m): [-6.119683592230213e6, -1.6016688751100674e6, 769616.2728162901, 9978.864812496708]\n",
      "Iterations: 5\n",
      "Timestep: 283\n",
      "cov position erors: 14065.32154860294\n",
      "Mean (m): [-6.118898623158908e6, -1.6032017266125036e6, 768762.8649194359, 9976.214569347721]\n",
      "Iterations: 5\n",
      "Timestep: 284\n",
      "cov position erors: 15105.677266730172\n",
      "Mean (m): [-6.118407959463703e6, -1.604383571646102e6, 768054.6914354771, 9973.649212531243]\n",
      "Iterations: 5\n",
      "Timestep: 285\n",
      "cov position erors: 15987.06365245788\n",
      "Mean (m): [-6.117494096315003e6, -1.6063175195068615e6, 766985.5693243147, 9970.197404123268]\n",
      "Iterations: 5\n",
      "Timestep: 286\n",
      "cov position erors: 17672.171904055227\n",
      "Mean (m): [-6.11669392988456e6, -1.6081461482147153e6, 765956.3598550834, 9966.788458182868]\n",
      "Iterations: 5\n",
      "Timestep: 287\n",
      "cov position erors: 20065.35512720494\n",
      "Mean (m): [-6.114976237677561e6, -1.6119810614199517e6, 763956.2560834644, 9960.315621623347]\n",
      "Iterations: 6\n",
      "Timestep: 288\n",
      "cov position erors: 22460.26533374346\n",
      "Mean (m): [-6.1140192434046855e6, -1.6144878120228352e6, 762537.722279057, 9955.675763372026]\n",
      "Iterations: 5\n",
      "Timestep: 289\n",
      "cov position erors: 26170.799283479202\n",
      "Mean (m): [-6.113216956245672e6, -1.6170501716085025e6, 761115.8634547776, 9950.701182857722]\n",
      "Iterations: 6\n",
      "Timestep: 290\n",
      "cov position erors: 29143.982571822373\n",
      "Mean (m): [-6.110961537681657e6, -1.622811588463749e6, 758062.5439698127, 9940.721361506246]\n",
      "Iterations: 6\n",
      "Timestep: 291\n",
      "cov position erors: 36158.548153826356\n",
      "Mean (m): [-6.108547032646943e6, -1.6300988745041122e6, 754211.0107768136, 9927.704617332844]\n",
      "Iterations: 6\n",
      "Timestep: 292\n",
      "cov position erors: 46264.59952389211\n",
      "Mean (m): [-6.104280960280817e6, -1.643723935631596e6, 747245.0410926364, 9904.561502937204]\n",
      "Iterations: 6\n",
      "Timestep: 293\n",
      "cov position erors: 69035.45054779653\n",
      "Mean (m): [-6.099950483081416e6, -1.6646558580206307e6, 736960.8517502923, 9869.201057627959]\n",
      "Iterations: 6\n",
      "Timestep: 294\n",
      "cov position erors: 115672.36987278958\n",
      "Mean (m): [-6.092764034294313e6, -1.7151397489039195e6, 713282.5432893077, 9786.517366555676]\n",
      "Iterations: 9\n",
      "Timestep: 295\n",
      "cov position erors: 106265.24537670807\n",
      "Mean (m): [-6.071589405186415e6, -1.7636917980746746e6, 688167.9499628296, 9701.296397301276]\n",
      "Iterations: 51\n",
      "Timestep: 296\n",
      "cov position erors: 82402.313879708\n",
      "Mean (m): [-6.072303263229877e6, -1.7203910432815922e6, 707961.2725851955, 9767.91061552172]\n",
      "Iterations: 51\n",
      "Timestep: 297\n",
      "cov position erors: 62401.15803467446\n",
      "Mean (m): [-6.084840792245476e6, -1.6667451908387966e6, 734205.1205369094, 9857.6065710272]\n",
      "Iterations: 51\n",
      "Timestep: 298\n",
      "cov position erors: 69822.79253748503\n",
      "Mean (m): [-6.075608703603729e6, -1.6804994807207873e6, 727088.0232775158, 9832.00304775988]\n",
      "Iterations: 51\n",
      "Timestep: 299\n",
      "cov position erors: 97553.95273883095\n",
      "Mean (m): [-6.103618431402776e6, -1.6170194155966765e6, 764719.1429891501, 9943.936288282986]\n",
      "Iterations: 51\n",
      "Timestep: 300\n",
      "cov position erors: 93893.0667292344\n",
      "Mean (m): [-6.106187936962403e6, -1.5949499667051078e6, 781413.7063623081, 9977.307232222962]\n",
      "Iterations: 51\n",
      "Timestep: 301\n",
      "cov position erors: 159622.35501685223\n",
      "Mean (m): [-6.194385955388616e6, -1.5039469513824596e6, 833465.826318397, 10161.099423277115]\n",
      "Iterations: 45\n",
      "Timestep: 302\n",
      "cov position erors: 60286.13976485196\n",
      "Mean (m): [-6.1496312903145375e6, -1.5483293572982498e6, 799620.7034725934, 10073.502762825517]\n",
      "Iterations: 8\n",
      "Timestep: 303\n",
      "cov position erors: 28233.34748117747\n",
      "Mean (m): [-6.142465600892849e6, -1.5582149685741025e6, 793671.4849418773, 10054.896732285008]\n",
      "Iterations: 6\n",
      "Timestep: 304\n",
      "cov position erors: 24683.641966473824\n",
      "Mean (m): [-6.13999696428917e6, -1.562130260807874e6, 791268.4721373833, 10047.27279661746]\n",
      "Iterations: 6\n",
      "Timestep: 305\n",
      "cov position erors: 21538.216659276306\n",
      "Mean (m): [-6.137928694067659e6, -1.5655491119172513e6, 789253.0736035468, 10040.961600232551]\n",
      "Iterations: 5\n",
      "Timestep: 306\n",
      "cov position erors: 18887.75240253027\n",
      "Mean (m): [-6.136324609907028e6, -1.5683937368569318e6, 787550.6981023876, 10035.337327557652]\n",
      "Iterations: 6\n",
      "Timestep: 307\n",
      "cov position erors: 17724.25427264675\n",
      "Mean (m): [-6.135368074272771e6, -1.569928107092628e6, 786599.2033619053, 10032.300351797998]\n",
      "Iterations: 5\n",
      "Timestep: 308\n",
      "cov position erors: 16202.501206051242\n",
      "Mean (m): [-6.134538110541825e6, -1.5712626441272963e6, 785826.4744480482, 10029.909044734828]\n",
      "Iterations: 5\n",
      "Timestep: 309\n",
      "cov position erors: 14853.09033375323\n",
      "Mean (m): [-6.13364810415199e6, -1.5729844912082052e6, 784778.6838688756, 10026.399285582742]\n",
      "Iterations: 5\n",
      "Timestep: 310\n",
      "cov position erors: 13690.117863813977\n",
      "Mean (m): [-6.132910209506458e6, -1.5743749054069696e6, 783979.8252299089, 10023.857260434226]\n",
      "Iterations: 5\n",
      "Timestep: 311\n",
      "cov position erors: 13173.078882021378\n",
      "Mean (m): [-6.132258961277743e6, -1.5756601296550375e6, 783272.2229954913, 10021.749284033991]\n",
      "Iterations: 5\n",
      "Timestep: 312\n"
     ]
    },
    {
     "name": "stdout",
     "output_type": "stream",
     "text": [
      "cov position erors: 12181.518625557777\n",
      "Mean (m): [-6.131835261057015e6, -1.5764615487598823e6, 782756.937402597, 10019.964077380062]\n",
      "Iterations: 5\n",
      "Timestep: 313\n",
      "cov position erors: 10856.129366464113\n",
      "Mean (m): [-6.1315540547774285e6, -1.5767527090690637e6, 782532.5242733625, 10019.202762761068]\n",
      "Iterations: 5\n",
      "Timestep: 314\n",
      "cov position erors: 11158.841685267418\n",
      "Mean (m): [-6.131158584220848e6, -1.5776409639976798e6, 781991.9625139115, 10017.437974041217]\n",
      "Iterations: 5\n",
      "Timestep: 315\n",
      "cov position erors: 10099.455196804838\n",
      "Mean (m): [-6.130783334695163e6, -1.5783260886279098e6, 781598.7169517215, 10016.091191271706]\n",
      "Iterations: 5\n",
      "Timestep: 316\n",
      "cov position erors: 10156.770425228662\n",
      "Mean (m): [-6.130360564134961e6, -1.5793756438462131e6, 781031.5331491925, 10014.131120552482]\n",
      "Iterations: 5\n",
      "Timestep: 317\n",
      "cov position erors: 9428.641149323745\n",
      "Mean (m): [-6.1301707212893935e6, -1.5796574886651628e6, 780813.8658158589, 10013.45268993875]\n",
      "Iterations: 5\n",
      "Timestep: 318\n",
      "cov position erors: 9109.875769697079\n",
      "Mean (m): [-6.129905704593921e6, -1.58024150613568e6, 780469.2584464101, 10012.250553006697]\n",
      "Iterations: 5\n",
      "Timestep: 319\n",
      "cov position erors: 8670.38843590772\n",
      "Mean (m): [-6.129677194731693e6, -1.5808907692525142e6, 780094.0926204066, 10010.980315752115]\n",
      "Iterations: 5\n",
      "Timestep: 320\n",
      "cov position erors: 8539.774791721868\n",
      "Mean (m): [-6.129429972019952e6, -1.581387056460083e6, 779852.2313632537, 10010.327068424998]\n",
      "Iterations: 5\n",
      "Timestep: 321\n",
      "cov position erors: 8039.454989134916\n",
      "Mean (m): [-6.129352254769668e6, -1.581591602554353e6, 779636.2652288268, 10009.418340287371]\n",
      "Iterations: 5\n",
      "Timestep: 322\n",
      "cov position erors: 7680.221457284619\n",
      "Mean (m): [-6.129100980460935e6, -1.582355824016334e6, 779251.6658019545, 10008.154497404095]\n",
      "Iterations: 5\n",
      "Timestep: 323\n",
      "cov position erors: 7417.695183500864\n",
      "Mean (m): [-6.1289780747598605e6, -1.582450746242411e6, 779137.0656282024, 10007.536137032957]\n",
      "Iterations: 5\n",
      "Timestep: 324\n",
      "cov position erors: 7264.476236895984\n",
      "Mean (m): [-6.1288771230698805e6, -1.5826896933568337e6, 778977.3939540663, 10007.031267535875]\n",
      "Iterations: 5\n",
      "Timestep: 325\n",
      "cov position erors: 7043.0813089367075\n",
      "Mean (m): [-6.12875477630701e6, -1.5831600953041725e6, 778725.0532350179, 10006.24387723279]\n",
      "Iterations: 5\n",
      "Timestep: 326\n",
      "cov position erors: 7112.140473077784\n",
      "Mean (m): [-6.128491501489176e6, -1.583932252661201e6, 778404.2238971378, 10005.215278025089]\n",
      "Iterations: 5\n",
      "Timestep: 327\n",
      "cov position erors: 6723.143280011454\n",
      "Mean (m): [-6.128457768702232e6, -1.5839903307768642e6, 778336.7746961325, 10005.012747540328]\n",
      "Iterations: 5\n",
      "Timestep: 328\n",
      "cov position erors: 6731.03087176505\n",
      "Mean (m): [-6.1284013016743e6, -1.584212405382857e6, 778182.2590121506, 10004.358382301585]\n",
      "Iterations: 5\n",
      "Timestep: 329\n",
      "cov position erors: 6430.136862690994\n",
      "Mean (m): [-6.12823711564611e6, -1.5846717747977914e6, 777978.6477872527, 10003.669122743178]\n",
      "Iterations: 5\n",
      "Timestep: 330\n",
      "cov position erors: 6192.020476437725\n",
      "Mean (m): [-6.128322087236007e6, -1.5844042304309683e6, 777972.4836320144, 10003.457194737679]\n",
      "Iterations: 5\n",
      "Timestep: 331\n",
      "cov position erors: 6307.157970152315\n",
      "Mean (m): [-6.128165622471401e6, -1.5849750680464818e6, 777757.8248534391, 10002.855855752678]\n",
      "Iterations: 5\n",
      "Timestep: 332\n",
      "cov position erors: 6029.242641828601\n",
      "Mean (m): [-6.128090468994669e6, -1.585350230142991e6, 777561.9776725876, 10002.046662394068]\n",
      "Iterations: 5\n",
      "Timestep: 333\n",
      "cov position erors: 5964.313774322322\n",
      "Mean (m): [-6.128013106064857e6, -1.5854398653757465e6, 777514.177973997, 10001.936376509379]\n",
      "Iterations: 5\n",
      "Timestep: 334\n",
      "cov position erors: 5825.516546813774\n",
      "Mean (m): [-6.12791703493002e6, -1.5857823168984372e6, 777364.3597555012, 10001.367632807025]\n",
      "Iterations: 5\n",
      "Timestep: 335\n",
      "cov position erors: 5464.489391468583\n",
      "Mean (m): [-6.127968978814994e6, -1.5857026229124442e6, 777314.3501273026, 10001.105821934747]\n",
      "Iterations: 5\n",
      "Timestep: 336\n",
      "cov position erors: 5537.330825974389\n",
      "Mean (m): [-6.127911793251099e6, -1.5860141865243746e6, 777200.75621587, 10000.818930260348]\n",
      "Iterations: 5\n",
      "Timestep: 337\n",
      "cov position erors: 5379.493943226949\n",
      "Mean (m): [-6.127803657916209e6, -1.5865147984191298e6, 777009.6186776601, 9999.980220364285]\n",
      "Iterations: 5\n",
      "Timestep: 338\n",
      "cov position erors: 5176.315388056234\n",
      "Mean (m): [-6.127809605504328e6, -1.5864245141476097e6, 776995.502723016, 9999.942482350858]\n",
      "Iterations: 5\n",
      "Timestep: 339\n",
      "cov position erors: 5256.765200335117\n",
      "Mean (m): [-6.127796454319885e6, -1.5866911140757832e6, 776868.1420966546, 9999.334947772208]\n",
      "Iterations: 5\n",
      "Timestep: 340\n",
      "cov position erors: 5292.249371867854\n",
      "Mean (m): [-6.127697240796891e6, -1.5871182892182032e6, 776747.0554272255, 9998.964684662014]\n",
      "Iterations: 5\n",
      "Timestep: 341\n",
      "cov position erors: 4966.594391034023\n",
      "Mean (m): [-6.127651453136118e6, -1.5872987471530065e6, 776671.6027883287, 9998.686913662781]\n",
      "Iterations: 5\n",
      "Timestep: 342\n",
      "cov position erors: 4820.299672036124\n",
      "Mean (m): [-6.127689112762565e6, -1.5872230531621038e6, 776644.0555017102, 9998.5855771003]\n",
      "Iterations: 5\n",
      "Timestep: 343\n",
      "cov position erors: 4982.618435111693\n",
      "Mean (m): [-6.127626855724176e6, -1.5875028033747755e6, 776556.0936250127, 9998.202775335207]\n",
      "Iterations: 5\n",
      "Timestep: 344\n",
      "cov position erors: 4883.527836791437\n",
      "Mean (m): [-6.1276934575785715e6, -1.5873670303943832e6, 776538.197873019, 9997.952811503732]\n",
      "Iterations: 5\n",
      "Timestep: 345\n",
      "cov position erors: 4924.877765898562\n",
      "Mean (m): [-6.127662733736424e6, -1.587645021342346e6, 776461.6246498248, 9997.72631023773]\n",
      "Iterations: 5\n",
      "Timestep: 346\n"
     ]
    }
   ],
   "source": [
    "#Navigation\n",
    "#count = 0\n",
    "n=1000\n",
    "PDOP_array = zeros(size(eci_1)[2],1)\n",
    "for i=1:size(eci_1)[2] - 1\n",
    "    \n",
    "    satposes = [eci_1[1,i] eci_1[2,i] eci_1[3,i];eci_2[1,i] eci_2[2,i] eci_2[3,i];eci_3[1,i] eci_3[2,i] eci_3[3,i];eci_4[1,i] eci_4[2,i] eci_4[3,i]]\n",
    "    satposes2 = [eci_1[1,i+1] eci_1[2,i+1] eci_1[3,i+1];eci_2[1,i+1] eci_2[2,i+1] eci_2[3,i+1];eci_3[1,i+1] eci_3[2,i+1] eci_3[3,i+1];eci_4[1,i+1] eci_4[2,i+1] eci_4[3,i+1]]\n",
    "    zenith_angles = zenith_angle(satposes, r0[1:3])\n",
    "    zenith_angles2 = zenith_angle(satposes2, r0[1:3])\n",
    "    \n",
    "    zdot = zenith_angles - zenith_angles2\n",
    "\n",
    "    #check all angles to see if it is on the horizon \n",
    "    \n",
    "    inhorizon = all(x->x<70, zenith_angles)\n",
    "    \n",
    "    if inhorizon==false\n",
    "        \n",
    "        continue #skip the current iteration\n",
    "    end\n",
    "\n",
    "    #In km then to custom units\n",
    "    r1 = [eci_1[1,i], eci_1[2,i], eci_1[3,i]]*1e-3/distance_scale\n",
    "    r2 = [eci_2[1,i], eci_2[2,i], eci_2[3,i]]*1e-3/distance_scale\n",
    "    r3 = [eci_3[1,i], eci_3[2,i], eci_3[3,i]]*1e-3/distance_scale\n",
    "    r4 = [eci_4[1,i], eci_4[2,i], eci_4[3,i]]*1e-3/distance_scale\n",
    "    \n",
    "    v1 = [eci_1[4,i], eci_1[5,i], eci_1[6,i]]*1e-3/velocity_scale\n",
    "    v2 = [eci_2[4,i], eci_2[5,i], eci_2[6,i]]*1e-3/velocity_scale\n",
    "    v3 = [eci_3[4,i], eci_3[5,i], eci_3[6,i]]*1e-3/velocity_scale\n",
    "    v4 = [eci_4[4,i], eci_4[5,i], eci_4[6,i]]*1e-3/velocity_scale\n",
    "\n",
    "    pose1 = [r1' v1']\n",
    "    pose2 = [r2' v2']\n",
    "    pose3 = [r3' v3']\n",
    "    pose4 = [r4' v4']\n",
    "    \n",
    "    time = [0.006, 0.006, 0.006, 0.008]/time_scale # assume a fixed time for the rotation matrix\n",
    "    \n",
    "    #calculate the rdots. need to build the pose matrices\n",
    "    deltaf = measurment(r0_scaled, pose1, pose2, pose3, pose4, time)\n",
    "    \n",
    "    pose1_rdot1 = [pose1 deltaf[1]]\n",
    "    pose2_rdot2 = [pose2 deltaf[2]]\n",
    "    pose3_rdot3 = [pose3 deltaf[3]]\n",
    "    pose4_rdot4 = [pose4 deltaf[4]]\n",
    "    \n",
    "    all_sats_scaled = vcat(pose1_rdot1,pose2_rdot2,pose3_rdot3,pose4_rdot4)\n",
    "    \n",
    "    #Generate a guess at the centroid of all 4 sats on the surface of the Earth. Scaled to km\n",
    "    \n",
    "    centroid_guess = [(eci_1[1,i]+eci_2[1,i]+eci_3[1,i]+eci_4[1,i])/4, (eci_1[2,i]+eci_2[2,i]+eci_3[2,i]+eci_4[2,i])/4, (eci_1[3,i]+eci_2[3,i]+eci_3[3,i]+eci_4[3,i])/4] \n",
    "    onearth = sECEFtoGEOC(centroid_guess, use_degrees = true)\n",
    "    geodetic = [onearth[1], onearth[2], 0]\n",
    "\n",
    "    xyz_guess = sGEOCtoECEF(geodetic, use_degrees = true)*1e-3 #change to km\n",
    "\n",
    "    xyz_guess\n",
    "    \n",
    "    #Find all possible positions from montecarlo and send unscaled guess\n",
    "    mean_rescaled, all_r0, iters = receiver_pose(all_sats_scaled, xyz_guess, zenith_angles, time, zdot)\n",
    "    \n",
    "    all_r0_scaled = zeros(n,4)\n",
    "\n",
    "    #Rescale back to units (m and s)\n",
    "    for i in 1:n\n",
    "    \n",
    "        #all_r0_scaled[i,:] = [all_r0[i][1:3]*distance_scale*1e3; all_r0[i][4]*frequency_scale]\n",
    "        all_r0_scaled[i,:] = [all_r0[i][1:3]*distance_scale*1e3; all_r0[i][4]*1e3*velocity_scale]\n",
    "\n",
    "    end\n",
    "    \n",
    "    totalsum = zeros(4,4)\n",
    "\n",
    "    for i in 1:n\n",
    "        value = all_r0_scaled[i,:] - mean_rescaled\n",
    "        matrixvalue = value*transpose(value)\n",
    "        totalsum += matrixvalue\n",
    "    \n",
    "    end\n",
    "    \n",
    "    covariancematrix = totalsum/n\n",
    "    \n",
    "    PDOP = sqrt(covariancematrix[1,1] + covariancematrix[2,2] + covariancematrix[3,3])\n",
    "    PDOP_array[i,1] = PDOP\n",
    "    println(\"cov position erors: \", PDOP)\n",
    "    println(\"Mean (m): \", mean_rescaled)\n",
    "    println(\"Iterations: \", iters)\n",
    "    println(\"Timestep: \", i)\n",
    "\n",
    "end    "
   ]
  },
  {
   "cell_type": "code",
   "execution_count": 167,
   "id": "119580d4",
   "metadata": {
    "scrolled": true
   },
   "outputs": [
    {
     "name": "stdout",
     "output_type": "stream",
     "text": [
      "Maximum PDOP: 159622.35501685223\n",
      "Minimum PDOP: 4820.299672036124\n"
     ]
    }
   ],
   "source": [
    "final_PDOP = PDOP_array[PDOP_array .!=0]\n",
    "\n",
    "PDOP_max = findmax(final_PDOP)[1]\n",
    "PDOP_min = findmin(final_PDOP)[1]\n",
    "\n",
    "println(\"Maximum PDOP: \", PDOP_max)\n",
    "println(\"Minimum PDOP: \", PDOP_min)"
   ]
  },
  {
   "cell_type": "code",
   "execution_count": 25,
   "id": "24f11e7e",
   "metadata": {},
   "outputs": [
    {
     "data": {
      "text/plain": [
       "4-element Vector{Float64}:\n",
       " -0.9609082828788089\n",
       " -0.24932142011452468\n",
       "  0.12168918371970193\n",
       "  0.33356409519815206"
      ]
     },
     "execution_count": 25,
     "metadata": {},
     "output_type": "execute_result"
    }
   ],
   "source": [
    "r0_scaled"
   ]
  },
  {
   "cell_type": "code",
   "execution_count": 26,
   "id": "1d570082",
   "metadata": {},
   "outputs": [
    {
     "data": {
      "text/plain": [
       "4-element Vector{Float64}:\n",
       " -9625.008623511323\n",
       " -2580.926606494148\n",
       "   835.4931473148392\n",
       "     3.9e6"
      ]
     },
     "execution_count": 26,
     "metadata": {},
     "output_type": "execute_result"
    }
   ],
   "source": [
    "initial_guess = [-9625.008623511323, -2580.926606494148, 835.4931473148392, 3.9e6]"
   ]
  },
  {
   "cell_type": "code",
   "execution_count": null,
   "id": "d999f4cf",
   "metadata": {},
   "outputs": [],
   "source": [
    "r0_scaled - initial_guess"
   ]
  },
  {
   "cell_type": "code",
   "execution_count": null,
   "id": "1941a677",
   "metadata": {},
   "outputs": [],
   "source": [
    "actualpose =[-6.128804e6, -1.590206e6, 776.1502e3, 1e6]"
   ]
  },
  {
   "cell_type": "code",
   "execution_count": null,
   "id": "dc6a8a6e",
   "metadata": {},
   "outputs": [],
   "source": [
    "log10(79.34904895113688)"
   ]
  },
  {
   "cell_type": "code",
   "execution_count": null,
   "id": "baa540d9",
   "metadata": {},
   "outputs": [],
   "source": [
    "i=303\n",
    "\n",
    "satposes = [eci_1[1,i] eci_1[2,i] eci_1[3,i];eci_2[1,i] eci_2[2,i] eci_2[3,i];eci_3[1,i] eci_3[2,i] eci_3[3,i];eci_4[1,i] eci_4[2,i] eci_4[3,i]]\n",
    "satposes2 = [eci_1[1,i+1] eci_1[2,i+1] eci_1[3,i+1];eci_2[1,i+1] eci_2[2,i+1] eci_2[3,i+1];eci_3[1,i+1] eci_3[2,i+1] eci_3[3,i+1];eci_4[1,i+1] eci_4[2,i+1] eci_4[3,i+1]]\n",
    "zenith_angles = zenith_angle(satposes, r0[1:3])\n",
    "zenith_angles2 = zenith_angle(satposes2, r0[1:3])\n",
    "\n",
    "println(\"satposes: \", satposes)\n",
    "\n",
    "println(\"satposes2: \", satposes2)\n",
    "    \n",
    "zdot = zenith_angles - zenith_angles2\n",
    "\n",
    "#check all angles to see if it is on the horizon \n",
    "    \n",
    "inhorizon = all(x->x<70, zenith_angles)\n",
    "    \n",
    "#if inhorizon==false\n",
    "#    continue #skip the current iteration\n",
    "#end\n",
    "\n",
    "#In km then to custom units\n",
    "r1 = [eci_1[1,i], eci_1[2,i], eci_1[3,i]]*1e-3/distance_scale\n",
    "r2 = [eci_2[1,i], eci_2[2,i], eci_2[3,i]]*1e-3/distance_scale\n",
    "r3 = [eci_3[1,i], eci_3[2,i], eci_3[3,i]]*1e-3/distance_scale\n",
    "r4 = [eci_4[1,i], eci_4[2,i], eci_4[3,i]]*1e-3/distance_scale\n",
    "    \n",
    "v1 = [eci_1[4,i], eci_1[5,i], eci_1[6,i]]*1e-3/velocity_scale\n",
    "v2 = [eci_2[4,i], eci_2[5,i], eci_2[6,i]]*1e-3/velocity_scale\n",
    "v3 = [eci_3[4,i], eci_3[5,i], eci_3[6,i]]*1e-3/velocity_scale\n",
    "v4 = [eci_4[4,i], eci_4[5,i], eci_4[6,i]]*1e-3/velocity_scale\n",
    "\n",
    "pose1 = [r1' v1']\n",
    "pose2 = [r2' v2']\n",
    "pose3 = [r3' v3']\n",
    "pose4 = [r4' v4']\n",
    "    \n",
    "#at second frequency\n",
    "pose5= [r1' v1']\n",
    "pose6= [r2' v2']\n",
    "pose7= [r3' v3']\n",
    "pose8= [r4' v4']\n",
    "    \n",
    "time = [0.006, 0.006, 0.006, 0.008]/time_scale # assume a fixed time for the rotation matrix\n",
    "    \n",
    "#calculate the rdots. need to build the pose matrices\n",
    "deltaf = measurment(r0_scaled, pose1, pose2, pose3, pose4, time)\n",
    "    \n",
    "pose1_rdot1 = [pose1 deltaf[1]]\n",
    "pose2_rdot2 = [pose2 deltaf[2]]\n",
    "pose3_rdot3 = [pose3 deltaf[3]]\n",
    "pose4_rdot4 = [pose4 deltaf[4]]\n",
    "    \n",
    "all_sats_scaled = vcat(pose1_rdot1, pose2_rdot2, pose3_rdot3, pose4_rdot4)\n",
    "    \n",
    "println(\"this is deltaf: \", deltaf)"
   ]
  },
  {
   "cell_type": "code",
   "execution_count": null,
   "id": "56029ed2",
   "metadata": {},
   "outputs": [],
   "source": [
    "initial_guess = [-0.963179168952113, -0.258771187758936, 0.07296286988883226, 0.3342312233885483]"
   ]
  },
  {
   "cell_type": "code",
   "execution_count": null,
   "id": "b6775e79",
   "metadata": {},
   "outputs": [],
   "source": [
    "R = doppler_residual(initial_guess, all_sats_scaled, time)"
   ]
  },
  {
   "cell_type": "code",
   "execution_count": null,
   "id": "95253d0f",
   "metadata": {},
   "outputs": [],
   "source": [
    "[-0.963179168952113, -0.258771187758936, 0.07296286988883226, 0.3342312233885483]"
   ]
  }
 ],
 "metadata": {
  "@webio": {
   "lastCommId": "df9c9853ff80447b954abe3f648f6ce7",
   "lastKernelId": "30c32def-e95e-4f92-9ce1-eecf2cceacc7"
  },
  "kernelspec": {
   "display_name": "Julia 1.6.5",
   "language": "julia",
   "name": "julia-1.6"
  },
  "language_info": {
   "file_extension": ".jl",
   "mimetype": "application/julia",
   "name": "julia",
   "version": "1.6.5"
  }
 },
 "nbformat": 4,
 "nbformat_minor": 5
}
